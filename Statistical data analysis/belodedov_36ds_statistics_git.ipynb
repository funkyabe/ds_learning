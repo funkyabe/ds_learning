{
 "cells": [
  {
   "cell_type": "markdown",
   "id": "45ab412e",
   "metadata": {},
   "source": [
    "# Статистический анализ данных #\n",
    "\n",
    "### Описание проекта ###\n",
    "\n",
    "Вы аналитик компании «Мегалайн» — федерального оператора сотовой связи. Клиентам предлагают два тарифных плана: «Смарт» и «Ультра». Чтобы скорректировать рекламный бюджет, коммерческий департамент хочет понять, какой тариф приносит больше денег.\n",
    "\n",
    "Вам предстоит сделать предварительный анализ тарифов на небольшой выборке клиентов. В вашем распоряжении данные 500 пользователей «Мегалайна»: кто они, откуда, каким тарифом пользуются, сколько звонков и сообщений каждый отправил за 2018 год. Нужно проанализировать поведение клиентов и сделать вывод — какой тариф лучше.\n",
    "\n",
    "**Описание тарифов**\n",
    "\n",
    "***Тариф «Смарт»***\n",
    "1. Ежемесячная плата: 550 рублей\n",
    "2. Включено 500 минут разговора, 50 сообщений и 15 Гб интернет-трафика\n",
    "3. Стоимость услуг сверх тарифного пакета: \n",
    "   * минута разговора: 3 рубля \n",
    "   * сообщение: 3 рубля \n",
    "   * 1 Гб интернет-трафика: 200 рублей\n",
    "\n",
    "***Тариф «Ультра»***\n",
    "1. Ежемесячная плата: 1950 рублей\n",
    "2. Включено 3000 минут разговора, 1000 сообщений и 30 Гб интернет-трафика\n",
    "3. Стоимость услуг сверх тарифного пакета:\n",
    "   * минута разговора: 1 рубль\n",
    "   * сообщение: 1 рубль\n",
    "   * 1 Гб интернет-трафика: 150 рублей\n",
    "   \n",
    "\n",
    "**Примечание:**\n",
    "\n",
    "«Мегалайн» всегда округляет секунды до минут, а мегабайты — до гигабайт. Каждый звонок округляется отдельно: даже если он длился всего 1 секунду, будет засчитан как 1 минута.\n",
    "\n",
    "Для веб-трафика отдельные сессии не считаются. Вместо этого общая сумма за месяц округляется в бо́льшую сторону. Если абонент использует 1025 мегабайт в этом месяце, с него возьмут плату за 2 гигабайта.\n",
    "\n",
    "\n",
    "## Обзор данных ## "
   ]
  },
  {
   "cell_type": "code",
   "execution_count": 1,
   "id": "5c39d034",
   "metadata": {},
   "outputs": [
    {
     "data": {
      "text/html": [
       "<div>\n",
       "<style scoped>\n",
       "    .dataframe tbody tr th:only-of-type {\n",
       "        vertical-align: middle;\n",
       "    }\n",
       "\n",
       "    .dataframe tbody tr th {\n",
       "        vertical-align: top;\n",
       "    }\n",
       "\n",
       "    .dataframe thead th {\n",
       "        text-align: right;\n",
       "    }\n",
       "</style>\n",
       "<table border=\"1\" class=\"dataframe\">\n",
       "  <thead>\n",
       "    <tr style=\"text-align: right;\">\n",
       "      <th></th>\n",
       "      <th>user_id</th>\n",
       "      <th>age</th>\n",
       "      <th>churn_date</th>\n",
       "      <th>city</th>\n",
       "      <th>first_name</th>\n",
       "      <th>last_name</th>\n",
       "      <th>reg_date</th>\n",
       "      <th>tariff</th>\n",
       "    </tr>\n",
       "  </thead>\n",
       "  <tbody>\n",
       "    <tr>\n",
       "      <th>0</th>\n",
       "      <td>1000</td>\n",
       "      <td>52</td>\n",
       "      <td>NaN</td>\n",
       "      <td>Краснодар</td>\n",
       "      <td>Рафаил</td>\n",
       "      <td>Верещагин</td>\n",
       "      <td>2018-05-25</td>\n",
       "      <td>ultra</td>\n",
       "    </tr>\n",
       "    <tr>\n",
       "      <th>1</th>\n",
       "      <td>1001</td>\n",
       "      <td>41</td>\n",
       "      <td>NaN</td>\n",
       "      <td>Москва</td>\n",
       "      <td>Иван</td>\n",
       "      <td>Ежов</td>\n",
       "      <td>2018-11-01</td>\n",
       "      <td>smart</td>\n",
       "    </tr>\n",
       "    <tr>\n",
       "      <th>2</th>\n",
       "      <td>1002</td>\n",
       "      <td>59</td>\n",
       "      <td>NaN</td>\n",
       "      <td>Стерлитамак</td>\n",
       "      <td>Евгений</td>\n",
       "      <td>Абрамович</td>\n",
       "      <td>2018-06-17</td>\n",
       "      <td>smart</td>\n",
       "    </tr>\n",
       "    <tr>\n",
       "      <th>3</th>\n",
       "      <td>1003</td>\n",
       "      <td>23</td>\n",
       "      <td>NaN</td>\n",
       "      <td>Москва</td>\n",
       "      <td>Белла</td>\n",
       "      <td>Белякова</td>\n",
       "      <td>2018-08-17</td>\n",
       "      <td>ultra</td>\n",
       "    </tr>\n",
       "    <tr>\n",
       "      <th>4</th>\n",
       "      <td>1004</td>\n",
       "      <td>68</td>\n",
       "      <td>NaN</td>\n",
       "      <td>Новокузнецк</td>\n",
       "      <td>Татьяна</td>\n",
       "      <td>Авдеенко</td>\n",
       "      <td>2018-05-14</td>\n",
       "      <td>ultra</td>\n",
       "    </tr>\n",
       "  </tbody>\n",
       "</table>\n",
       "</div>"
      ],
      "text/plain": [
       "   user_id  age churn_date         city first_name  last_name    reg_date  \\\n",
       "0     1000   52        NaN    Краснодар     Рафаил  Верещагин  2018-05-25   \n",
       "1     1001   41        NaN       Москва       Иван       Ежов  2018-11-01   \n",
       "2     1002   59        NaN  Стерлитамак    Евгений  Абрамович  2018-06-17   \n",
       "3     1003   23        NaN       Москва      Белла   Белякова  2018-08-17   \n",
       "4     1004   68        NaN  Новокузнецк    Татьяна   Авдеенко  2018-05-14   \n",
       "\n",
       "  tariff  \n",
       "0  ultra  \n",
       "1  smart  \n",
       "2  smart  \n",
       "3  ultra  \n",
       "4  ultra  "
      ]
     },
     "metadata": {},
     "output_type": "display_data"
    },
    {
     "name": "stdout",
     "output_type": "stream",
     "text": [
      "<class 'pandas.core.frame.DataFrame'>\n",
      "RangeIndex: 500 entries, 0 to 499\n",
      "Data columns (total 8 columns):\n",
      " #   Column      Non-Null Count  Dtype \n",
      "---  ------      --------------  ----- \n",
      " 0   user_id     500 non-null    int64 \n",
      " 1   age         500 non-null    int64 \n",
      " 2   churn_date  38 non-null     object\n",
      " 3   city        500 non-null    object\n",
      " 4   first_name  500 non-null    object\n",
      " 5   last_name   500 non-null    object\n",
      " 6   reg_date    500 non-null    object\n",
      " 7   tariff      500 non-null    object\n",
      "dtypes: int64(2), object(6)\n",
      "memory usage: 31.4+ KB\n"
     ]
    }
   ],
   "source": [
    "import pandas as pd\n",
    "import numpy as np\n",
    "import matplotlib.pyplot as plt \n",
    "from scipy import stats as st\n",
    "\n",
    "try:\n",
    "    df_users = pd.read_csv('/datasets/users.csv')\n",
    "except:\n",
    "    df_users = pd.read_csv('users.csv')\n",
    "display(df_users.head())\n",
    "df_users.info()"
   ]
  },
  {
   "cell_type": "code",
   "execution_count": 2,
   "id": "6b3374bd",
   "metadata": {},
   "outputs": [
    {
     "name": "stdout",
     "output_type": "stream",
     "text": [
      "1000\n",
      "1499\n"
     ]
    }
   ],
   "source": [
    "print(df_users['user_id'].min())\n",
    "print(df_users['user_id'].max())"
   ]
  },
  {
   "cell_type": "code",
   "execution_count": 3,
   "id": "f56d8bb6",
   "metadata": {},
   "outputs": [
    {
     "data": {
      "text/html": [
       "<div>\n",
       "<style scoped>\n",
       "    .dataframe tbody tr th:only-of-type {\n",
       "        vertical-align: middle;\n",
       "    }\n",
       "\n",
       "    .dataframe tbody tr th {\n",
       "        vertical-align: top;\n",
       "    }\n",
       "\n",
       "    .dataframe thead th {\n",
       "        text-align: right;\n",
       "    }\n",
       "</style>\n",
       "<table border=\"1\" class=\"dataframe\">\n",
       "  <thead>\n",
       "    <tr style=\"text-align: right;\">\n",
       "      <th></th>\n",
       "      <th>user_id</th>\n",
       "      <th>age</th>\n",
       "      <th>churn_date</th>\n",
       "      <th>city</th>\n",
       "      <th>first_name</th>\n",
       "      <th>last_name</th>\n",
       "      <th>reg_date</th>\n",
       "      <th>tariff</th>\n",
       "    </tr>\n",
       "  </thead>\n",
       "  <tbody>\n",
       "    <tr>\n",
       "      <th>19</th>\n",
       "      <td>1019</td>\n",
       "      <td>63</td>\n",
       "      <td>2018-10-05</td>\n",
       "      <td>Томск</td>\n",
       "      <td>Игнатий</td>\n",
       "      <td>Круглов</td>\n",
       "      <td>2018-05-16</td>\n",
       "      <td>ultra</td>\n",
       "    </tr>\n",
       "    <tr>\n",
       "      <th>20</th>\n",
       "      <td>1020</td>\n",
       "      <td>59</td>\n",
       "      <td>2018-12-18</td>\n",
       "      <td>Чита</td>\n",
       "      <td>Тала</td>\n",
       "      <td>Костина</td>\n",
       "      <td>2018-10-22</td>\n",
       "      <td>smart</td>\n",
       "    </tr>\n",
       "    <tr>\n",
       "      <th>34</th>\n",
       "      <td>1034</td>\n",
       "      <td>66</td>\n",
       "      <td>2018-11-21</td>\n",
       "      <td>Вологда</td>\n",
       "      <td>Святослав</td>\n",
       "      <td>Бондарев</td>\n",
       "      <td>2018-08-26</td>\n",
       "      <td>smart</td>\n",
       "    </tr>\n",
       "    <tr>\n",
       "      <th>50</th>\n",
       "      <td>1050</td>\n",
       "      <td>44</td>\n",
       "      <td>2018-10-03</td>\n",
       "      <td>Тюмень</td>\n",
       "      <td>Рузана</td>\n",
       "      <td>Аничкина</td>\n",
       "      <td>2018-06-16</td>\n",
       "      <td>ultra</td>\n",
       "    </tr>\n",
       "    <tr>\n",
       "      <th>51</th>\n",
       "      <td>1051</td>\n",
       "      <td>37</td>\n",
       "      <td>2018-10-14</td>\n",
       "      <td>Москва</td>\n",
       "      <td>Кристина</td>\n",
       "      <td>Сомова</td>\n",
       "      <td>2018-05-28</td>\n",
       "      <td>smart</td>\n",
       "    </tr>\n",
       "  </tbody>\n",
       "</table>\n",
       "</div>"
      ],
      "text/plain": [
       "    user_id  age  churn_date     city first_name last_name    reg_date tariff\n",
       "19     1019   63  2018-10-05    Томск    Игнатий   Круглов  2018-05-16  ultra\n",
       "20     1020   59  2018-12-18     Чита       Тала   Костина  2018-10-22  smart\n",
       "34     1034   66  2018-11-21  Вологда  Святослав  Бондарев  2018-08-26  smart\n",
       "50     1050   44  2018-10-03   Тюмень     Рузана  Аничкина  2018-06-16  ultra\n",
       "51     1051   37  2018-10-14   Москва   Кристина    Сомова  2018-05-28  smart"
      ]
     },
     "metadata": {},
     "output_type": "display_data"
    },
    {
     "name": "stdout",
     "output_type": "stream",
     "text": [
      "<class 'pandas.core.frame.DataFrame'>\n",
      "Int64Index: 38 entries, 19 to 498\n",
      "Data columns (total 8 columns):\n",
      " #   Column      Non-Null Count  Dtype \n",
      "---  ------      --------------  ----- \n",
      " 0   user_id     38 non-null     int64 \n",
      " 1   age         38 non-null     int64 \n",
      " 2   churn_date  38 non-null     object\n",
      " 3   city        38 non-null     object\n",
      " 4   first_name  38 non-null     object\n",
      " 5   last_name   38 non-null     object\n",
      " 6   reg_date    38 non-null     object\n",
      " 7   tariff      38 non-null     object\n",
      "dtypes: int64(2), object(6)\n",
      "memory usage: 2.7+ KB\n"
     ]
    }
   ],
   "source": [
    "display(df_users[df_users['churn_date'].isna() == False].head())\n",
    "df_users[df_users['churn_date'].isna() == False].info()"
   ]
  },
  {
   "cell_type": "code",
   "execution_count": 4,
   "id": "1e57e3b1",
   "metadata": {},
   "outputs": [
    {
     "data": {
      "text/html": [
       "<div>\n",
       "<style scoped>\n",
       "    .dataframe tbody tr th:only-of-type {\n",
       "        vertical-align: middle;\n",
       "    }\n",
       "\n",
       "    .dataframe tbody tr th {\n",
       "        vertical-align: top;\n",
       "    }\n",
       "\n",
       "    .dataframe thead th {\n",
       "        text-align: right;\n",
       "    }\n",
       "</style>\n",
       "<table border=\"1\" class=\"dataframe\">\n",
       "  <thead>\n",
       "    <tr style=\"text-align: right;\">\n",
       "      <th></th>\n",
       "      <th>id</th>\n",
       "      <th>call_date</th>\n",
       "      <th>duration</th>\n",
       "      <th>user_id</th>\n",
       "    </tr>\n",
       "  </thead>\n",
       "  <tbody>\n",
       "    <tr>\n",
       "      <th>0</th>\n",
       "      <td>1000_0</td>\n",
       "      <td>2018-07-25</td>\n",
       "      <td>0.00</td>\n",
       "      <td>1000</td>\n",
       "    </tr>\n",
       "    <tr>\n",
       "      <th>1</th>\n",
       "      <td>1000_1</td>\n",
       "      <td>2018-08-17</td>\n",
       "      <td>0.00</td>\n",
       "      <td>1000</td>\n",
       "    </tr>\n",
       "    <tr>\n",
       "      <th>2</th>\n",
       "      <td>1000_2</td>\n",
       "      <td>2018-06-11</td>\n",
       "      <td>2.85</td>\n",
       "      <td>1000</td>\n",
       "    </tr>\n",
       "    <tr>\n",
       "      <th>3</th>\n",
       "      <td>1000_3</td>\n",
       "      <td>2018-09-21</td>\n",
       "      <td>13.80</td>\n",
       "      <td>1000</td>\n",
       "    </tr>\n",
       "    <tr>\n",
       "      <th>4</th>\n",
       "      <td>1000_4</td>\n",
       "      <td>2018-12-15</td>\n",
       "      <td>5.18</td>\n",
       "      <td>1000</td>\n",
       "    </tr>\n",
       "  </tbody>\n",
       "</table>\n",
       "</div>"
      ],
      "text/plain": [
       "       id   call_date  duration  user_id\n",
       "0  1000_0  2018-07-25      0.00     1000\n",
       "1  1000_1  2018-08-17      0.00     1000\n",
       "2  1000_2  2018-06-11      2.85     1000\n",
       "3  1000_3  2018-09-21     13.80     1000\n",
       "4  1000_4  2018-12-15      5.18     1000"
      ]
     },
     "metadata": {},
     "output_type": "display_data"
    },
    {
     "name": "stdout",
     "output_type": "stream",
     "text": [
      "<class 'pandas.core.frame.DataFrame'>\n",
      "RangeIndex: 202607 entries, 0 to 202606\n",
      "Data columns (total 4 columns):\n",
      " #   Column     Non-Null Count   Dtype  \n",
      "---  ------     --------------   -----  \n",
      " 0   id         202607 non-null  object \n",
      " 1   call_date  202607 non-null  object \n",
      " 2   duration   202607 non-null  float64\n",
      " 3   user_id    202607 non-null  int64  \n",
      "dtypes: float64(1), int64(1), object(2)\n",
      "memory usage: 6.2+ MB\n"
     ]
    }
   ],
   "source": [
    "try:\n",
    "    df_calls = pd.read_csv('/datasets/calls.csv')\n",
    "except:\n",
    "    df_calls = pd.read_csv('calls.csv')\n",
    "display(df_calls.head())\n",
    "df_calls.info()"
   ]
  },
  {
   "cell_type": "code",
   "execution_count": 5,
   "id": "c27f3459",
   "metadata": {},
   "outputs": [
    {
     "data": {
      "text/html": [
       "<div>\n",
       "<style scoped>\n",
       "    .dataframe tbody tr th:only-of-type {\n",
       "        vertical-align: middle;\n",
       "    }\n",
       "\n",
       "    .dataframe tbody tr th {\n",
       "        vertical-align: top;\n",
       "    }\n",
       "\n",
       "    .dataframe thead th {\n",
       "        text-align: right;\n",
       "    }\n",
       "</style>\n",
       "<table border=\"1\" class=\"dataframe\">\n",
       "  <thead>\n",
       "    <tr style=\"text-align: right;\">\n",
       "      <th></th>\n",
       "      <th>id</th>\n",
       "      <th>message_date</th>\n",
       "      <th>user_id</th>\n",
       "    </tr>\n",
       "  </thead>\n",
       "  <tbody>\n",
       "    <tr>\n",
       "      <th>0</th>\n",
       "      <td>1000_0</td>\n",
       "      <td>2018-06-27</td>\n",
       "      <td>1000</td>\n",
       "    </tr>\n",
       "    <tr>\n",
       "      <th>1</th>\n",
       "      <td>1000_1</td>\n",
       "      <td>2018-10-08</td>\n",
       "      <td>1000</td>\n",
       "    </tr>\n",
       "    <tr>\n",
       "      <th>2</th>\n",
       "      <td>1000_2</td>\n",
       "      <td>2018-08-04</td>\n",
       "      <td>1000</td>\n",
       "    </tr>\n",
       "    <tr>\n",
       "      <th>3</th>\n",
       "      <td>1000_3</td>\n",
       "      <td>2018-06-16</td>\n",
       "      <td>1000</td>\n",
       "    </tr>\n",
       "    <tr>\n",
       "      <th>4</th>\n",
       "      <td>1000_4</td>\n",
       "      <td>2018-12-05</td>\n",
       "      <td>1000</td>\n",
       "    </tr>\n",
       "  </tbody>\n",
       "</table>\n",
       "</div>"
      ],
      "text/plain": [
       "       id message_date  user_id\n",
       "0  1000_0   2018-06-27     1000\n",
       "1  1000_1   2018-10-08     1000\n",
       "2  1000_2   2018-08-04     1000\n",
       "3  1000_3   2018-06-16     1000\n",
       "4  1000_4   2018-12-05     1000"
      ]
     },
     "metadata": {},
     "output_type": "display_data"
    },
    {
     "name": "stdout",
     "output_type": "stream",
     "text": [
      "<class 'pandas.core.frame.DataFrame'>\n",
      "RangeIndex: 123036 entries, 0 to 123035\n",
      "Data columns (total 3 columns):\n",
      " #   Column        Non-Null Count   Dtype \n",
      "---  ------        --------------   ----- \n",
      " 0   id            123036 non-null  object\n",
      " 1   message_date  123036 non-null  object\n",
      " 2   user_id       123036 non-null  int64 \n",
      "dtypes: int64(1), object(2)\n",
      "memory usage: 2.8+ MB\n"
     ]
    }
   ],
   "source": [
    "try:\n",
    "    df_messages = pd.read_csv('/datasets/messages.csv')\n",
    "except:\n",
    "    df_messages = pd.read_csv('messages.csv')\n",
    "display(df_messages.head())\n",
    "df_messages.info()"
   ]
  },
  {
   "cell_type": "code",
   "execution_count": 6,
   "id": "f4988b6c",
   "metadata": {},
   "outputs": [
    {
     "data": {
      "text/html": [
       "<div>\n",
       "<style scoped>\n",
       "    .dataframe tbody tr th:only-of-type {\n",
       "        vertical-align: middle;\n",
       "    }\n",
       "\n",
       "    .dataframe tbody tr th {\n",
       "        vertical-align: top;\n",
       "    }\n",
       "\n",
       "    .dataframe thead th {\n",
       "        text-align: right;\n",
       "    }\n",
       "</style>\n",
       "<table border=\"1\" class=\"dataframe\">\n",
       "  <thead>\n",
       "    <tr style=\"text-align: right;\">\n",
       "      <th></th>\n",
       "      <th>Unnamed: 0</th>\n",
       "      <th>id</th>\n",
       "      <th>mb_used</th>\n",
       "      <th>session_date</th>\n",
       "      <th>user_id</th>\n",
       "    </tr>\n",
       "  </thead>\n",
       "  <tbody>\n",
       "    <tr>\n",
       "      <th>0</th>\n",
       "      <td>0</td>\n",
       "      <td>1000_0</td>\n",
       "      <td>112.95</td>\n",
       "      <td>2018-11-25</td>\n",
       "      <td>1000</td>\n",
       "    </tr>\n",
       "    <tr>\n",
       "      <th>1</th>\n",
       "      <td>1</td>\n",
       "      <td>1000_1</td>\n",
       "      <td>1052.81</td>\n",
       "      <td>2018-09-07</td>\n",
       "      <td>1000</td>\n",
       "    </tr>\n",
       "    <tr>\n",
       "      <th>2</th>\n",
       "      <td>2</td>\n",
       "      <td>1000_2</td>\n",
       "      <td>1197.26</td>\n",
       "      <td>2018-06-25</td>\n",
       "      <td>1000</td>\n",
       "    </tr>\n",
       "    <tr>\n",
       "      <th>3</th>\n",
       "      <td>3</td>\n",
       "      <td>1000_3</td>\n",
       "      <td>550.27</td>\n",
       "      <td>2018-08-22</td>\n",
       "      <td>1000</td>\n",
       "    </tr>\n",
       "    <tr>\n",
       "      <th>4</th>\n",
       "      <td>4</td>\n",
       "      <td>1000_4</td>\n",
       "      <td>302.56</td>\n",
       "      <td>2018-09-24</td>\n",
       "      <td>1000</td>\n",
       "    </tr>\n",
       "  </tbody>\n",
       "</table>\n",
       "</div>"
      ],
      "text/plain": [
       "   Unnamed: 0      id  mb_used session_date  user_id\n",
       "0           0  1000_0   112.95   2018-11-25     1000\n",
       "1           1  1000_1  1052.81   2018-09-07     1000\n",
       "2           2  1000_2  1197.26   2018-06-25     1000\n",
       "3           3  1000_3   550.27   2018-08-22     1000\n",
       "4           4  1000_4   302.56   2018-09-24     1000"
      ]
     },
     "metadata": {},
     "output_type": "display_data"
    },
    {
     "name": "stdout",
     "output_type": "stream",
     "text": [
      "<class 'pandas.core.frame.DataFrame'>\n",
      "RangeIndex: 149396 entries, 0 to 149395\n",
      "Data columns (total 5 columns):\n",
      " #   Column        Non-Null Count   Dtype  \n",
      "---  ------        --------------   -----  \n",
      " 0   Unnamed: 0    149396 non-null  int64  \n",
      " 1   id            149396 non-null  object \n",
      " 2   mb_used       149396 non-null  float64\n",
      " 3   session_date  149396 non-null  object \n",
      " 4   user_id       149396 non-null  int64  \n",
      "dtypes: float64(1), int64(2), object(2)\n",
      "memory usage: 5.7+ MB\n"
     ]
    }
   ],
   "source": [
    "try:\n",
    "    df_internet = pd.read_csv('/datasets/internet.csv')\n",
    "except:\n",
    "    df_internet = pd.read_csv('internet.csv')\n",
    "display(df_internet.head())\n",
    "df_internet.info()"
   ]
  },
  {
   "cell_type": "code",
   "execution_count": 7,
   "id": "a3fd27c2",
   "metadata": {},
   "outputs": [
    {
     "name": "stdout",
     "output_type": "stream",
     "text": [
      "149396\n"
     ]
    },
    {
     "data": {
      "text/plain": [
       "array([     0,      1,      2, ..., 149393, 149394, 149395], dtype=int64)"
      ]
     },
     "execution_count": 7,
     "metadata": {},
     "output_type": "execute_result"
    }
   ],
   "source": [
    "print(len(df_internet['Unnamed: 0'].unique()))\n",
    "df_internet['Unnamed: 0'].unique()"
   ]
  },
  {
   "cell_type": "code",
   "execution_count": 8,
   "id": "76efad61",
   "metadata": {},
   "outputs": [
    {
     "data": {
      "text/html": [
       "<div>\n",
       "<style scoped>\n",
       "    .dataframe tbody tr th:only-of-type {\n",
       "        vertical-align: middle;\n",
       "    }\n",
       "\n",
       "    .dataframe tbody tr th {\n",
       "        vertical-align: top;\n",
       "    }\n",
       "\n",
       "    .dataframe thead th {\n",
       "        text-align: right;\n",
       "    }\n",
       "</style>\n",
       "<table border=\"1\" class=\"dataframe\">\n",
       "  <thead>\n",
       "    <tr style=\"text-align: right;\">\n",
       "      <th></th>\n",
       "      <th>messages_included</th>\n",
       "      <th>mb_per_month_included</th>\n",
       "      <th>minutes_included</th>\n",
       "      <th>rub_monthly_fee</th>\n",
       "      <th>rub_per_gb</th>\n",
       "      <th>rub_per_message</th>\n",
       "      <th>rub_per_minute</th>\n",
       "      <th>tariff_name</th>\n",
       "    </tr>\n",
       "  </thead>\n",
       "  <tbody>\n",
       "    <tr>\n",
       "      <th>0</th>\n",
       "      <td>50</td>\n",
       "      <td>15360</td>\n",
       "      <td>500</td>\n",
       "      <td>550</td>\n",
       "      <td>200</td>\n",
       "      <td>3</td>\n",
       "      <td>3</td>\n",
       "      <td>smart</td>\n",
       "    </tr>\n",
       "    <tr>\n",
       "      <th>1</th>\n",
       "      <td>1000</td>\n",
       "      <td>30720</td>\n",
       "      <td>3000</td>\n",
       "      <td>1950</td>\n",
       "      <td>150</td>\n",
       "      <td>1</td>\n",
       "      <td>1</td>\n",
       "      <td>ultra</td>\n",
       "    </tr>\n",
       "  </tbody>\n",
       "</table>\n",
       "</div>"
      ],
      "text/plain": [
       "   messages_included  mb_per_month_included  minutes_included  \\\n",
       "0                 50                  15360               500   \n",
       "1               1000                  30720              3000   \n",
       "\n",
       "   rub_monthly_fee  rub_per_gb  rub_per_message  rub_per_minute tariff_name  \n",
       "0              550         200                3               3       smart  \n",
       "1             1950         150                1               1       ultra  "
      ]
     },
     "metadata": {},
     "output_type": "display_data"
    },
    {
     "name": "stdout",
     "output_type": "stream",
     "text": [
      "<class 'pandas.core.frame.DataFrame'>\n",
      "RangeIndex: 2 entries, 0 to 1\n",
      "Data columns (total 8 columns):\n",
      " #   Column                 Non-Null Count  Dtype \n",
      "---  ------                 --------------  ----- \n",
      " 0   messages_included      2 non-null      int64 \n",
      " 1   mb_per_month_included  2 non-null      int64 \n",
      " 2   minutes_included       2 non-null      int64 \n",
      " 3   rub_monthly_fee        2 non-null      int64 \n",
      " 4   rub_per_gb             2 non-null      int64 \n",
      " 5   rub_per_message        2 non-null      int64 \n",
      " 6   rub_per_minute         2 non-null      int64 \n",
      " 7   tariff_name            2 non-null      object\n",
      "dtypes: int64(7), object(1)\n",
      "memory usage: 256.0+ bytes\n"
     ]
    }
   ],
   "source": [
    "try:\n",
    "    df_tariffs = pd.read_csv('/datasets/tariffs.csv')\n",
    "except:\n",
    "    df_tariffs = pd.read_csv('tariffs.csv')\n",
    "display(df_tariffs.head())\n",
    "df_tariffs.info()"
   ]
  },
  {
   "cell_type": "markdown",
   "id": "d222dfc7",
   "metadata": {},
   "source": [
    "### Вывыод ###\n",
    "\n",
    "У нас имеется 5 датафреймов, содержащие данные о тарифах, пользователях, их звонках, сообщениях и использовании интернета.\n",
    "\n",
    "Пропуски значений есть только в данных о пользователях `df_users` в столбце `churn_date` — дата прекращения пользования тарифом. Соответсвенно, если значение пропущено, то тариф ещё действовал на момент выгрузки данных. \n",
    "\n",
    "Во всех датафреймах, кроме `df_tariffs` есть столбцы, содержащие дату. Однако данные в них представлены типом `object`, а не `datetime`. Это нужно исправить.\n",
    "\n",
    "Также данные в столбцах `user_id` имеют тип `int`, т.к. представлены числами от 1000 до 1499. Но так как эти данные - категориальные, а не количественные, лучше заменить из на тип `str`.\n",
    "\n",
    "Кроме того, в `df_internet` присутсвует столбец `Unnamed: 0`, в котором содержатся численные значения от 0 до 149395 по порядку. Судя по всему, по данному столбцу должна идти индексация строк, так как его значения полностью совпадают с индексами.\n",
    "\n",
    "## Предобработка данных ##\n",
    "\n",
    "### Изменение типов данных ### \n",
    "\n",
    "Изменим тип даты в датафреймах на `datetime`, а также `user_id` на тип `str`."
   ]
  },
  {
   "cell_type": "code",
   "execution_count": 9,
   "id": "c9547da7",
   "metadata": {},
   "outputs": [
    {
     "name": "stdout",
     "output_type": "stream",
     "text": [
      "<class 'pandas.core.frame.DataFrame'>\n",
      "RangeIndex: 202607 entries, 0 to 202606\n",
      "Data columns (total 4 columns):\n",
      " #   Column     Non-Null Count   Dtype         \n",
      "---  ------     --------------   -----         \n",
      " 0   id         202607 non-null  object        \n",
      " 1   call_date  202607 non-null  datetime64[ns]\n",
      " 2   duration   202607 non-null  float64       \n",
      " 3   user_id    202607 non-null  object        \n",
      "dtypes: datetime64[ns](1), float64(1), object(2)\n",
      "memory usage: 6.2+ MB\n"
     ]
    }
   ],
   "source": [
    "df_calls['call_date'] = pd.to_datetime(df_calls['call_date'], format='%Y-%m-%d')\n",
    "df_calls['user_id'] = df_calls['user_id'].astype('str')\n",
    "\n",
    "df_calls.info()"
   ]
  },
  {
   "cell_type": "code",
   "execution_count": 10,
   "id": "8b024b9e",
   "metadata": {},
   "outputs": [
    {
     "name": "stdout",
     "output_type": "stream",
     "text": [
      "<class 'pandas.core.frame.DataFrame'>\n",
      "RangeIndex: 123036 entries, 0 to 123035\n",
      "Data columns (total 3 columns):\n",
      " #   Column        Non-Null Count   Dtype         \n",
      "---  ------        --------------   -----         \n",
      " 0   id            123036 non-null  object        \n",
      " 1   message_date  123036 non-null  datetime64[ns]\n",
      " 2   user_id       123036 non-null  object        \n",
      "dtypes: datetime64[ns](1), object(2)\n",
      "memory usage: 2.8+ MB\n"
     ]
    }
   ],
   "source": [
    "df_messages['message_date'] = pd.to_datetime(df_messages['message_date'], format='%Y-%m-%d')\n",
    "df_messages['user_id'] = df_messages['user_id'].astype('str')\n",
    "\n",
    "df_messages.info()"
   ]
  },
  {
   "cell_type": "code",
   "execution_count": 11,
   "id": "90309d58",
   "metadata": {},
   "outputs": [
    {
     "name": "stdout",
     "output_type": "stream",
     "text": [
      "<class 'pandas.core.frame.DataFrame'>\n",
      "RangeIndex: 149396 entries, 0 to 149395\n",
      "Data columns (total 5 columns):\n",
      " #   Column        Non-Null Count   Dtype         \n",
      "---  ------        --------------   -----         \n",
      " 0   Unnamed: 0    149396 non-null  int64         \n",
      " 1   id            149396 non-null  object        \n",
      " 2   mb_used       149396 non-null  float64       \n",
      " 3   session_date  149396 non-null  datetime64[ns]\n",
      " 4   user_id       149396 non-null  object        \n",
      "dtypes: datetime64[ns](1), float64(1), int64(1), object(2)\n",
      "memory usage: 5.7+ MB\n"
     ]
    }
   ],
   "source": [
    "df_internet['session_date'] = pd.to_datetime(df_internet['session_date'], format='%Y-%m-%d')\n",
    "df_internet['user_id'] = df_internet['user_id'].astype('str')\n",
    "\n",
    "df_internet.info()"
   ]
  },
  {
   "cell_type": "code",
   "execution_count": 12,
   "id": "ba46e856",
   "metadata": {
    "scrolled": true
   },
   "outputs": [
    {
     "name": "stdout",
     "output_type": "stream",
     "text": [
      "<class 'pandas.core.frame.DataFrame'>\n",
      "RangeIndex: 500 entries, 0 to 499\n",
      "Data columns (total 8 columns):\n",
      " #   Column      Non-Null Count  Dtype         \n",
      "---  ------      --------------  -----         \n",
      " 0   user_id     500 non-null    object        \n",
      " 1   age         500 non-null    int64         \n",
      " 2   churn_date  38 non-null     datetime64[ns]\n",
      " 3   city        500 non-null    object        \n",
      " 4   first_name  500 non-null    object        \n",
      " 5   last_name   500 non-null    object        \n",
      " 6   reg_date    500 non-null    datetime64[ns]\n",
      " 7   tariff      500 non-null    object        \n",
      "dtypes: datetime64[ns](2), int64(1), object(5)\n",
      "memory usage: 31.4+ KB\n"
     ]
    }
   ],
   "source": [
    "df_users['reg_date'] = pd.to_datetime(df_users['reg_date'], format='%Y-%m-%d')\n",
    "df_users['churn_date'] = pd.to_datetime(df_users['churn_date'], format='%Y-%m-%d')\n",
    "df_users['user_id'] = df_users['user_id'].astype('str')\n",
    "\n",
    "df_users.info()"
   ]
  },
  {
   "cell_type": "markdown",
   "id": "63a99f76",
   "metadata": {},
   "source": [
    "Типы данных успешно изменены.\n",
    "\n",
    "### Поиск и устранение ошибок ###\n",
    "\n",
    "Как уже отмечалось выше, в `df_internet` присутсвует столбец `Unnamed: 0`, который можно удалить."
   ]
  },
  {
   "cell_type": "code",
   "execution_count": 13,
   "id": "58b3350d",
   "metadata": {},
   "outputs": [
    {
     "data": {
      "text/html": [
       "<div>\n",
       "<style scoped>\n",
       "    .dataframe tbody tr th:only-of-type {\n",
       "        vertical-align: middle;\n",
       "    }\n",
       "\n",
       "    .dataframe tbody tr th {\n",
       "        vertical-align: top;\n",
       "    }\n",
       "\n",
       "    .dataframe thead th {\n",
       "        text-align: right;\n",
       "    }\n",
       "</style>\n",
       "<table border=\"1\" class=\"dataframe\">\n",
       "  <thead>\n",
       "    <tr style=\"text-align: right;\">\n",
       "      <th></th>\n",
       "      <th>id</th>\n",
       "      <th>mb_used</th>\n",
       "      <th>session_date</th>\n",
       "      <th>user_id</th>\n",
       "    </tr>\n",
       "  </thead>\n",
       "  <tbody>\n",
       "    <tr>\n",
       "      <th>0</th>\n",
       "      <td>1000_0</td>\n",
       "      <td>112.95</td>\n",
       "      <td>2018-11-25</td>\n",
       "      <td>1000</td>\n",
       "    </tr>\n",
       "    <tr>\n",
       "      <th>1</th>\n",
       "      <td>1000_1</td>\n",
       "      <td>1052.81</td>\n",
       "      <td>2018-09-07</td>\n",
       "      <td>1000</td>\n",
       "    </tr>\n",
       "    <tr>\n",
       "      <th>2</th>\n",
       "      <td>1000_2</td>\n",
       "      <td>1197.26</td>\n",
       "      <td>2018-06-25</td>\n",
       "      <td>1000</td>\n",
       "    </tr>\n",
       "    <tr>\n",
       "      <th>3</th>\n",
       "      <td>1000_3</td>\n",
       "      <td>550.27</td>\n",
       "      <td>2018-08-22</td>\n",
       "      <td>1000</td>\n",
       "    </tr>\n",
       "    <tr>\n",
       "      <th>4</th>\n",
       "      <td>1000_4</td>\n",
       "      <td>302.56</td>\n",
       "      <td>2018-09-24</td>\n",
       "      <td>1000</td>\n",
       "    </tr>\n",
       "  </tbody>\n",
       "</table>\n",
       "</div>"
      ],
      "text/plain": [
       "       id  mb_used session_date user_id\n",
       "0  1000_0   112.95   2018-11-25    1000\n",
       "1  1000_1  1052.81   2018-09-07    1000\n",
       "2  1000_2  1197.26   2018-06-25    1000\n",
       "3  1000_3   550.27   2018-08-22    1000\n",
       "4  1000_4   302.56   2018-09-24    1000"
      ]
     },
     "execution_count": 13,
     "metadata": {},
     "output_type": "execute_result"
    }
   ],
   "source": [
    "df_internet = df_internet.drop(columns='Unnamed: 0')\n",
    "df_internet.head()"
   ]
  },
  {
   "cell_type": "code",
   "execution_count": 14,
   "id": "fbfd7f2b",
   "metadata": {},
   "outputs": [
    {
     "data": {
      "text/plain": [
       "0.00      19598\n",
       "335.91        9\n",
       "447.30        9\n",
       "197.56        9\n",
       "199.11        8\n",
       "          ...  \n",
       "182.69        1\n",
       "726.03        1\n",
       "315.12        1\n",
       "898.99        1\n",
       "677.66        1\n",
       "Name: mb_used, Length: 70003, dtype: int64"
      ]
     },
     "execution_count": 14,
     "metadata": {},
     "output_type": "execute_result"
    }
   ],
   "source": [
    "df_internet['mb_used'].value_counts()"
   ]
  },
  {
   "cell_type": "code",
   "execution_count": 15,
   "id": "42d93d2d",
   "metadata": {},
   "outputs": [
    {
     "name": "stdout",
     "output_type": "stream",
     "text": [
      "Процент нулевых сессий 13.1%\n"
     ]
    }
   ],
   "source": [
    "null_ratio = len(df_internet.query('mb_used == 0.0')) / len(df_internet)\n",
    "print(f'Процент нулевых сессий {null_ratio:.1%}')"
   ]
  },
  {
   "cell_type": "code",
   "execution_count": 16,
   "id": "e4f66b0d",
   "metadata": {},
   "outputs": [
    {
     "data": {
      "text/html": [
       "<div>\n",
       "<style scoped>\n",
       "    .dataframe tbody tr th:only-of-type {\n",
       "        vertical-align: middle;\n",
       "    }\n",
       "\n",
       "    .dataframe tbody tr th {\n",
       "        vertical-align: top;\n",
       "    }\n",
       "\n",
       "    .dataframe thead th {\n",
       "        text-align: right;\n",
       "    }\n",
       "</style>\n",
       "<table border=\"1\" class=\"dataframe\">\n",
       "  <thead>\n",
       "    <tr style=\"text-align: right;\">\n",
       "      <th></th>\n",
       "      <th>id</th>\n",
       "      <th>mb_used</th>\n",
       "      <th>session_date</th>\n",
       "      <th>user_id</th>\n",
       "    </tr>\n",
       "  </thead>\n",
       "  <tbody>\n",
       "    <tr>\n",
       "      <th>324</th>\n",
       "      <td>1002_17</td>\n",
       "      <td>318.85</td>\n",
       "      <td>2018-06-17</td>\n",
       "      <td>1002</td>\n",
       "    </tr>\n",
       "    <tr>\n",
       "      <th>370</th>\n",
       "      <td>1002_63</td>\n",
       "      <td>706.58</td>\n",
       "      <td>2018-06-17</td>\n",
       "      <td>1002</td>\n",
       "    </tr>\n",
       "    <tr>\n",
       "      <th>351</th>\n",
       "      <td>1002_44</td>\n",
       "      <td>719.81</td>\n",
       "      <td>2018-06-18</td>\n",
       "      <td>1002</td>\n",
       "    </tr>\n",
       "    <tr>\n",
       "      <th>494</th>\n",
       "      <td>1002_187</td>\n",
       "      <td>454.39</td>\n",
       "      <td>2018-06-18</td>\n",
       "      <td>1002</td>\n",
       "    </tr>\n",
       "    <tr>\n",
       "      <th>434</th>\n",
       "      <td>1002_127</td>\n",
       "      <td>540.13</td>\n",
       "      <td>2018-06-19</td>\n",
       "      <td>1002</td>\n",
       "    </tr>\n",
       "    <tr>\n",
       "      <th>509</th>\n",
       "      <td>1002_202</td>\n",
       "      <td>573.25</td>\n",
       "      <td>2018-06-20</td>\n",
       "      <td>1002</td>\n",
       "    </tr>\n",
       "    <tr>\n",
       "      <th>515</th>\n",
       "      <td>1002_208</td>\n",
       "      <td>829.14</td>\n",
       "      <td>2018-06-20</td>\n",
       "      <td>1002</td>\n",
       "    </tr>\n",
       "    <tr>\n",
       "      <th>422</th>\n",
       "      <td>1002_115</td>\n",
       "      <td>382.55</td>\n",
       "      <td>2018-06-21</td>\n",
       "      <td>1002</td>\n",
       "    </tr>\n",
       "    <tr>\n",
       "      <th>597</th>\n",
       "      <td>1002_290</td>\n",
       "      <td>586.07</td>\n",
       "      <td>2018-06-22</td>\n",
       "      <td>1002</td>\n",
       "    </tr>\n",
       "    <tr>\n",
       "      <th>356</th>\n",
       "      <td>1002_49</td>\n",
       "      <td>652.38</td>\n",
       "      <td>2018-06-22</td>\n",
       "      <td>1002</td>\n",
       "    </tr>\n",
       "    <tr>\n",
       "      <th>550</th>\n",
       "      <td>1002_243</td>\n",
       "      <td>0.00</td>\n",
       "      <td>2018-06-22</td>\n",
       "      <td>1002</td>\n",
       "    </tr>\n",
       "    <tr>\n",
       "      <th>472</th>\n",
       "      <td>1002_165</td>\n",
       "      <td>7.17</td>\n",
       "      <td>2018-06-23</td>\n",
       "      <td>1002</td>\n",
       "    </tr>\n",
       "    <tr>\n",
       "      <th>500</th>\n",
       "      <td>1002_193</td>\n",
       "      <td>218.49</td>\n",
       "      <td>2018-06-23</td>\n",
       "      <td>1002</td>\n",
       "    </tr>\n",
       "    <tr>\n",
       "      <th>463</th>\n",
       "      <td>1002_156</td>\n",
       "      <td>0.00</td>\n",
       "      <td>2018-06-24</td>\n",
       "      <td>1002</td>\n",
       "    </tr>\n",
       "    <tr>\n",
       "      <th>608</th>\n",
       "      <td>1002_301</td>\n",
       "      <td>312.48</td>\n",
       "      <td>2018-06-24</td>\n",
       "      <td>1002</td>\n",
       "    </tr>\n",
       "    <tr>\n",
       "      <th>350</th>\n",
       "      <td>1002_43</td>\n",
       "      <td>211.77</td>\n",
       "      <td>2018-06-24</td>\n",
       "      <td>1002</td>\n",
       "    </tr>\n",
       "    <tr>\n",
       "      <th>615</th>\n",
       "      <td>1002_308</td>\n",
       "      <td>0.00</td>\n",
       "      <td>2018-06-24</td>\n",
       "      <td>1002</td>\n",
       "    </tr>\n",
       "    <tr>\n",
       "      <th>614</th>\n",
       "      <td>1002_307</td>\n",
       "      <td>397.32</td>\n",
       "      <td>2018-06-24</td>\n",
       "      <td>1002</td>\n",
       "    </tr>\n",
       "    <tr>\n",
       "      <th>577</th>\n",
       "      <td>1002_270</td>\n",
       "      <td>15.68</td>\n",
       "      <td>2018-06-25</td>\n",
       "      <td>1002</td>\n",
       "    </tr>\n",
       "    <tr>\n",
       "      <th>425</th>\n",
       "      <td>1002_118</td>\n",
       "      <td>0.00</td>\n",
       "      <td>2018-06-25</td>\n",
       "      <td>1002</td>\n",
       "    </tr>\n",
       "  </tbody>\n",
       "</table>\n",
       "</div>"
      ],
      "text/plain": [
       "           id  mb_used session_date user_id\n",
       "324   1002_17   318.85   2018-06-17    1002\n",
       "370   1002_63   706.58   2018-06-17    1002\n",
       "351   1002_44   719.81   2018-06-18    1002\n",
       "494  1002_187   454.39   2018-06-18    1002\n",
       "434  1002_127   540.13   2018-06-19    1002\n",
       "509  1002_202   573.25   2018-06-20    1002\n",
       "515  1002_208   829.14   2018-06-20    1002\n",
       "422  1002_115   382.55   2018-06-21    1002\n",
       "597  1002_290   586.07   2018-06-22    1002\n",
       "356   1002_49   652.38   2018-06-22    1002\n",
       "550  1002_243     0.00   2018-06-22    1002\n",
       "472  1002_165     7.17   2018-06-23    1002\n",
       "500  1002_193   218.49   2018-06-23    1002\n",
       "463  1002_156     0.00   2018-06-24    1002\n",
       "608  1002_301   312.48   2018-06-24    1002\n",
       "350   1002_43   211.77   2018-06-24    1002\n",
       "615  1002_308     0.00   2018-06-24    1002\n",
       "614  1002_307   397.32   2018-06-24    1002\n",
       "577  1002_270    15.68   2018-06-25    1002\n",
       "425  1002_118     0.00   2018-06-25    1002"
      ]
     },
     "execution_count": 16,
     "metadata": {},
     "output_type": "execute_result"
    }
   ],
   "source": [
    "df_internet.query('user_id == \"1002\"').sort_values(by='session_date').head(20)"
   ]
  },
  {
   "cell_type": "code",
   "execution_count": 17,
   "id": "36a569ba",
   "metadata": {},
   "outputs": [
    {
     "name": "stdout",
     "output_type": "stream",
     "text": [
      "Потрачено трафика до 0.00 - 5763.150000000001 Мб\n"
     ]
    }
   ],
   "source": [
    "print(\n",
    "    'Потрачено трафика до 0.00 -',\n",
    "    df_internet.query('user_id == \"1002\"').sort_values(by='session_date')['mb_used'].head(10).sum(), 'Мб'\n",
    ")"
   ]
  },
  {
   "cell_type": "code",
   "execution_count": 18,
   "id": "22f1efdf",
   "metadata": {},
   "outputs": [
    {
     "data": {
      "text/plain": [
       "2    smart\n",
       "Name: tariff, dtype: object"
      ]
     },
     "execution_count": 18,
     "metadata": {},
     "output_type": "execute_result"
    }
   ],
   "source": [
    "df_users[df_users['user_id'] == '1002']['tariff']"
   ]
  },
  {
   "cell_type": "markdown",
   "id": "75ab0f56",
   "metadata": {},
   "source": [
    "В столбце `mb_used` присутсвуют нулевые значения. Они занимают 13.1% от всех данных. \n",
    "\n",
    "Предположение, что 0.00 означает, что пользователь попытался выйти в сеть, но у него закончился лимит трафика на тарифе, не подходит. Потому что это противоречит условию, что гб просто накидываются сверху, а потом выставляется счет за перерасход. И если посмотреть по датам и использованному трафику до 0.00, тоже эта теория не подтверждается.\n",
    "\n",
    "Сказать, что человек просто не пользовался интернетом в этот день тоже нельзя, т.к. есть дни, когда юзер несколько раз выходил в сеть,  и тратил мб, и в тот же день есть сессия с 0.00.\n",
    "\n",
    "Можно предположить, конечно, что за эту сессию были потрачены не мегабайты, а килобайты, но по сути даже 8 кб при переводе уже должны дать 0.01 мб, а не 0.00, а значит такой вариант тоже маловероятен.\n",
    "\n",
    "Т.к. определить причину появления этих значений мы не можем, а удалять их нельзя, т.к. лишимся большого объема данных, эти данные мы оставим без изменений."
   ]
  },
  {
   "cell_type": "code",
   "execution_count": 19,
   "id": "192c4eca",
   "metadata": {},
   "outputs": [
    {
     "data": {
      "text/plain": [
       "0.00     39613\n",
       "5.50       142\n",
       "4.49       142\n",
       "6.15       141\n",
       "6.38       141\n",
       "         ...  \n",
       "26.32        1\n",
       "24.51        1\n",
       "27.24        1\n",
       "29.89        1\n",
       "27.43        1\n",
       "Name: duration, Length: 2871, dtype: int64"
      ]
     },
     "execution_count": 19,
     "metadata": {},
     "output_type": "execute_result"
    }
   ],
   "source": [
    "df_calls['duration'].value_counts()"
   ]
  },
  {
   "cell_type": "markdown",
   "id": "0d8094f2",
   "metadata": {},
   "source": [
    "В данном случае, звонки с длительностью 0.00 - это пропущенные звонки, и это не является ошибкой.\n",
    "\n",
    "Так как «Мегалайн» всегда округляет секунды до минут, и округляется каждый звонок, то для удобства дальнейших расчетов добавим столбец, в котором будут содержатся округленные значения минут."
   ]
  },
  {
   "cell_type": "code",
   "execution_count": 20,
   "id": "d8a83e51",
   "metadata": {},
   "outputs": [
    {
     "data": {
      "text/html": [
       "<div>\n",
       "<style scoped>\n",
       "    .dataframe tbody tr th:only-of-type {\n",
       "        vertical-align: middle;\n",
       "    }\n",
       "\n",
       "    .dataframe tbody tr th {\n",
       "        vertical-align: top;\n",
       "    }\n",
       "\n",
       "    .dataframe thead th {\n",
       "        text-align: right;\n",
       "    }\n",
       "</style>\n",
       "<table border=\"1\" class=\"dataframe\">\n",
       "  <thead>\n",
       "    <tr style=\"text-align: right;\">\n",
       "      <th></th>\n",
       "      <th>id</th>\n",
       "      <th>call_date</th>\n",
       "      <th>duration</th>\n",
       "      <th>user_id</th>\n",
       "      <th>full_minutes</th>\n",
       "    </tr>\n",
       "  </thead>\n",
       "  <tbody>\n",
       "    <tr>\n",
       "      <th>0</th>\n",
       "      <td>1000_0</td>\n",
       "      <td>2018-07-25</td>\n",
       "      <td>0.00</td>\n",
       "      <td>1000</td>\n",
       "      <td>0.0</td>\n",
       "    </tr>\n",
       "    <tr>\n",
       "      <th>1</th>\n",
       "      <td>1000_1</td>\n",
       "      <td>2018-08-17</td>\n",
       "      <td>0.00</td>\n",
       "      <td>1000</td>\n",
       "      <td>0.0</td>\n",
       "    </tr>\n",
       "    <tr>\n",
       "      <th>2</th>\n",
       "      <td>1000_2</td>\n",
       "      <td>2018-06-11</td>\n",
       "      <td>2.85</td>\n",
       "      <td>1000</td>\n",
       "      <td>3.0</td>\n",
       "    </tr>\n",
       "    <tr>\n",
       "      <th>3</th>\n",
       "      <td>1000_3</td>\n",
       "      <td>2018-09-21</td>\n",
       "      <td>13.80</td>\n",
       "      <td>1000</td>\n",
       "      <td>14.0</td>\n",
       "    </tr>\n",
       "    <tr>\n",
       "      <th>4</th>\n",
       "      <td>1000_4</td>\n",
       "      <td>2018-12-15</td>\n",
       "      <td>5.18</td>\n",
       "      <td>1000</td>\n",
       "      <td>6.0</td>\n",
       "    </tr>\n",
       "  </tbody>\n",
       "</table>\n",
       "</div>"
      ],
      "text/plain": [
       "       id  call_date  duration user_id  full_minutes\n",
       "0  1000_0 2018-07-25      0.00    1000           0.0\n",
       "1  1000_1 2018-08-17      0.00    1000           0.0\n",
       "2  1000_2 2018-06-11      2.85    1000           3.0\n",
       "3  1000_3 2018-09-21     13.80    1000          14.0\n",
       "4  1000_4 2018-12-15      5.18    1000           6.0"
      ]
     },
     "execution_count": 20,
     "metadata": {},
     "output_type": "execute_result"
    }
   ],
   "source": [
    "df_calls['full_minutes'] = np.ceil(df_calls['duration'])\n",
    "df_calls.head(5)"
   ]
  },
  {
   "cell_type": "markdown",
   "id": "ea13a46f",
   "metadata": {},
   "source": [
    "Теперь поищем ошибки в данных о пользователях."
   ]
  },
  {
   "cell_type": "code",
   "execution_count": 21,
   "id": "345f87c8",
   "metadata": {},
   "outputs": [
    {
     "data": {
      "text/plain": [
       "count    500.00000\n",
       "mean      46.58800\n",
       "std       16.66763\n",
       "min       18.00000\n",
       "25%       32.00000\n",
       "50%       46.00000\n",
       "75%       62.00000\n",
       "max       75.00000\n",
       "Name: age, dtype: float64"
      ]
     },
     "execution_count": 21,
     "metadata": {},
     "output_type": "execute_result"
    }
   ],
   "source": [
    "df_users['age'].describe()"
   ]
  },
  {
   "cell_type": "markdown",
   "id": "c881a48e",
   "metadata": {},
   "source": [
    "Необычных или выбивающихся значений в возрасте нет."
   ]
  },
  {
   "cell_type": "code",
   "execution_count": 22,
   "id": "e8d92b39",
   "metadata": {},
   "outputs": [
    {
     "data": {
      "text/plain": [
       "smart    351\n",
       "ultra    149\n",
       "Name: tariff, dtype: int64"
      ]
     },
     "execution_count": 22,
     "metadata": {},
     "output_type": "execute_result"
    }
   ],
   "source": [
    "df_users['tariff'].value_counts()"
   ]
  },
  {
   "cell_type": "code",
   "execution_count": 23,
   "id": "8dd5e4e2",
   "metadata": {},
   "outputs": [
    {
     "data": {
      "text/plain": [
       "array(['Архангельск', 'Астрахань', 'Балашиха', 'Барнаул', 'Белгород',\n",
       "       'Брянск', 'Владивосток', 'Владикавказ', 'Владимир', 'Волгоград',\n",
       "       'Волжский', 'Вологда', 'Воронеж', 'Грозный', 'Екатеринбург',\n",
       "       'Иваново', 'Ижевск', 'Иркутск', 'Казань', 'Калининград', 'Калуга',\n",
       "       'Кемерово', 'Киров', 'Кострома', 'Краснодар', 'Красноярск',\n",
       "       'Курган', 'Курск', 'Липецк', 'Магнитогорск', 'Махачкала', 'Москва',\n",
       "       'Мурманск', 'Набережные Челны', 'Нижневартовск', 'Нижний Новгород',\n",
       "       'Нижний Тагил', 'Новокузнецк', 'Новороссийск', 'Новосибирск',\n",
       "       'Омск', 'Оренбург', 'Орёл', 'Пенза', 'Пермь', 'Петрозаводск',\n",
       "       'Подольск', 'Ростов-на-Дону', 'Рязань', 'Самара',\n",
       "       'Санкт-Петербург', 'Саранск', 'Саратов', 'Севастополь', 'Смоленск',\n",
       "       'Сочи', 'Ставрополь', 'Стерлитамак', 'Сургут', 'Тамбов', 'Тверь',\n",
       "       'Тольятти', 'Томск', 'Тула', 'Тюмень', 'Улан-Удэ', 'Ульяновск',\n",
       "       'Уфа', 'Хабаровск', 'Химки', 'Чебоксары', 'Челябинск', 'Череповец',\n",
       "       'Чита', 'Якутск', 'Ярославль'], dtype=object)"
      ]
     },
     "execution_count": 23,
     "metadata": {},
     "output_type": "execute_result"
    }
   ],
   "source": [
    "np.sort(df_users['city'].unique())"
   ]
  },
  {
   "cell_type": "code",
   "execution_count": 24,
   "id": "a7b82145",
   "metadata": {},
   "outputs": [
    {
     "name": "stderr",
     "output_type": "stream",
     "text": [
      "C:\\Users\\funkyabe\\AppData\\Local\\Temp\\ipykernel_16272\\656204730.py:1: FutureWarning: Treating datetime data as categorical rather than numeric in `.describe` is deprecated and will be removed in a future version of pandas. Specify `datetime_is_numeric=True` to silence this warning and adopt the future behavior now.\n",
      "  df_users['reg_date'].describe()\n"
     ]
    },
    {
     "data": {
      "text/plain": [
       "count                     500\n",
       "unique                    270\n",
       "top       2018-05-28 00:00:00\n",
       "freq                        8\n",
       "first     2018-01-01 00:00:00\n",
       "last      2018-12-31 00:00:00\n",
       "Name: reg_date, dtype: object"
      ]
     },
     "execution_count": 24,
     "metadata": {},
     "output_type": "execute_result"
    }
   ],
   "source": [
    "df_users['reg_date'].describe()"
   ]
  },
  {
   "cell_type": "code",
   "execution_count": 25,
   "id": "5d4d227d",
   "metadata": {},
   "outputs": [
    {
     "name": "stderr",
     "output_type": "stream",
     "text": [
      "C:\\Users\\funkyabe\\AppData\\Local\\Temp\\ipykernel_16272\\1782184359.py:1: FutureWarning: Treating datetime data as categorical rather than numeric in `.describe` is deprecated and will be removed in a future version of pandas. Specify `datetime_is_numeric=True` to silence this warning and adopt the future behavior now.\n",
      "  df_users['churn_date'].describe()\n"
     ]
    },
    {
     "data": {
      "text/plain": [
       "count                      38\n",
       "unique                     33\n",
       "top       2018-10-03 00:00:00\n",
       "freq                        2\n",
       "first     2018-08-17 00:00:00\n",
       "last      2018-12-30 00:00:00\n",
       "Name: churn_date, dtype: object"
      ]
     },
     "execution_count": 25,
     "metadata": {},
     "output_type": "execute_result"
    }
   ],
   "source": [
    "df_users['churn_date'].describe()"
   ]
  },
  {
   "cell_type": "markdown",
   "id": "421dc770",
   "metadata": {},
   "source": [
    "В тарифах и городах ошибок также нет. В датах регистрации и отключения тарифа тоже нет выбивающихся значений - все даты в пределах 2018 года.\n",
    "\n",
    "Искать необычные значения в именах и фамилиях нет смысла, т.к.они бывают довольно уникальными.\n",
    "\n",
    "В таблице с данными о тарифах столбец с названиями тарифов имеет название `tariff_name`, тогда как в остальных таблица он называется просто `tariff`. Для дальнейшего удобства переименуем его."
   ]
  },
  {
   "cell_type": "code",
   "execution_count": 26,
   "id": "756e9500",
   "metadata": {},
   "outputs": [],
   "source": [
    "df_tariffs = df_tariffs.rename(columns={'tariff_name':'tariff'})"
   ]
  },
  {
   "cell_type": "markdown",
   "id": "63970911",
   "metadata": {},
   "source": [
    "### Подготовка пользовательских данных ### \n",
    "\n",
    "Для каждого пользователя нужно рассчитать следующие параметры:\n",
    "* количество сделанных звонков и израсходованных минут разговора по месяцам;\n",
    "* количество отправленных сообщений по месяцам;\n",
    "* объем израсходованного интернет-трафика по месяцам;\n",
    "* помесячную выручку с каждого пользователя (вычтите бесплатный лимит из суммарного количества звонков, сообщений и интернет-трафика; остаток умножьте на значение из тарифного плана; прибавьте абонентскую плату, соответствующую тарифному плану).\n",
    "\n",
    "Для начала в каждую таблицу добавим столбец с месяцем."
   ]
  },
  {
   "cell_type": "code",
   "execution_count": 27,
   "id": "9cae88d5",
   "metadata": {},
   "outputs": [
    {
     "data": {
      "text/html": [
       "<div>\n",
       "<style scoped>\n",
       "    .dataframe tbody tr th:only-of-type {\n",
       "        vertical-align: middle;\n",
       "    }\n",
       "\n",
       "    .dataframe tbody tr th {\n",
       "        vertical-align: top;\n",
       "    }\n",
       "\n",
       "    .dataframe thead th {\n",
       "        text-align: right;\n",
       "    }\n",
       "</style>\n",
       "<table border=\"1\" class=\"dataframe\">\n",
       "  <thead>\n",
       "    <tr style=\"text-align: right;\">\n",
       "      <th></th>\n",
       "      <th>id</th>\n",
       "      <th>call_date</th>\n",
       "      <th>duration</th>\n",
       "      <th>user_id</th>\n",
       "      <th>full_minutes</th>\n",
       "      <th>month</th>\n",
       "    </tr>\n",
       "  </thead>\n",
       "  <tbody>\n",
       "    <tr>\n",
       "      <th>0</th>\n",
       "      <td>1000_0</td>\n",
       "      <td>2018-07-25</td>\n",
       "      <td>0.00</td>\n",
       "      <td>1000</td>\n",
       "      <td>0.0</td>\n",
       "      <td>7</td>\n",
       "    </tr>\n",
       "    <tr>\n",
       "      <th>1</th>\n",
       "      <td>1000_1</td>\n",
       "      <td>2018-08-17</td>\n",
       "      <td>0.00</td>\n",
       "      <td>1000</td>\n",
       "      <td>0.0</td>\n",
       "      <td>8</td>\n",
       "    </tr>\n",
       "    <tr>\n",
       "      <th>2</th>\n",
       "      <td>1000_2</td>\n",
       "      <td>2018-06-11</td>\n",
       "      <td>2.85</td>\n",
       "      <td>1000</td>\n",
       "      <td>3.0</td>\n",
       "      <td>6</td>\n",
       "    </tr>\n",
       "    <tr>\n",
       "      <th>3</th>\n",
       "      <td>1000_3</td>\n",
       "      <td>2018-09-21</td>\n",
       "      <td>13.80</td>\n",
       "      <td>1000</td>\n",
       "      <td>14.0</td>\n",
       "      <td>9</td>\n",
       "    </tr>\n",
       "    <tr>\n",
       "      <th>4</th>\n",
       "      <td>1000_4</td>\n",
       "      <td>2018-12-15</td>\n",
       "      <td>5.18</td>\n",
       "      <td>1000</td>\n",
       "      <td>6.0</td>\n",
       "      <td>12</td>\n",
       "    </tr>\n",
       "  </tbody>\n",
       "</table>\n",
       "</div>"
      ],
      "text/plain": [
       "       id  call_date  duration user_id  full_minutes  month\n",
       "0  1000_0 2018-07-25      0.00    1000           0.0      7\n",
       "1  1000_1 2018-08-17      0.00    1000           0.0      8\n",
       "2  1000_2 2018-06-11      2.85    1000           3.0      6\n",
       "3  1000_3 2018-09-21     13.80    1000          14.0      9\n",
       "4  1000_4 2018-12-15      5.18    1000           6.0     12"
      ]
     },
     "execution_count": 27,
     "metadata": {},
     "output_type": "execute_result"
    }
   ],
   "source": [
    "df_calls['month'] = df_calls['call_date'].dt.month\n",
    "df_calls.head()"
   ]
  },
  {
   "cell_type": "code",
   "execution_count": 28,
   "id": "ec10a5ff",
   "metadata": {},
   "outputs": [
    {
     "data": {
      "text/html": [
       "<div>\n",
       "<style scoped>\n",
       "    .dataframe tbody tr th:only-of-type {\n",
       "        vertical-align: middle;\n",
       "    }\n",
       "\n",
       "    .dataframe tbody tr th {\n",
       "        vertical-align: top;\n",
       "    }\n",
       "\n",
       "    .dataframe thead th {\n",
       "        text-align: right;\n",
       "    }\n",
       "</style>\n",
       "<table border=\"1\" class=\"dataframe\">\n",
       "  <thead>\n",
       "    <tr style=\"text-align: right;\">\n",
       "      <th></th>\n",
       "      <th>id</th>\n",
       "      <th>message_date</th>\n",
       "      <th>user_id</th>\n",
       "      <th>month</th>\n",
       "    </tr>\n",
       "  </thead>\n",
       "  <tbody>\n",
       "    <tr>\n",
       "      <th>0</th>\n",
       "      <td>1000_0</td>\n",
       "      <td>2018-06-27</td>\n",
       "      <td>1000</td>\n",
       "      <td>6</td>\n",
       "    </tr>\n",
       "    <tr>\n",
       "      <th>1</th>\n",
       "      <td>1000_1</td>\n",
       "      <td>2018-10-08</td>\n",
       "      <td>1000</td>\n",
       "      <td>10</td>\n",
       "    </tr>\n",
       "    <tr>\n",
       "      <th>2</th>\n",
       "      <td>1000_2</td>\n",
       "      <td>2018-08-04</td>\n",
       "      <td>1000</td>\n",
       "      <td>8</td>\n",
       "    </tr>\n",
       "    <tr>\n",
       "      <th>3</th>\n",
       "      <td>1000_3</td>\n",
       "      <td>2018-06-16</td>\n",
       "      <td>1000</td>\n",
       "      <td>6</td>\n",
       "    </tr>\n",
       "    <tr>\n",
       "      <th>4</th>\n",
       "      <td>1000_4</td>\n",
       "      <td>2018-12-05</td>\n",
       "      <td>1000</td>\n",
       "      <td>12</td>\n",
       "    </tr>\n",
       "  </tbody>\n",
       "</table>\n",
       "</div>"
      ],
      "text/plain": [
       "       id message_date user_id  month\n",
       "0  1000_0   2018-06-27    1000      6\n",
       "1  1000_1   2018-10-08    1000     10\n",
       "2  1000_2   2018-08-04    1000      8\n",
       "3  1000_3   2018-06-16    1000      6\n",
       "4  1000_4   2018-12-05    1000     12"
      ]
     },
     "execution_count": 28,
     "metadata": {},
     "output_type": "execute_result"
    }
   ],
   "source": [
    "df_messages['month'] = df_messages['message_date'].dt.month\n",
    "df_messages.head()"
   ]
  },
  {
   "cell_type": "code",
   "execution_count": 29,
   "id": "e5dc6028",
   "metadata": {},
   "outputs": [
    {
     "data": {
      "text/html": [
       "<div>\n",
       "<style scoped>\n",
       "    .dataframe tbody tr th:only-of-type {\n",
       "        vertical-align: middle;\n",
       "    }\n",
       "\n",
       "    .dataframe tbody tr th {\n",
       "        vertical-align: top;\n",
       "    }\n",
       "\n",
       "    .dataframe thead th {\n",
       "        text-align: right;\n",
       "    }\n",
       "</style>\n",
       "<table border=\"1\" class=\"dataframe\">\n",
       "  <thead>\n",
       "    <tr style=\"text-align: right;\">\n",
       "      <th></th>\n",
       "      <th>id</th>\n",
       "      <th>mb_used</th>\n",
       "      <th>session_date</th>\n",
       "      <th>user_id</th>\n",
       "      <th>month</th>\n",
       "    </tr>\n",
       "  </thead>\n",
       "  <tbody>\n",
       "    <tr>\n",
       "      <th>0</th>\n",
       "      <td>1000_0</td>\n",
       "      <td>112.95</td>\n",
       "      <td>2018-11-25</td>\n",
       "      <td>1000</td>\n",
       "      <td>11</td>\n",
       "    </tr>\n",
       "    <tr>\n",
       "      <th>1</th>\n",
       "      <td>1000_1</td>\n",
       "      <td>1052.81</td>\n",
       "      <td>2018-09-07</td>\n",
       "      <td>1000</td>\n",
       "      <td>9</td>\n",
       "    </tr>\n",
       "    <tr>\n",
       "      <th>2</th>\n",
       "      <td>1000_2</td>\n",
       "      <td>1197.26</td>\n",
       "      <td>2018-06-25</td>\n",
       "      <td>1000</td>\n",
       "      <td>6</td>\n",
       "    </tr>\n",
       "    <tr>\n",
       "      <th>3</th>\n",
       "      <td>1000_3</td>\n",
       "      <td>550.27</td>\n",
       "      <td>2018-08-22</td>\n",
       "      <td>1000</td>\n",
       "      <td>8</td>\n",
       "    </tr>\n",
       "    <tr>\n",
       "      <th>4</th>\n",
       "      <td>1000_4</td>\n",
       "      <td>302.56</td>\n",
       "      <td>2018-09-24</td>\n",
       "      <td>1000</td>\n",
       "      <td>9</td>\n",
       "    </tr>\n",
       "  </tbody>\n",
       "</table>\n",
       "</div>"
      ],
      "text/plain": [
       "       id  mb_used session_date user_id  month\n",
       "0  1000_0   112.95   2018-11-25    1000     11\n",
       "1  1000_1  1052.81   2018-09-07    1000      9\n",
       "2  1000_2  1197.26   2018-06-25    1000      6\n",
       "3  1000_3   550.27   2018-08-22    1000      8\n",
       "4  1000_4   302.56   2018-09-24    1000      9"
      ]
     },
     "execution_count": 29,
     "metadata": {},
     "output_type": "execute_result"
    }
   ],
   "source": [
    "df_internet['month'] = df_internet['session_date'].dt.month\n",
    "df_internet.head()"
   ]
  },
  {
   "cell_type": "markdown",
   "id": "7e19f6a5",
   "metadata": {},
   "source": [
    "Теперь для каждой таблицы найдем сколько было потрачено минут / смс / гб из тарифа, а так же сколько было потрачено сверх тарифа и сколько это стоит."
   ]
  },
  {
   "cell_type": "code",
   "execution_count": 30,
   "id": "9a5f637a",
   "metadata": {},
   "outputs": [
    {
     "data": {
      "text/html": [
       "<div>\n",
       "<style scoped>\n",
       "    .dataframe tbody tr th:only-of-type {\n",
       "        vertical-align: middle;\n",
       "    }\n",
       "\n",
       "    .dataframe tbody tr th {\n",
       "        vertical-align: top;\n",
       "    }\n",
       "\n",
       "    .dataframe thead th {\n",
       "        text-align: right;\n",
       "    }\n",
       "</style>\n",
       "<table border=\"1\" class=\"dataframe\">\n",
       "  <thead>\n",
       "    <tr style=\"text-align: right;\">\n",
       "      <th></th>\n",
       "      <th>user_id</th>\n",
       "      <th>month</th>\n",
       "      <th>id</th>\n",
       "      <th>call_date</th>\n",
       "      <th>duration</th>\n",
       "      <th>full_minutes</th>\n",
       "    </tr>\n",
       "  </thead>\n",
       "  <tbody>\n",
       "    <tr>\n",
       "      <th>0</th>\n",
       "      <td>1000</td>\n",
       "      <td>5</td>\n",
       "      <td>22</td>\n",
       "      <td>22</td>\n",
       "      <td>22</td>\n",
       "      <td>22</td>\n",
       "    </tr>\n",
       "    <tr>\n",
       "      <th>1</th>\n",
       "      <td>1000</td>\n",
       "      <td>6</td>\n",
       "      <td>43</td>\n",
       "      <td>43</td>\n",
       "      <td>43</td>\n",
       "      <td>43</td>\n",
       "    </tr>\n",
       "    <tr>\n",
       "      <th>2</th>\n",
       "      <td>1000</td>\n",
       "      <td>7</td>\n",
       "      <td>47</td>\n",
       "      <td>47</td>\n",
       "      <td>47</td>\n",
       "      <td>47</td>\n",
       "    </tr>\n",
       "    <tr>\n",
       "      <th>3</th>\n",
       "      <td>1000</td>\n",
       "      <td>8</td>\n",
       "      <td>52</td>\n",
       "      <td>52</td>\n",
       "      <td>52</td>\n",
       "      <td>52</td>\n",
       "    </tr>\n",
       "    <tr>\n",
       "      <th>4</th>\n",
       "      <td>1000</td>\n",
       "      <td>9</td>\n",
       "      <td>58</td>\n",
       "      <td>58</td>\n",
       "      <td>58</td>\n",
       "      <td>58</td>\n",
       "    </tr>\n",
       "  </tbody>\n",
       "</table>\n",
       "</div>"
      ],
      "text/plain": [
       "  user_id  month  id  call_date  duration  full_minutes\n",
       "0    1000      5  22         22        22            22\n",
       "1    1000      6  43         43        43            43\n",
       "2    1000      7  47         47        47            47\n",
       "3    1000      8  52         52        52            52\n",
       "4    1000      9  58         58        58            58"
      ]
     },
     "execution_count": 30,
     "metadata": {},
     "output_type": "execute_result"
    }
   ],
   "source": [
    "calls_made = df_calls.groupby(by=['user_id', 'month']).count().reset_index()\n",
    "\n",
    "calls_made.head()"
   ]
  },
  {
   "cell_type": "code",
   "execution_count": 31,
   "id": "0a3e1e31",
   "metadata": {},
   "outputs": [
    {
     "data": {
      "text/html": [
       "<div>\n",
       "<style scoped>\n",
       "    .dataframe tbody tr th:only-of-type {\n",
       "        vertical-align: middle;\n",
       "    }\n",
       "\n",
       "    .dataframe tbody tr th {\n",
       "        vertical-align: top;\n",
       "    }\n",
       "\n",
       "    .dataframe thead th {\n",
       "        text-align: right;\n",
       "    }\n",
       "</style>\n",
       "<table border=\"1\" class=\"dataframe\">\n",
       "  <thead>\n",
       "    <tr style=\"text-align: right;\">\n",
       "      <th></th>\n",
       "      <th>user_id</th>\n",
       "      <th>month</th>\n",
       "      <th>duration</th>\n",
       "      <th>full_minutes</th>\n",
       "      <th>calls_made</th>\n",
       "      <th>tariff</th>\n",
       "      <th>city</th>\n",
       "      <th>minutes_included</th>\n",
       "      <th>rub_per_minute</th>\n",
       "    </tr>\n",
       "  </thead>\n",
       "  <tbody>\n",
       "    <tr>\n",
       "      <th>0</th>\n",
       "      <td>1000</td>\n",
       "      <td>5</td>\n",
       "      <td>150.06</td>\n",
       "      <td>159.0</td>\n",
       "      <td>22</td>\n",
       "      <td>ultra</td>\n",
       "      <td>Краснодар</td>\n",
       "      <td>3000</td>\n",
       "      <td>1</td>\n",
       "    </tr>\n",
       "    <tr>\n",
       "      <th>1</th>\n",
       "      <td>1000</td>\n",
       "      <td>6</td>\n",
       "      <td>158.90</td>\n",
       "      <td>172.0</td>\n",
       "      <td>43</td>\n",
       "      <td>ultra</td>\n",
       "      <td>Краснодар</td>\n",
       "      <td>3000</td>\n",
       "      <td>1</td>\n",
       "    </tr>\n",
       "    <tr>\n",
       "      <th>2</th>\n",
       "      <td>1000</td>\n",
       "      <td>7</td>\n",
       "      <td>318.80</td>\n",
       "      <td>340.0</td>\n",
       "      <td>47</td>\n",
       "      <td>ultra</td>\n",
       "      <td>Краснодар</td>\n",
       "      <td>3000</td>\n",
       "      <td>1</td>\n",
       "    </tr>\n",
       "    <tr>\n",
       "      <th>3</th>\n",
       "      <td>1000</td>\n",
       "      <td>8</td>\n",
       "      <td>389.87</td>\n",
       "      <td>408.0</td>\n",
       "      <td>52</td>\n",
       "      <td>ultra</td>\n",
       "      <td>Краснодар</td>\n",
       "      <td>3000</td>\n",
       "      <td>1</td>\n",
       "    </tr>\n",
       "    <tr>\n",
       "      <th>4</th>\n",
       "      <td>1000</td>\n",
       "      <td>9</td>\n",
       "      <td>440.14</td>\n",
       "      <td>466.0</td>\n",
       "      <td>58</td>\n",
       "      <td>ultra</td>\n",
       "      <td>Краснодар</td>\n",
       "      <td>3000</td>\n",
       "      <td>1</td>\n",
       "    </tr>\n",
       "    <tr>\n",
       "      <th>...</th>\n",
       "      <td>...</td>\n",
       "      <td>...</td>\n",
       "      <td>...</td>\n",
       "      <td>...</td>\n",
       "      <td>...</td>\n",
       "      <td>...</td>\n",
       "      <td>...</td>\n",
       "      <td>...</td>\n",
       "      <td>...</td>\n",
       "    </tr>\n",
       "    <tr>\n",
       "      <th>3169</th>\n",
       "      <td>1498</td>\n",
       "      <td>10</td>\n",
       "      <td>232.63</td>\n",
       "      <td>247.0</td>\n",
       "      <td>41</td>\n",
       "      <td>smart</td>\n",
       "      <td>Владикавказ</td>\n",
       "      <td>500</td>\n",
       "      <td>3</td>\n",
       "    </tr>\n",
       "    <tr>\n",
       "      <th>3170</th>\n",
       "      <td>1499</td>\n",
       "      <td>9</td>\n",
       "      <td>64.65</td>\n",
       "      <td>70.0</td>\n",
       "      <td>9</td>\n",
       "      <td>smart</td>\n",
       "      <td>Пермь</td>\n",
       "      <td>500</td>\n",
       "      <td>3</td>\n",
       "    </tr>\n",
       "    <tr>\n",
       "      <th>3171</th>\n",
       "      <td>1499</td>\n",
       "      <td>10</td>\n",
       "      <td>429.91</td>\n",
       "      <td>449.0</td>\n",
       "      <td>68</td>\n",
       "      <td>smart</td>\n",
       "      <td>Пермь</td>\n",
       "      <td>500</td>\n",
       "      <td>3</td>\n",
       "    </tr>\n",
       "    <tr>\n",
       "      <th>3172</th>\n",
       "      <td>1499</td>\n",
       "      <td>11</td>\n",
       "      <td>576.50</td>\n",
       "      <td>612.0</td>\n",
       "      <td>74</td>\n",
       "      <td>smart</td>\n",
       "      <td>Пермь</td>\n",
       "      <td>500</td>\n",
       "      <td>3</td>\n",
       "    </tr>\n",
       "    <tr>\n",
       "      <th>3173</th>\n",
       "      <td>1499</td>\n",
       "      <td>12</td>\n",
       "      <td>465.16</td>\n",
       "      <td>492.0</td>\n",
       "      <td>69</td>\n",
       "      <td>smart</td>\n",
       "      <td>Пермь</td>\n",
       "      <td>500</td>\n",
       "      <td>3</td>\n",
       "    </tr>\n",
       "  </tbody>\n",
       "</table>\n",
       "<p>3174 rows × 9 columns</p>\n",
       "</div>"
      ],
      "text/plain": [
       "     user_id  month  duration  full_minutes  calls_made tariff         city  \\\n",
       "0       1000      5    150.06         159.0          22  ultra    Краснодар   \n",
       "1       1000      6    158.90         172.0          43  ultra    Краснодар   \n",
       "2       1000      7    318.80         340.0          47  ultra    Краснодар   \n",
       "3       1000      8    389.87         408.0          52  ultra    Краснодар   \n",
       "4       1000      9    440.14         466.0          58  ultra    Краснодар   \n",
       "...      ...    ...       ...           ...         ...    ...          ...   \n",
       "3169    1498     10    232.63         247.0          41  smart  Владикавказ   \n",
       "3170    1499      9     64.65          70.0           9  smart        Пермь   \n",
       "3171    1499     10    429.91         449.0          68  smart        Пермь   \n",
       "3172    1499     11    576.50         612.0          74  smart        Пермь   \n",
       "3173    1499     12    465.16         492.0          69  smart        Пермь   \n",
       "\n",
       "      minutes_included  rub_per_minute  \n",
       "0                 3000               1  \n",
       "1                 3000               1  \n",
       "2                 3000               1  \n",
       "3                 3000               1  \n",
       "4                 3000               1  \n",
       "...                ...             ...  \n",
       "3169               500               3  \n",
       "3170               500               3  \n",
       "3171               500               3  \n",
       "3172               500               3  \n",
       "3173               500               3  \n",
       "\n",
       "[3174 rows x 9 columns]"
      ]
     },
     "execution_count": 31,
     "metadata": {},
     "output_type": "execute_result"
    }
   ],
   "source": [
    "calls_by_months = df_calls.groupby(by=['user_id', 'month']).sum().reset_index()\n",
    "\n",
    "calls_by_months['calls_made'] = calls_made['id']\n",
    "\n",
    "calls_by_months = (\n",
    "    calls_by_months\n",
    "    .merge(df_users[['user_id', 'tariff', 'city']], on='user_id', how='left')\n",
    "    .merge(df_tariffs[['tariff', 'minutes_included', 'rub_per_minute']], on='tariff', how='left')\n",
    ")\n",
    "\n",
    "calls_by_months"
   ]
  },
  {
   "cell_type": "code",
   "execution_count": 32,
   "id": "0bba5b1f",
   "metadata": {
    "scrolled": true
   },
   "outputs": [
    {
     "data": {
      "text/html": [
       "<div>\n",
       "<style scoped>\n",
       "    .dataframe tbody tr th:only-of-type {\n",
       "        vertical-align: middle;\n",
       "    }\n",
       "\n",
       "    .dataframe tbody tr th {\n",
       "        vertical-align: top;\n",
       "    }\n",
       "\n",
       "    .dataframe thead th {\n",
       "        text-align: right;\n",
       "    }\n",
       "</style>\n",
       "<table border=\"1\" class=\"dataframe\">\n",
       "  <thead>\n",
       "    <tr style=\"text-align: right;\">\n",
       "      <th></th>\n",
       "      <th>user_id</th>\n",
       "      <th>month</th>\n",
       "      <th>duration</th>\n",
       "      <th>full_minutes</th>\n",
       "      <th>calls_made</th>\n",
       "      <th>tariff</th>\n",
       "      <th>city</th>\n",
       "      <th>minutes_included</th>\n",
       "      <th>rub_per_minute</th>\n",
       "      <th>minutes_overrun</th>\n",
       "    </tr>\n",
       "  </thead>\n",
       "  <tbody>\n",
       "    <tr>\n",
       "      <th>3169</th>\n",
       "      <td>1498</td>\n",
       "      <td>10</td>\n",
       "      <td>232.63</td>\n",
       "      <td>247.0</td>\n",
       "      <td>41</td>\n",
       "      <td>smart</td>\n",
       "      <td>Владикавказ</td>\n",
       "      <td>500</td>\n",
       "      <td>3</td>\n",
       "      <td>0.0</td>\n",
       "    </tr>\n",
       "    <tr>\n",
       "      <th>3170</th>\n",
       "      <td>1499</td>\n",
       "      <td>9</td>\n",
       "      <td>64.65</td>\n",
       "      <td>70.0</td>\n",
       "      <td>9</td>\n",
       "      <td>smart</td>\n",
       "      <td>Пермь</td>\n",
       "      <td>500</td>\n",
       "      <td>3</td>\n",
       "      <td>0.0</td>\n",
       "    </tr>\n",
       "    <tr>\n",
       "      <th>3171</th>\n",
       "      <td>1499</td>\n",
       "      <td>10</td>\n",
       "      <td>429.91</td>\n",
       "      <td>449.0</td>\n",
       "      <td>68</td>\n",
       "      <td>smart</td>\n",
       "      <td>Пермь</td>\n",
       "      <td>500</td>\n",
       "      <td>3</td>\n",
       "      <td>0.0</td>\n",
       "    </tr>\n",
       "    <tr>\n",
       "      <th>3172</th>\n",
       "      <td>1499</td>\n",
       "      <td>11</td>\n",
       "      <td>576.50</td>\n",
       "      <td>612.0</td>\n",
       "      <td>74</td>\n",
       "      <td>smart</td>\n",
       "      <td>Пермь</td>\n",
       "      <td>500</td>\n",
       "      <td>3</td>\n",
       "      <td>112.0</td>\n",
       "    </tr>\n",
       "    <tr>\n",
       "      <th>3173</th>\n",
       "      <td>1499</td>\n",
       "      <td>12</td>\n",
       "      <td>465.16</td>\n",
       "      <td>492.0</td>\n",
       "      <td>69</td>\n",
       "      <td>smart</td>\n",
       "      <td>Пермь</td>\n",
       "      <td>500</td>\n",
       "      <td>3</td>\n",
       "      <td>0.0</td>\n",
       "    </tr>\n",
       "  </tbody>\n",
       "</table>\n",
       "</div>"
      ],
      "text/plain": [
       "     user_id  month  duration  full_minutes  calls_made tariff         city  \\\n",
       "3169    1498     10    232.63         247.0          41  smart  Владикавказ   \n",
       "3170    1499      9     64.65          70.0           9  smart        Пермь   \n",
       "3171    1499     10    429.91         449.0          68  smart        Пермь   \n",
       "3172    1499     11    576.50         612.0          74  smart        Пермь   \n",
       "3173    1499     12    465.16         492.0          69  smart        Пермь   \n",
       "\n",
       "      minutes_included  rub_per_minute  minutes_overrun  \n",
       "3169               500               3              0.0  \n",
       "3170               500               3              0.0  \n",
       "3171               500               3              0.0  \n",
       "3172               500               3            112.0  \n",
       "3173               500               3              0.0  "
      ]
     },
     "execution_count": 32,
     "metadata": {},
     "output_type": "execute_result"
    }
   ],
   "source": [
    "calls_by_months['minutes_overrun'] = np.maximum(calls_by_months['full_minutes'] - calls_by_months['minutes_included'], 0)\n",
    "calls_by_months.tail()"
   ]
  },
  {
   "cell_type": "code",
   "execution_count": 33,
   "id": "b5e10e7d",
   "metadata": {},
   "outputs": [
    {
     "data": {
      "text/html": [
       "<div>\n",
       "<style scoped>\n",
       "    .dataframe tbody tr th:only-of-type {\n",
       "        vertical-align: middle;\n",
       "    }\n",
       "\n",
       "    .dataframe tbody tr th {\n",
       "        vertical-align: top;\n",
       "    }\n",
       "\n",
       "    .dataframe thead th {\n",
       "        text-align: right;\n",
       "    }\n",
       "</style>\n",
       "<table border=\"1\" class=\"dataframe\">\n",
       "  <thead>\n",
       "    <tr style=\"text-align: right;\">\n",
       "      <th></th>\n",
       "      <th>user_id</th>\n",
       "      <th>month</th>\n",
       "      <th>duration</th>\n",
       "      <th>full_minutes</th>\n",
       "      <th>calls_made</th>\n",
       "      <th>tariff</th>\n",
       "      <th>city</th>\n",
       "      <th>minutes_included</th>\n",
       "      <th>rub_per_minute</th>\n",
       "      <th>minutes_overrun</th>\n",
       "      <th>minutes_overpay</th>\n",
       "    </tr>\n",
       "  </thead>\n",
       "  <tbody>\n",
       "    <tr>\n",
       "      <th>0</th>\n",
       "      <td>1000</td>\n",
       "      <td>5</td>\n",
       "      <td>150.06</td>\n",
       "      <td>159.0</td>\n",
       "      <td>22</td>\n",
       "      <td>ultra</td>\n",
       "      <td>Краснодар</td>\n",
       "      <td>3000</td>\n",
       "      <td>1</td>\n",
       "      <td>NaN</td>\n",
       "      <td>NaN</td>\n",
       "    </tr>\n",
       "    <tr>\n",
       "      <th>1</th>\n",
       "      <td>1000</td>\n",
       "      <td>6</td>\n",
       "      <td>158.90</td>\n",
       "      <td>172.0</td>\n",
       "      <td>43</td>\n",
       "      <td>ultra</td>\n",
       "      <td>Краснодар</td>\n",
       "      <td>3000</td>\n",
       "      <td>1</td>\n",
       "      <td>NaN</td>\n",
       "      <td>NaN</td>\n",
       "    </tr>\n",
       "    <tr>\n",
       "      <th>2</th>\n",
       "      <td>1000</td>\n",
       "      <td>7</td>\n",
       "      <td>318.80</td>\n",
       "      <td>340.0</td>\n",
       "      <td>47</td>\n",
       "      <td>ultra</td>\n",
       "      <td>Краснодар</td>\n",
       "      <td>3000</td>\n",
       "      <td>1</td>\n",
       "      <td>NaN</td>\n",
       "      <td>NaN</td>\n",
       "    </tr>\n",
       "    <tr>\n",
       "      <th>3</th>\n",
       "      <td>1000</td>\n",
       "      <td>8</td>\n",
       "      <td>389.87</td>\n",
       "      <td>408.0</td>\n",
       "      <td>52</td>\n",
       "      <td>ultra</td>\n",
       "      <td>Краснодар</td>\n",
       "      <td>3000</td>\n",
       "      <td>1</td>\n",
       "      <td>NaN</td>\n",
       "      <td>NaN</td>\n",
       "    </tr>\n",
       "    <tr>\n",
       "      <th>4</th>\n",
       "      <td>1000</td>\n",
       "      <td>9</td>\n",
       "      <td>440.14</td>\n",
       "      <td>466.0</td>\n",
       "      <td>58</td>\n",
       "      <td>ultra</td>\n",
       "      <td>Краснодар</td>\n",
       "      <td>3000</td>\n",
       "      <td>1</td>\n",
       "      <td>NaN</td>\n",
       "      <td>NaN</td>\n",
       "    </tr>\n",
       "    <tr>\n",
       "      <th>...</th>\n",
       "      <td>...</td>\n",
       "      <td>...</td>\n",
       "      <td>...</td>\n",
       "      <td>...</td>\n",
       "      <td>...</td>\n",
       "      <td>...</td>\n",
       "      <td>...</td>\n",
       "      <td>...</td>\n",
       "      <td>...</td>\n",
       "      <td>...</td>\n",
       "      <td>...</td>\n",
       "    </tr>\n",
       "    <tr>\n",
       "      <th>3169</th>\n",
       "      <td>1498</td>\n",
       "      <td>10</td>\n",
       "      <td>232.63</td>\n",
       "      <td>247.0</td>\n",
       "      <td>41</td>\n",
       "      <td>smart</td>\n",
       "      <td>Владикавказ</td>\n",
       "      <td>500</td>\n",
       "      <td>3</td>\n",
       "      <td>NaN</td>\n",
       "      <td>NaN</td>\n",
       "    </tr>\n",
       "    <tr>\n",
       "      <th>3170</th>\n",
       "      <td>1499</td>\n",
       "      <td>9</td>\n",
       "      <td>64.65</td>\n",
       "      <td>70.0</td>\n",
       "      <td>9</td>\n",
       "      <td>smart</td>\n",
       "      <td>Пермь</td>\n",
       "      <td>500</td>\n",
       "      <td>3</td>\n",
       "      <td>NaN</td>\n",
       "      <td>NaN</td>\n",
       "    </tr>\n",
       "    <tr>\n",
       "      <th>3171</th>\n",
       "      <td>1499</td>\n",
       "      <td>10</td>\n",
       "      <td>429.91</td>\n",
       "      <td>449.0</td>\n",
       "      <td>68</td>\n",
       "      <td>smart</td>\n",
       "      <td>Пермь</td>\n",
       "      <td>500</td>\n",
       "      <td>3</td>\n",
       "      <td>NaN</td>\n",
       "      <td>NaN</td>\n",
       "    </tr>\n",
       "    <tr>\n",
       "      <th>3172</th>\n",
       "      <td>1499</td>\n",
       "      <td>11</td>\n",
       "      <td>576.50</td>\n",
       "      <td>612.0</td>\n",
       "      <td>74</td>\n",
       "      <td>smart</td>\n",
       "      <td>Пермь</td>\n",
       "      <td>500</td>\n",
       "      <td>3</td>\n",
       "      <td>112.0</td>\n",
       "      <td>336.0</td>\n",
       "    </tr>\n",
       "    <tr>\n",
       "      <th>3173</th>\n",
       "      <td>1499</td>\n",
       "      <td>12</td>\n",
       "      <td>465.16</td>\n",
       "      <td>492.0</td>\n",
       "      <td>69</td>\n",
       "      <td>smart</td>\n",
       "      <td>Пермь</td>\n",
       "      <td>500</td>\n",
       "      <td>3</td>\n",
       "      <td>NaN</td>\n",
       "      <td>NaN</td>\n",
       "    </tr>\n",
       "  </tbody>\n",
       "</table>\n",
       "<p>3174 rows × 11 columns</p>\n",
       "</div>"
      ],
      "text/plain": [
       "     user_id  month  duration  full_minutes  calls_made tariff         city  \\\n",
       "0       1000      5    150.06         159.0          22  ultra    Краснодар   \n",
       "1       1000      6    158.90         172.0          43  ultra    Краснодар   \n",
       "2       1000      7    318.80         340.0          47  ultra    Краснодар   \n",
       "3       1000      8    389.87         408.0          52  ultra    Краснодар   \n",
       "4       1000      9    440.14         466.0          58  ultra    Краснодар   \n",
       "...      ...    ...       ...           ...         ...    ...          ...   \n",
       "3169    1498     10    232.63         247.0          41  smart  Владикавказ   \n",
       "3170    1499      9     64.65          70.0           9  smart        Пермь   \n",
       "3171    1499     10    429.91         449.0          68  smart        Пермь   \n",
       "3172    1499     11    576.50         612.0          74  smart        Пермь   \n",
       "3173    1499     12    465.16         492.0          69  smart        Пермь   \n",
       "\n",
       "      minutes_included  rub_per_minute  minutes_overrun  minutes_overpay  \n",
       "0                 3000               1              NaN              NaN  \n",
       "1                 3000               1              NaN              NaN  \n",
       "2                 3000               1              NaN              NaN  \n",
       "3                 3000               1              NaN              NaN  \n",
       "4                 3000               1              NaN              NaN  \n",
       "...                ...             ...              ...              ...  \n",
       "3169               500               3              NaN              NaN  \n",
       "3170               500               3              NaN              NaN  \n",
       "3171               500               3              NaN              NaN  \n",
       "3172               500               3            112.0            336.0  \n",
       "3173               500               3              NaN              NaN  \n",
       "\n",
       "[3174 rows x 11 columns]"
      ]
     },
     "execution_count": 33,
     "metadata": {},
     "output_type": "execute_result"
    }
   ],
   "source": [
    "calls_by_months['minutes_overrun'] = calls_by_months['minutes_overrun'].where(calls_by_months['minutes_overrun'] > 0)\n",
    "calls_by_months['minutes_overpay'] = calls_by_months['minutes_overrun'] * calls_by_months['rub_per_minute']\n",
    "\n",
    "calls_by_months"
   ]
  },
  {
   "cell_type": "code",
   "execution_count": 34,
   "id": "63a1d254",
   "metadata": {},
   "outputs": [
    {
     "data": {
      "text/html": [
       "<div>\n",
       "<style scoped>\n",
       "    .dataframe tbody tr th:only-of-type {\n",
       "        vertical-align: middle;\n",
       "    }\n",
       "\n",
       "    .dataframe tbody tr th {\n",
       "        vertical-align: top;\n",
       "    }\n",
       "\n",
       "    .dataframe thead th {\n",
       "        text-align: right;\n",
       "    }\n",
       "</style>\n",
       "<table border=\"1\" class=\"dataframe\">\n",
       "  <thead>\n",
       "    <tr style=\"text-align: right;\">\n",
       "      <th></th>\n",
       "      <th>user_id</th>\n",
       "      <th>month</th>\n",
       "      <th>sms_used</th>\n",
       "      <th>tariff</th>\n",
       "      <th>city</th>\n",
       "      <th>messages_included</th>\n",
       "      <th>rub_per_message</th>\n",
       "      <th>sms_overrun</th>\n",
       "      <th>sms_overpay</th>\n",
       "    </tr>\n",
       "  </thead>\n",
       "  <tbody>\n",
       "    <tr>\n",
       "      <th>0</th>\n",
       "      <td>1000</td>\n",
       "      <td>5</td>\n",
       "      <td>22</td>\n",
       "      <td>ultra</td>\n",
       "      <td>Краснодар</td>\n",
       "      <td>1000</td>\n",
       "      <td>1</td>\n",
       "      <td>0</td>\n",
       "      <td>0</td>\n",
       "    </tr>\n",
       "    <tr>\n",
       "      <th>1</th>\n",
       "      <td>1000</td>\n",
       "      <td>6</td>\n",
       "      <td>60</td>\n",
       "      <td>ultra</td>\n",
       "      <td>Краснодар</td>\n",
       "      <td>1000</td>\n",
       "      <td>1</td>\n",
       "      <td>0</td>\n",
       "      <td>0</td>\n",
       "    </tr>\n",
       "    <tr>\n",
       "      <th>2</th>\n",
       "      <td>1000</td>\n",
       "      <td>7</td>\n",
       "      <td>75</td>\n",
       "      <td>ultra</td>\n",
       "      <td>Краснодар</td>\n",
       "      <td>1000</td>\n",
       "      <td>1</td>\n",
       "      <td>0</td>\n",
       "      <td>0</td>\n",
       "    </tr>\n",
       "    <tr>\n",
       "      <th>3</th>\n",
       "      <td>1000</td>\n",
       "      <td>8</td>\n",
       "      <td>81</td>\n",
       "      <td>ultra</td>\n",
       "      <td>Краснодар</td>\n",
       "      <td>1000</td>\n",
       "      <td>1</td>\n",
       "      <td>0</td>\n",
       "      <td>0</td>\n",
       "    </tr>\n",
       "    <tr>\n",
       "      <th>4</th>\n",
       "      <td>1000</td>\n",
       "      <td>9</td>\n",
       "      <td>57</td>\n",
       "      <td>ultra</td>\n",
       "      <td>Краснодар</td>\n",
       "      <td>1000</td>\n",
       "      <td>1</td>\n",
       "      <td>0</td>\n",
       "      <td>0</td>\n",
       "    </tr>\n",
       "    <tr>\n",
       "      <th>...</th>\n",
       "      <td>...</td>\n",
       "      <td>...</td>\n",
       "      <td>...</td>\n",
       "      <td>...</td>\n",
       "      <td>...</td>\n",
       "      <td>...</td>\n",
       "      <td>...</td>\n",
       "      <td>...</td>\n",
       "      <td>...</td>\n",
       "    </tr>\n",
       "    <tr>\n",
       "      <th>2712</th>\n",
       "      <td>1498</td>\n",
       "      <td>10</td>\n",
       "      <td>42</td>\n",
       "      <td>smart</td>\n",
       "      <td>Владикавказ</td>\n",
       "      <td>50</td>\n",
       "      <td>3</td>\n",
       "      <td>0</td>\n",
       "      <td>0</td>\n",
       "    </tr>\n",
       "    <tr>\n",
       "      <th>2713</th>\n",
       "      <td>1499</td>\n",
       "      <td>9</td>\n",
       "      <td>11</td>\n",
       "      <td>smart</td>\n",
       "      <td>Пермь</td>\n",
       "      <td>50</td>\n",
       "      <td>3</td>\n",
       "      <td>0</td>\n",
       "      <td>0</td>\n",
       "    </tr>\n",
       "    <tr>\n",
       "      <th>2714</th>\n",
       "      <td>1499</td>\n",
       "      <td>10</td>\n",
       "      <td>48</td>\n",
       "      <td>smart</td>\n",
       "      <td>Пермь</td>\n",
       "      <td>50</td>\n",
       "      <td>3</td>\n",
       "      <td>0</td>\n",
       "      <td>0</td>\n",
       "    </tr>\n",
       "    <tr>\n",
       "      <th>2715</th>\n",
       "      <td>1499</td>\n",
       "      <td>11</td>\n",
       "      <td>59</td>\n",
       "      <td>smart</td>\n",
       "      <td>Пермь</td>\n",
       "      <td>50</td>\n",
       "      <td>3</td>\n",
       "      <td>9</td>\n",
       "      <td>27</td>\n",
       "    </tr>\n",
       "    <tr>\n",
       "      <th>2716</th>\n",
       "      <td>1499</td>\n",
       "      <td>12</td>\n",
       "      <td>66</td>\n",
       "      <td>smart</td>\n",
       "      <td>Пермь</td>\n",
       "      <td>50</td>\n",
       "      <td>3</td>\n",
       "      <td>16</td>\n",
       "      <td>48</td>\n",
       "    </tr>\n",
       "  </tbody>\n",
       "</table>\n",
       "<p>2717 rows × 9 columns</p>\n",
       "</div>"
      ],
      "text/plain": [
       "     user_id  month  sms_used tariff         city  messages_included  \\\n",
       "0       1000      5        22  ultra    Краснодар               1000   \n",
       "1       1000      6        60  ultra    Краснодар               1000   \n",
       "2       1000      7        75  ultra    Краснодар               1000   \n",
       "3       1000      8        81  ultra    Краснодар               1000   \n",
       "4       1000      9        57  ultra    Краснодар               1000   \n",
       "...      ...    ...       ...    ...          ...                ...   \n",
       "2712    1498     10        42  smart  Владикавказ                 50   \n",
       "2713    1499      9        11  smart        Пермь                 50   \n",
       "2714    1499     10        48  smart        Пермь                 50   \n",
       "2715    1499     11        59  smart        Пермь                 50   \n",
       "2716    1499     12        66  smart        Пермь                 50   \n",
       "\n",
       "      rub_per_message  sms_overrun  sms_overpay  \n",
       "0                   1            0            0  \n",
       "1                   1            0            0  \n",
       "2                   1            0            0  \n",
       "3                   1            0            0  \n",
       "4                   1            0            0  \n",
       "...               ...          ...          ...  \n",
       "2712                3            0            0  \n",
       "2713                3            0            0  \n",
       "2714                3            0            0  \n",
       "2715                3            9           27  \n",
       "2716                3           16           48  \n",
       "\n",
       "[2717 rows x 9 columns]"
      ]
     },
     "execution_count": 34,
     "metadata": {},
     "output_type": "execute_result"
    }
   ],
   "source": [
    "sms_by_months = (\n",
    "    df_messages\n",
    "    .groupby(by=['user_id', 'month']).count().reset_index()\n",
    "    .merge(df_users[['user_id', 'tariff', 'city']], on='user_id', how='left')\n",
    "    .merge(df_tariffs[['tariff', 'messages_included', 'rub_per_message']], on='tariff', how='left')\n",
    "    .rename(columns={'id':'sms_used'})\n",
    "    .drop(columns='message_date')\n",
    ")\n",
    "\n",
    "sms_by_months['sms_overrun'] = np.maximum(sms_by_months['sms_used'] - sms_by_months['messages_included'], 0)\n",
    "sms_by_months['sms_overpay'] = sms_by_months['sms_overrun'] * sms_by_months['rub_per_message']\n",
    "\n",
    "sms_by_months"
   ]
  },
  {
   "cell_type": "code",
   "execution_count": 35,
   "id": "5afbc424",
   "metadata": {},
   "outputs": [
    {
     "data": {
      "text/html": [
       "<div>\n",
       "<style scoped>\n",
       "    .dataframe tbody tr th:only-of-type {\n",
       "        vertical-align: middle;\n",
       "    }\n",
       "\n",
       "    .dataframe tbody tr th {\n",
       "        vertical-align: top;\n",
       "    }\n",
       "\n",
       "    .dataframe thead th {\n",
       "        text-align: right;\n",
       "    }\n",
       "</style>\n",
       "<table border=\"1\" class=\"dataframe\">\n",
       "  <thead>\n",
       "    <tr style=\"text-align: right;\">\n",
       "      <th></th>\n",
       "      <th>user_id</th>\n",
       "      <th>month</th>\n",
       "      <th>mb_used</th>\n",
       "      <th>tariff</th>\n",
       "      <th>city</th>\n",
       "      <th>mb_per_month_included</th>\n",
       "      <th>rub_per_gb</th>\n",
       "      <th>gb_used</th>\n",
       "      <th>mb_overrun</th>\n",
       "      <th>gb_overrun</th>\n",
       "      <th>gb_overpay</th>\n",
       "    </tr>\n",
       "  </thead>\n",
       "  <tbody>\n",
       "    <tr>\n",
       "      <th>0</th>\n",
       "      <td>1000</td>\n",
       "      <td>5</td>\n",
       "      <td>2253.49</td>\n",
       "      <td>ultra</td>\n",
       "      <td>Краснодар</td>\n",
       "      <td>30720</td>\n",
       "      <td>150</td>\n",
       "      <td>3.0</td>\n",
       "      <td>0.00</td>\n",
       "      <td>0.0</td>\n",
       "      <td>0.0</td>\n",
       "    </tr>\n",
       "    <tr>\n",
       "      <th>1</th>\n",
       "      <td>1000</td>\n",
       "      <td>6</td>\n",
       "      <td>23233.77</td>\n",
       "      <td>ultra</td>\n",
       "      <td>Краснодар</td>\n",
       "      <td>30720</td>\n",
       "      <td>150</td>\n",
       "      <td>23.0</td>\n",
       "      <td>0.00</td>\n",
       "      <td>0.0</td>\n",
       "      <td>0.0</td>\n",
       "    </tr>\n",
       "    <tr>\n",
       "      <th>2</th>\n",
       "      <td>1000</td>\n",
       "      <td>7</td>\n",
       "      <td>14003.64</td>\n",
       "      <td>ultra</td>\n",
       "      <td>Краснодар</td>\n",
       "      <td>30720</td>\n",
       "      <td>150</td>\n",
       "      <td>14.0</td>\n",
       "      <td>0.00</td>\n",
       "      <td>0.0</td>\n",
       "      <td>0.0</td>\n",
       "    </tr>\n",
       "    <tr>\n",
       "      <th>3</th>\n",
       "      <td>1000</td>\n",
       "      <td>8</td>\n",
       "      <td>14055.93</td>\n",
       "      <td>ultra</td>\n",
       "      <td>Краснодар</td>\n",
       "      <td>30720</td>\n",
       "      <td>150</td>\n",
       "      <td>14.0</td>\n",
       "      <td>0.00</td>\n",
       "      <td>0.0</td>\n",
       "      <td>0.0</td>\n",
       "    </tr>\n",
       "    <tr>\n",
       "      <th>4</th>\n",
       "      <td>1000</td>\n",
       "      <td>9</td>\n",
       "      <td>14568.91</td>\n",
       "      <td>ultra</td>\n",
       "      <td>Краснодар</td>\n",
       "      <td>30720</td>\n",
       "      <td>150</td>\n",
       "      <td>15.0</td>\n",
       "      <td>0.00</td>\n",
       "      <td>0.0</td>\n",
       "      <td>0.0</td>\n",
       "    </tr>\n",
       "    <tr>\n",
       "      <th>...</th>\n",
       "      <td>...</td>\n",
       "      <td>...</td>\n",
       "      <td>...</td>\n",
       "      <td>...</td>\n",
       "      <td>...</td>\n",
       "      <td>...</td>\n",
       "      <td>...</td>\n",
       "      <td>...</td>\n",
       "      <td>...</td>\n",
       "      <td>...</td>\n",
       "      <td>...</td>\n",
       "    </tr>\n",
       "    <tr>\n",
       "      <th>3198</th>\n",
       "      <td>1498</td>\n",
       "      <td>10</td>\n",
       "      <td>20579.36</td>\n",
       "      <td>smart</td>\n",
       "      <td>Владикавказ</td>\n",
       "      <td>15360</td>\n",
       "      <td>200</td>\n",
       "      <td>21.0</td>\n",
       "      <td>5219.36</td>\n",
       "      <td>6.0</td>\n",
       "      <td>1200.0</td>\n",
       "    </tr>\n",
       "    <tr>\n",
       "      <th>3199</th>\n",
       "      <td>1499</td>\n",
       "      <td>9</td>\n",
       "      <td>1845.75</td>\n",
       "      <td>smart</td>\n",
       "      <td>Пермь</td>\n",
       "      <td>15360</td>\n",
       "      <td>200</td>\n",
       "      <td>2.0</td>\n",
       "      <td>0.00</td>\n",
       "      <td>0.0</td>\n",
       "      <td>0.0</td>\n",
       "    </tr>\n",
       "    <tr>\n",
       "      <th>3200</th>\n",
       "      <td>1499</td>\n",
       "      <td>10</td>\n",
       "      <td>17788.51</td>\n",
       "      <td>smart</td>\n",
       "      <td>Пермь</td>\n",
       "      <td>15360</td>\n",
       "      <td>200</td>\n",
       "      <td>18.0</td>\n",
       "      <td>2428.51</td>\n",
       "      <td>3.0</td>\n",
       "      <td>600.0</td>\n",
       "    </tr>\n",
       "    <tr>\n",
       "      <th>3201</th>\n",
       "      <td>1499</td>\n",
       "      <td>11</td>\n",
       "      <td>17963.31</td>\n",
       "      <td>smart</td>\n",
       "      <td>Пермь</td>\n",
       "      <td>15360</td>\n",
       "      <td>200</td>\n",
       "      <td>18.0</td>\n",
       "      <td>2603.31</td>\n",
       "      <td>3.0</td>\n",
       "      <td>600.0</td>\n",
       "    </tr>\n",
       "    <tr>\n",
       "      <th>3202</th>\n",
       "      <td>1499</td>\n",
       "      <td>12</td>\n",
       "      <td>13055.58</td>\n",
       "      <td>smart</td>\n",
       "      <td>Пермь</td>\n",
       "      <td>15360</td>\n",
       "      <td>200</td>\n",
       "      <td>13.0</td>\n",
       "      <td>0.00</td>\n",
       "      <td>0.0</td>\n",
       "      <td>0.0</td>\n",
       "    </tr>\n",
       "  </tbody>\n",
       "</table>\n",
       "<p>3203 rows × 11 columns</p>\n",
       "</div>"
      ],
      "text/plain": [
       "     user_id  month   mb_used tariff         city  mb_per_month_included  \\\n",
       "0       1000      5   2253.49  ultra    Краснодар                  30720   \n",
       "1       1000      6  23233.77  ultra    Краснодар                  30720   \n",
       "2       1000      7  14003.64  ultra    Краснодар                  30720   \n",
       "3       1000      8  14055.93  ultra    Краснодар                  30720   \n",
       "4       1000      9  14568.91  ultra    Краснодар                  30720   \n",
       "...      ...    ...       ...    ...          ...                    ...   \n",
       "3198    1498     10  20579.36  smart  Владикавказ                  15360   \n",
       "3199    1499      9   1845.75  smart        Пермь                  15360   \n",
       "3200    1499     10  17788.51  smart        Пермь                  15360   \n",
       "3201    1499     11  17963.31  smart        Пермь                  15360   \n",
       "3202    1499     12  13055.58  smart        Пермь                  15360   \n",
       "\n",
       "      rub_per_gb  gb_used  mb_overrun  gb_overrun  gb_overpay  \n",
       "0            150      3.0        0.00         0.0         0.0  \n",
       "1            150     23.0        0.00         0.0         0.0  \n",
       "2            150     14.0        0.00         0.0         0.0  \n",
       "3            150     14.0        0.00         0.0         0.0  \n",
       "4            150     15.0        0.00         0.0         0.0  \n",
       "...          ...      ...         ...         ...         ...  \n",
       "3198         200     21.0     5219.36         6.0      1200.0  \n",
       "3199         200      2.0        0.00         0.0         0.0  \n",
       "3200         200     18.0     2428.51         3.0       600.0  \n",
       "3201         200     18.0     2603.31         3.0       600.0  \n",
       "3202         200     13.0        0.00         0.0         0.0  \n",
       "\n",
       "[3203 rows x 11 columns]"
      ]
     },
     "execution_count": 35,
     "metadata": {},
     "output_type": "execute_result"
    }
   ],
   "source": [
    "web_by_months = (\n",
    "    df_internet\n",
    "    .groupby(by=['user_id', 'month']).sum().reset_index()\n",
    "    .merge(df_users[['user_id', 'tariff', 'city']], on='user_id', how='left')\n",
    "    .merge(df_tariffs[['tariff', 'mb_per_month_included', 'rub_per_gb']], on='tariff', how='left')\n",
    ")\n",
    "\n",
    "web_by_months['gb_used'] = np.ceil(web_by_months['mb_used'] / 1024)\n",
    "web_by_months['mb_overrun'] = np.maximum(web_by_months['mb_used'] - web_by_months['mb_per_month_included'], 0)\n",
    "web_by_months['gb_overrun'] = np.ceil(web_by_months['mb_overrun'] / 1024)\n",
    "web_by_months['gb_overpay'] = web_by_months['gb_overrun'] * web_by_months['rub_per_gb'] \n",
    "\n",
    "web_by_months"
   ]
  },
  {
   "cell_type": "markdown",
   "id": "eb1f2ba5",
   "metadata": {},
   "source": [
    "Теперь, когда мы рассчитали все доп. траты, можно найти траты каждого клиента по месяцам. Для этого вынесем необходимые данные из расчетов и добавим стоимость тарифа."
   ]
  },
  {
   "cell_type": "code",
   "execution_count": 36,
   "id": "3a29219b",
   "metadata": {},
   "outputs": [
    {
     "data": {
      "text/html": [
       "<div>\n",
       "<style scoped>\n",
       "    .dataframe tbody tr th:only-of-type {\n",
       "        vertical-align: middle;\n",
       "    }\n",
       "\n",
       "    .dataframe tbody tr th {\n",
       "        vertical-align: top;\n",
       "    }\n",
       "\n",
       "    .dataframe thead th {\n",
       "        text-align: right;\n",
       "    }\n",
       "</style>\n",
       "<table border=\"1\" class=\"dataframe\">\n",
       "  <thead>\n",
       "    <tr style=\"text-align: right;\">\n",
       "      <th></th>\n",
       "      <th>user_id</th>\n",
       "      <th>month</th>\n",
       "      <th>full_minutes</th>\n",
       "      <th>calls_made</th>\n",
       "      <th>tariff</th>\n",
       "      <th>city</th>\n",
       "      <th>minutes_overrun</th>\n",
       "      <th>minutes_overpay</th>\n",
       "      <th>gb_used</th>\n",
       "      <th>gb_overrun</th>\n",
       "      <th>gb_overpay</th>\n",
       "      <th>sms_used</th>\n",
       "      <th>sms_overrun</th>\n",
       "      <th>sms_overpay</th>\n",
       "      <th>rub_monthly_fee</th>\n",
       "      <th>total_pay</th>\n",
       "    </tr>\n",
       "  </thead>\n",
       "  <tbody>\n",
       "    <tr>\n",
       "      <th>0</th>\n",
       "      <td>1000</td>\n",
       "      <td>5</td>\n",
       "      <td>159.0</td>\n",
       "      <td>22.0</td>\n",
       "      <td>ultra</td>\n",
       "      <td>Краснодар</td>\n",
       "      <td>0.0</td>\n",
       "      <td>0.0</td>\n",
       "      <td>3.0</td>\n",
       "      <td>0.0</td>\n",
       "      <td>0.0</td>\n",
       "      <td>22.0</td>\n",
       "      <td>0.0</td>\n",
       "      <td>0.0</td>\n",
       "      <td>1950</td>\n",
       "      <td>1950.0</td>\n",
       "    </tr>\n",
       "    <tr>\n",
       "      <th>1</th>\n",
       "      <td>1000</td>\n",
       "      <td>6</td>\n",
       "      <td>172.0</td>\n",
       "      <td>43.0</td>\n",
       "      <td>ultra</td>\n",
       "      <td>Краснодар</td>\n",
       "      <td>0.0</td>\n",
       "      <td>0.0</td>\n",
       "      <td>23.0</td>\n",
       "      <td>0.0</td>\n",
       "      <td>0.0</td>\n",
       "      <td>60.0</td>\n",
       "      <td>0.0</td>\n",
       "      <td>0.0</td>\n",
       "      <td>1950</td>\n",
       "      <td>1950.0</td>\n",
       "    </tr>\n",
       "    <tr>\n",
       "      <th>2</th>\n",
       "      <td>1000</td>\n",
       "      <td>7</td>\n",
       "      <td>340.0</td>\n",
       "      <td>47.0</td>\n",
       "      <td>ultra</td>\n",
       "      <td>Краснодар</td>\n",
       "      <td>0.0</td>\n",
       "      <td>0.0</td>\n",
       "      <td>14.0</td>\n",
       "      <td>0.0</td>\n",
       "      <td>0.0</td>\n",
       "      <td>75.0</td>\n",
       "      <td>0.0</td>\n",
       "      <td>0.0</td>\n",
       "      <td>1950</td>\n",
       "      <td>1950.0</td>\n",
       "    </tr>\n",
       "    <tr>\n",
       "      <th>3</th>\n",
       "      <td>1000</td>\n",
       "      <td>8</td>\n",
       "      <td>408.0</td>\n",
       "      <td>52.0</td>\n",
       "      <td>ultra</td>\n",
       "      <td>Краснодар</td>\n",
       "      <td>0.0</td>\n",
       "      <td>0.0</td>\n",
       "      <td>14.0</td>\n",
       "      <td>0.0</td>\n",
       "      <td>0.0</td>\n",
       "      <td>81.0</td>\n",
       "      <td>0.0</td>\n",
       "      <td>0.0</td>\n",
       "      <td>1950</td>\n",
       "      <td>1950.0</td>\n",
       "    </tr>\n",
       "    <tr>\n",
       "      <th>4</th>\n",
       "      <td>1000</td>\n",
       "      <td>9</td>\n",
       "      <td>466.0</td>\n",
       "      <td>58.0</td>\n",
       "      <td>ultra</td>\n",
       "      <td>Краснодар</td>\n",
       "      <td>0.0</td>\n",
       "      <td>0.0</td>\n",
       "      <td>15.0</td>\n",
       "      <td>0.0</td>\n",
       "      <td>0.0</td>\n",
       "      <td>57.0</td>\n",
       "      <td>0.0</td>\n",
       "      <td>0.0</td>\n",
       "      <td>1950</td>\n",
       "      <td>1950.0</td>\n",
       "    </tr>\n",
       "    <tr>\n",
       "      <th>...</th>\n",
       "      <td>...</td>\n",
       "      <td>...</td>\n",
       "      <td>...</td>\n",
       "      <td>...</td>\n",
       "      <td>...</td>\n",
       "      <td>...</td>\n",
       "      <td>...</td>\n",
       "      <td>...</td>\n",
       "      <td>...</td>\n",
       "      <td>...</td>\n",
       "      <td>...</td>\n",
       "      <td>...</td>\n",
       "      <td>...</td>\n",
       "      <td>...</td>\n",
       "      <td>...</td>\n",
       "      <td>...</td>\n",
       "    </tr>\n",
       "    <tr>\n",
       "      <th>3209</th>\n",
       "      <td>1489</td>\n",
       "      <td>8</td>\n",
       "      <td>0.0</td>\n",
       "      <td>0.0</td>\n",
       "      <td>smart</td>\n",
       "      <td>Санкт-Петербург</td>\n",
       "      <td>0.0</td>\n",
       "      <td>0.0</td>\n",
       "      <td>11.0</td>\n",
       "      <td>0.0</td>\n",
       "      <td>0.0</td>\n",
       "      <td>17.0</td>\n",
       "      <td>0.0</td>\n",
       "      <td>0.0</td>\n",
       "      <td>550</td>\n",
       "      <td>550.0</td>\n",
       "    </tr>\n",
       "    <tr>\n",
       "      <th>3210</th>\n",
       "      <td>1489</td>\n",
       "      <td>9</td>\n",
       "      <td>0.0</td>\n",
       "      <td>0.0</td>\n",
       "      <td>smart</td>\n",
       "      <td>Санкт-Петербург</td>\n",
       "      <td>0.0</td>\n",
       "      <td>0.0</td>\n",
       "      <td>17.0</td>\n",
       "      <td>2.0</td>\n",
       "      <td>400.0</td>\n",
       "      <td>32.0</td>\n",
       "      <td>0.0</td>\n",
       "      <td>0.0</td>\n",
       "      <td>550</td>\n",
       "      <td>950.0</td>\n",
       "    </tr>\n",
       "    <tr>\n",
       "      <th>3211</th>\n",
       "      <td>1489</td>\n",
       "      <td>10</td>\n",
       "      <td>0.0</td>\n",
       "      <td>0.0</td>\n",
       "      <td>smart</td>\n",
       "      <td>Санкт-Петербург</td>\n",
       "      <td>0.0</td>\n",
       "      <td>0.0</td>\n",
       "      <td>20.0</td>\n",
       "      <td>5.0</td>\n",
       "      <td>1000.0</td>\n",
       "      <td>21.0</td>\n",
       "      <td>0.0</td>\n",
       "      <td>0.0</td>\n",
       "      <td>550</td>\n",
       "      <td>1550.0</td>\n",
       "    </tr>\n",
       "    <tr>\n",
       "      <th>3212</th>\n",
       "      <td>1489</td>\n",
       "      <td>11</td>\n",
       "      <td>0.0</td>\n",
       "      <td>0.0</td>\n",
       "      <td>smart</td>\n",
       "      <td>Санкт-Петербург</td>\n",
       "      <td>0.0</td>\n",
       "      <td>0.0</td>\n",
       "      <td>18.0</td>\n",
       "      <td>3.0</td>\n",
       "      <td>600.0</td>\n",
       "      <td>20.0</td>\n",
       "      <td>0.0</td>\n",
       "      <td>0.0</td>\n",
       "      <td>550</td>\n",
       "      <td>1150.0</td>\n",
       "    </tr>\n",
       "    <tr>\n",
       "      <th>3213</th>\n",
       "      <td>1489</td>\n",
       "      <td>12</td>\n",
       "      <td>0.0</td>\n",
       "      <td>0.0</td>\n",
       "      <td>smart</td>\n",
       "      <td>Санкт-Петербург</td>\n",
       "      <td>0.0</td>\n",
       "      <td>0.0</td>\n",
       "      <td>17.0</td>\n",
       "      <td>2.0</td>\n",
       "      <td>400.0</td>\n",
       "      <td>35.0</td>\n",
       "      <td>0.0</td>\n",
       "      <td>0.0</td>\n",
       "      <td>550</td>\n",
       "      <td>950.0</td>\n",
       "    </tr>\n",
       "  </tbody>\n",
       "</table>\n",
       "<p>3214 rows × 16 columns</p>\n",
       "</div>"
      ],
      "text/plain": [
       "     user_id  month  full_minutes  calls_made tariff             city  \\\n",
       "0       1000      5         159.0        22.0  ultra        Краснодар   \n",
       "1       1000      6         172.0        43.0  ultra        Краснодар   \n",
       "2       1000      7         340.0        47.0  ultra        Краснодар   \n",
       "3       1000      8         408.0        52.0  ultra        Краснодар   \n",
       "4       1000      9         466.0        58.0  ultra        Краснодар   \n",
       "...      ...    ...           ...         ...    ...              ...   \n",
       "3209    1489      8           0.0         0.0  smart  Санкт-Петербург   \n",
       "3210    1489      9           0.0         0.0  smart  Санкт-Петербург   \n",
       "3211    1489     10           0.0         0.0  smart  Санкт-Петербург   \n",
       "3212    1489     11           0.0         0.0  smart  Санкт-Петербург   \n",
       "3213    1489     12           0.0         0.0  smart  Санкт-Петербург   \n",
       "\n",
       "      minutes_overrun  minutes_overpay  gb_used  gb_overrun  gb_overpay  \\\n",
       "0                 0.0              0.0      3.0         0.0         0.0   \n",
       "1                 0.0              0.0     23.0         0.0         0.0   \n",
       "2                 0.0              0.0     14.0         0.0         0.0   \n",
       "3                 0.0              0.0     14.0         0.0         0.0   \n",
       "4                 0.0              0.0     15.0         0.0         0.0   \n",
       "...               ...              ...      ...         ...         ...   \n",
       "3209              0.0              0.0     11.0         0.0         0.0   \n",
       "3210              0.0              0.0     17.0         2.0       400.0   \n",
       "3211              0.0              0.0     20.0         5.0      1000.0   \n",
       "3212              0.0              0.0     18.0         3.0       600.0   \n",
       "3213              0.0              0.0     17.0         2.0       400.0   \n",
       "\n",
       "      sms_used  sms_overrun  sms_overpay  rub_monthly_fee  total_pay  \n",
       "0         22.0          0.0          0.0             1950     1950.0  \n",
       "1         60.0          0.0          0.0             1950     1950.0  \n",
       "2         75.0          0.0          0.0             1950     1950.0  \n",
       "3         81.0          0.0          0.0             1950     1950.0  \n",
       "4         57.0          0.0          0.0             1950     1950.0  \n",
       "...        ...          ...          ...              ...        ...  \n",
       "3209      17.0          0.0          0.0              550      550.0  \n",
       "3210      32.0          0.0          0.0              550      950.0  \n",
       "3211      21.0          0.0          0.0              550     1550.0  \n",
       "3212      20.0          0.0          0.0              550     1150.0  \n",
       "3213      35.0          0.0          0.0              550      950.0  \n",
       "\n",
       "[3214 rows x 16 columns]"
      ]
     },
     "execution_count": 36,
     "metadata": {},
     "output_type": "execute_result"
    }
   ],
   "source": [
    "monthly_pays = (\n",
    "    calls_by_months\n",
    "    .merge(web_by_months[['user_id', 'month', 'tariff', 'city', 'gb_used', 'gb_overrun', 'gb_overpay']], on=['user_id', 'month', 'tariff', 'city'], how='outer')\n",
    "    .merge(sms_by_months[['user_id', 'month', 'tariff', 'city', 'sms_used', 'sms_overrun', 'sms_overpay']], on=['user_id', 'month', 'tariff', 'city'], how='outer')\n",
    "    .merge(df_tariffs[['tariff', 'rub_monthly_fee']], on='tariff', how='left')\n",
    "    .drop(columns=['duration', 'minutes_included', 'rub_per_minute'])\n",
    "    .fillna(0)    \n",
    ")\n",
    "\n",
    "monthly_pays['total_pay'] = (\n",
    "    monthly_pays['rub_monthly_fee'] \n",
    "    + monthly_pays['minutes_overpay']\n",
    "    + monthly_pays['gb_overpay']\n",
    "    + monthly_pays['sms_overpay']\n",
    ")\n",
    "\n",
    "monthly_pays"
   ]
  },
  {
   "cell_type": "code",
   "execution_count": 37,
   "id": "ab00f9a5",
   "metadata": {},
   "outputs": [
    {
     "data": {
      "text/html": [
       "<div>\n",
       "<style scoped>\n",
       "    .dataframe tbody tr th:only-of-type {\n",
       "        vertical-align: middle;\n",
       "    }\n",
       "\n",
       "    .dataframe tbody tr th {\n",
       "        vertical-align: top;\n",
       "    }\n",
       "\n",
       "    .dataframe thead th {\n",
       "        text-align: right;\n",
       "    }\n",
       "</style>\n",
       "<table border=\"1\" class=\"dataframe\">\n",
       "  <thead>\n",
       "    <tr style=\"text-align: right;\">\n",
       "      <th>month</th>\n",
       "      <th>1</th>\n",
       "      <th>2</th>\n",
       "      <th>3</th>\n",
       "      <th>4</th>\n",
       "      <th>5</th>\n",
       "      <th>6</th>\n",
       "      <th>7</th>\n",
       "      <th>8</th>\n",
       "      <th>9</th>\n",
       "      <th>10</th>\n",
       "      <th>11</th>\n",
       "      <th>12</th>\n",
       "    </tr>\n",
       "    <tr>\n",
       "      <th>user_id</th>\n",
       "      <th></th>\n",
       "      <th></th>\n",
       "      <th></th>\n",
       "      <th></th>\n",
       "      <th></th>\n",
       "      <th></th>\n",
       "      <th></th>\n",
       "      <th></th>\n",
       "      <th></th>\n",
       "      <th></th>\n",
       "      <th></th>\n",
       "      <th></th>\n",
       "    </tr>\n",
       "  </thead>\n",
       "  <tbody>\n",
       "    <tr>\n",
       "      <th>1000</th>\n",
       "      <td>0</td>\n",
       "      <td>0</td>\n",
       "      <td>0</td>\n",
       "      <td>0</td>\n",
       "      <td>1950</td>\n",
       "      <td>1950</td>\n",
       "      <td>1950</td>\n",
       "      <td>1950</td>\n",
       "      <td>1950</td>\n",
       "      <td>1950</td>\n",
       "      <td>1950</td>\n",
       "      <td>1950</td>\n",
       "    </tr>\n",
       "    <tr>\n",
       "      <th>1001</th>\n",
       "      <td>0</td>\n",
       "      <td>0</td>\n",
       "      <td>0</td>\n",
       "      <td>0</td>\n",
       "      <td>0</td>\n",
       "      <td>0</td>\n",
       "      <td>0</td>\n",
       "      <td>0</td>\n",
       "      <td>0</td>\n",
       "      <td>0</td>\n",
       "      <td>1150</td>\n",
       "      <td>550</td>\n",
       "    </tr>\n",
       "    <tr>\n",
       "      <th>1002</th>\n",
       "      <td>0</td>\n",
       "      <td>0</td>\n",
       "      <td>0</td>\n",
       "      <td>0</td>\n",
       "      <td>0</td>\n",
       "      <td>550</td>\n",
       "      <td>1150</td>\n",
       "      <td>1550</td>\n",
       "      <td>950</td>\n",
       "      <td>550</td>\n",
       "      <td>1350</td>\n",
       "      <td>1150</td>\n",
       "    </tr>\n",
       "    <tr>\n",
       "      <th>1003</th>\n",
       "      <td>0</td>\n",
       "      <td>0</td>\n",
       "      <td>0</td>\n",
       "      <td>0</td>\n",
       "      <td>0</td>\n",
       "      <td>0</td>\n",
       "      <td>0</td>\n",
       "      <td>1950</td>\n",
       "      <td>1950</td>\n",
       "      <td>1950</td>\n",
       "      <td>1950</td>\n",
       "      <td>1950</td>\n",
       "    </tr>\n",
       "    <tr>\n",
       "      <th>1004</th>\n",
       "      <td>0</td>\n",
       "      <td>0</td>\n",
       "      <td>0</td>\n",
       "      <td>0</td>\n",
       "      <td>1950</td>\n",
       "      <td>1950</td>\n",
       "      <td>1950</td>\n",
       "      <td>1950</td>\n",
       "      <td>1950</td>\n",
       "      <td>1950</td>\n",
       "      <td>1950</td>\n",
       "      <td>1950</td>\n",
       "    </tr>\n",
       "    <tr>\n",
       "      <th>...</th>\n",
       "      <td>...</td>\n",
       "      <td>...</td>\n",
       "      <td>...</td>\n",
       "      <td>...</td>\n",
       "      <td>...</td>\n",
       "      <td>...</td>\n",
       "      <td>...</td>\n",
       "      <td>...</td>\n",
       "      <td>...</td>\n",
       "      <td>...</td>\n",
       "      <td>...</td>\n",
       "      <td>...</td>\n",
       "    </tr>\n",
       "    <tr>\n",
       "      <th>1495</th>\n",
       "      <td>0</td>\n",
       "      <td>0</td>\n",
       "      <td>0</td>\n",
       "      <td>0</td>\n",
       "      <td>0</td>\n",
       "      <td>0</td>\n",
       "      <td>0</td>\n",
       "      <td>1950</td>\n",
       "      <td>2400</td>\n",
       "      <td>1950</td>\n",
       "      <td>3300</td>\n",
       "      <td>1950</td>\n",
       "    </tr>\n",
       "    <tr>\n",
       "      <th>1496</th>\n",
       "      <td>550</td>\n",
       "      <td>3432</td>\n",
       "      <td>2721</td>\n",
       "      <td>1813</td>\n",
       "      <td>2350</td>\n",
       "      <td>1715</td>\n",
       "      <td>2596</td>\n",
       "      <td>2231</td>\n",
       "      <td>2950</td>\n",
       "      <td>3150</td>\n",
       "      <td>3036</td>\n",
       "      <td>1807</td>\n",
       "    </tr>\n",
       "    <tr>\n",
       "      <th>1497</th>\n",
       "      <td>0</td>\n",
       "      <td>0</td>\n",
       "      <td>0</td>\n",
       "      <td>0</td>\n",
       "      <td>0</td>\n",
       "      <td>0</td>\n",
       "      <td>0</td>\n",
       "      <td>0</td>\n",
       "      <td>0</td>\n",
       "      <td>550</td>\n",
       "      <td>550</td>\n",
       "      <td>1685</td>\n",
       "    </tr>\n",
       "    <tr>\n",
       "      <th>1498</th>\n",
       "      <td>0</td>\n",
       "      <td>0</td>\n",
       "      <td>0</td>\n",
       "      <td>0</td>\n",
       "      <td>0</td>\n",
       "      <td>0</td>\n",
       "      <td>550</td>\n",
       "      <td>2386</td>\n",
       "      <td>1950</td>\n",
       "      <td>1750</td>\n",
       "      <td>0</td>\n",
       "      <td>0</td>\n",
       "    </tr>\n",
       "    <tr>\n",
       "      <th>1499</th>\n",
       "      <td>0</td>\n",
       "      <td>0</td>\n",
       "      <td>0</td>\n",
       "      <td>0</td>\n",
       "      <td>0</td>\n",
       "      <td>0</td>\n",
       "      <td>0</td>\n",
       "      <td>0</td>\n",
       "      <td>550</td>\n",
       "      <td>1150</td>\n",
       "      <td>1513</td>\n",
       "      <td>598</td>\n",
       "    </tr>\n",
       "  </tbody>\n",
       "</table>\n",
       "<p>498 rows × 12 columns</p>\n",
       "</div>"
      ],
      "text/plain": [
       "month     1     2     3     4     5     6     7     8     9     10    11    12\n",
       "user_id                                                                       \n",
       "1000       0     0     0     0  1950  1950  1950  1950  1950  1950  1950  1950\n",
       "1001       0     0     0     0     0     0     0     0     0     0  1150   550\n",
       "1002       0     0     0     0     0   550  1150  1550   950   550  1350  1150\n",
       "1003       0     0     0     0     0     0     0  1950  1950  1950  1950  1950\n",
       "1004       0     0     0     0  1950  1950  1950  1950  1950  1950  1950  1950\n",
       "...      ...   ...   ...   ...   ...   ...   ...   ...   ...   ...   ...   ...\n",
       "1495       0     0     0     0     0     0     0  1950  2400  1950  3300  1950\n",
       "1496     550  3432  2721  1813  2350  1715  2596  2231  2950  3150  3036  1807\n",
       "1497       0     0     0     0     0     0     0     0     0   550   550  1685\n",
       "1498       0     0     0     0     0     0   550  2386  1950  1750     0     0\n",
       "1499       0     0     0     0     0     0     0     0   550  1150  1513   598\n",
       "\n",
       "[498 rows x 12 columns]"
      ]
     },
     "metadata": {},
     "output_type": "display_data"
    },
    {
     "name": "stdout",
     "output_type": "stream",
     "text": [
      "<class 'pandas.core.frame.DataFrame'>\n",
      "Index: 498 entries, 1000 to 1499\n",
      "Data columns (total 12 columns):\n",
      " #   Column  Non-Null Count  Dtype\n",
      "---  ------  --------------  -----\n",
      " 0   1       498 non-null    int64\n",
      " 1   2       498 non-null    int64\n",
      " 2   3       498 non-null    int64\n",
      " 3   4       498 non-null    int64\n",
      " 4   5       498 non-null    int64\n",
      " 5   6       498 non-null    int64\n",
      " 6   7       498 non-null    int64\n",
      " 7   8       498 non-null    int64\n",
      " 8   9       498 non-null    int64\n",
      " 9   10      498 non-null    int64\n",
      " 10  11      498 non-null    int64\n",
      " 11  12      498 non-null    int64\n",
      "dtypes: int64(12)\n",
      "memory usage: 50.6+ KB\n"
     ]
    }
   ],
   "source": [
    "total_by_month = monthly_pays.pivot_table(index='user_id', columns='month', values='total_pay', fill_value=0)\n",
    "display(total_by_month)\n",
    "total_by_month.info()"
   ]
  },
  {
   "cell_type": "markdown",
   "id": "1c8751a8",
   "metadata": {},
   "source": [
    "После обработки всех данных видим, что у нас потерялись 2 пользователя. Найдем их и выясним, почему."
   ]
  },
  {
   "cell_type": "code",
   "execution_count": 38,
   "id": "86ad63ed",
   "metadata": {},
   "outputs": [
    {
     "data": {
      "text/html": [
       "<div>\n",
       "<style scoped>\n",
       "    .dataframe tbody tr th:only-of-type {\n",
       "        vertical-align: middle;\n",
       "    }\n",
       "\n",
       "    .dataframe tbody tr th {\n",
       "        vertical-align: top;\n",
       "    }\n",
       "\n",
       "    .dataframe thead th {\n",
       "        text-align: right;\n",
       "    }\n",
       "</style>\n",
       "<table border=\"1\" class=\"dataframe\">\n",
       "  <thead>\n",
       "    <tr style=\"text-align: right;\">\n",
       "      <th></th>\n",
       "      <th>user_id</th>\n",
       "      <th>age</th>\n",
       "      <th>churn_date</th>\n",
       "      <th>city</th>\n",
       "      <th>first_name</th>\n",
       "      <th>last_name</th>\n",
       "      <th>reg_date</th>\n",
       "      <th>tariff</th>\n",
       "    </tr>\n",
       "  </thead>\n",
       "  <tbody>\n",
       "    <tr>\n",
       "      <th>128</th>\n",
       "      <td>1128</td>\n",
       "      <td>51</td>\n",
       "      <td>2018-12-23</td>\n",
       "      <td>Волжский</td>\n",
       "      <td>Ксения</td>\n",
       "      <td>Агаева</td>\n",
       "      <td>2018-12-15</td>\n",
       "      <td>ultra</td>\n",
       "    </tr>\n",
       "    <tr>\n",
       "      <th>371</th>\n",
       "      <td>1371</td>\n",
       "      <td>50</td>\n",
       "      <td>2018-12-30</td>\n",
       "      <td>Омск</td>\n",
       "      <td>Ириней</td>\n",
       "      <td>Трофимов</td>\n",
       "      <td>2018-12-25</td>\n",
       "      <td>smart</td>\n",
       "    </tr>\n",
       "  </tbody>\n",
       "</table>\n",
       "</div>"
      ],
      "text/plain": [
       "    user_id  age churn_date      city first_name last_name   reg_date tariff\n",
       "128    1128   51 2018-12-23  Волжский     Ксения    Агаева 2018-12-15  ultra\n",
       "371    1371   50 2018-12-30      Омск     Ириней  Трофимов 2018-12-25  smart"
      ]
     },
     "execution_count": 38,
     "metadata": {},
     "output_type": "execute_result"
    }
   ],
   "source": [
    "lost_users = []\n",
    "\n",
    "for value in df_users['user_id']:\n",
    "    if value not in monthly_pays['user_id'].unique():\n",
    "        lost_users.append(value)\n",
    "\n",
    "df_users.query('user_id.isin(@lost_users)')"
   ]
  },
  {
   "cell_type": "code",
   "execution_count": 39,
   "id": "7d45c53c",
   "metadata": {},
   "outputs": [
    {
     "data": {
      "text/html": [
       "<div>\n",
       "<style scoped>\n",
       "    .dataframe tbody tr th:only-of-type {\n",
       "        vertical-align: middle;\n",
       "    }\n",
       "\n",
       "    .dataframe tbody tr th {\n",
       "        vertical-align: top;\n",
       "    }\n",
       "\n",
       "    .dataframe thead th {\n",
       "        text-align: right;\n",
       "    }\n",
       "</style>\n",
       "<table border=\"1\" class=\"dataframe\">\n",
       "  <thead>\n",
       "    <tr style=\"text-align: right;\">\n",
       "      <th></th>\n",
       "      <th>id</th>\n",
       "      <th>call_date</th>\n",
       "      <th>duration</th>\n",
       "      <th>user_id</th>\n",
       "      <th>full_minutes</th>\n",
       "      <th>month</th>\n",
       "    </tr>\n",
       "  </thead>\n",
       "  <tbody>\n",
       "  </tbody>\n",
       "</table>\n",
       "</div>"
      ],
      "text/plain": [
       "Empty DataFrame\n",
       "Columns: [id, call_date, duration, user_id, full_minutes, month]\n",
       "Index: []"
      ]
     },
     "metadata": {},
     "output_type": "display_data"
    },
    {
     "data": {
      "text/html": [
       "<div>\n",
       "<style scoped>\n",
       "    .dataframe tbody tr th:only-of-type {\n",
       "        vertical-align: middle;\n",
       "    }\n",
       "\n",
       "    .dataframe tbody tr th {\n",
       "        vertical-align: top;\n",
       "    }\n",
       "\n",
       "    .dataframe thead th {\n",
       "        text-align: right;\n",
       "    }\n",
       "</style>\n",
       "<table border=\"1\" class=\"dataframe\">\n",
       "  <thead>\n",
       "    <tr style=\"text-align: right;\">\n",
       "      <th></th>\n",
       "      <th>id</th>\n",
       "      <th>message_date</th>\n",
       "      <th>user_id</th>\n",
       "      <th>month</th>\n",
       "    </tr>\n",
       "  </thead>\n",
       "  <tbody>\n",
       "  </tbody>\n",
       "</table>\n",
       "</div>"
      ],
      "text/plain": [
       "Empty DataFrame\n",
       "Columns: [id, message_date, user_id, month]\n",
       "Index: []"
      ]
     },
     "metadata": {},
     "output_type": "display_data"
    },
    {
     "data": {
      "text/html": [
       "<div>\n",
       "<style scoped>\n",
       "    .dataframe tbody tr th:only-of-type {\n",
       "        vertical-align: middle;\n",
       "    }\n",
       "\n",
       "    .dataframe tbody tr th {\n",
       "        vertical-align: top;\n",
       "    }\n",
       "\n",
       "    .dataframe thead th {\n",
       "        text-align: right;\n",
       "    }\n",
       "</style>\n",
       "<table border=\"1\" class=\"dataframe\">\n",
       "  <thead>\n",
       "    <tr style=\"text-align: right;\">\n",
       "      <th></th>\n",
       "      <th>id</th>\n",
       "      <th>mb_used</th>\n",
       "      <th>session_date</th>\n",
       "      <th>user_id</th>\n",
       "      <th>month</th>\n",
       "    </tr>\n",
       "  </thead>\n",
       "  <tbody>\n",
       "  </tbody>\n",
       "</table>\n",
       "</div>"
      ],
      "text/plain": [
       "Empty DataFrame\n",
       "Columns: [id, mb_used, session_date, user_id, month]\n",
       "Index: []"
      ]
     },
     "metadata": {},
     "output_type": "display_data"
    }
   ],
   "source": [
    "display(df_calls.query('user_id.isin(@lost_users)'))\n",
    "display(df_messages.query('user_id.isin(@lost_users)'))\n",
    "display(df_internet.query('user_id.isin(@lost_users)'))"
   ]
  },
  {
   "cell_type": "markdown",
   "id": "623d505d",
   "metadata": {},
   "source": [
    "Видим, что оба пользователя были подключены меньше недели и за это время не пользовались услугами оператора, поэтому они и не попали в итоговую таблицу.\n",
    "\n",
    "## Анализ и описание данных ##\n",
    "\n",
    "Нужно проанализировать поведение клиентов оператора, исходя из выборки. Сколько минут разговора, сколько сообщений и какой объём интернет-трафика требуется пользователям каждого тарифа в месяц? \n",
    "\n",
    "Для этого нужно посчитать среднее количество, дисперсию и стандартное отклонение, построить гистограммы и описать распределения."
   ]
  },
  {
   "cell_type": "code",
   "execution_count": 40,
   "id": "72e16adc",
   "metadata": {},
   "outputs": [
    {
     "data": {
      "text/html": [
       "<div>\n",
       "<style scoped>\n",
       "    .dataframe tbody tr th:only-of-type {\n",
       "        vertical-align: middle;\n",
       "    }\n",
       "\n",
       "    .dataframe tbody tr th {\n",
       "        vertical-align: top;\n",
       "    }\n",
       "\n",
       "    .dataframe thead th {\n",
       "        text-align: right;\n",
       "    }\n",
       "</style>\n",
       "<table border=\"1\" class=\"dataframe\">\n",
       "  <thead>\n",
       "    <tr style=\"text-align: right;\">\n",
       "      <th></th>\n",
       "      <th>messages_included</th>\n",
       "      <th>mb_per_month_included</th>\n",
       "      <th>minutes_included</th>\n",
       "      <th>rub_monthly_fee</th>\n",
       "      <th>rub_per_gb</th>\n",
       "      <th>rub_per_message</th>\n",
       "      <th>rub_per_minute</th>\n",
       "      <th>tariff</th>\n",
       "    </tr>\n",
       "  </thead>\n",
       "  <tbody>\n",
       "    <tr>\n",
       "      <th>0</th>\n",
       "      <td>50</td>\n",
       "      <td>15360</td>\n",
       "      <td>500</td>\n",
       "      <td>550</td>\n",
       "      <td>200</td>\n",
       "      <td>3</td>\n",
       "      <td>3</td>\n",
       "      <td>smart</td>\n",
       "    </tr>\n",
       "    <tr>\n",
       "      <th>1</th>\n",
       "      <td>1000</td>\n",
       "      <td>30720</td>\n",
       "      <td>3000</td>\n",
       "      <td>1950</td>\n",
       "      <td>150</td>\n",
       "      <td>1</td>\n",
       "      <td>1</td>\n",
       "      <td>ultra</td>\n",
       "    </tr>\n",
       "  </tbody>\n",
       "</table>\n",
       "</div>"
      ],
      "text/plain": [
       "   messages_included  mb_per_month_included  minutes_included  \\\n",
       "0                 50                  15360               500   \n",
       "1               1000                  30720              3000   \n",
       "\n",
       "   rub_monthly_fee  rub_per_gb  rub_per_message  rub_per_minute tariff  \n",
       "0              550         200                3               3  smart  \n",
       "1             1950         150                1               1  ultra  "
      ]
     },
     "execution_count": 40,
     "metadata": {},
     "output_type": "execute_result"
    }
   ],
   "source": [
    "df_tariffs"
   ]
  },
  {
   "cell_type": "code",
   "execution_count": 41,
   "id": "27d75642",
   "metadata": {},
   "outputs": [
    {
     "name": "stdout",
     "output_type": "stream",
     "text": [
      "Смарт\n",
      "        full_minutes  minutes_overrun  minutes_overpay\n",
      "count   2229.000000      2229.000000      2229.000000\n",
      "mean     417.934948        41.605653       124.816958\n",
      "std      190.313730        84.678573       254.035718\n",
      "min        0.000000         0.000000         0.000000\n",
      "25%      282.000000         0.000000         0.000000\n",
      "50%      422.000000         0.000000         0.000000\n",
      "75%      545.000000        45.000000       135.000000\n",
      "max     1435.000000       935.000000      2805.000000\n",
      "\n",
      "Ультра\n",
      "        full_minutes  minutes_overrun  minutes_overpay\n",
      "count    985.000000            985.0            985.0\n",
      "mean     526.623350              0.0              0.0\n",
      "std      317.606098              0.0              0.0\n",
      "min        0.000000              0.0              0.0\n",
      "25%      284.000000              0.0              0.0\n",
      "50%      518.000000              0.0              0.0\n",
      "75%      752.000000              0.0              0.0\n",
      "max     1673.000000              0.0              0.0\n"
     ]
    },
    {
     "data": {
      "image/png": "[encoded data removed]",
      "text/plain": [
       "<Figure size 864x504 with 1 Axes>"
      ]
     },
     "metadata": {
      "needs_background": "light"
     },
     "output_type": "display_data"
    }
   ],
   "source": [
    "fig, ax = plt.subplots(figsize=(12,7))\n",
    "\n",
    "monthly_pays.pivot_table(index='month', columns='tariff', values='full_minutes', aggfunc='mean').plot.bar(ax=ax)\n",
    "ax.set_xlabel('Месяц', fontsize=14)\n",
    "ax.set_ylabel('Количество использованных минут', fontsize=14)\n",
    "ax.set_title('Использование минут по месяцам на тарифах', fontsize=18)\n",
    "ax.legend(fontsize=14)\n",
    "ax.grid(True)\n",
    "\n",
    "\n",
    "print('Смарт\\n', monthly_pays.query('tariff==\"smart\"')[['full_minutes', 'minutes_overrun', 'minutes_overpay']].describe())\n",
    "print()\n",
    "print('Ультра\\n', monthly_pays.query('tariff==\"ultra\"')[['full_minutes', 'minutes_overrun', 'minutes_overpay']].describe())"
   ]
  },
  {
   "cell_type": "code",
   "execution_count": 42,
   "id": "6643d9cf",
   "metadata": {},
   "outputs": [
    {
     "data": {
      "text/plain": [
       "<AxesSubplot:>"
      ]
     },
     "execution_count": 42,
     "metadata": {},
     "output_type": "execute_result"
    },
    {
     "data": {
      "image/png": "[encoded data removed]",
      "text/plain": [
       "<Figure size 432x288 with 1 Axes>"
      ]
     },
     "metadata": {
      "needs_background": "light"
     },
     "output_type": "display_data"
    }
   ],
   "source": [
    "monthly_pays.query('tariff==\"smart\"')['full_minutes'].hist(bins=14)"
   ]
  },
  {
   "cell_type": "code",
   "execution_count": 43,
   "id": "720f7376",
   "metadata": {},
   "outputs": [
    {
     "data": {
      "text/plain": [
       "<AxesSubplot:>"
      ]
     },
     "execution_count": 43,
     "metadata": {},
     "output_type": "execute_result"
    },
    {
     "data": {
      "image/png": "[encoded data removed]",
      "text/plain": [
       "<Figure size 432x288 with 1 Axes>"
      ]
     },
     "metadata": {
      "needs_background": "light"
     },
     "output_type": "display_data"
    }
   ],
   "source": [
    "monthly_pays.query('tariff==\"ultra\"')['full_minutes'].hist()"
   ]
  },
  {
   "cell_type": "markdown",
   "id": "e28c8c73",
   "metadata": {},
   "source": [
    "График показывает, что в среднем в месяц пользователям и того, и другого тарифа хватает количества минут, включенных в тариф.\n",
    "Кроме того, видно, что пользователи тарифа \"Ультра\" в среднем тратят больше минут в месяц.\n",
    "\n",
    "Это подтверждают и гистограммы. \n",
    "Кроме того, по гистограммам видно, пользователям \"Ультра\" в большинстве случаев хватает 1000 минут в месяц. Больше 1700 минут за год не проговорил никто. А так же довольно большой объем тех, кто использует менее 300 минут в месяц.\n",
    "\n",
    "Большая часть пользователей \"Смарт\" укладывается в лимит в 500 минут, однако, многим этого бывает недостаточно, и они тратят по 600-700 минут в месяц."
   ]
  },
  {
   "cell_type": "code",
   "execution_count": 44,
   "id": "9d51cef4",
   "metadata": {},
   "outputs": [
    {
     "name": "stdout",
     "output_type": "stream",
     "text": [
      "Дисперсия по звонкам тарифа Смарт - 36203.06665209469\n",
      "Дисперсия по звонкам тарифа Ультра - 100771.2236172022\n"
     ]
    }
   ],
   "source": [
    "print('Дисперсия по звонкам тарифа Смарт -', np.var(monthly_pays.query('tariff==\"smart\"')['full_minutes']))\n",
    "print('Дисперсия по звонкам тарифа Ультра -', np.var(monthly_pays.query('tariff==\"ultra\"')['full_minutes']))"
   ]
  },
  {
   "cell_type": "markdown",
   "id": "1fc573ab",
   "metadata": {},
   "source": [
    "Дисперсия у тарифа Ультра более чем в 2 раза выше, чем у тарифа Смарт.\n",
    "Это значит, что поведение пользователей внутри тарифа сильно различается: кто-то использует 200 минут в месяц, а кто-то 1500.\n",
    "Для тарифа Смарт разброс меньше."
   ]
  },
  {
   "cell_type": "code",
   "execution_count": 45,
   "id": "e2a7254e",
   "metadata": {},
   "outputs": [
    {
     "name": "stdout",
     "output_type": "stream",
     "text": [
      "Смарт\n",
      "           sms_used  sms_overrun  sms_overpay\n",
      "count  2229.000000  2229.000000  2229.000000\n",
      "mean     33.384029     5.799910    17.399731\n",
      "std      28.227876    13.442456    40.327368\n",
      "min       0.000000     0.000000     0.000000\n",
      "25%      10.000000     0.000000     0.000000\n",
      "50%      28.000000     0.000000     0.000000\n",
      "75%      51.000000     1.000000     3.000000\n",
      "max     143.000000    93.000000   279.000000\n",
      "\n",
      "Ультра\n",
      "          sms_used  sms_overrun  sms_overpay\n",
      "count  985.000000        985.0        985.0\n",
      "mean    49.363452          0.0          0.0\n",
      "std     47.804457          0.0          0.0\n",
      "min      0.000000          0.0          0.0\n",
      "25%      6.000000          0.0          0.0\n",
      "50%     38.000000          0.0          0.0\n",
      "75%     79.000000          0.0          0.0\n",
      "max    224.000000          0.0          0.0\n"
     ]
    },
    {
     "data": {
      "image/png": "[encoded data removed]",
      "text/plain": [
       "<Figure size 864x504 with 1 Axes>"
      ]
     },
     "metadata": {
      "needs_background": "light"
     },
     "output_type": "display_data"
    }
   ],
   "source": [
    "fig, ax = plt.subplots(figsize=(12,7))\n",
    "\n",
    "monthly_pays.pivot_table(index='month', columns='tariff', values='sms_used', aggfunc='mean').plot.bar(ax=ax)\n",
    "ax.set_xlabel('Месяц', fontsize=14)\n",
    "ax.set_ylabel('Количество использованных сообщений', fontsize=14)\n",
    "ax.set_title('Использование смс по месяцам на тарифах', fontsize=18)\n",
    "ax.legend(fontsize=14)\n",
    "ax.grid(True)\n",
    "\n",
    "\n",
    "print('Смарт\\n', monthly_pays.query('tariff==\"smart\"')[['sms_used', 'sms_overrun', 'sms_overpay']].describe())\n",
    "print()\n",
    "print('Ультра\\n', monthly_pays.query('tariff==\"ultra\"')[['sms_used', 'sms_overrun', 'sms_overpay']].describe())"
   ]
  },
  {
   "cell_type": "code",
   "execution_count": 46,
   "id": "cff10dda",
   "metadata": {},
   "outputs": [
    {
     "data": {
      "text/plain": [
       "<AxesSubplot:>"
      ]
     },
     "execution_count": 46,
     "metadata": {},
     "output_type": "execute_result"
    },
    {
     "data": {
      "image/png": "[encoded data removed]",
      "text/plain": [
       "<Figure size 432x288 with 1 Axes>"
      ]
     },
     "metadata": {
      "needs_background": "light"
     },
     "output_type": "display_data"
    }
   ],
   "source": [
    "monthly_pays.query('tariff==\"smart\"')['sms_used'].hist(bins=14)"
   ]
  },
  {
   "cell_type": "code",
   "execution_count": 47,
   "id": "3f3d3ff0",
   "metadata": {},
   "outputs": [
    {
     "data": {
      "text/plain": [
       "<AxesSubplot:>"
      ]
     },
     "execution_count": 47,
     "metadata": {},
     "output_type": "execute_result"
    },
    {
     "data": {
      "image/png": "[encoded data removed]",
      "text/plain": [
       "<Figure size 432x288 with 1 Axes>"
      ]
     },
     "metadata": {
      "needs_background": "light"
     },
     "output_type": "display_data"
    }
   ],
   "source": [
    "monthly_pays.query('tariff==\"ultra\"')['sms_used'].hist()"
   ]
  },
  {
   "cell_type": "code",
   "execution_count": 48,
   "id": "7a1b954c",
   "metadata": {},
   "outputs": [
    {
     "name": "stdout",
     "output_type": "stream",
     "text": [
      "Дисперсия по сообщениям тарифа Смарт - 796.455482917076\n",
      "Дисперсия по сообщениям тарифа Ультра - 2282.946075394882\n"
     ]
    }
   ],
   "source": [
    "print('Дисперсия по сообщениям тарифа Смарт -', np.var(monthly_pays.query('tariff==\"smart\"')['sms_used']))\n",
    "print('Дисперсия по сообщениям тарифа Ультра -', np.var(monthly_pays.query('tariff==\"ultra\"')['sms_used']))"
   ]
  },
  {
   "cell_type": "markdown",
   "id": "439bc46b",
   "metadata": {},
   "source": [
    "С сообщениями ситуация такая же, как и со звонками: пользователям обоих тарифов, в среднем, хватает доступных сообщений в месяц, но пользователи \"Смарт\" периодически выходят за рамки тарифа.\n",
    "Пользователи \"Ультра\" наоборот не используют доступное им количество сообщений наполную.\n",
    "\n",
    "Дисперсия так же выше у пользователей тарифа Ультра."
   ]
  },
  {
   "cell_type": "code",
   "execution_count": 49,
   "id": "31e02ebb",
   "metadata": {},
   "outputs": [
    {
     "name": "stdout",
     "output_type": "stream",
     "text": [
      "Смарт\n",
      "            gb_used   gb_overrun   gb_overpay\n",
      "count  2229.000000  2229.000000  2229.000000\n",
      "mean     16.328847     2.988784   597.756842\n",
      "std       5.747061     3.682820   736.563904\n",
      "min       0.000000     0.000000     0.000000\n",
      "25%      13.000000     0.000000     0.000000\n",
      "50%      17.000000     2.000000   400.000000\n",
      "75%      20.000000     5.000000  1000.000000\n",
      "max      38.000000    23.000000  4600.000000\n",
      "\n",
      "Ультра\n",
      "           gb_used  gb_overrun   gb_overpay\n",
      "count  985.000000  985.000000   985.000000\n",
      "mean    19.494416    0.801015   120.152284\n",
      "std      9.853511    2.507914   376.187114\n",
      "min      0.000000    0.000000     0.000000\n",
      "25%     12.000000    0.000000     0.000000\n",
      "50%     19.000000    0.000000     0.000000\n",
      "75%     27.000000    0.000000     0.000000\n",
      "max     49.000000   19.000000  2850.000000\n"
     ]
    },
    {
     "data": {
      "image/png": "[encoded data removed]",
      "text/plain": [
       "<Figure size 864x504 with 1 Axes>"
      ]
     },
     "metadata": {
      "needs_background": "light"
     },
     "output_type": "display_data"
    }
   ],
   "source": [
    "fig, ax = plt.subplots(figsize=(12,7))\n",
    "\n",
    "monthly_pays.pivot_table(index='month', columns='tariff', values='gb_used', aggfunc='mean').plot.bar(ax=ax)\n",
    "ax.set_xlabel('Месяц', fontsize=14)\n",
    "ax.set_ylabel('Количество использованных Гб', fontsize=14)\n",
    "ax.set_title('Использование Гб по месяцам на тарифах', fontsize=18)\n",
    "ax.legend(fontsize=14)\n",
    "ax.grid(True)\n",
    "\n",
    "print('Смарт\\n', monthly_pays.query('tariff==\"smart\"')[['gb_used','gb_overrun', 'gb_overpay']].describe())\n",
    "print()\n",
    "print('Ультра\\n', monthly_pays.query('tariff==\"ultra\"')[['gb_used','gb_overrun', 'gb_overpay']].describe())"
   ]
  },
  {
   "cell_type": "code",
   "execution_count": 50,
   "id": "77708a80",
   "metadata": {
    "scrolled": true
   },
   "outputs": [
    {
     "data": {
      "text/plain": [
       "<AxesSubplot:>"
      ]
     },
     "execution_count": 50,
     "metadata": {},
     "output_type": "execute_result"
    },
    {
     "data": {
      "image/png": "[encoded data removed]",
      "text/plain": [
       "<Figure size 432x288 with 1 Axes>"
      ]
     },
     "metadata": {
      "needs_background": "light"
     },
     "output_type": "display_data"
    }
   ],
   "source": [
    "monthly_pays.query('tariff==\"smart\"')['gb_used'].hist(bins=19)"
   ]
  },
  {
   "cell_type": "code",
   "execution_count": 51,
   "id": "dd507b9b",
   "metadata": {},
   "outputs": [
    {
     "data": {
      "text/plain": [
       "<AxesSubplot:>"
      ]
     },
     "execution_count": 51,
     "metadata": {},
     "output_type": "execute_result"
    },
    {
     "data": {
      "image/png": "[encoded data removed]",
      "text/plain": [
       "<Figure size 432x288 with 1 Axes>"
      ]
     },
     "metadata": {
      "needs_background": "light"
     },
     "output_type": "display_data"
    }
   ],
   "source": [
    "monthly_pays.query('tariff==\"ultra\"')['gb_used'].hist()"
   ]
  },
  {
   "cell_type": "code",
   "execution_count": 52,
   "id": "6167f9ec",
   "metadata": {},
   "outputs": [
    {
     "name": "stdout",
     "output_type": "stream",
     "text": [
      "Дисперсия по интернет-трафику тарифа Смарт - 33.013887454837445\n",
      "Дисперсия по интернет-трафику тарифа Ультра - 96.99311602978692\n"
     ]
    }
   ],
   "source": [
    "print('Дисперсия по интернет-трафику тарифа Смарт -', np.var(monthly_pays.query('tariff==\"smart\"')['gb_used']))\n",
    "print('Дисперсия по интернет-трафику тарифа Ультра -', np.var(monthly_pays.query('tariff==\"ultra\"')['gb_used']))"
   ]
  },
  {
   "cell_type": "markdown",
   "id": "0bbcd714",
   "metadata": {},
   "source": [
    "С интернет-трафиком дело обстоит несколько иначе: пользователи \"Ультра\" все еще используют, в среднем, больше трафика, однако, видно, что пользователям \"Смарт\" не хватает Гб, входящих в тариф - в среднем они тратят около 16 Гб, а многие тратят до 25 гб, тогда как в пакет входит всего 15.\n",
    "Пользователи \"Ультра\" также иногда испытывают нехватку трафика - впервые есть значения, выходящие за лимит."
   ]
  },
  {
   "cell_type": "code",
   "execution_count": 53,
   "id": "9c0ff7d7",
   "metadata": {},
   "outputs": [
    {
     "name": "stdout",
     "output_type": "stream",
     "text": [
      "Смарт\n",
      " count    2229.000000\n",
      "mean     1289.973531\n",
      "std       818.404367\n",
      "min       550.000000\n",
      "25%       550.000000\n",
      "50%      1023.000000\n",
      "75%      1750.000000\n",
      "max      6770.000000\n",
      "Name: total_pay, dtype: float64\n",
      "\n",
      "Ультра\n",
      " count     985.000000\n",
      "mean     2070.152284\n",
      "std       376.187114\n",
      "min      1950.000000\n",
      "25%      1950.000000\n",
      "50%      1950.000000\n",
      "75%      1950.000000\n",
      "max      4800.000000\n",
      "Name: total_pay, dtype: float64\n"
     ]
    },
    {
     "data": {
      "image/png": "[encoded data removed]",
      "text/plain": [
       "<Figure size 864x504 with 1 Axes>"
      ]
     },
     "metadata": {
      "needs_background": "light"
     },
     "output_type": "display_data"
    }
   ],
   "source": [
    "fig, ax = plt.subplots(figsize=(15,10))\n",
    "\n",
    "(monthly_pays\n",
    " .pivot_table(index='month', columns='tariff', values='rub_monthly_fee')\n",
    " .rename(columns={'smart':'Стоимость тарифа  Smart', 'ultra':'Стоимость тарифа  Ultra'})\n",
    " .plot(kind='line', marker='d', colormap='plasma_r', ax=ax))\n",
    "\n",
    "(monthly_pays\n",
    " .pivot_table(index='month', columns='tariff', values='total_pay', aggfunc='mean')\n",
    " .rename(columns={'smart':'Средний платеж Smart', 'ultra':'Средний платеж Ultra'})\n",
    " .plot(kind='bar', ax=ax, figsize=(12,7), grid=True))\n",
    "\n",
    "ax.set_xlabel('Месяц', fontsize=14)\n",
    "ax.set_ylabel('Средняя сумма платежа', fontsize=14)\n",
    "ax.set_title('Средние суммы платежей по месяцам на тарифах', fontsize=18)\n",
    "ax.legend(fontsize=10, loc=4)\n",
    "ax.grid(True)\n",
    "\n",
    "\n",
    "print('Смарт\\n', monthly_pays.query('tariff==\"smart\"')['total_pay'].describe())\n",
    "print()\n",
    "print('Ультра\\n', monthly_pays.query('tariff==\"ultra\"')['total_pay'].describe())"
   ]
  },
  {
   "cell_type": "code",
   "execution_count": 54,
   "id": "f0c1fb89",
   "metadata": {},
   "outputs": [
    {
     "data": {
      "image/png": "[encoded data removed]",
      "text/plain": [
       "<Figure size 864x576 with 1 Axes>"
      ]
     },
     "metadata": {
      "needs_background": "light"
     },
     "output_type": "display_data"
    }
   ],
   "source": [
    "fig, ax = plt.subplots(figsize=(12,8))\n",
    "\n",
    "(monthly_pays\n",
    " .pivot_table(index='month', columns='tariff', values='total_pay', aggfunc='sum')\n",
    " .rename(columns={'smart':'Сумма платежей Smart', 'ultra':'Сумма платежей Ultra'})\n",
    " .plot.bar(ax=ax))\n",
    " \n",
    "ax.set_xlabel('Месяц', fontsize=14)\n",
    "ax.set_ylabel('Сумма платежа', fontsize=14)\n",
    "ax.set_title('Общие суммы платежей по месяцам на тарифах', fontsize=18)\n",
    "ax.legend(fontsize=13, loc=2)\n",
    "ax.grid(True)"
   ]
  },
  {
   "cell_type": "code",
   "execution_count": 55,
   "id": "b185d994",
   "metadata": {},
   "outputs": [
    {
     "name": "stdout",
     "output_type": "stream",
     "text": [
      "2418.534874082868\n"
     ]
    },
    {
     "data": {
      "text/plain": [
       "<AxesSubplot:>"
      ]
     },
     "execution_count": 55,
     "metadata": {},
     "output_type": "execute_result"
    },
    {
     "data": {
      "image/png": "[encoded data removed]",
      "text/plain": [
       "<Figure size 432x288 with 1 Axes>"
      ]
     },
     "metadata": {
      "needs_background": "light"
     },
     "output_type": "display_data"
    }
   ],
   "source": [
    "print(\n",
    "    monthly_pays.query('tariff==\"smart\"')['total_pay'].mean() + 3 * np.std(monthly_pays.query('tariff==\"ultra\"')['total_pay'], ddof=1)\n",
    ")\n",
    "\n",
    "monthly_pays.query('tariff==\"smart\" and total_pay < 2500')['total_pay'].hist()"
   ]
  },
  {
   "cell_type": "code",
   "execution_count": 56,
   "id": "fb038ec8",
   "metadata": {},
   "outputs": [
    {
     "name": "stdout",
     "output_type": "stream",
     "text": [
      "3198.713627615558\n"
     ]
    },
    {
     "data": {
      "text/plain": [
       "<AxesSubplot:>"
      ]
     },
     "execution_count": 56,
     "metadata": {},
     "output_type": "execute_result"
    },
    {
     "data": {
      "image/png": "[encoded data removed]",
      "text/plain": [
       "<Figure size 432x288 with 1 Axes>"
      ]
     },
     "metadata": {
      "needs_background": "light"
     },
     "output_type": "display_data"
    }
   ],
   "source": [
    "print(\n",
    "    monthly_pays.query('tariff==\"ultra\"')['total_pay'].mean() + 3 * np.std(monthly_pays.query('tariff==\"ultra\"')['total_pay'], ddof=1)\n",
    ")\n",
    "\n",
    "monthly_pays.query('tariff==\"ultra\" and total_pay < 3200')['total_pay'].hist()"
   ]
  },
  {
   "cell_type": "code",
   "execution_count": 57,
   "id": "20934061",
   "metadata": {},
   "outputs": [
    {
     "name": "stdout",
     "output_type": "stream",
     "text": [
      "Дисперсия по платежам тарифа Смарт - 669485.2209234245\n",
      "Дисперсия по платежам тарифа Ультра - 141373.07325620347\n"
     ]
    }
   ],
   "source": [
    "print('Дисперсия по платежам тарифа Смарт -', np.var(monthly_pays.query('tariff==\"smart\"')['total_pay']))\n",
    "print('Дисперсия по платежам тарифа Ультра -', np.var(monthly_pays.query('tariff==\"ultra\"')['total_pay']))"
   ]
  },
  {
   "cell_type": "markdown",
   "id": "a9334170",
   "metadata": {},
   "source": [
    "По оплате тарифов и доп.услуг видно, что, несмотря на то, что в среднем за \"Смарт\" платят все еще меньше, данные пользователи переплачивают за свой тариф, часто более чем в 2 раза, в то время, как \"Ультра\" в большинстве случаев платят только абонентскую плату. \n",
    "Дисперсия по тарифу Ультра в данном случае в разы меньше, что означает, что эти пользователи гораздо чаще платят стабильно, одну и ту же сумму.\n",
    "\n",
    "\n",
    "## Проверка гипотез ## \n",
    "\n",
    "Итак, у нас есть 2 гипотезы, которые нужно проверить:\n",
    "\n",
    "* средняя выручка пользователей тарифов «Ультра» и «Смарт» различаются;\n",
    "* средняя выручка пользователей из Москвы отличается от выручки пользователей из других регионов.\n",
    "\n",
    "### Средняя выручка пользователей двух тарифов различаются ###"
   ]
  },
  {
   "cell_type": "markdown",
   "id": "4a0f6b86",
   "metadata": {},
   "source": [
    "Для проверки гипотезы воспользуемся t-тестом. \n",
    "За нулевую гипотезу примем, что выручка пользователей тарифов \"Ультра\" и \"Смарт\" не различается. Соответсвенно, альтернативная гипотеза - выручки различаются.\n",
    "\n",
    "Так как стандартные отклонения выборок, а соответственно и дисперсии, сильно отличаются (`std` == 818.404367 у \"Смарт\" против 376.187114 у \"Ультра\"), то нужно задать параметр `equal_var` равный `False`.\n",
    "Уровень значимости примем 1%"
   ]
  },
  {
   "cell_type": "code",
   "execution_count": 58,
   "id": "262d5815",
   "metadata": {},
   "outputs": [
    {
     "name": "stdout",
     "output_type": "stream",
     "text": [
      "p-значение: 4.2606313931076085e-250\n",
      "Отвергаем нулевую гипотезу. Выручки у тарифов различаются.\n"
     ]
    }
   ],
   "source": [
    "smart_pays = monthly_pays.query('tariff==\"smart\"')['total_pay']\n",
    "ultra_pays = monthly_pays.query('tariff==\"ultra\"')['total_pay']\n",
    "\n",
    "results = st.ttest_ind(\n",
    "    smart_pays, \n",
    "    ultra_pays,\n",
    "    equal_var=False\n",
    ")\n",
    "\n",
    "alpha = .01 \n",
    "\n",
    "print('p-значение:', results.pvalue) \n",
    "\n",
    "if results.pvalue < alpha: \n",
    "    print(\"Отвергаем нулевую гипотезу. Выручки у тарифов различаются.\")\n",
    "else:\n",
    "    print(\"Не получилось отвергнуть нулевую гипотезу\")"
   ]
  },
  {
   "cell_type": "markdown",
   "id": "45a35713",
   "metadata": {},
   "source": [
    "Гипотеза о том, что выручка пользователей тарифов «Ультра» и «Смарт» одинкова не подтвердилась. Соответсвенно, выручка различается.\n",
    "\n",
    "Сравним, какой тариф приносит больше дохода в год."
   ]
  },
  {
   "cell_type": "code",
   "execution_count": 59,
   "id": "65e5f78c",
   "metadata": {},
   "outputs": [
    {
     "name": "stdout",
     "output_type": "stream",
     "text": [
      "Суммарная выручка тарифа Ультра 2039100.0\n",
      "Суммарная выручка тарифа Смарт 2875351.0\n",
      "\n",
      "True\n",
      "\n",
      "Средний месячный платеж тарифа Ультра 2070.1522842639592\n",
      "Средний месячный платеж тарифа Смарт 1289.9735307312696\n",
      "\n",
      "False\n"
     ]
    }
   ],
   "source": [
    "print('Суммарная выручка тарифа Ультра', monthly_pays.query('tariff==\"ultra\"')['total_pay'].sum())\n",
    "print('Суммарная выручка тарифа Смарт', monthly_pays.query('tariff==\"smart\"')['total_pay'].sum())\n",
    "print()\n",
    "print(monthly_pays.query('tariff==\"ultra\"')['total_pay'].sum() < monthly_pays.query('tariff==\"smart\"')['total_pay'].sum())\n",
    "print()\n",
    "print('Средний месячный платеж тарифа Ультра', monthly_pays.query('tariff==\"ultra\"')['total_pay'].mean())\n",
    "print('Средний месячный платеж тарифа Смарт', monthly_pays.query('tariff==\"smart\"')['total_pay'].mean())\n",
    "print()\n",
    "print(monthly_pays.query('tariff==\"ultra\"')['total_pay'].mean() < monthly_pays.query('tariff==\"smart\"')['total_pay'].mean())"
   ]
  },
  {
   "cell_type": "markdown",
   "id": "3085ceb5",
   "metadata": {},
   "source": [
    "За счет большего количества пользователей и постоянных переплат тариф \"Смарт\" в общем приносит большую выручку, чем \"Ультра\".\n",
    "\n",
    "\n",
    "### Средняя выручка пользователей из Москвы отличается от выручки пользователей из других регионов ###\n",
    "\n",
    "За нулевую гипотезу так же принимаем, что выручка у пользователей из Москвы такая же, как и всех остальных регионов. "
   ]
  },
  {
   "cell_type": "code",
   "execution_count": 60,
   "id": "aa3e4d29",
   "metadata": {},
   "outputs": [
    {
     "name": "stdout",
     "output_type": "stream",
     "text": [
      "p-значение: 0.5257376663729298\n",
      "Не получилось отвергнуть нулевую гипотезу\n"
     ]
    }
   ],
   "source": [
    "moscow_pays = monthly_pays.query('city==\"Москва\"')['total_pay']\n",
    "other_cities_pays = monthly_pays.query('city!=\"Москва\"')['total_pay']\n",
    "\n",
    "results = st.ttest_ind(\n",
    "    moscow_pays, \n",
    "    other_cities_pays,\n",
    "    equal_var=False\n",
    ")\n",
    "\n",
    "alpha = .01 \n",
    "\n",
    "print('p-значение:', results.pvalue) \n",
    "\n",
    "if results.pvalue < alpha: \n",
    "    print(\"Отвергаем нулевую гипотезу. Выручка пользователей из Москвы отличается от других регионов\")\n",
    "else:\n",
    "    print(\"Не получилось отвергнуть нулевую гипотезу\")"
   ]
  },
  {
   "cell_type": "code",
   "execution_count": 61,
   "id": "9fbb5f60",
   "metadata": {},
   "outputs": [
    {
     "name": "stdout",
     "output_type": "stream",
     "text": [
      "Средняя выручка по Москве 1546.7135842880523\n",
      "Средняя выручка по другим регионам 1524.9362274298885\n"
     ]
    }
   ],
   "source": [
    "print('Средняя выручка по Москве', moscow_pays.mean())\n",
    "print('Средняя выручка по другим регионам', other_cities_pays.mean())"
   ]
  },
  {
   "cell_type": "markdown",
   "id": "6fd03678",
   "metadata": {},
   "source": [
    "Отвергнуть нулевую гипотезу не получилось - в среднем, выручка пользователей из Москвы не отличается от других регионов.\n",
    "\n",
    "## Вывод ##\n",
    "\n",
    "В ходе проекта мы проанализировали данные о 500 пользователях мобильной сети \"Мегалайн\". Для анализа были доступны 5 датафреймов, содержащие данные о пользователях, их звонках, сообщениях и использовании интернета, а также данные о 2 тарифах - \"Смарт\" и \"Ультра\".\n",
    "\n",
    "В ходе обзора данных были обнаружены пропуски значений в данных о пользователях churn_date — дата прекращения пользования тарифом. \n",
    "Данные пропуски означали, что клиент еще использовал тариф на момент выгрузки данных.\n",
    "\n",
    "В ходе предобработки данных, были изменены типы данных в столбцах, содержащих дату, с типа `object`, на `datetime`. \n",
    "Также данные в столбцах `user_id` имели `тип` int, т.к. представлены числами от 1000 до 1499. \n",
    "Но так как эти данные категориальные, а не количественные, они были заменены на строки.\n",
    "В датафрейме `df_internet` был обнаружен столбец Unnamed: 0, в котором содержались численные значения от 0 до 149395 по порядку. Так как его значения полностью совпадали с индексами, данный столбец был удален.\n",
    "\n",
    "После этого все данные были сведены в 1 таблицу, содержащую информацию о том, сколько минут, сообщений и Гб интернет-трафика каждый пользователь использовал в каждый месяц. \n",
    "Допольнительно было рассчитано, сколько клиент использует услуг сверх тарифных лимитов и сколько эти превышения стоят.\n",
    "Кроме того, было посчитано, сколько в общем пользователь заплатил компании за каждый месяц.\n",
    "\n",
    "Анализ данных показал, пользователи тарифа \"Ультра\" не используют в полном количестве минуты и смс, входящие в тариф, в то время как, пользователи \"Смарт\" иногда выходят за данные лимиты. \n",
    "15 Гб, входящих в тариф \"Смарт\", пользователям чаще всего не хватает - многие пользователи тратят до 25 Гб в месяц. \n",
    "Пользователи \"Ультра\" чаще всего укладываются в лимит трафика.\n",
    "Анализ платежей пользователей показал, что при использовании тарифа \"Смарт\" клиентам часто приходится доплачивать за дополнительные услуги, часто более чем в 2 раза больше стоимости тарифа. Пользователи \"Ультра\" чаще всего платят только абонентскую плату.\n",
    "\n",
    "Кроме того, в проекте проверялись 2 гипотезы:\n",
    "* средняя выручка пользователей тарифов «Ультра» и «Смарт» различаются;\n",
    "* средняя выручка пользователей из Москвы отличается от выручки пользователей из других регионов.\n",
    "\n",
    "Гипотеза о разности выручки у тарифов подтвердилась.\n",
    "Действиетльно, за счет большего количества пользователей и постоянных дополнительных платежей тариф \"Смарт\" приносит компании большую годовую выручуку.\n",
    "\n",
    "А вот гипотеза о том, что выручка по Москве отличается от выручки по другим регионам не подтвердилась - по данному параметру средняя выручка мало различается.\n",
    "\n",
    "**Общий вывод:** Вкладывать рекламный бюджет стоит в тариф \"Смарт\", т.к. за счет большего количества пользователей и дополнительных платежей сверх абонентской платы этот тариф приносит большую выручку, чем тариф \"Ультра\""
   ]
  }
 ],
 "metadata": {
  "ExecuteTimeLog": [
   {
    "duration": 1181,
    "start_time": "2022-04-03T12:04:07.648Z"
   },
   {
    "duration": 4,
    "start_time": "2022-04-03T12:04:08.831Z"
   },
   {
    "duration": 30,
    "start_time": "2022-04-03T12:04:08.837Z"
   },
   {
    "duration": 182,
    "start_time": "2022-04-03T12:04:08.869Z"
   },
   {
    "duration": 95,
    "start_time": "2022-04-03T12:04:09.052Z"
   },
   {
    "duration": 142,
    "start_time": "2022-04-03T12:04:09.148Z"
   },
   {
    "duration": 16,
    "start_time": "2022-04-03T12:04:09.291Z"
   },
   {
    "duration": 108,
    "start_time": "2022-04-03T12:04:09.308Z"
   },
   {
    "duration": 0,
    "start_time": "2022-04-03T12:04:09.421Z"
   },
   {
    "duration": 0,
    "start_time": "2022-04-03T12:04:09.422Z"
   },
   {
    "duration": 0,
    "start_time": "2022-04-03T12:04:09.423Z"
   },
   {
    "duration": 0,
    "start_time": "2022-04-03T12:04:09.424Z"
   },
   {
    "duration": 0,
    "start_time": "2022-04-03T12:04:09.425Z"
   },
   {
    "duration": 0,
    "start_time": "2022-04-03T12:04:09.426Z"
   },
   {
    "duration": 0,
    "start_time": "2022-04-03T12:04:09.427Z"
   },
   {
    "duration": 0,
    "start_time": "2022-04-03T12:04:09.428Z"
   },
   {
    "duration": 0,
    "start_time": "2022-04-03T12:04:09.429Z"
   },
   {
    "duration": 0,
    "start_time": "2022-04-03T12:04:09.430Z"
   },
   {
    "duration": 0,
    "start_time": "2022-04-03T12:04:09.430Z"
   },
   {
    "duration": 0,
    "start_time": "2022-04-03T12:04:09.431Z"
   },
   {
    "duration": 0,
    "start_time": "2022-04-03T12:04:09.432Z"
   },
   {
    "duration": 0,
    "start_time": "2022-04-03T12:04:09.433Z"
   },
   {
    "duration": 0,
    "start_time": "2022-04-03T12:04:09.434Z"
   },
   {
    "duration": 0,
    "start_time": "2022-04-03T12:04:09.435Z"
   },
   {
    "duration": 0,
    "start_time": "2022-04-03T12:04:09.436Z"
   },
   {
    "duration": 0,
    "start_time": "2022-04-03T12:04:09.463Z"
   },
   {
    "duration": 0,
    "start_time": "2022-04-03T12:04:09.463Z"
   },
   {
    "duration": 0,
    "start_time": "2022-04-03T12:04:09.464Z"
   },
   {
    "duration": 0,
    "start_time": "2022-04-03T12:04:09.465Z"
   },
   {
    "duration": 0,
    "start_time": "2022-04-03T12:04:09.466Z"
   },
   {
    "duration": 0,
    "start_time": "2022-04-03T12:04:09.467Z"
   },
   {
    "duration": 0,
    "start_time": "2022-04-03T12:04:09.468Z"
   },
   {
    "duration": 0,
    "start_time": "2022-04-03T12:04:09.469Z"
   },
   {
    "duration": 0,
    "start_time": "2022-04-03T12:04:09.469Z"
   },
   {
    "duration": 0,
    "start_time": "2022-04-03T12:04:09.471Z"
   },
   {
    "duration": 0,
    "start_time": "2022-04-03T12:04:09.472Z"
   },
   {
    "duration": 0,
    "start_time": "2022-04-03T12:04:09.473Z"
   },
   {
    "duration": 1,
    "start_time": "2022-04-03T12:04:09.474Z"
   },
   {
    "duration": 0,
    "start_time": "2022-04-03T12:04:09.476Z"
   },
   {
    "duration": 0,
    "start_time": "2022-04-03T12:04:09.477Z"
   },
   {
    "duration": 0,
    "start_time": "2022-04-03T12:04:09.478Z"
   },
   {
    "duration": 0,
    "start_time": "2022-04-03T12:04:09.480Z"
   },
   {
    "duration": 0,
    "start_time": "2022-04-03T12:04:09.481Z"
   },
   {
    "duration": 0,
    "start_time": "2022-04-03T12:04:09.482Z"
   },
   {
    "duration": 0,
    "start_time": "2022-04-03T12:04:09.483Z"
   },
   {
    "duration": 0,
    "start_time": "2022-04-03T12:04:09.485Z"
   },
   {
    "duration": 0,
    "start_time": "2022-04-03T12:04:09.486Z"
   },
   {
    "duration": 0,
    "start_time": "2022-04-03T12:04:09.487Z"
   },
   {
    "duration": 0,
    "start_time": "2022-04-03T12:04:09.488Z"
   },
   {
    "duration": 0,
    "start_time": "2022-04-03T12:04:09.490Z"
   },
   {
    "duration": 0,
    "start_time": "2022-04-03T12:04:09.491Z"
   },
   {
    "duration": 0,
    "start_time": "2022-04-03T12:04:09.492Z"
   },
   {
    "duration": 0,
    "start_time": "2022-04-03T12:04:09.494Z"
   },
   {
    "duration": 0,
    "start_time": "2022-04-03T12:04:09.496Z"
   },
   {
    "duration": 0,
    "start_time": "2022-04-03T12:04:09.498Z"
   },
   {
    "duration": 0,
    "start_time": "2022-04-03T12:04:09.499Z"
   },
   {
    "duration": 1171,
    "start_time": "2022-04-03T12:08:10.150Z"
   },
   {
    "duration": 4,
    "start_time": "2022-04-03T12:08:11.323Z"
   },
   {
    "duration": 22,
    "start_time": "2022-04-03T12:08:11.328Z"
   },
   {
    "duration": 167,
    "start_time": "2022-04-03T12:08:11.352Z"
   },
   {
    "duration": 103,
    "start_time": "2022-04-03T12:08:11.521Z"
   },
   {
    "duration": 149,
    "start_time": "2022-04-03T12:08:11.625Z"
   },
   {
    "duration": 16,
    "start_time": "2022-04-03T12:08:11.775Z"
   },
   {
    "duration": 20,
    "start_time": "2022-04-03T12:08:11.792Z"
   },
   {
    "duration": 168,
    "start_time": "2022-04-03T12:08:11.813Z"
   },
   {
    "duration": 111,
    "start_time": "2022-04-03T12:08:11.986Z"
   },
   {
    "duration": 126,
    "start_time": "2022-04-03T12:08:12.099Z"
   },
   {
    "duration": 15,
    "start_time": "2022-04-03T12:08:12.227Z"
   },
   {
    "duration": 42,
    "start_time": "2022-04-03T12:08:12.244Z"
   },
   {
    "duration": 14,
    "start_time": "2022-04-03T12:08:12.288Z"
   },
   {
    "duration": 10,
    "start_time": "2022-04-03T12:08:12.304Z"
   },
   {
    "duration": 17,
    "start_time": "2022-04-03T12:08:12.315Z"
   },
   {
    "duration": 35,
    "start_time": "2022-04-03T12:08:12.334Z"
   },
   {
    "duration": 7,
    "start_time": "2022-04-03T12:08:12.371Z"
   },
   {
    "duration": 10,
    "start_time": "2022-04-03T12:08:12.380Z"
   },
   {
    "duration": 8,
    "start_time": "2022-04-03T12:08:12.392Z"
   },
   {
    "duration": 6,
    "start_time": "2022-04-03T12:08:12.402Z"
   },
   {
    "duration": 7,
    "start_time": "2022-04-03T12:08:12.409Z"
   },
   {
    "duration": 7,
    "start_time": "2022-04-03T12:08:12.417Z"
   },
   {
    "duration": 42,
    "start_time": "2022-04-03T12:08:12.425Z"
   },
   {
    "duration": 7,
    "start_time": "2022-04-03T12:08:12.468Z"
   },
   {
    "duration": 5,
    "start_time": "2022-04-03T12:08:12.476Z"
   },
   {
    "duration": 629,
    "start_time": "2022-04-03T12:08:12.482Z"
   },
   {
    "duration": 360,
    "start_time": "2022-04-03T12:08:13.114Z"
   },
   {
    "duration": 488,
    "start_time": "2022-04-03T12:08:13.475Z"
   },
   {
    "duration": 70,
    "start_time": "2022-04-03T12:08:13.965Z"
   },
   {
    "duration": 69,
    "start_time": "2022-04-03T12:08:14.036Z"
   },
   {
    "duration": 10,
    "start_time": "2022-04-03T12:08:14.107Z"
   },
   {
    "duration": 20,
    "start_time": "2022-04-03T12:08:14.119Z"
   },
   {
    "duration": 72,
    "start_time": "2022-04-03T12:08:14.141Z"
   },
   {
    "duration": 67,
    "start_time": "2022-04-03T12:08:14.214Z"
   },
   {
    "duration": 45,
    "start_time": "2022-04-03T12:08:14.283Z"
   },
   {
    "duration": 44,
    "start_time": "2022-04-03T12:08:14.330Z"
   },
   {
    "duration": 127,
    "start_time": "2022-04-03T12:08:14.375Z"
   },
   {
    "duration": 38,
    "start_time": "2022-04-03T12:08:14.504Z"
   },
   {
    "duration": 22,
    "start_time": "2022-04-03T12:08:14.543Z"
   },
   {
    "duration": 236,
    "start_time": "2022-04-03T12:08:14.566Z"
   },
   {
    "duration": 125,
    "start_time": "2022-04-03T12:08:14.804Z"
   },
   {
    "duration": 144,
    "start_time": "2022-04-03T12:08:14.931Z"
   },
   {
    "duration": 222,
    "start_time": "2022-04-03T12:08:15.077Z"
   },
   {
    "duration": 136,
    "start_time": "2022-04-03T12:08:15.301Z"
   },
   {
    "duration": 117,
    "start_time": "2022-04-03T12:08:15.439Z"
   },
   {
    "duration": 210,
    "start_time": "2022-04-03T12:08:15.562Z"
   },
   {
    "duration": 139,
    "start_time": "2022-04-03T12:08:15.773Z"
   },
   {
    "duration": 130,
    "start_time": "2022-04-03T12:08:15.914Z"
   },
   {
    "duration": 249,
    "start_time": "2022-04-03T12:08:16.046Z"
   },
   {
    "duration": 226,
    "start_time": "2022-04-03T12:08:16.297Z"
   },
   {
    "duration": 126,
    "start_time": "2022-04-03T12:08:16.525Z"
   },
   {
    "duration": 18,
    "start_time": "2022-04-03T12:08:16.653Z"
   },
   {
    "duration": 16,
    "start_time": "2022-04-03T12:08:16.672Z"
   },
   {
    "duration": 24,
    "start_time": "2022-04-03T12:08:16.690Z"
   },
   {
    "duration": 41,
    "start_time": "2022-04-03T12:08:16.715Z"
   },
   {
    "duration": 22,
    "start_time": "2022-04-03T12:16:55.279Z"
   },
   {
    "duration": 7,
    "start_time": "2022-04-03T12:20:46.639Z"
   },
   {
    "duration": 6,
    "start_time": "2022-04-03T12:36:43.865Z"
   },
   {
    "duration": 6,
    "start_time": "2022-04-03T12:36:49.704Z"
   },
   {
    "duration": 1814,
    "start_time": "2022-04-05T08:41:53.155Z"
   },
   {
    "duration": 6,
    "start_time": "2022-04-05T08:41:54.972Z"
   },
   {
    "duration": 47,
    "start_time": "2022-04-05T08:41:54.980Z"
   },
   {
    "duration": 252,
    "start_time": "2022-04-05T08:41:55.030Z"
   },
   {
    "duration": 144,
    "start_time": "2022-04-05T08:41:55.285Z"
   },
   {
    "duration": 207,
    "start_time": "2022-04-05T08:41:55.443Z"
   },
   {
    "duration": 30,
    "start_time": "2022-04-05T08:41:55.652Z"
   },
   {
    "duration": 37,
    "start_time": "2022-04-05T08:41:55.684Z"
   },
   {
    "duration": 251,
    "start_time": "2022-04-05T08:41:55.743Z"
   },
   {
    "duration": 158,
    "start_time": "2022-04-05T08:41:55.998Z"
   },
   {
    "duration": 198,
    "start_time": "2022-04-05T08:41:56.159Z"
   },
   {
    "duration": 23,
    "start_time": "2022-04-05T08:41:56.360Z"
   },
   {
    "duration": 67,
    "start_time": "2022-04-05T08:41:56.386Z"
   },
   {
    "duration": 25,
    "start_time": "2022-04-05T08:41:56.456Z"
   },
   {
    "duration": 19,
    "start_time": "2022-04-05T08:41:56.484Z"
   },
   {
    "duration": 58,
    "start_time": "2022-04-05T08:41:56.506Z"
   },
   {
    "duration": 15,
    "start_time": "2022-04-05T08:41:56.566Z"
   },
   {
    "duration": 9,
    "start_time": "2022-04-05T08:41:56.583Z"
   },
   {
    "duration": 53,
    "start_time": "2022-04-05T08:41:56.594Z"
   },
   {
    "duration": 17,
    "start_time": "2022-04-05T08:41:56.650Z"
   },
   {
    "duration": 12,
    "start_time": "2022-04-05T08:41:56.669Z"
   },
   {
    "duration": 12,
    "start_time": "2022-04-05T08:41:56.684Z"
   },
   {
    "duration": 45,
    "start_time": "2022-04-05T08:41:56.699Z"
   },
   {
    "duration": 16,
    "start_time": "2022-04-05T08:41:56.747Z"
   },
   {
    "duration": 13,
    "start_time": "2022-04-05T08:41:56.767Z"
   },
   {
    "duration": 6,
    "start_time": "2022-04-05T08:41:56.783Z"
   },
   {
    "duration": 87,
    "start_time": "2022-04-05T08:41:56.791Z"
   },
   {
    "duration": 29,
    "start_time": "2022-04-05T08:41:56.883Z"
   },
   {
    "duration": 59,
    "start_time": "2022-04-05T08:41:56.915Z"
   },
   {
    "duration": 114,
    "start_time": "2022-04-05T08:41:56.976Z"
   },
   {
    "duration": 106,
    "start_time": "2022-04-05T08:41:57.092Z"
   },
   {
    "duration": 20,
    "start_time": "2022-04-05T08:41:57.200Z"
   },
   {
    "duration": 56,
    "start_time": "2022-04-05T08:41:57.222Z"
   },
   {
    "duration": 93,
    "start_time": "2022-04-05T08:41:57.280Z"
   },
   {
    "duration": 97,
    "start_time": "2022-04-05T08:41:57.375Z"
   },
   {
    "duration": 88,
    "start_time": "2022-04-05T08:41:57.475Z"
   },
   {
    "duration": 50,
    "start_time": "2022-04-05T08:41:57.565Z"
   },
   {
    "duration": 237,
    "start_time": "2022-04-05T08:41:57.617Z"
   },
   {
    "duration": 87,
    "start_time": "2022-04-05T08:41:57.857Z"
   },
   {
    "duration": 13,
    "start_time": "2022-04-05T08:41:57.947Z"
   },
   {
    "duration": 470,
    "start_time": "2022-04-05T08:41:57.963Z"
   },
   {
    "duration": 229,
    "start_time": "2022-04-05T08:41:58.436Z"
   },
   {
    "duration": 232,
    "start_time": "2022-04-05T08:41:58.668Z"
   },
   {
    "duration": 13,
    "start_time": "2022-04-05T08:41:58.902Z"
   },
   {
    "duration": 457,
    "start_time": "2022-04-05T08:41:58.918Z"
   },
   {
    "duration": 242,
    "start_time": "2022-04-05T08:41:59.378Z"
   },
   {
    "duration": 226,
    "start_time": "2022-04-05T08:41:59.623Z"
   },
   {
    "duration": 15,
    "start_time": "2022-04-05T08:41:59.851Z"
   },
   {
    "duration": 465,
    "start_time": "2022-04-05T08:41:59.869Z"
   },
   {
    "duration": 263,
    "start_time": "2022-04-05T08:42:00.337Z"
   },
   {
    "duration": 242,
    "start_time": "2022-04-05T08:42:00.603Z"
   },
   {
    "duration": 16,
    "start_time": "2022-04-05T08:42:00.847Z"
   },
   {
    "duration": 632,
    "start_time": "2022-04-05T08:42:00.866Z"
   },
   {
    "duration": 400,
    "start_time": "2022-04-05T08:42:01.500Z"
   },
   {
    "duration": 266,
    "start_time": "2022-04-05T08:42:01.903Z"
   },
   {
    "duration": 249,
    "start_time": "2022-04-05T08:42:02.171Z"
   },
   {
    "duration": 27,
    "start_time": "2022-04-05T08:42:02.423Z"
   },
   {
    "duration": 31,
    "start_time": "2022-04-05T08:42:02.453Z"
   },
   {
    "duration": 57,
    "start_time": "2022-04-05T08:42:02.487Z"
   },
   {
    "duration": 18,
    "start_time": "2022-04-05T08:42:02.547Z"
   },
   {
    "duration": 14,
    "start_time": "2022-04-05T08:42:02.568Z"
   },
   {
    "duration": 17,
    "start_time": "2022-04-05T08:47:50.701Z"
   },
   {
    "duration": 24,
    "start_time": "2022-04-05T08:47:54.931Z"
   }
  ],
  "kernelspec": {
   "display_name": "Python 3 (ipykernel)",
   "language": "python",
   "name": "python3"
  },
  "language_info": {
   "codemirror_mode": {
    "name": "ipython",
    "version": 3
   },
   "file_extension": ".py",
   "mimetype": "text/x-python",
   "name": "python",
   "nbconvert_exporter": "python",
   "pygments_lexer": "ipython3",
   "version": "3.9.12"
  },
  "toc": {
   "base_numbering": 1,
   "nav_menu": {},
   "number_sections": true,
   "sideBar": true,
   "skip_h1_title": true,
   "title_cell": "Table of Contents",
   "title_sidebar": "Contents",
   "toc_cell": false,
   "toc_position": {},
   "toc_section_display": true,
   "toc_window_display": false
  }
 },
 "nbformat": 4,
 "nbformat_minor": 5
}
