{
 "cells": [
  {
   "cell_type": "markdown",
   "id": "c3885f86-93ad-41cc-bf05-1a2e43380913",
   "metadata": {},
   "source": [
    "# Проект для «Викишоп» с использованием BERT"
   ]
  },
  {
   "cell_type": "markdown",
   "id": "65f4234a-e8df-45e2-a7e2-0621ee330fdc",
   "metadata": {},
   "source": [
    "Интернет-магазин «Викишоп» запускает новый сервис. Теперь пользователи могут редактировать и дополнять описания товаров, как в вики-сообществах. То есть клиенты предлагают свои правки и комментируют изменения других. Магазину нужен инструмент, который будет искать токсичные комментарии и отправлять их на модерацию. \n",
    "\n",
    "Обучите модель классифицировать комментарии на позитивные и негативные. В вашем распоряжении набор данных с разметкой о токсичности правок.\n",
    "\n",
    "Постройте модель со значением метрики качества *F1* не меньше 0.75. \n",
    "\n",
    "\n",
    "Данные находятся в файле `toxic_comments.csv`. Столбец *text* в нём содержит текст комментария, а *toxic* — целевой признак."
   ]
  },
  {
   "cell_type": "markdown",
   "id": "19bf8a6c-6483-4cb0-8299-c03a806664d4",
   "metadata": {},
   "source": [
    "## Подготовка "
   ]
  },
  {
   "cell_type": "code",
   "execution_count": 1,
   "id": "0f2f79a7-b383-406c-b147-42a88eff812c",
   "metadata": {},
   "outputs": [
    {
     "name": "stdout",
     "output_type": "stream",
     "text": [
      "Requirement already satisfied: lightgbm in d:\\abe\\anaconda3\\envs\\praktikum\\lib\\site-packages (3.3.2)\n",
      "Requirement already satisfied: wheel in d:\\abe\\anaconda3\\envs\\praktikum\\lib\\site-packages (from lightgbm) (0.37.1)\n",
      "Requirement already satisfied: scikit-learn!=0.22.0 in d:\\abe\\anaconda3\\envs\\praktikum\\lib\\site-packages (from lightgbm) (0.24.1)\n",
      "Requirement already satisfied: scipy in d:\\abe\\anaconda3\\envs\\praktikum\\lib\\site-packages (from lightgbm) (1.8.0)\n",
      "Requirement already satisfied: numpy in d:\\abe\\anaconda3\\envs\\praktikum\\lib\\site-packages (from lightgbm) (1.20.1)\n",
      "Requirement already satisfied: joblib>=0.11 in d:\\abe\\anaconda3\\envs\\praktikum\\lib\\site-packages (from scikit-learn!=0.22.0->lightgbm) (1.1.0)\n",
      "Requirement already satisfied: threadpoolctl>=2.0.0 in d:\\abe\\anaconda3\\envs\\praktikum\\lib\\site-packages (from scikit-learn!=0.22.0->lightgbm) (3.1.0)\n",
      "Requirement already satisfied: scikit-optimize in d:\\abe\\anaconda3\\envs\\praktikum\\lib\\site-packages (0.9.0)\n",
      "Requirement already satisfied: scikit-learn>=0.20.0 in d:\\abe\\anaconda3\\envs\\praktikum\\lib\\site-packages (from scikit-optimize) (0.24.1)\n",
      "Requirement already satisfied: scipy>=0.19.1 in d:\\abe\\anaconda3\\envs\\praktikum\\lib\\site-packages (from scikit-optimize) (1.8.0)\n",
      "Requirement already satisfied: pyaml>=16.9 in d:\\abe\\anaconda3\\envs\\praktikum\\lib\\site-packages (from scikit-optimize) (21.10.1)\n",
      "Requirement already satisfied: joblib>=0.11 in d:\\abe\\anaconda3\\envs\\praktikum\\lib\\site-packages (from scikit-optimize) (1.1.0)\n",
      "Requirement already satisfied: numpy>=1.13.3 in d:\\abe\\anaconda3\\envs\\praktikum\\lib\\site-packages (from scikit-optimize) (1.20.1)\n",
      "Requirement already satisfied: PyYAML in d:\\abe\\anaconda3\\envs\\praktikum\\lib\\site-packages (from pyaml>=16.9->scikit-optimize) (6.0)\n",
      "Requirement already satisfied: threadpoolctl>=2.0.0 in d:\\abe\\anaconda3\\envs\\praktikum\\lib\\site-packages (from scikit-learn>=0.20.0->scikit-optimize) (3.1.0)\n"
     ]
    }
   ],
   "source": [
    "!pip install lightgbm\n",
    "!pip install scikit-optimize"
   ]
  },
  {
   "cell_type": "code",
   "execution_count": 2,
   "id": "b436d433-6548-4979-aa2f-65dfefa78bc3",
   "metadata": {},
   "outputs": [],
   "source": [
    "import pandas as pd\n",
    "import numpy as np\n",
    "import seaborn as sns\n",
    "import matplotlib.pyplot as plt\n",
    "\n",
    "import torch\n",
    "import transformers\n",
    "from tqdm import notebook\n",
    "\n",
    "from sklearn.linear_model import LogisticRegression\n",
    "from sklearn.ensemble import RandomForestClassifier\n",
    "from sklearn.model_selection import cross_val_score\n",
    "from sklearn.model_selection import train_test_split\n",
    "from sklearn.metrics import f1_score\n",
    "\n",
    "from skopt import BayesSearchCV\n",
    "from skopt.space import Integer, Real\n",
    "\n",
    "from lightgbm import LGBMClassifier\n",
    "\n",
    "import os"
   ]
  },
  {
   "cell_type": "code",
   "execution_count": 3,
   "id": "6364d98e-0376-40a6-b690-e6be64ca5933",
   "metadata": {},
   "outputs": [],
   "source": [
    "pth1 = 'toxic_comments.csv'\n",
    "pth2 = '/datasets/toxic_comments.csv'\n",
    "\n",
    "if os.path.exists(pth1):\n",
    "    df = pd.read_csv(pth1)\n",
    "elif os.path.exists(pth2):\n",
    "    df = pd.read_csv(pth2)\n",
    "else:\n",
    "    print('Something is wrong')"
   ]
  },
  {
   "cell_type": "code",
   "execution_count": 4,
   "id": "b2f7f40d-a481-4aa3-b3c7-eba2fbaf9487",
   "metadata": {},
   "outputs": [
    {
     "name": "stdout",
     "output_type": "stream",
     "text": [
      "<class 'pandas.core.frame.DataFrame'>\n",
      "RangeIndex: 159571 entries, 0 to 159570\n",
      "Data columns (total 2 columns):\n",
      " #   Column  Non-Null Count   Dtype \n",
      "---  ------  --------------   ----- \n",
      " 0   text    159571 non-null  object\n",
      " 1   toxic   159571 non-null  int64 \n",
      "dtypes: int64(1), object(1)\n",
      "memory usage: 2.4+ MB\n"
     ]
    },
    {
     "data": {
      "text/html": [
       "<div>\n",
       "<style scoped>\n",
       "    .dataframe tbody tr th:only-of-type {\n",
       "        vertical-align: middle;\n",
       "    }\n",
       "\n",
       "    .dataframe tbody tr th {\n",
       "        vertical-align: top;\n",
       "    }\n",
       "\n",
       "    .dataframe thead th {\n",
       "        text-align: right;\n",
       "    }\n",
       "</style>\n",
       "<table border=\"1\" class=\"dataframe\">\n",
       "  <thead>\n",
       "    <tr style=\"text-align: right;\">\n",
       "      <th></th>\n",
       "      <th>text</th>\n",
       "      <th>toxic</th>\n",
       "    </tr>\n",
       "  </thead>\n",
       "  <tbody>\n",
       "    <tr>\n",
       "      <th>0</th>\n",
       "      <td>Explanation\\nWhy the edits made under my usern...</td>\n",
       "      <td>0</td>\n",
       "    </tr>\n",
       "    <tr>\n",
       "      <th>1</th>\n",
       "      <td>D'aww! He matches this background colour I'm s...</td>\n",
       "      <td>0</td>\n",
       "    </tr>\n",
       "    <tr>\n",
       "      <th>2</th>\n",
       "      <td>Hey man, I'm really not trying to edit war. It...</td>\n",
       "      <td>0</td>\n",
       "    </tr>\n",
       "    <tr>\n",
       "      <th>3</th>\n",
       "      <td>\"\\nMore\\nI can't make any real suggestions on ...</td>\n",
       "      <td>0</td>\n",
       "    </tr>\n",
       "    <tr>\n",
       "      <th>4</th>\n",
       "      <td>You, sir, are my hero. Any chance you remember...</td>\n",
       "      <td>0</td>\n",
       "    </tr>\n",
       "    <tr>\n",
       "      <th>...</th>\n",
       "      <td>...</td>\n",
       "      <td>...</td>\n",
       "    </tr>\n",
       "    <tr>\n",
       "      <th>159566</th>\n",
       "      <td>\":::::And for the second time of asking, when ...</td>\n",
       "      <td>0</td>\n",
       "    </tr>\n",
       "    <tr>\n",
       "      <th>159567</th>\n",
       "      <td>You should be ashamed of yourself \\n\\nThat is ...</td>\n",
       "      <td>0</td>\n",
       "    </tr>\n",
       "    <tr>\n",
       "      <th>159568</th>\n",
       "      <td>Spitzer \\n\\nUmm, theres no actual article for ...</td>\n",
       "      <td>0</td>\n",
       "    </tr>\n",
       "    <tr>\n",
       "      <th>159569</th>\n",
       "      <td>And it looks like it was actually you who put ...</td>\n",
       "      <td>0</td>\n",
       "    </tr>\n",
       "    <tr>\n",
       "      <th>159570</th>\n",
       "      <td>\"\\nAnd ... I really don't think you understand...</td>\n",
       "      <td>0</td>\n",
       "    </tr>\n",
       "  </tbody>\n",
       "</table>\n",
       "<p>159571 rows × 2 columns</p>\n",
       "</div>"
      ],
      "text/plain": [
       "                                                     text  toxic\n",
       "0       Explanation\\nWhy the edits made under my usern...      0\n",
       "1       D'aww! He matches this background colour I'm s...      0\n",
       "2       Hey man, I'm really not trying to edit war. It...      0\n",
       "3       \"\\nMore\\nI can't make any real suggestions on ...      0\n",
       "4       You, sir, are my hero. Any chance you remember...      0\n",
       "...                                                   ...    ...\n",
       "159566  \":::::And for the second time of asking, when ...      0\n",
       "159567  You should be ashamed of yourself \\n\\nThat is ...      0\n",
       "159568  Spitzer \\n\\nUmm, theres no actual article for ...      0\n",
       "159569  And it looks like it was actually you who put ...      0\n",
       "159570  \"\\nAnd ... I really don't think you understand...      0\n",
       "\n",
       "[159571 rows x 2 columns]"
      ]
     },
     "execution_count": 4,
     "metadata": {},
     "output_type": "execute_result"
    }
   ],
   "source": [
    "df.info()\n",
    "df"
   ]
  },
  {
   "cell_type": "code",
   "execution_count": 5,
   "id": "0b6dbcab-b9b2-450b-b032-11d94b2cfd21",
   "metadata": {},
   "outputs": [
    {
     "data": {
      "text/plain": [
       "0    143346\n",
       "1     16225\n",
       "Name: toxic, dtype: int64"
      ]
     },
     "execution_count": 5,
     "metadata": {},
     "output_type": "execute_result"
    }
   ],
   "source": [
    "df['toxic'].value_counts()"
   ]
  },
  {
   "cell_type": "code",
   "execution_count": 6,
   "id": "7367d1ee-692b-4267-b28a-82c30cf50910",
   "metadata": {},
   "outputs": [
    {
     "data": {
      "text/plain": [
       "<AxesSubplot:>"
      ]
     },
     "execution_count": 6,
     "metadata": {},
     "output_type": "execute_result"
    },
    {
     "data": {
      "image/png": "[encoded data removed]",
      "text/plain": [
       "<Figure size 576x576 with 1 Axes>"
      ]
     },
     "metadata": {
      "needs_background": "light"
     },
     "output_type": "display_data"
    }
   ],
   "source": [
    "df['toxic'].hist(density=True, figsize=(8,8))"
   ]
  },
  {
   "cell_type": "code",
   "execution_count": 7,
   "id": "14eddb7e-9da2-4350-a02c-b133a6bf641f",
   "metadata": {},
   "outputs": [
    {
     "data": {
      "text/plain": [
       "'Токсичных комментариев в датасете - 10.17%'"
      ]
     },
     "execution_count": 7,
     "metadata": {},
     "output_type": "execute_result"
    }
   ],
   "source": [
    "f\"Токсичных комментариев в датасете - {df['toxic'].value_counts()[1] / df.shape[0]:.2%}\""
   ]
  },
  {
   "cell_type": "markdown",
   "id": "1184144f-4810-4a90-80d6-0a266c1f0dd8",
   "metadata": {},
   "source": [
    "У нас имеется датасет, содержащий комментарии пользователей и отметку, является ли комментарий токсичным или нет. Всего в датасете более 150 тысяч строк. Токсичные комментарии составляют 10% от всех данных.\n",
    "\n",
    "Т.к. для обучения модели BERT требуется большое количество памяти, будем использовать только часть данных. При этом нужно сохранить исходное соотношение токсичных комментов к нетоксичным."
   ]
  },
  {
   "cell_type": "code",
   "execution_count": 8,
   "id": "ca645031-b077-4ede-83c7-723f7563b17d",
   "metadata": {},
   "outputs": [],
   "source": [
    "_, bert_df = train_test_split(df, test_size=.05, stratify=df['toxic'], random_state=42)"
   ]
  },
  {
   "cell_type": "code",
   "execution_count": 9,
   "id": "0a960815-7b72-42b0-ae98-1d7b942a2449",
   "metadata": {},
   "outputs": [
    {
     "data": {
      "text/html": [
       "<div>\n",
       "<style scoped>\n",
       "    .dataframe tbody tr th:only-of-type {\n",
       "        vertical-align: middle;\n",
       "    }\n",
       "\n",
       "    .dataframe tbody tr th {\n",
       "        vertical-align: top;\n",
       "    }\n",
       "\n",
       "    .dataframe thead th {\n",
       "        text-align: right;\n",
       "    }\n",
       "</style>\n",
       "<table border=\"1\" class=\"dataframe\">\n",
       "  <thead>\n",
       "    <tr style=\"text-align: right;\">\n",
       "      <th></th>\n",
       "      <th>text</th>\n",
       "      <th>toxic</th>\n",
       "    </tr>\n",
       "  </thead>\n",
       "  <tbody>\n",
       "    <tr>\n",
       "      <th>116312</th>\n",
       "      <td>\"\\n\\nI want to know who is the \"\"Human rights ...</td>\n",
       "      <td>0</td>\n",
       "    </tr>\n",
       "    <tr>\n",
       "      <th>17270</th>\n",
       "      <td>Category:WikiProject Energy development articl...</td>\n",
       "      <td>0</td>\n",
       "    </tr>\n",
       "    <tr>\n",
       "      <th>79760</th>\n",
       "      <td>\"*It might not have been your intention, but y...</td>\n",
       "      <td>0</td>\n",
       "    </tr>\n",
       "    <tr>\n",
       "      <th>3623</th>\n",
       "      <td>\"\\nThank you for your kindness.  (Talk • Contr...</td>\n",
       "      <td>0</td>\n",
       "    </tr>\n",
       "    <tr>\n",
       "      <th>14421</th>\n",
       "      <td>1938 Colombia air accident \\n\\n:es:Accidente a...</td>\n",
       "      <td>0</td>\n",
       "    </tr>\n",
       "  </tbody>\n",
       "</table>\n",
       "</div>"
      ],
      "text/plain": [
       "                                                     text  toxic\n",
       "116312  \"\\n\\nI want to know who is the \"\"Human rights ...      0\n",
       "17270   Category:WikiProject Energy development articl...      0\n",
       "79760   \"*It might not have been your intention, but y...      0\n",
       "3623    \"\\nThank you for your kindness.  (Talk • Contr...      0\n",
       "14421   1938 Colombia air accident \\n\\n:es:Accidente a...      0"
      ]
     },
     "execution_count": 9,
     "metadata": {},
     "output_type": "execute_result"
    }
   ],
   "source": [
    "bert_df.head()"
   ]
  },
  {
   "cell_type": "code",
   "execution_count": 10,
   "id": "faf1a902-7634-4c3d-a92c-b91710e10873",
   "metadata": {},
   "outputs": [
    {
     "data": {
      "text/plain": [
       "(7979, 2)"
      ]
     },
     "execution_count": 10,
     "metadata": {},
     "output_type": "execute_result"
    }
   ],
   "source": [
    "bert_df.shape"
   ]
  },
  {
   "cell_type": "code",
   "execution_count": 11,
   "id": "e5e0fc5b-3f17-4c15-8b8c-065ad8acb845",
   "metadata": {},
   "outputs": [
    {
     "data": {
      "text/plain": [
       "<AxesSubplot:>"
      ]
     },
     "execution_count": 11,
     "metadata": {},
     "output_type": "execute_result"
    },
    {
     "data": {
      "image/png": "[encoded data removed]",
      "text/plain": [
       "<Figure size 576x576 with 1 Axes>"
      ]
     },
     "metadata": {
      "needs_background": "light"
     },
     "output_type": "display_data"
    }
   ],
   "source": [
    "bert_df['toxic'].hist(density=True, figsize=(8,8))"
   ]
  },
  {
   "cell_type": "code",
   "execution_count": 12,
   "id": "4d0925a1-a38f-4254-b4f2-2068a04d3861",
   "metadata": {},
   "outputs": [
    {
     "data": {
      "text/plain": [
       "'Токсичных комментариев в новом датасете - 10.16%'"
      ]
     },
     "execution_count": 12,
     "metadata": {},
     "output_type": "execute_result"
    }
   ],
   "source": [
    "f\"Токсичных комментариев в новом датасете - {bert_df['toxic'].value_counts()[1] / bert_df.shape[0]:.2%}\""
   ]
  },
  {
   "cell_type": "markdown",
   "id": "d7620472-8e40-4bb7-99a4-a7df184118b7",
   "metadata": {},
   "source": [
    "Соотношение классов сохранено. Можно приступить к обучению."
   ]
  },
  {
   "cell_type": "markdown",
   "id": "0269b367-282e-4019-a371-8f8866f68ba5",
   "metadata": {},
   "source": [
    "## Обучение \n",
    "\n",
    "### Создание признаков с помощью BERT\n",
    "\n",
    "Для создания признаков воспользуемся предобученной [моделью для классификации токсичных комментариев](https://huggingface.co/unitary/toxic-bert)."
   ]
  },
  {
   "cell_type": "code",
   "execution_count": 13,
   "id": "d8b7cce7-8bd3-4a62-b88a-31e64c94de71",
   "metadata": {},
   "outputs": [
    {
     "name": "stdout",
     "output_type": "stream",
     "text": [
      "CPU times: total: 4.84 s\n",
      "Wall time: 15 s\n"
     ]
    },
    {
     "data": {
      "text/plain": [
       "(7979, 512)"
      ]
     },
     "execution_count": 13,
     "metadata": {},
     "output_type": "execute_result"
    }
   ],
   "source": [
    "%%time\n",
    "tokenizer = transformers.AutoTokenizer.from_pretrained(\"unitary/toxic-bert\")\n",
    "model = transformers.AutoModelForSequenceClassification.from_pretrained(\"unitary/toxic-bert\")\n",
    "\n",
    "tokenized = bert_df['text'].apply(lambda x: tokenizer.encode(x, add_special_tokens=True, truncation=True))\n",
    "\n",
    "max_len = 0\n",
    "for i in tokenized.values:\n",
    "    if len(i) > max_len:\n",
    "        max_len = len(i)\n",
    "\n",
    "padded = np.array([i + [0]*(max_len - len(i)) for i in tokenized.values])\n",
    "padded.shape"
   ]
  },
  {
   "cell_type": "code",
   "execution_count": 14,
   "id": "beadfe7b-f385-408f-a997-39de7020a393",
   "metadata": {},
   "outputs": [
    {
     "data": {
      "text/plain": [
       "(7979, 512)"
      ]
     },
     "execution_count": 14,
     "metadata": {},
     "output_type": "execute_result"
    }
   ],
   "source": [
    "attention_mask = np.where(padded != 0, 1, 0)\n",
    "attention_mask.shape"
   ]
  },
  {
   "cell_type": "code",
   "execution_count": 15,
   "id": "fec264e8-72ba-4003-a1df-585fc8f46a63",
   "metadata": {},
   "outputs": [
    {
     "data": {
      "application/vnd.jupyter.widget-view+json": {
       "model_id": "2cafe8cc293c4e6c9085b0db01681bd9",
       "version_major": 2,
       "version_minor": 0
      },
      "text/plain": [
       "  0%|          | 0/101 [00:00<?, ?it/s]"
      ]
     },
     "metadata": {},
     "output_type": "display_data"
    }
   ],
   "source": [
    "batch_size = 79\n",
    "embeddings = []\n",
    "for i in notebook.tqdm(range(padded.shape[0] // batch_size)):\n",
    "        batch = torch.LongTensor(padded[batch_size*i:batch_size*(i+1)]) \n",
    "        attention_mask_batch = torch.LongTensor(attention_mask[batch_size*i:batch_size*(i+1)])\n",
    "        \n",
    "        with torch.no_grad():\n",
    "            batch_embeddings = model(batch, attention_mask=attention_mask_batch)\n",
    "        \n",
    "        embeddings.append(batch_embeddings[0].numpy())"
   ]
  },
  {
   "cell_type": "code",
   "execution_count": 16,
   "id": "c154fa9a-1005-4e26-9cd1-c530ededecd2",
   "metadata": {
    "tags": []
   },
   "outputs": [],
   "source": [
    "features = np.concatenate(embeddings)\n",
    "target = bert_df['toxic']"
   ]
  },
  {
   "cell_type": "code",
   "execution_count": 17,
   "id": "f2573228-2d4c-4853-a854-927fbdcdc8ab",
   "metadata": {},
   "outputs": [
    {
     "data": {
      "text/plain": [
       "(7979, 6)"
      ]
     },
     "execution_count": 17,
     "metadata": {},
     "output_type": "execute_result"
    }
   ],
   "source": [
    "features.shape"
   ]
  },
  {
   "cell_type": "code",
   "execution_count": 18,
   "id": "bbb30118-b1e5-4318-8df9-99a7186452ef",
   "metadata": {},
   "outputs": [
    {
     "data": {
      "text/plain": [
       "(7979,)"
      ]
     },
     "execution_count": 18,
     "metadata": {},
     "output_type": "execute_result"
    }
   ],
   "source": [
    "target.shape"
   ]
  },
  {
   "cell_type": "markdown",
   "id": "48a660aa-b301-4bc1-b481-ca3fdba4ffc0",
   "metadata": {},
   "source": [
    "Признаки сформированы. Выделим из них тестовые и обучающие выборки."
   ]
  },
  {
   "cell_type": "code",
   "execution_count": 19,
   "id": "3002344f-7e0c-4dc6-83b4-cdfa261d6a5e",
   "metadata": {},
   "outputs": [],
   "source": [
    "features_train, features_test, target_train, target_test = train_test_split(\n",
    "    features, target, test_size = .25, random_state=42, stratify=target)"
   ]
  },
  {
   "cell_type": "markdown",
   "id": "8298eb89-1dac-4bde-bc37-94d33a0d7a6f",
   "metadata": {},
   "source": [
    "### Обучение моделей\n",
    "\n",
    "Обучим разные модели на полученных признаках, а результаты обучения внесем в таблицу."
   ]
  },
  {
   "cell_type": "code",
   "execution_count": 20,
   "id": "769456f9-6ac6-498a-a480-f03ea339db1e",
   "metadata": {},
   "outputs": [],
   "source": [
    "modeling_results = {\n",
    "    'name':[],\n",
    "    'model':[],\n",
    "    'train_f1':[],\n",
    "}"
   ]
  },
  {
   "cell_type": "markdown",
   "id": "c75edb22-ed51-4c16-b26f-4228c2c9e535",
   "metadata": {},
   "source": [
    "#### Логистическая регрессия"
   ]
  },
  {
   "cell_type": "code",
   "execution_count": 21,
   "id": "0f228018-4494-452e-b458-b3c8c5b28848",
   "metadata": {},
   "outputs": [
    {
     "name": "stdout",
     "output_type": "stream",
     "text": [
      "Fitting 5 folds for each of 1 candidates, totalling 5 fits\n",
      "Fitting 5 folds for each of 1 candidates, totalling 5 fits\n",
      "Fitting 5 folds for each of 1 candidates, totalling 5 fits\n",
      "Fitting 5 folds for each of 1 candidates, totalling 5 fits\n",
      "Fitting 5 folds for each of 1 candidates, totalling 5 fits\n",
      "Fitting 5 folds for each of 1 candidates, totalling 5 fits\n",
      "Fitting 5 folds for each of 1 candidates, totalling 5 fits\n",
      "Fitting 5 folds for each of 1 candidates, totalling 5 fits\n",
      "Fitting 5 folds for each of 1 candidates, totalling 5 fits\n",
      "Fitting 5 folds for each of 1 candidates, totalling 5 fits\n",
      "Fitting 5 folds for each of 1 candidates, totalling 5 fits\n",
      "Fitting 5 folds for each of 1 candidates, totalling 5 fits\n",
      "Fitting 5 folds for each of 1 candidates, totalling 5 fits\n",
      "Fitting 5 folds for each of 1 candidates, totalling 5 fits\n",
      "Fitting 5 folds for each of 1 candidates, totalling 5 fits\n",
      "Fitting 5 folds for each of 1 candidates, totalling 5 fits\n",
      "Fitting 5 folds for each of 1 candidates, totalling 5 fits\n",
      "Fitting 5 folds for each of 1 candidates, totalling 5 fits\n",
      "Fitting 5 folds for each of 1 candidates, totalling 5 fits\n",
      "Fitting 5 folds for each of 1 candidates, totalling 5 fits\n",
      "Fitting 5 folds for each of 1 candidates, totalling 5 fits\n",
      "Fitting 5 folds for each of 1 candidates, totalling 5 fits\n",
      "Fitting 5 folds for each of 1 candidates, totalling 5 fits\n",
      "Fitting 5 folds for each of 1 candidates, totalling 5 fits\n",
      "Fitting 5 folds for each of 1 candidates, totalling 5 fits\n",
      "Fitting 5 folds for each of 1 candidates, totalling 5 fits\n"
     ]
    },
    {
     "name": "stderr",
     "output_type": "stream",
     "text": [
      "D:\\Abe\\anaconda3\\envs\\praktikum\\lib\\site-packages\\skopt\\optimizer\\optimizer.py:449: UserWarning: The objective has been evaluated at this point before.\n",
      "  warnings.warn(\"The objective has been evaluated \"\n"
     ]
    },
    {
     "name": "stdout",
     "output_type": "stream",
     "text": [
      "Fitting 5 folds for each of 1 candidates, totalling 5 fits\n",
      "Fitting 5 folds for each of 1 candidates, totalling 5 fits\n",
      "Fitting 5 folds for each of 1 candidates, totalling 5 fits\n",
      "Fitting 5 folds for each of 1 candidates, totalling 5 fits\n",
      "Fitting 5 folds for each of 1 candidates, totalling 5 fits\n",
      "Fitting 5 folds for each of 1 candidates, totalling 5 fits\n"
     ]
    },
    {
     "name": "stderr",
     "output_type": "stream",
     "text": [
      "D:\\Abe\\anaconda3\\envs\\praktikum\\lib\\site-packages\\skopt\\optimizer\\optimizer.py:449: UserWarning: The objective has been evaluated at this point before.\n",
      "  warnings.warn(\"The objective has been evaluated \"\n"
     ]
    },
    {
     "name": "stdout",
     "output_type": "stream",
     "text": [
      "Fitting 5 folds for each of 1 candidates, totalling 5 fits\n"
     ]
    },
    {
     "name": "stderr",
     "output_type": "stream",
     "text": [
      "D:\\Abe\\anaconda3\\envs\\praktikum\\lib\\site-packages\\skopt\\optimizer\\optimizer.py:449: UserWarning: The objective has been evaluated at this point before.\n",
      "  warnings.warn(\"The objective has been evaluated \"\n"
     ]
    },
    {
     "name": "stdout",
     "output_type": "stream",
     "text": [
      "Fitting 5 folds for each of 1 candidates, totalling 5 fits\n",
      "Fitting 5 folds for each of 1 candidates, totalling 5 fits\n",
      "Fitting 5 folds for each of 1 candidates, totalling 5 fits\n",
      "Fitting 5 folds for each of 1 candidates, totalling 5 fits\n",
      "Fitting 5 folds for each of 1 candidates, totalling 5 fits\n",
      "Fitting 5 folds for each of 1 candidates, totalling 5 fits\n",
      "Fitting 5 folds for each of 1 candidates, totalling 5 fits\n",
      "Fitting 5 folds for each of 1 candidates, totalling 5 fits\n",
      "Fitting 5 folds for each of 1 candidates, totalling 5 fits\n"
     ]
    },
    {
     "name": "stderr",
     "output_type": "stream",
     "text": [
      "D:\\Abe\\anaconda3\\envs\\praktikum\\lib\\site-packages\\skopt\\optimizer\\optimizer.py:449: UserWarning: The objective has been evaluated at this point before.\n",
      "  warnings.warn(\"The objective has been evaluated \"\n"
     ]
    },
    {
     "name": "stdout",
     "output_type": "stream",
     "text": [
      "Fitting 5 folds for each of 1 candidates, totalling 5 fits\n",
      "Fitting 5 folds for each of 1 candidates, totalling 5 fits\n",
      "Fitting 5 folds for each of 1 candidates, totalling 5 fits\n",
      "Fitting 5 folds for each of 1 candidates, totalling 5 fits\n",
      "Fitting 5 folds for each of 1 candidates, totalling 5 fits\n",
      "Fitting 5 folds for each of 1 candidates, totalling 5 fits\n",
      "Fitting 5 folds for each of 1 candidates, totalling 5 fits\n",
      "Fitting 5 folds for each of 1 candidates, totalling 5 fits\n",
      "F1 модели LogisticRegression - 0.9116139968928183\n",
      "CPU times: total: 24.2 s\n",
      "Wall time: 28.3 s\n"
     ]
    }
   ],
   "source": [
    "%%time\n",
    "\n",
    "clf = LogisticRegression(random_state=42, class_weight='balanced')\n",
    "params = {'C':Real(1e-4, 1e+3, prior='log-uniform')}\n",
    "\n",
    "bs_clf = BayesSearchCV(clf, params, scoring='f1', n_jobs=4, cv=5, verbose=1)\n",
    "bs_clf.fit(features_train, target_train)\n",
    "\n",
    "print(f'F1 модели {type(clf).__name__} - {abs(bs_clf.best_score_)}')\n",
    "\n",
    "modeling_results['model'].append(bs_clf.best_estimator_)\n",
    "modeling_results['name'].append(type(clf).__name__)\n",
    "modeling_results['train_f1'].append(abs(bs_clf.best_score_))"
   ]
  },
  {
   "cell_type": "markdown",
   "id": "97e4d9b7-30b8-47a9-8095-483aeba0250d",
   "metadata": {},
   "source": [
    "#### Случайный лес"
   ]
  },
  {
   "cell_type": "code",
   "execution_count": 22,
   "id": "ac6f2e45-efa3-4e46-8a3d-a09ae566bfee",
   "metadata": {},
   "outputs": [
    {
     "name": "stdout",
     "output_type": "stream",
     "text": [
      "Fitting 5 folds for each of 1 candidates, totalling 5 fits\n",
      "Fitting 5 folds for each of 1 candidates, totalling 5 fits\n",
      "Fitting 5 folds for each of 1 candidates, totalling 5 fits\n",
      "Fitting 5 folds for each of 1 candidates, totalling 5 fits\n",
      "Fitting 5 folds for each of 1 candidates, totalling 5 fits\n",
      "Fitting 5 folds for each of 1 candidates, totalling 5 fits\n",
      "Fitting 5 folds for each of 1 candidates, totalling 5 fits\n",
      "Fitting 5 folds for each of 1 candidates, totalling 5 fits\n",
      "Fitting 5 folds for each of 1 candidates, totalling 5 fits\n",
      "Fitting 5 folds for each of 1 candidates, totalling 5 fits\n",
      "Fitting 5 folds for each of 1 candidates, totalling 5 fits\n",
      "Fitting 5 folds for each of 1 candidates, totalling 5 fits\n",
      "Fitting 5 folds for each of 1 candidates, totalling 5 fits\n",
      "Fitting 5 folds for each of 1 candidates, totalling 5 fits\n",
      "Fitting 5 folds for each of 1 candidates, totalling 5 fits\n",
      "Fitting 5 folds for each of 1 candidates, totalling 5 fits\n",
      "Fitting 5 folds for each of 1 candidates, totalling 5 fits\n",
      "Fitting 5 folds for each of 1 candidates, totalling 5 fits\n",
      "Fitting 5 folds for each of 1 candidates, totalling 5 fits\n",
      "Fitting 5 folds for each of 1 candidates, totalling 5 fits\n",
      "Fitting 5 folds for each of 1 candidates, totalling 5 fits\n",
      "Fitting 5 folds for each of 1 candidates, totalling 5 fits\n",
      "Fitting 5 folds for each of 1 candidates, totalling 5 fits\n",
      "Fitting 5 folds for each of 1 candidates, totalling 5 fits\n",
      "Fitting 5 folds for each of 1 candidates, totalling 5 fits\n",
      "Fitting 5 folds for each of 1 candidates, totalling 5 fits\n",
      "Fitting 5 folds for each of 1 candidates, totalling 5 fits\n",
      "Fitting 5 folds for each of 1 candidates, totalling 5 fits\n",
      "Fitting 5 folds for each of 1 candidates, totalling 5 fits\n",
      "Fitting 5 folds for each of 1 candidates, totalling 5 fits\n",
      "F1 модели RandomForestClassifier - 0.9352823091572322\n",
      "CPU times: total: 16.3 s\n",
      "Wall time: 1min 13s\n"
     ]
    }
   ],
   "source": [
    "%%time\n",
    "\n",
    "rfc = RandomForestClassifier(random_state=42, class_weight='balanced')\n",
    "model_params = {\n",
    "        'n_estimators':Integer(10, 500),\n",
    "        'max_depth':Integer(1, 16),\n",
    "        'min_samples_split':Integer(2, 8),\n",
    "             }\n",
    "\n",
    "bs_rfr = BayesSearchCV(rfc, model_params, scoring='f1', cv=5, n_jobs=4, n_iter=30, verbose=1)\n",
    "bs_rfr.fit(features_train, target_train)\n",
    "\n",
    "print(f'F1 модели {type(rfc).__name__} - {abs(bs_rfr.best_score_)}')\n",
    "\n",
    "modeling_results['model'].append(bs_rfr.best_estimator_)\n",
    "modeling_results['name'].append(type(rfc).__name__)\n",
    "modeling_results['train_f1'].append(abs(bs_rfr.best_score_))"
   ]
  },
  {
   "cell_type": "markdown",
   "id": "898a1fba-d9a1-407f-800e-c70845570036",
   "metadata": {},
   "source": [
    "#### LigthGBM"
   ]
  },
  {
   "cell_type": "code",
   "execution_count": 23,
   "id": "cea610ec-62cf-40f1-ba1f-b045738f02b8",
   "metadata": {},
   "outputs": [
    {
     "name": "stdout",
     "output_type": "stream",
     "text": [
      "Fitting 5 folds for each of 1 candidates, totalling 5 fits\n",
      "Fitting 5 folds for each of 1 candidates, totalling 5 fits\n",
      "Fitting 5 folds for each of 1 candidates, totalling 5 fits\n",
      "Fitting 5 folds for each of 1 candidates, totalling 5 fits\n",
      "Fitting 5 folds for each of 1 candidates, totalling 5 fits\n",
      "Fitting 5 folds for each of 1 candidates, totalling 5 fits\n",
      "Fitting 5 folds for each of 1 candidates, totalling 5 fits\n",
      "Fitting 5 folds for each of 1 candidates, totalling 5 fits\n",
      "Fitting 5 folds for each of 1 candidates, totalling 5 fits\n",
      "Fitting 5 folds for each of 1 candidates, totalling 5 fits\n",
      "Fitting 5 folds for each of 1 candidates, totalling 5 fits\n",
      "Fitting 5 folds for each of 1 candidates, totalling 5 fits\n",
      "Fitting 5 folds for each of 1 candidates, totalling 5 fits\n",
      "Fitting 5 folds for each of 1 candidates, totalling 5 fits\n",
      "Fitting 5 folds for each of 1 candidates, totalling 5 fits\n",
      "Fitting 5 folds for each of 1 candidates, totalling 5 fits\n",
      "Fitting 5 folds for each of 1 candidates, totalling 5 fits\n",
      "Fitting 5 folds for each of 1 candidates, totalling 5 fits\n",
      "Fitting 5 folds for each of 1 candidates, totalling 5 fits\n",
      "Fitting 5 folds for each of 1 candidates, totalling 5 fits\n",
      "Fitting 5 folds for each of 1 candidates, totalling 5 fits\n",
      "Fitting 5 folds for each of 1 candidates, totalling 5 fits\n",
      "Fitting 5 folds for each of 1 candidates, totalling 5 fits\n",
      "Fitting 5 folds for each of 1 candidates, totalling 5 fits\n",
      "Fitting 5 folds for each of 1 candidates, totalling 5 fits\n",
      "Fitting 5 folds for each of 1 candidates, totalling 5 fits\n",
      "Fitting 5 folds for each of 1 candidates, totalling 5 fits\n",
      "Fitting 5 folds for each of 1 candidates, totalling 5 fits\n",
      "Fitting 5 folds for each of 1 candidates, totalling 5 fits\n",
      "Fitting 5 folds for each of 1 candidates, totalling 5 fits\n",
      "F1 модели LGBMClassifier - 0.9232470601470147\n",
      "CPU times: total: 16.7 s\n",
      "Wall time: 21.8 s\n"
     ]
    }
   ],
   "source": [
    "%%time\n",
    "\n",
    "lgbmclf = LGBMClassifier(random_state=42, class_weight='balanced')\n",
    "model_params = {\n",
    "        'learning_rate':Real(1e-2, 1e+6, prior='log-uniform'),\n",
    "        'n_estimators':Integer(10, 500),\n",
    "        'max_depth':Integer(1, 11),\n",
    "             }\n",
    "\n",
    "bs_lgbm = BayesSearchCV(lgbmclf, model_params, scoring='f1', cv=5, n_jobs=4, n_iter=30, verbose=1)\n",
    "bs_lgbm.fit(features_train, target_train)\n",
    "\n",
    "print(f'F1 модели {type(lgbmclf).__name__} - {abs(bs_lgbm.best_score_)}')\n",
    "\n",
    "modeling_results['model'].append(bs_lgbm.best_estimator_)\n",
    "modeling_results['name'].append(type(lgbmclf).__name__)\n",
    "modeling_results['train_f1'].append(abs(bs_lgbm.best_score_))"
   ]
  },
  {
   "cell_type": "markdown",
   "id": "93208ff8-0094-4567-a39a-2a21fe672ab8",
   "metadata": {},
   "source": [
    "### Результаты обучения моделей"
   ]
  },
  {
   "cell_type": "code",
   "execution_count": 24,
   "id": "7236f23c-0720-4e03-8512-34b3c2a1d6ca",
   "metadata": {},
   "outputs": [
    {
     "data": {
      "text/html": [
       "<div>\n",
       "<style scoped>\n",
       "    .dataframe tbody tr th:only-of-type {\n",
       "        vertical-align: middle;\n",
       "    }\n",
       "\n",
       "    .dataframe tbody tr th {\n",
       "        vertical-align: top;\n",
       "    }\n",
       "\n",
       "    .dataframe thead th {\n",
       "        text-align: right;\n",
       "    }\n",
       "</style>\n",
       "<table border=\"1\" class=\"dataframe\">\n",
       "  <thead>\n",
       "    <tr style=\"text-align: right;\">\n",
       "      <th></th>\n",
       "      <th>name</th>\n",
       "      <th>model</th>\n",
       "      <th>train_f1</th>\n",
       "    </tr>\n",
       "  </thead>\n",
       "  <tbody>\n",
       "    <tr>\n",
       "      <th>0</th>\n",
       "      <td>LogisticRegression</td>\n",
       "      <td>LogisticRegression(C=0.00010033458107843696, c...</td>\n",
       "      <td>0.911614</td>\n",
       "    </tr>\n",
       "    <tr>\n",
       "      <th>1</th>\n",
       "      <td>RandomForestClassifier</td>\n",
       "      <td>(DecisionTreeClassifier(max_depth=7, max_featu...</td>\n",
       "      <td>0.935282</td>\n",
       "    </tr>\n",
       "    <tr>\n",
       "      <th>2</th>\n",
       "      <td>LGBMClassifier</td>\n",
       "      <td>LGBMClassifier(class_weight='balanced', learni...</td>\n",
       "      <td>0.923247</td>\n",
       "    </tr>\n",
       "  </tbody>\n",
       "</table>\n",
       "</div>"
      ],
      "text/plain": [
       "                     name                                              model  \\\n",
       "0      LogisticRegression  LogisticRegression(C=0.00010033458107843696, c...   \n",
       "1  RandomForestClassifier  (DecisionTreeClassifier(max_depth=7, max_featu...   \n",
       "2          LGBMClassifier  LGBMClassifier(class_weight='balanced', learni...   \n",
       "\n",
       "   train_f1  \n",
       "0  0.911614  \n",
       "1  0.935282  \n",
       "2  0.923247  "
      ]
     },
     "execution_count": 24,
     "metadata": {},
     "output_type": "execute_result"
    }
   ],
   "source": [
    "results = pd.DataFrame(modeling_results, columns=modeling_results.keys())\n",
    "results"
   ]
  },
  {
   "cell_type": "code",
   "execution_count": 25,
   "id": "2a53c4c9-89f1-428a-b709-092cef3806b8",
   "metadata": {},
   "outputs": [
    {
     "name": "stdout",
     "output_type": "stream",
     "text": [
      "Лучшая модель - RandomForestClassifier с показателем F1 равным 0.94\n"
     ]
    }
   ],
   "source": [
    "best_train_model = results[results['train_f1']==results['train_f1'].max()].reset_index(drop=True)\n",
    "print(f'Лучшая модель - {best_train_model.loc[0,\"name\"]} с показателем F1 равным {best_train_model.loc[0,\"train_f1\"] :.2f}')"
   ]
  },
  {
   "cell_type": "markdown",
   "id": "3be50d2e-7d41-4fc1-be1d-c03df505c3ff",
   "metadata": {},
   "source": [
    "## Тестирование моделей\n",
    "\n",
    "Проверим работу моделей на тестовой выборке и дополним таблицу результатми тестирования. На их основе выберем лучшую модель."
   ]
  },
  {
   "cell_type": "code",
   "execution_count": 26,
   "id": "d996efaa-ce6e-4d96-96fa-2345c076c7d5",
   "metadata": {},
   "outputs": [
    {
     "data": {
      "text/html": [
       "<div>\n",
       "<style scoped>\n",
       "    .dataframe tbody tr th:only-of-type {\n",
       "        vertical-align: middle;\n",
       "    }\n",
       "\n",
       "    .dataframe tbody tr th {\n",
       "        vertical-align: top;\n",
       "    }\n",
       "\n",
       "    .dataframe thead th {\n",
       "        text-align: right;\n",
       "    }\n",
       "</style>\n",
       "<table border=\"1\" class=\"dataframe\">\n",
       "  <thead>\n",
       "    <tr style=\"text-align: right;\">\n",
       "      <th></th>\n",
       "      <th>name</th>\n",
       "      <th>model</th>\n",
       "      <th>train_f1</th>\n",
       "      <th>test_f1</th>\n",
       "    </tr>\n",
       "  </thead>\n",
       "  <tbody>\n",
       "    <tr>\n",
       "      <th>0</th>\n",
       "      <td>LogisticRegression</td>\n",
       "      <td>LogisticRegression(C=0.00010033458107843696, c...</td>\n",
       "      <td>0.911614</td>\n",
       "      <td>0.897494</td>\n",
       "    </tr>\n",
       "    <tr>\n",
       "      <th>1</th>\n",
       "      <td>RandomForestClassifier</td>\n",
       "      <td>(DecisionTreeClassifier(max_depth=7, max_featu...</td>\n",
       "      <td>0.935282</td>\n",
       "      <td>0.932039</td>\n",
       "    </tr>\n",
       "    <tr>\n",
       "      <th>2</th>\n",
       "      <td>LGBMClassifier</td>\n",
       "      <td>LGBMClassifier(class_weight='balanced', learni...</td>\n",
       "      <td>0.923247</td>\n",
       "      <td>0.917073</td>\n",
       "    </tr>\n",
       "  </tbody>\n",
       "</table>\n",
       "</div>"
      ],
      "text/plain": [
       "                     name                                              model  \\\n",
       "0      LogisticRegression  LogisticRegression(C=0.00010033458107843696, c...   \n",
       "1  RandomForestClassifier  (DecisionTreeClassifier(max_depth=7, max_featu...   \n",
       "2          LGBMClassifier  LGBMClassifier(class_weight='balanced', learni...   \n",
       "\n",
       "   train_f1   test_f1  \n",
       "0  0.911614  0.897494  \n",
       "1  0.935282  0.932039  \n",
       "2  0.923247  0.917073  "
      ]
     },
     "execution_count": 26,
     "metadata": {},
     "output_type": "execute_result"
    }
   ],
   "source": [
    "for i in range(len(results)):\n",
    "    model = results.loc[i, 'model']\n",
    "    model.fit(features_train, target_train)\n",
    "    predict = model.predict(features_test)\n",
    "    score = f1_score(target_test, predict)\n",
    "    results.loc[i, 'test_f1'] = score\n",
    "    \n",
    "results"
   ]
  },
  {
   "cell_type": "code",
   "execution_count": 27,
   "id": "41ed5e7f-a13a-4bdf-8520-219eac61b2dc",
   "metadata": {},
   "outputs": [
    {
     "name": "stdout",
     "output_type": "stream",
     "text": [
      "Лучшая модель - RandomForestClassifier с показателем F1 равным 0.93\n",
      "\n",
      "Модель прошла проверку\n"
     ]
    }
   ],
   "source": [
    "best_test_model = results[results['test_f1']==results['test_f1'].max()].reset_index(drop=True)\n",
    "print(f'Лучшая модель - {best_test_model.loc[0,\"name\"]} с показателем F1 равным {best_test_model.loc[0,\"test_f1\"] :.2f}')\n",
    "print()\n",
    "if best_test_model.loc[0,\"test_f1\"] >= 0.75:\n",
    "    print('Модель прошла проверку')\n",
    "else:\n",
    "    print('Тестовая F1-мера меньше 0.75!')"
   ]
  },
  {
   "cell_type": "markdown",
   "id": "59ff97e2-22e6-43f6-9c3f-f1ac6916b208",
   "metadata": {},
   "source": [
    "## Выводы"
   ]
  },
  {
   "cell_type": "markdown",
   "id": "3114cf44-2682-408b-b503-0e1321890198",
   "metadata": {},
   "source": [
    "В ходе проекта была проведена работа по обучению моделей для предсказания токсичных комментариев с помощью BERT. Исходный датасет содержал 2 колонки: в одной содержались текстовые комментарии, во второй - является ли комментарий токсичным или нет.\n",
    "\n",
    "1. В ходе подготовки данных было обнаружено, что токсичные комментарии составляют всего 10% от всех данных. Кроме того, т.к. BERT требует большого объема памяти, было принято решение использовать только часть данных с сохранением исходного соотношения классов.\n",
    "\n",
    "2. Для преобразования текстовых комментариев в векторный вид использовалась предобученная модель BERT [unitary/toxic-bert](https://huggingface.co/unitary/toxic-bert).\n",
    "\n",
    "3. После получения признаков и выделения обучающей и тествой выборок были обучены 3 разных модели: логистическая регрессия, случайный лес и LightGBM. Результаты моделирования были вынесены в таблицу. После этого все модели были протестированы на тестовой выборке. Все 3 модели имеют значение F1-меры более 0.9. Наилучший результат показала модель RandomForestClassifier с результатом 0.93."
   ]
  }
 ],
 "metadata": {
  "ExecuteTimeLog": [
   {
    "duration": 133229,
    "start_time": "2022-07-21T13:16:58.533Z"
   },
   {
    "duration": 5294,
    "start_time": "2022-07-22T15:55:52.449Z"
   },
   {
    "duration": 86601,
    "start_time": "2022-07-22T15:55:57.745Z"
   },
   {
    "duration": 2306,
    "start_time": "2022-07-22T15:57:24.348Z"
   },
   {
    "duration": 48,
    "start_time": "2022-07-22T15:57:26.656Z"
   },
   {
    "duration": 7,
    "start_time": "2022-07-22T15:57:26.706Z"
   },
   {
    "duration": 159,
    "start_time": "2022-07-22T15:57:26.715Z"
   },
   {
    "duration": 5,
    "start_time": "2022-07-22T15:57:26.876Z"
   },
   {
    "duration": 305,
    "start_time": "2022-07-22T15:57:26.883Z"
   },
   {
    "duration": 0,
    "start_time": "2022-07-22T15:57:27.190Z"
   },
   {
    "duration": 0,
    "start_time": "2022-07-22T15:57:27.191Z"
   },
   {
    "duration": 0,
    "start_time": "2022-07-22T15:57:27.192Z"
   },
   {
    "duration": 0,
    "start_time": "2022-07-22T15:57:27.193Z"
   },
   {
    "duration": 54,
    "start_time": "2022-07-22T15:57:46.047Z"
   },
   {
    "duration": 7,
    "start_time": "2022-07-22T15:57:48.345Z"
   },
   {
    "duration": 4,
    "start_time": "2022-07-22T15:57:49.663Z"
   },
   {
    "duration": 119,
    "start_time": "2022-07-22T15:57:49.914Z"
   },
   {
    "duration": 5,
    "start_time": "2022-07-22T15:57:50.451Z"
   },
   {
    "duration": 14,
    "start_time": "2022-07-22T15:57:51.591Z"
   },
   {
    "duration": 24,
    "start_time": "2022-07-22T15:57:56.346Z"
   },
   {
    "duration": 9,
    "start_time": "2022-07-22T15:57:59.264Z"
   },
   {
    "duration": 14,
    "start_time": "2022-07-22T15:58:09.710Z"
   },
   {
    "duration": 84,
    "start_time": "2022-07-22T15:58:33.760Z"
   },
   {
    "duration": 84,
    "start_time": "2022-07-22T15:58:48.791Z"
   },
   {
    "duration": 81,
    "start_time": "2022-07-22T15:58:49.984Z"
   },
   {
    "duration": 11,
    "start_time": "2022-07-22T15:58:53.615Z"
   },
   {
    "duration": 20,
    "start_time": "2022-07-22T16:00:29.711Z"
   },
   {
    "duration": 9,
    "start_time": "2022-07-22T16:00:32.881Z"
   },
   {
    "duration": 10,
    "start_time": "2022-07-22T16:00:42.488Z"
   },
   {
    "duration": 11,
    "start_time": "2022-07-22T16:00:43.867Z"
   },
   {
    "duration": 9,
    "start_time": "2022-07-22T16:00:45.407Z"
   },
   {
    "duration": 13,
    "start_time": "2022-07-22T16:00:46.971Z"
   },
   {
    "duration": 25,
    "start_time": "2022-07-22T16:00:57.513Z"
   },
   {
    "duration": 7,
    "start_time": "2022-07-22T16:08:07.451Z"
   },
   {
    "duration": 3,
    "start_time": "2022-07-22T16:08:07.941Z"
   },
   {
    "duration": 118,
    "start_time": "2022-07-22T16:08:08.291Z"
   },
   {
    "duration": 4,
    "start_time": "2022-07-22T16:08:10.001Z"
   },
   {
    "duration": 20789,
    "start_time": "2022-07-22T16:08:13.109Z"
   },
   {
    "duration": 11,
    "start_time": "2022-07-22T16:08:33.900Z"
   }
  ],
  "kernelspec": {
   "display_name": "Python 3 (ipykernel)",
   "language": "python",
   "name": "python3"
  },
  "language_info": {
   "codemirror_mode": {
    "name": "ipython",
    "version": 3
   },
   "file_extension": ".py",
   "mimetype": "text/x-python",
   "name": "python",
   "nbconvert_exporter": "python",
   "pygments_lexer": "ipython3",
   "version": "3.9.12"
  },
  "toc": {
   "base_numbering": 1,
   "nav_menu": {},
   "number_sections": true,
   "sideBar": true,
   "skip_h1_title": true,
   "title_cell": "Table of Contents",
   "title_sidebar": "Contents",
   "toc_cell": false,
   "toc_position": {},
   "toc_section_display": true,
   "toc_window_display": true
  },
  "toc-autonumbering": true
 },
 "nbformat": 4,
 "nbformat_minor": 5
}
