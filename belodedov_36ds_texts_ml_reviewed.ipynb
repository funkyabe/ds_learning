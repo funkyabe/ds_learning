{
 "cells": [
  {
   "cell_type": "markdown",
   "id": "8b8808c5",
   "metadata": {},
   "source": [
    "<div style=\"border:solid blue 2px; padding: 20px\">\n",
    "<font color='blue'>Привет, Эйб!</font>\n",
    "\n",
    "Твоё решение проверил <font color='blue'>Александр Цымбалов</font>\n",
    "\n",
    "Если у тебя будут какие-то <font color='blue'>вопросы</font>, то обязательно их <font color='blue'>задавай</font>\n",
    "\n",
    "Я буду обращаться к тебе на \"ты\", ведь все мы здесь студенты)\n",
    "Но если тебе некомфортно, то дай знать, пожалуйста\n",
    "<br><br>\n",
    "Мои комментарии будут в отдельных ячейках <font color='blue'>Markdown</font> с заголовком «Комментарий ревьюера».\n",
    "\n",
    "**Пожалуйста, не перемещай, не изменяй и не удаляй их**. \n",
    "Я буду использовать цветовую разметку:\n",
    "\n",
    "<div class=\"alert alert-danger\">\n",
    "<b>Комментарий ревьюера ❌:</b> Замечания, которые необходимо обработать, иначе я не смогу принять проект </div>\n",
    "\n",
    "<div class=\"alert alert-warning\">\n",
    "<b>Комментарий ревьюера ⚠️:</b> Небольшие замечания или вопросы по пониманию темы. Если есть желание и время, то у тебя есть возможность сделать проект ещё лучше </div>\n",
    "\n",
    "<div class=\"alert alert-success\">\n",
    "<b>Комментарий ревьюера ✔️:</b> Хвалебные отзывы или другого рода комментарии)</div>\n",
    "\n",
    "**Если ты что-то меняешь в проекте или отвечаешь на мои комменатри — пиши об этом.**\n",
    "\n",
    "Мне будет <font color='blue'> легче </font> отследить изменения, если ты выделишь свои комментарии:\n",
    "<div class=\"alert alert-info\"> <b>Комментарий студента:</b> Лучше в таком формате, но как тебе <font color='blue'> удобно </font></div></font>\n",
    "\n",
    "Версии комментариев я буду нумеровать\n",
    "\n",
    "<br>"
   ]
  },
  {
   "cell_type": "markdown",
   "id": "9fceddd0",
   "metadata": {},
   "source": [
    "<div class=\"alert alert-info\"> <b>Комментарий студента:</b> \n",
    "Привет, Александр! Спасибо за ревью моей работы! Я постарался учесть все твои комментарии\n",
    "</div>\n"
   ]
  },
  {
   "cell_type": "markdown",
   "id": "55746b68",
   "metadata": {},
   "source": [
    "<div style=\"border:solid blue 2px; padding: 20px\">\n",
    "<font color='blue'>Итоги 1 ревью</font>\n",
    "    \n",
    "Некоторые блоки кода не работают. Посмотри, пожалуйста, что пошло не так. Перед отправкой проекта стоит проверять работоспособность кода — это можно сделать, нажав на панели Jupiter Hub ``Kernel`` и ``Restart & Run All`` (см скриншот ниже).\n",
    "![](https://i.postimg.cc/yd19rYf6/Screenshot-428.png)"
   ]
  },
  {
   "cell_type": "markdown",
   "id": "9d5604a7",
   "metadata": {},
   "source": [
    "<div class=\"alert alert-info\"> <b>Комментарий студента:</b> \n",
    "Вообще, я проверял код перед отправкой. Но сделал я это только при локальном запуске. \n",
    "    \n",
    "Дело в том, что в описании проекта было сказано, что при использовании BERT нужно проект делать локально, т.к. ноутбук в хабе будет ограничен 4 гб оперативки. Поэтому я даже не пытался его запускать онлайн.\n",
    "    \n",
    "Вся проблема связана, судя по всему, с тем, что я забыл добавить установку skopt и из-за этого не сработал BayesSearch из этого модуля. Этот момент я исправил\n",
    "</div>\n"
   ]
  },
  {
   "cell_type": "markdown",
   "id": "62a24d68",
   "metadata": {},
   "source": [
    "<div class=\"alert alert-success\">\n",
    "<b>2 Комментарий ревьюера ✔️:</b> Отлично!</div>\n"
   ]
  },
  {
   "cell_type": "markdown",
   "id": "069da7b5",
   "metadata": {},
   "source": [
    "<div style=\"border:solid green 2px; padding: 20px\">\n",
    "<font color='green'>Итоги 2 ревью</font>\n",
    "    \n",
    "Отличная работа!<br>Ты правильно получил эмбеддинги, подобрал гиперпараметры к моделям и пробил минимальный порог по метрике. <br>Отдельно хочу отметить большое количество поясняющих комментариев, которые помогли проследить ход твоих мыслей. <br>Твоя работа проверялась в Google Colab, поэтому советую познакомиться с этой платформой, если не слышал о ней ранее (ссылка будет в полезных материалах)<br>Спасибо за работу и удачи на курсе, Эйб!<br>\n",
    "<br>Полезные материалы:\n",
    "    <ul><li>Про BERT</li>\n",
    "    <ul>\n",
    "        <li>Яндекс Практикум, RuBERT</li>\n",
    "        <li>https://towardsdatascience.com/fine-tuning-bert-for-text-classification-54e7df642894 - Полный туториал-обучение по BERT</li>\n",
    "        <li>https://medium.com/analytics-vidhya/text-classification-with-bert-using-transformers-for-long-text-inputs-f54833994dfd - Тоже туториал про классификации, но для длинных текстов</li>\n",
    "        <li>https://huggingface.co/docs/transformers/tasks/sequence_classification - Официальный пример из документации huggingface</li>\n",
    "        <li>https://colab.research.google.com/github/huggingface/notebooks/blob/main/examples/text_classification.ipynb - <b>Отличный туториал по реальному соревнованию</b></li>\n",
    "    </ul>\n",
    "    <li>Про GPU</li>\n",
    "    <ul>\n",
    "        <li>https://colab.research.google.com/ - Google Colab для эффективного обучения</li>\n",
    "        <li>https://www.tutorialspoint.com/google_colab/google_colab_using_free_gpu.htm - Как включить GPU в Google Colab</li>\n",
    "        <li>https://huggingface.co/docs/transformers/performance - Как BERT обучать на GPU</li>\n",
    "    </ul>\n",
    "            <li>Про catboost</li>\n",
    "    <ul>\n",
    "        <li>https://towardsdatascience.com/10x-times-fast-catboost-training-speed-with-an-nvidia-gpu-5ffefd9b57a6 - Сравнение GPU и CPU + код обучения на GPU</li>\n",
    "        <li>https://colab.research.google.com/github/catboost/tutorials/blob/master/tools/google_colaboratory_cpu_vs_gpu_tutorial.ipynb - Тетрадка туториал по GPU и CPU catboost</li>\n",
    "    </ul>\n",
    "</ul>\n",
    "    \n",
    "Сейчас активно используются RNN (LSTM) и трансформеры (BERT, ELMO, GPT/2/3/n и др.). Они не являются панацеей, так как и TF-IDF или Word2Vec + модели из классического ML тоже могут решать задачи в текстах. \\\n",
    "BERT тяжелый, есть готовые модели, есть надстройки над библиотекой transformers. Если, обучать BERT на GPU (можно в Google Colab или Kaggle), то должно быть побыстрее.\\\n",
    "https://huggingface.co/transformers/model_doc/bert.html \\\n",
    "https://t.me/renat_alimbekov \\\n",
    "https://colah.github.io/posts/2015-08-Understanding-LSTMs/ - Про LSTM \\\n",
    "https://web.stanford.edu/~jurafsky/slp3/10.pdf - про энкодер-декодер модели, этеншены\\\n",
    "https://pytorch.org/tutorials/beginner/transformer_tutorial.html - официальный гайд\n",
    "по трансформеру от создателей pytorch\\\n",
    "https://transformer.huggingface.co/ - поболтать с трансформером \\\n",
    "Библиотеки: allennlp, fairseq, transformers, tensorflow-text — множествореализованных\n",
    "методов для трансформеров методов NLP \\\n",
    "Word2Vec https://radimrehurek.com/gensim/models/word2vec.html \n",
    "\n",
    "<font color='green'>Пример BERT с GPU:\n",
    "```python\n",
    "%%time\n",
    "from tqdm import notebook\n",
    "batch_size = 2 # для примера возьмем такой батч, где будет всего две строки датасета\n",
    "embeddings = [] \n",
    "for i in notebook.tqdm(range(input_ids.shape[0] // batch_size)):\n",
    "        batch = torch.LongTensor(input_ids[batch_size*i:batch_size*(i+1)]).cuda() # закидываем тензор на GPU\n",
    "        attention_mask_batch = torch.LongTensor(attention_mask[batch_size*i:batch_size*(i+1)]).cuda()\n",
    "        \n",
    "        with torch.no_grad():\n",
    "            model.cuda()\n",
    "            batch_embeddings = model(batch, attention_mask=attention_mask_batch)\n",
    "        \n",
    "        embeddings.append(batch_embeddings[0][:,0,:].cpu().numpy()) # перевод обратно на проц, чтобы в нумпай кинуть\n",
    "        del batch\n",
    "        del attention_mask_batch\n",
    "        del batch_embeddings\n",
    "        \n",
    "features = np.concatenate(embeddings) \n",
    "```\n",
    "Можно сделать предварительную проверку на наличие GPU.\\\n",
    "Например, так: ```device = torch.device(\"cuda:0\") if torch.cuda.is_available() else torch.device(\"cpu\")```\\\n",
    "Тогда вместо .cuda() нужно писать .to(device)</font>"
   ]
  },
  {
   "cell_type": "markdown",
   "id": "c3885f86-93ad-41cc-bf05-1a2e43380913",
   "metadata": {},
   "source": [
    "# Проект для «Викишоп» с использованием BERT"
   ]
  },
  {
   "cell_type": "markdown",
   "id": "15114598",
   "metadata": {},
   "source": [
    "<div class=\"alert alert-success\">\n",
    "<b>1 Комментарий ревьюера ✔️:</b> Здорово, что ты взял BERT!</div>\n"
   ]
  },
  {
   "cell_type": "markdown",
   "id": "65f4234a-e8df-45e2-a7e2-0621ee330fdc",
   "metadata": {},
   "source": [
    "Интернет-магазин «Викишоп» запускает новый сервис. Теперь пользователи могут редактировать и дополнять описания товаров, как в вики-сообществах. То есть клиенты предлагают свои правки и комментируют изменения других. Магазину нужен инструмент, который будет искать токсичные комментарии и отправлять их на модерацию. \n",
    "\n",
    "Обучите модель классифицировать комментарии на позитивные и негативные. В вашем распоряжении набор данных с разметкой о токсичности правок.\n",
    "\n",
    "Постройте модель со значением метрики качества *F1* не меньше 0.75. \n",
    "\n",
    "\n",
    "Данные находятся в файле `toxic_comments.csv`. Столбец *text* в нём содержит текст комментария, а *toxic* — целевой признак."
   ]
  },
  {
   "cell_type": "markdown",
   "id": "19bf8a6c-6483-4cb0-8299-c03a806664d4",
   "metadata": {},
   "source": [
    "## Подготовка "
   ]
  },
  {
   "cell_type": "code",
   "execution_count": 1,
   "id": "0f2f79a7-b383-406c-b147-42a88eff812c",
   "metadata": {},
   "outputs": [
    {
     "name": "stdout",
     "output_type": "stream",
     "text": [
      "Requirement already satisfied: lightgbm in /opt/conda/lib/python3.9/site-packages (3.3.1)\n",
      "Requirement already satisfied: wheel in /opt/conda/lib/python3.9/site-packages (from lightgbm) (0.36.2)\n",
      "Requirement already satisfied: scipy in /opt/conda/lib/python3.9/site-packages (from lightgbm) (1.8.0)\n",
      "Requirement already satisfied: scikit-learn!=0.22.0 in /opt/conda/lib/python3.9/site-packages (from lightgbm) (0.24.1)\n",
      "Requirement already satisfied: numpy in /opt/conda/lib/python3.9/site-packages (from lightgbm) (1.21.1)\n",
      "Requirement already satisfied: joblib>=0.11 in /opt/conda/lib/python3.9/site-packages (from scikit-learn!=0.22.0->lightgbm) (1.1.0)\n",
      "Requirement already satisfied: threadpoolctl>=2.0.0 in /opt/conda/lib/python3.9/site-packages (from scikit-learn!=0.22.0->lightgbm) (3.1.0)\n",
      "Collecting scikit-optimize\n",
      "  Downloading scikit_optimize-0.9.0-py2.py3-none-any.whl (100 kB)\n",
      "\u001b[K     |████████████████████████████████| 100 kB 1.5 MB/s ta 0:00:01\n",
      "\u001b[?25hRequirement already satisfied: scipy>=0.19.1 in /opt/conda/lib/python3.9/site-packages (from scikit-optimize) (1.8.0)\n",
      "Collecting pyaml>=16.9\n",
      "  Downloading pyaml-21.10.1-py2.py3-none-any.whl (24 kB)\n",
      "Requirement already satisfied: joblib>=0.11 in /opt/conda/lib/python3.9/site-packages (from scikit-optimize) (1.1.0)\n",
      "Requirement already satisfied: scikit-learn>=0.20.0 in /opt/conda/lib/python3.9/site-packages (from scikit-optimize) (0.24.1)\n",
      "Requirement already satisfied: numpy>=1.13.3 in /opt/conda/lib/python3.9/site-packages (from scikit-optimize) (1.21.1)\n",
      "Requirement already satisfied: PyYAML in /opt/conda/lib/python3.9/site-packages (from pyaml>=16.9->scikit-optimize) (6.0)\n",
      "Requirement already satisfied: threadpoolctl>=2.0.0 in /opt/conda/lib/python3.9/site-packages (from scikit-learn>=0.20.0->scikit-optimize) (3.1.0)\n",
      "Installing collected packages: pyaml, scikit-optimize\n",
      "Successfully installed pyaml-21.10.1 scikit-optimize-0.9.0\n"
     ]
    }
   ],
   "source": [
    "!pip install lightgbm\n",
    "!pip install scikit-optimize"
   ]
  },
  {
   "cell_type": "code",
   "execution_count": 2,
   "id": "b436d433-6548-4979-aa2f-65dfefa78bc3",
   "metadata": {},
   "outputs": [],
   "source": [
    "import pandas as pd\n",
    "import numpy as np\n",
    "import seaborn as sns\n",
    "import matplotlib.pyplot as plt\n",
    "\n",
    "import torch\n",
    "import transformers\n",
    "from tqdm import notebook\n",
    "\n",
    "from sklearn.linear_model import LogisticRegression\n",
    "from sklearn.ensemble import RandomForestClassifier\n",
    "from sklearn.model_selection import cross_val_score\n",
    "from sklearn.model_selection import train_test_split\n",
    "from sklearn.metrics import f1_score\n",
    "\n",
    "from skopt import BayesSearchCV\n",
    "from skopt.space import Integer, Real\n",
    "\n",
    "from lightgbm import LGBMClassifier\n",
    "\n",
    "import os"
   ]
  },
  {
   "cell_type": "markdown",
   "id": "e2ac6a55",
   "metadata": {},
   "source": [
    "<div class=\"alert alert-danger\">\n",
    "<b>1 Комментарий ревьюера ❌:</b> Нет модуля </div>\n",
    "\n",
    "\n",
    "<div class=\"alert alert-info\"> <b>Комментарий студента:</b> \n",
    "Исправил!\n",
    "</div>\n"
   ]
  },
  {
   "cell_type": "markdown",
   "id": "7830ccbb",
   "metadata": {},
   "source": [
    "<div class=\"alert alert-success\">\n",
    "<b>2 Комментарий ревьюера ✔️:</b> Верно. Есть установка!</div>\n"
   ]
  },
  {
   "cell_type": "raw",
   "id": "c7b5cd6e-de6e-431a-bec4-a5cf196c0ce8",
   "metadata": {},
   "source": [
    "try:\n",
    "    df = pd.read_csv('toxic_comments.csv')\n",
    "except:\n",
    "    df = pd.read_csv('/datasets/toxic_comments.csv')\n",
    "    \n",
    "df.info()\n",
    "df"
   ]
  },
  {
   "cell_type": "code",
   "execution_count": 3,
   "id": "6364d98e-0376-40a6-b690-e6be64ca5933",
   "metadata": {},
   "outputs": [],
   "source": [
    "pth1 = 'toxic_comments.csv'\n",
    "pth2 = '/datasets/toxic_comments.csv'\n",
    "\n",
    "if os.path.exists(pth1):\n",
    "    df = pd.read_csv(pth1)\n",
    "elif os.path.exists(pth2):\n",
    "    df = pd.read_csv(pth2)\n",
    "else:\n",
    "    print('Something is wrong')"
   ]
  },
  {
   "cell_type": "markdown",
   "id": "82e5c517",
   "metadata": {},
   "source": [
    "<div class=\"alert alert-warning\">\n",
    "<b>1 Комментарий ревьюера ⚠️:</b> \n",
    "    \n",
    "Предлагаю использовать конструкцию `os`. Если файл будет существовать по предложенному выше пути, но внутри будет поломан, тогда мы попробуем открыть другой файл, который точно не существует. Чтобы избегать таких проблем, можно либо передать конкретную ошибку, которую будет ловить `except`, либо использовать код ниже:\n",
    "    \n",
    "    \n",
    "    import os\n",
    "\n",
    "    pth1 = '/folder_1/data.csv'\n",
    "    pth2 = '/folder_2/data.csv'\n",
    "    \n",
    "    if os.path.exists(pth1):\n",
    "        query_1 = pd.read_csv(pth1)\n",
    "    elif os.path.exists(pth2):\n",
    "        query_1 = pd.read_csv(pth2)\n",
    "    else:\n",
    "        print('Something is wrong)\n",
    "    "
   ]
  },
  {
   "cell_type": "markdown",
   "id": "a72b84cc-5ef9-4840-b7ff-6b1e7c32f2bc",
   "metadata": {},
   "source": [
    "<div class=\"alert alert-info\"> <b>Комментарий студента:</b> \n",
    "    \n",
    "Добавил открытие файла через `os`\n",
    "</div>"
   ]
  },
  {
   "cell_type": "markdown",
   "id": "94356a8f",
   "metadata": {},
   "source": [
    "<div class=\"alert alert-success\">\n",
    "<b>2 Комментарий ревьюера ✔️:</b> Отличная работа с файлами!</div>\n"
   ]
  },
  {
   "cell_type": "code",
   "execution_count": 4,
   "id": "b2f7f40d-a481-4aa3-b3c7-eba2fbaf9487",
   "metadata": {},
   "outputs": [
    {
     "name": "stdout",
     "output_type": "stream",
     "text": [
      "<class 'pandas.core.frame.DataFrame'>\n",
      "RangeIndex: 159571 entries, 0 to 159570\n",
      "Data columns (total 2 columns):\n",
      " #   Column  Non-Null Count   Dtype \n",
      "---  ------  --------------   ----- \n",
      " 0   text    159571 non-null  object\n",
      " 1   toxic   159571 non-null  int64 \n",
      "dtypes: int64(1), object(1)\n",
      "memory usage: 2.4+ MB\n"
     ]
    },
    {
     "data": {
      "text/html": [
       "<div>\n",
       "<style scoped>\n",
       "    .dataframe tbody tr th:only-of-type {\n",
       "        vertical-align: middle;\n",
       "    }\n",
       "\n",
       "    .dataframe tbody tr th {\n",
       "        vertical-align: top;\n",
       "    }\n",
       "\n",
       "    .dataframe thead th {\n",
       "        text-align: right;\n",
       "    }\n",
       "</style>\n",
       "<table border=\"1\" class=\"dataframe\">\n",
       "  <thead>\n",
       "    <tr style=\"text-align: right;\">\n",
       "      <th></th>\n",
       "      <th>text</th>\n",
       "      <th>toxic</th>\n",
       "    </tr>\n",
       "  </thead>\n",
       "  <tbody>\n",
       "    <tr>\n",
       "      <th>0</th>\n",
       "      <td>Explanation\\nWhy the edits made under my usern...</td>\n",
       "      <td>0</td>\n",
       "    </tr>\n",
       "    <tr>\n",
       "      <th>1</th>\n",
       "      <td>D'aww! He matches this background colour I'm s...</td>\n",
       "      <td>0</td>\n",
       "    </tr>\n",
       "    <tr>\n",
       "      <th>2</th>\n",
       "      <td>Hey man, I'm really not trying to edit war. It...</td>\n",
       "      <td>0</td>\n",
       "    </tr>\n",
       "    <tr>\n",
       "      <th>3</th>\n",
       "      <td>\"\\nMore\\nI can't make any real suggestions on ...</td>\n",
       "      <td>0</td>\n",
       "    </tr>\n",
       "    <tr>\n",
       "      <th>4</th>\n",
       "      <td>You, sir, are my hero. Any chance you remember...</td>\n",
       "      <td>0</td>\n",
       "    </tr>\n",
       "    <tr>\n",
       "      <th>...</th>\n",
       "      <td>...</td>\n",
       "      <td>...</td>\n",
       "    </tr>\n",
       "    <tr>\n",
       "      <th>159566</th>\n",
       "      <td>\":::::And for the second time of asking, when ...</td>\n",
       "      <td>0</td>\n",
       "    </tr>\n",
       "    <tr>\n",
       "      <th>159567</th>\n",
       "      <td>You should be ashamed of yourself \\n\\nThat is ...</td>\n",
       "      <td>0</td>\n",
       "    </tr>\n",
       "    <tr>\n",
       "      <th>159568</th>\n",
       "      <td>Spitzer \\n\\nUmm, theres no actual article for ...</td>\n",
       "      <td>0</td>\n",
       "    </tr>\n",
       "    <tr>\n",
       "      <th>159569</th>\n",
       "      <td>And it looks like it was actually you who put ...</td>\n",
       "      <td>0</td>\n",
       "    </tr>\n",
       "    <tr>\n",
       "      <th>159570</th>\n",
       "      <td>\"\\nAnd ... I really don't think you understand...</td>\n",
       "      <td>0</td>\n",
       "    </tr>\n",
       "  </tbody>\n",
       "</table>\n",
       "<p>159571 rows × 2 columns</p>\n",
       "</div>"
      ],
      "text/plain": [
       "                                                     text  toxic\n",
       "0       Explanation\\nWhy the edits made under my usern...      0\n",
       "1       D'aww! He matches this background colour I'm s...      0\n",
       "2       Hey man, I'm really not trying to edit war. It...      0\n",
       "3       \"\\nMore\\nI can't make any real suggestions on ...      0\n",
       "4       You, sir, are my hero. Any chance you remember...      0\n",
       "...                                                   ...    ...\n",
       "159566  \":::::And for the second time of asking, when ...      0\n",
       "159567  You should be ashamed of yourself \\n\\nThat is ...      0\n",
       "159568  Spitzer \\n\\nUmm, theres no actual article for ...      0\n",
       "159569  And it looks like it was actually you who put ...      0\n",
       "159570  \"\\nAnd ... I really don't think you understand...      0\n",
       "\n",
       "[159571 rows x 2 columns]"
      ]
     },
     "execution_count": 4,
     "metadata": {},
     "output_type": "execute_result"
    }
   ],
   "source": [
    "df.info()\n",
    "df"
   ]
  },
  {
   "cell_type": "code",
   "execution_count": 5,
   "id": "0b6dbcab-b9b2-450b-b032-11d94b2cfd21",
   "metadata": {},
   "outputs": [
    {
     "data": {
      "text/plain": [
       "0    143346\n",
       "1     16225\n",
       "Name: toxic, dtype: int64"
      ]
     },
     "execution_count": 5,
     "metadata": {},
     "output_type": "execute_result"
    }
   ],
   "source": [
    "df['toxic'].value_counts()"
   ]
  },
  {
   "cell_type": "code",
   "execution_count": 6,
   "id": "7367d1ee-692b-4267-b28a-82c30cf50910",
   "metadata": {},
   "outputs": [
    {
     "data": {
      "text/plain": [
       "<AxesSubplot:>"
      ]
     },
     "execution_count": 6,
     "metadata": {},
     "output_type": "execute_result"
    },
    {
     "data": {
      "image/png": "[encoded data removed]",
      "text/plain": [
       "<Figure size 576x576 with 1 Axes>"
      ]
     },
     "metadata": {
      "needs_background": "light"
     },
     "output_type": "display_data"
    }
   ],
   "source": [
    "df['toxic'].hist(density=True, figsize=(8,8))"
   ]
  },
  {
   "cell_type": "code",
   "execution_count": 7,
   "id": "14eddb7e-9da2-4350-a02c-b133a6bf641f",
   "metadata": {},
   "outputs": [
    {
     "data": {
      "text/plain": [
       "'Токсичных комментариев в датасете - 10.17%'"
      ]
     },
     "execution_count": 7,
     "metadata": {},
     "output_type": "execute_result"
    }
   ],
   "source": [
    "f\"Токсичных комментариев в датасете - {df['toxic'].value_counts()[1] / df.shape[0]:.2%}\""
   ]
  },
  {
   "cell_type": "markdown",
   "id": "1184144f-4810-4a90-80d6-0a266c1f0dd8",
   "metadata": {},
   "source": [
    "У нас имеется датасет, содержащий комментарии пользователей и отметку, является ли комментарий токсичным или нет. Всего в датасете более 150 тысяч строк. Токсичные комментарии составляют 10% от всех данных.\n",
    "\n",
    "Т.к. для обучения модели BERT требуется большое количество памяти, будем использовать только часть данных. При этом нужно сохранить исходное соотношение токсичных комментов к нетоксичным."
   ]
  },
  {
   "cell_type": "markdown",
   "id": "1d9a05d5",
   "metadata": {},
   "source": [
    "<div class=\"alert alert-success\">\n",
    "<b>1 Комментарий ревьюера ✔️:</b> Правильно обнаружил дисбаланс!</div>\n"
   ]
  },
  {
   "cell_type": "code",
   "execution_count": 9,
   "id": "ca645031-b077-4ede-83c7-723f7563b17d",
   "metadata": {},
   "outputs": [],
   "source": [
    "_, bert_df = train_test_split(df, test_size=.05, stratify=df['toxic'], random_state=42)"
   ]
  },
  {
   "cell_type": "markdown",
   "id": "d391cb73",
   "metadata": {},
   "source": [
    "<div class=\"alert alert-warning\">\n",
    "<b>1 Комментарий ревьюера ⚠️:</b> \n",
    "    \n",
    "У `pd.DataFrame` есть метод `sample` для взятия выборки. Подробнее можно про него почитать здесь: [sample](https://pandas.pydata.org/docs/reference/api/pandas.DataFrame.sample.html)"
   ]
  },
  {
   "cell_type": "markdown",
   "id": "966be5bb-47bd-43f0-b619-58a47c71f309",
   "metadata": {},
   "source": [
    "<div class=\"alert alert-info\"> <b>Комментарий студента:</b> \n",
    "\n",
    "Про метод `sample` я знаю, но в данном случае решил использовать `train_test_split`, т.к. в нем реализована возможность сохранить исходный дисбаланс классов. \n",
    "\n",
    "Знаю, что у `sample` есть параметр `weights`, но если честно, я не совсем понимаю, как он работает - туда нужно передавать `Series` той же длины, что и датафрейм.\n",
    "</div>"
   ]
  },
  {
   "cell_type": "markdown",
   "id": "41cd462d",
   "metadata": {},
   "source": [
    "<div class=\"alert alert-success\">\n",
    "<b>2 Комментарий ревьюера ✔️:</b> \n",
    "    \n",
    "Разумное замечание! В среднем, отличие в таргете будет на процент (при взятии `sample`), но стоит сохранить по возможности оригинальный дисбаланс, ты прав</div>\n"
   ]
  },
  {
   "cell_type": "code",
   "execution_count": 29,
   "id": "0a960815-7b72-42b0-ae98-1d7b942a2449",
   "metadata": {},
   "outputs": [
    {
     "data": {
      "text/html": [
       "<div>\n",
       "<style scoped>\n",
       "    .dataframe tbody tr th:only-of-type {\n",
       "        vertical-align: middle;\n",
       "    }\n",
       "\n",
       "    .dataframe tbody tr th {\n",
       "        vertical-align: top;\n",
       "    }\n",
       "\n",
       "    .dataframe thead th {\n",
       "        text-align: right;\n",
       "    }\n",
       "</style>\n",
       "<table border=\"1\" class=\"dataframe\">\n",
       "  <thead>\n",
       "    <tr style=\"text-align: right;\">\n",
       "      <th></th>\n",
       "      <th>text</th>\n",
       "      <th>toxic</th>\n",
       "    </tr>\n",
       "  </thead>\n",
       "  <tbody>\n",
       "    <tr>\n",
       "      <th>116312</th>\n",
       "      <td>\"\\n\\nI want to know who is the \"\"Human rights ...</td>\n",
       "      <td>0</td>\n",
       "    </tr>\n",
       "    <tr>\n",
       "      <th>17270</th>\n",
       "      <td>Category:WikiProject Energy development articl...</td>\n",
       "      <td>0</td>\n",
       "    </tr>\n",
       "    <tr>\n",
       "      <th>79760</th>\n",
       "      <td>\"*It might not have been your intention, but y...</td>\n",
       "      <td>0</td>\n",
       "    </tr>\n",
       "    <tr>\n",
       "      <th>3623</th>\n",
       "      <td>\"\\nThank you for your kindness.  (Talk • Contr...</td>\n",
       "      <td>0</td>\n",
       "    </tr>\n",
       "    <tr>\n",
       "      <th>14421</th>\n",
       "      <td>1938 Colombia air accident \\n\\n:es:Accidente a...</td>\n",
       "      <td>0</td>\n",
       "    </tr>\n",
       "  </tbody>\n",
       "</table>\n",
       "</div>"
      ],
      "text/plain": [
       "                                                     text  toxic\n",
       "116312  \"\\n\\nI want to know who is the \"\"Human rights ...      0\n",
       "17270   Category:WikiProject Energy development articl...      0\n",
       "79760   \"*It might not have been your intention, but y...      0\n",
       "3623    \"\\nThank you for your kindness.  (Talk • Contr...      0\n",
       "14421   1938 Colombia air accident \\n\\n:es:Accidente a...      0"
      ]
     },
     "execution_count": 29,
     "metadata": {},
     "output_type": "execute_result"
    }
   ],
   "source": [
    "bert_df.head()"
   ]
  },
  {
   "cell_type": "code",
   "execution_count": 30,
   "id": "faf1a902-7634-4c3d-a92c-b91710e10873",
   "metadata": {},
   "outputs": [
    {
     "data": {
      "text/plain": [
       "(7979, 2)"
      ]
     },
     "execution_count": 30,
     "metadata": {},
     "output_type": "execute_result"
    }
   ],
   "source": [
    "bert_df.shape"
   ]
  },
  {
   "cell_type": "code",
   "execution_count": 31,
   "id": "e5e0fc5b-3f17-4c15-8b8c-065ad8acb845",
   "metadata": {},
   "outputs": [
    {
     "data": {
      "text/plain": [
       "<AxesSubplot:>"
      ]
     },
     "execution_count": 31,
     "metadata": {},
     "output_type": "execute_result"
    },
    {
     "data": {
      "image/png": "[encoded data removed]",
      "text/plain": [
       "<Figure size 576x576 with 1 Axes>"
      ]
     },
     "metadata": {
      "needs_background": "light"
     },
     "output_type": "display_data"
    }
   ],
   "source": [
    "bert_df['toxic'].hist(density=True, figsize=(8,8))"
   ]
  },
  {
   "cell_type": "code",
   "execution_count": 32,
   "id": "4d0925a1-a38f-4254-b4f2-2068a04d3861",
   "metadata": {},
   "outputs": [
    {
     "data": {
      "text/plain": [
       "'Токсичных комментариев в новом датасете - 10.16%'"
      ]
     },
     "execution_count": 32,
     "metadata": {},
     "output_type": "execute_result"
    }
   ],
   "source": [
    "f\"Токсичных комментариев в новом датасете - {bert_df['toxic'].value_counts()[1] / bert_df.shape[0]:.2%}\""
   ]
  },
  {
   "cell_type": "markdown",
   "id": "d7620472-8e40-4bb7-99a4-a7df184118b7",
   "metadata": {},
   "source": [
    "Соотношение классов сохранено. Можно приступить к обучению."
   ]
  },
  {
   "cell_type": "markdown",
   "id": "0269b367-282e-4019-a371-8f8866f68ba5",
   "metadata": {},
   "source": [
    "## Обучение \n",
    "\n",
    "### Создание признаков с помощью BERT\n",
    "\n",
    "Для создания признаков воспользуемся предобученной [моделью для классификации токсичных комментариев](https://huggingface.co/unitary/toxic-bert)."
   ]
  },
  {
   "cell_type": "code",
   "execution_count": 33,
   "id": "d8b7cce7-8bd3-4a62-b88a-31e64c94de71",
   "metadata": {},
   "outputs": [
    {
     "data": {
      "application/vnd.jupyter.widget-view+json": {
       "model_id": "be59ad1808494ad1b5ce55f14238a8ec",
       "version_major": 2,
       "version_minor": 0
      },
      "text/plain": [
       "Downloading:   0%|          | 0.00/174 [00:00<?, ?B/s]"
      ]
     },
     "metadata": {},
     "output_type": "display_data"
    },
    {
     "data": {
      "application/vnd.jupyter.widget-view+json": {
       "model_id": "6599f16cd3334ce5be9ab701fc6c063e",
       "version_major": 2,
       "version_minor": 0
      },
      "text/plain": [
       "Downloading:   0%|          | 0.00/811 [00:00<?, ?B/s]"
      ]
     },
     "metadata": {},
     "output_type": "display_data"
    },
    {
     "data": {
      "application/vnd.jupyter.widget-view+json": {
       "model_id": "4932cbcaa02348c2bacb5e539fd3d5d7",
       "version_major": 2,
       "version_minor": 0
      },
      "text/plain": [
       "Downloading:   0%|          | 0.00/226k [00:00<?, ?B/s]"
      ]
     },
     "metadata": {},
     "output_type": "display_data"
    },
    {
     "data": {
      "application/vnd.jupyter.widget-view+json": {
       "model_id": "a09a268802f34e329612ed55c4c1f90d",
       "version_major": 2,
       "version_minor": 0
      },
      "text/plain": [
       "Downloading:   0%|          | 0.00/112 [00:00<?, ?B/s]"
      ]
     },
     "metadata": {},
     "output_type": "display_data"
    },
    {
     "data": {
      "application/vnd.jupyter.widget-view+json": {
       "model_id": "d0197674cfe44647a2576eee2ebe4e36",
       "version_major": 2,
       "version_minor": 0
      },
      "text/plain": [
       "Downloading:   0%|          | 0.00/418M [00:00<?, ?B/s]"
      ]
     },
     "metadata": {},
     "output_type": "display_data"
    },
    {
     "name": "stdout",
     "output_type": "stream",
     "text": [
      "CPU times: user 7.63 s, sys: 1.56 s, total: 9.19 s\n",
      "Wall time: 20.8 s\n"
     ]
    },
    {
     "data": {
      "text/plain": [
       "(7979, 512)"
      ]
     },
     "execution_count": 33,
     "metadata": {},
     "output_type": "execute_result"
    }
   ],
   "source": [
    "%%time\n",
    "tokenizer = transformers.AutoTokenizer.from_pretrained(\"unitary/toxic-bert\")\n",
    "model = transformers.AutoModelForSequenceClassification.from_pretrained(\"unitary/toxic-bert\")\n",
    "\n",
    "tokenized = bert_df['text'].apply(lambda x: tokenizer.encode(x, add_special_tokens=True, truncation=True))\n",
    "\n",
    "max_len = 0\n",
    "for i in tokenized.values:\n",
    "    if len(i) > max_len:\n",
    "        max_len = len(i)\n",
    "\n",
    "padded = np.array([i + [0]*(max_len - len(i)) for i in tokenized.values])\n",
    "padded.shape"
   ]
  },
  {
   "cell_type": "markdown",
   "id": "5e3f93d4",
   "metadata": {},
   "source": [
    "<div class=\"alert alert-success\">\n",
    "<b>1 Комментарий ревьюера ✔️:</b> \n",
    "\n",
    "Здорово, что ты использовал `\"unitary/toxic-bert\"`! Правильная токенизация</div>\n"
   ]
  },
  {
   "cell_type": "code",
   "execution_count": 34,
   "id": "beadfe7b-f385-408f-a997-39de7020a393",
   "metadata": {},
   "outputs": [
    {
     "data": {
      "text/plain": [
       "(7979, 512)"
      ]
     },
     "execution_count": 34,
     "metadata": {},
     "output_type": "execute_result"
    }
   ],
   "source": [
    "attention_mask = np.where(padded != 0, 1, 0)\n",
    "attention_mask.shape"
   ]
  },
  {
   "cell_type": "code",
   "execution_count": null,
   "id": "fec264e8-72ba-4003-a1df-585fc8f46a63",
   "metadata": {},
   "outputs": [],
   "source": [
    "batch_size = 79\n",
    "embeddings = []\n",
    "for i in notebook.tqdm(range(padded.shape[0] // batch_size)):\n",
    "        batch = torch.LongTensor(padded[batch_size*i:batch_size*(i+1)]) \n",
    "        attention_mask_batch = torch.LongTensor(attention_mask[batch_size*i:batch_size*(i+1)])\n",
    "        \n",
    "        with torch.no_grad():\n",
    "            batch_embeddings = model(batch, attention_mask=attention_mask_batch)\n",
    "        \n",
    "        embeddings.append(batch_embeddings[0].numpy())"
   ]
  },
  {
   "cell_type": "code",
   "execution_count": null,
   "id": "c154fa9a-1005-4e26-9cd1-c530ededecd2",
   "metadata": {
    "tags": []
   },
   "outputs": [],
   "source": [
    "features = np.concatenate(embeddings)\n",
    "target = bert_df['toxic']"
   ]
  },
  {
   "cell_type": "markdown",
   "id": "4159459b",
   "metadata": {},
   "source": [
    "<div class=\"alert alert-success\">\n",
    "<b>1 Комментарий ревьюера ✔️:</b> \n",
    "\n",
    "Верно сформированный `features`"
   ]
  },
  {
   "cell_type": "code",
   "execution_count": null,
   "id": "f2573228-2d4c-4853-a854-927fbdcdc8ab",
   "metadata": {},
   "outputs": [],
   "source": [
    "features.shape"
   ]
  },
  {
   "cell_type": "code",
   "execution_count": null,
   "id": "bbb30118-b1e5-4318-8df9-99a7186452ef",
   "metadata": {},
   "outputs": [],
   "source": [
    "target.shape"
   ]
  },
  {
   "cell_type": "markdown",
   "id": "48a660aa-b301-4bc1-b481-ca3fdba4ffc0",
   "metadata": {},
   "source": [
    "Признаки сформированы. Выделим из них тестовые и обучающие выборки."
   ]
  },
  {
   "cell_type": "code",
   "execution_count": null,
   "id": "3002344f-7e0c-4dc6-83b4-cdfa261d6a5e",
   "metadata": {},
   "outputs": [],
   "source": [
    "features_train, features_test, target_train, target_test = train_test_split(\n",
    "    features, target, test_size = .25, random_state=42, stratify=target)"
   ]
  },
  {
   "cell_type": "markdown",
   "id": "8298eb89-1dac-4bde-bc37-94d33a0d7a6f",
   "metadata": {},
   "source": [
    "### Обучение моделей\n",
    "\n",
    "Обучим разные модели на полученных признаках, а результаты обучения внесем в таблицу."
   ]
  },
  {
   "cell_type": "code",
   "execution_count": null,
   "id": "769456f9-6ac6-498a-a480-f03ea339db1e",
   "metadata": {},
   "outputs": [],
   "source": [
    "modeling_results = {\n",
    "    'name':[],\n",
    "    'model':[],\n",
    "    'train_f1':[],\n",
    "}"
   ]
  },
  {
   "cell_type": "markdown",
   "id": "5e24d5c5",
   "metadata": {},
   "source": [
    "<div class=\"alert alert-success\">\n",
    "<b>1 Комментарий ревьюера ✔️:</b> \n",
    "\n",
    "Удобный способ записывать результаты"
   ]
  },
  {
   "cell_type": "markdown",
   "id": "c75edb22-ed51-4c16-b26f-4228c2c9e535",
   "metadata": {},
   "source": [
    "#### Логистическая регрессия"
   ]
  },
  {
   "cell_type": "code",
   "execution_count": null,
   "id": "0f228018-4494-452e-b458-b3c8c5b28848",
   "metadata": {},
   "outputs": [],
   "source": [
    "%%time\n",
    "\n",
    "clf = LogisticRegression(random_state=42, class_weight={0:1, 1:9})\n",
    "params = {'C':Real(1e-4, 1e+3, prior='log-uniform')}\n",
    "\n",
    "bs_clf = BayesSearchCV(clf, params, scoring='f1', n_jobs=4, cv=5, verbose=1)\n",
    "bs_clf.fit(features_train, target_train)\n",
    "\n",
    "print(f'F1 модели {type(clf).__name__} - {abs(bs_clf.best_score_)}')\n",
    "\n",
    "modeling_results['model'].append(bs_clf.best_estimator_)\n",
    "modeling_results['name'].append(type(clf).__name__)\n",
    "modeling_results['train_f1'].append(abs(bs_clf.best_score_))"
   ]
  },
  {
   "cell_type": "markdown",
   "id": "d6d5f559",
   "metadata": {},
   "source": [
    "<div class=\"alert alert-success\">\n",
    "<b>1 Комментарий ревьюера ✔️:</b> \n",
    "\n",
    "Необычный выбор серчера! "
   ]
  },
  {
   "cell_type": "markdown",
   "id": "81297117",
   "metadata": {},
   "source": [
    "<div class=\"alert alert-warning\">\n",
    "<b>2 Комментарий ревьюера ⚠️:</b> \n",
    "    \n",
    "Ещё можно использовать `class_weight = \"balanced\"` для автоматического взвешивания классов, `n_jobs = -1` для взятия макс. количества ядер CPU"
   ]
  },
  {
   "cell_type": "markdown",
   "id": "97e4d9b7-30b8-47a9-8095-483aeba0250d",
   "metadata": {},
   "source": [
    "#### Случайный лес"
   ]
  },
  {
   "cell_type": "code",
   "execution_count": null,
   "id": "ac6f2e45-efa3-4e46-8a3d-a09ae566bfee",
   "metadata": {},
   "outputs": [],
   "source": [
    "%%time\n",
    "\n",
    "rfc = RandomForestClassifier(random_state=42, class_weight={0:1, 1:9})\n",
    "model_params = {\n",
    "        'n_estimators':Integer(10, 500),\n",
    "        'max_depth':Integer(1, 16),\n",
    "        'min_samples_split':Integer(2, 8),\n",
    "             }\n",
    "\n",
    "bs_rfr = BayesSearchCV(rfc, model_params, scoring='f1', cv=5, n_jobs=4, n_iter=30, verbose=1)\n",
    "bs_rfr.fit(features_train, target_train)\n",
    "\n",
    "print(f'F1 модели {type(rfc).__name__} - {abs(bs_rfr.best_score_)}')\n",
    "\n",
    "modeling_results['model'].append(bs_rfr.best_estimator_)\n",
    "modeling_results['name'].append(type(rfc).__name__)\n",
    "modeling_results['train_f1'].append(abs(bs_rfr.best_score_))"
   ]
  },
  {
   "cell_type": "markdown",
   "id": "898a1fba-d9a1-407f-800e-c70845570036",
   "metadata": {},
   "source": [
    "#### LigthGBM"
   ]
  },
  {
   "cell_type": "code",
   "execution_count": null,
   "id": "cea610ec-62cf-40f1-ba1f-b045738f02b8",
   "metadata": {},
   "outputs": [],
   "source": [
    "%%time\n",
    "\n",
    "lgbmclf = LGBMClassifier(random_state=42, class_weight={0:1, 1:9})\n",
    "model_params = {\n",
    "        'learning_rate':Real(1e-2, 1e+6, prior='log-uniform'),\n",
    "        'n_estimators':Integer(10, 500),\n",
    "        'max_depth':Integer(1, 11),\n",
    "             }\n",
    "\n",
    "bs_lgbm = BayesSearchCV(lgbmclf, model_params, scoring='f1', cv=5, n_jobs=4, n_iter=30, verbose=1)\n",
    "bs_lgbm.fit(features_train, target_train)\n",
    "\n",
    "print(f'F1 модели {type(lgbmclf).__name__} - {abs(bs_lgbm.best_score_)}')\n",
    "\n",
    "modeling_results['model'].append(bs_lgbm.best_estimator_)\n",
    "modeling_results['name'].append(type(lgbmclf).__name__)\n",
    "modeling_results['train_f1'].append(abs(bs_lgbm.best_score_))"
   ]
  },
  {
   "cell_type": "markdown",
   "id": "93208ff8-0094-4567-a39a-2a21fe672ab8",
   "metadata": {},
   "source": [
    "### Результаты обучения моделей"
   ]
  },
  {
   "cell_type": "code",
   "execution_count": null,
   "id": "7236f23c-0720-4e03-8512-34b3c2a1d6ca",
   "metadata": {},
   "outputs": [],
   "source": [
    "results = pd.DataFrame(modeling_results, columns=modeling_results.keys())\n",
    "results"
   ]
  },
  {
   "cell_type": "code",
   "execution_count": null,
   "id": "2a53c4c9-89f1-428a-b709-092cef3806b8",
   "metadata": {},
   "outputs": [],
   "source": [
    "best_train_model = results[results['train_f1']==results['train_f1'].max()].reset_index(drop=True)\n",
    "print(f'Лучшая модель - {best_train_model.loc[0,\"name\"]} с показателем F1 равным {best_train_model.loc[0,\"train_f1\"] :.2f}')"
   ]
  },
  {
   "cell_type": "markdown",
   "id": "3be50d2e-7d41-4fc1-be1d-c03df505c3ff",
   "metadata": {},
   "source": [
    "## Тестирование моделей\n",
    "\n",
    "Проверим работу моделей на тестовой выборке и дополним таблицу результатми тестирования. На их основе выберем лучшую модель."
   ]
  },
  {
   "cell_type": "code",
   "execution_count": null,
   "id": "d996efaa-ce6e-4d96-96fa-2345c076c7d5",
   "metadata": {},
   "outputs": [],
   "source": [
    "for i in range(len(results)):\n",
    "    model = results.loc[i, 'model']\n",
    "    model.fit(features_train, target_train)\n",
    "    predict = model.predict(features_test)\n",
    "    score = f1_score(target_test, predict)\n",
    "    results.loc[i, 'test_f1'] = score\n",
    "    \n",
    "results"
   ]
  },
  {
   "cell_type": "markdown",
   "id": "9eedd611",
   "metadata": {},
   "source": [
    "<div class=\"alert alert-success\">\n",
    "<b>2 Комментарий ревьюера ✔️:</b> \n",
    "\n",
    "Удобный способ тестирования моделей!"
   ]
  },
  {
   "cell_type": "code",
   "execution_count": null,
   "id": "41ed5e7f-a13a-4bdf-8520-219eac61b2dc",
   "metadata": {},
   "outputs": [],
   "source": [
    "best_test_model = results[results['test_f1']==results['test_f1'].max()].reset_index(drop=True)\n",
    "print(f'Лучшая модель - {best_test_model.loc[0,\"name\"]} с показателем F1 равным {best_test_model.loc[0,\"test_f1\"] :.2f}')\n",
    "print()\n",
    "if best_test_model.loc[0,\"test_f1\"] >= 0.75:\n",
    "    print('Модель прошла проверку')\n",
    "else:\n",
    "    print('Тестовая F1-мера меньше 0.75!')"
   ]
  },
  {
   "cell_type": "markdown",
   "id": "56210413",
   "metadata": {},
   "source": [
    "<div class=\"alert alert-success\">\n",
    "<b>2 Комментарий ревьюера ✔️:</b> \n",
    "\n",
    "Порог пройден успешно!"
   ]
  },
  {
   "cell_type": "markdown",
   "id": "59ff97e2-22e6-43f6-9c3f-f1ac6916b208",
   "metadata": {},
   "source": [
    "## Выводы"
   ]
  },
  {
   "cell_type": "markdown",
   "id": "3114cf44-2682-408b-b503-0e1321890198",
   "metadata": {},
   "source": [
    "В ходе проекта была проведена работа по обучению моделей для предсказания токсичных комментариев с помощью BERT. Исходный датасет содержал 2 колонки: в одной содержались текстовые комментарии, во второй - является ли комментарий токсичным или нет.\n",
    "\n",
    "1. В ходе подготовки данных было обнаружено, что токсичные комментарии составляют всего 10% от всех данных. Кроме того, т.к. BERT требует большого объема памяти, было принято решение использовать только часть данных с сохранением исходного соотношения классов.\n",
    "\n",
    "2. Для преобразования текстовых комментариев в векторный вид использовалась предобученная модель BERT [unitary/toxic-bert](https://huggingface.co/unitary/toxic-bert).\n",
    "\n",
    "3. После получения признаков и выделения обучающей и тествой выборок были обучены 3 разных модели: логистическая регрессия, случайный лес и LightGBM. Результаты моделирования были вынесены в таблицу. После этого все модели были протестированы на тестовой выборке. Все 3 модели имеют значение F1-меры более 0.9. Наилучший результат показала модель RandomForestClassifier с результатом 0.93."
   ]
  },
  {
   "cell_type": "markdown",
   "id": "eebe965c",
   "metadata": {},
   "source": [
    "<div class=\"alert alert-success\">\n",
    "<b>2 Комментарий ревьюера ✔️:</b> \n",
    "\n",
    "Вывод верно описывает проделанную работу с текстом, BERT'ом и моделями. Работа завершена успешно!"
   ]
  }
 ],
 "metadata": {
  "ExecuteTimeLog": [
   {
    "duration": 133229,
    "start_time": "2022-07-21T13:16:58.533Z"
   },
   {
    "duration": 5294,
    "start_time": "2022-07-22T15:55:52.449Z"
   },
   {
    "duration": 86601,
    "start_time": "2022-07-22T15:55:57.745Z"
   },
   {
    "duration": 2306,
    "start_time": "2022-07-22T15:57:24.348Z"
   },
   {
    "duration": 48,
    "start_time": "2022-07-22T15:57:26.656Z"
   },
   {
    "duration": 7,
    "start_time": "2022-07-22T15:57:26.706Z"
   },
   {
    "duration": 159,
    "start_time": "2022-07-22T15:57:26.715Z"
   },
   {
    "duration": 5,
    "start_time": "2022-07-22T15:57:26.876Z"
   },
   {
    "duration": 305,
    "start_time": "2022-07-22T15:57:26.883Z"
   },
   {
    "duration": 0,
    "start_time": "2022-07-22T15:57:27.190Z"
   },
   {
    "duration": 0,
    "start_time": "2022-07-22T15:57:27.191Z"
   },
   {
    "duration": 0,
    "start_time": "2022-07-22T15:57:27.192Z"
   },
   {
    "duration": 0,
    "start_time": "2022-07-22T15:57:27.193Z"
   },
   {
    "duration": 54,
    "start_time": "2022-07-22T15:57:46.047Z"
   },
   {
    "duration": 7,
    "start_time": "2022-07-22T15:57:48.345Z"
   },
   {
    "duration": 4,
    "start_time": "2022-07-22T15:57:49.663Z"
   },
   {
    "duration": 119,
    "start_time": "2022-07-22T15:57:49.914Z"
   },
   {
    "duration": 5,
    "start_time": "2022-07-22T15:57:50.451Z"
   },
   {
    "duration": 14,
    "start_time": "2022-07-22T15:57:51.591Z"
   },
   {
    "duration": 24,
    "start_time": "2022-07-22T15:57:56.346Z"
   },
   {
    "duration": 9,
    "start_time": "2022-07-22T15:57:59.264Z"
   },
   {
    "duration": 14,
    "start_time": "2022-07-22T15:58:09.710Z"
   },
   {
    "duration": 84,
    "start_time": "2022-07-22T15:58:33.760Z"
   },
   {
    "duration": 84,
    "start_time": "2022-07-22T15:58:48.791Z"
   },
   {
    "duration": 81,
    "start_time": "2022-07-22T15:58:49.984Z"
   },
   {
    "duration": 11,
    "start_time": "2022-07-22T15:58:53.615Z"
   },
   {
    "duration": 20,
    "start_time": "2022-07-22T16:00:29.711Z"
   },
   {
    "duration": 9,
    "start_time": "2022-07-22T16:00:32.881Z"
   },
   {
    "duration": 10,
    "start_time": "2022-07-22T16:00:42.488Z"
   },
   {
    "duration": 11,
    "start_time": "2022-07-22T16:00:43.867Z"
   },
   {
    "duration": 9,
    "start_time": "2022-07-22T16:00:45.407Z"
   },
   {
    "duration": 13,
    "start_time": "2022-07-22T16:00:46.971Z"
   },
   {
    "duration": 25,
    "start_time": "2022-07-22T16:00:57.513Z"
   },
   {
    "duration": 7,
    "start_time": "2022-07-22T16:08:07.451Z"
   },
   {
    "duration": 3,
    "start_time": "2022-07-22T16:08:07.941Z"
   },
   {
    "duration": 118,
    "start_time": "2022-07-22T16:08:08.291Z"
   },
   {
    "duration": 4,
    "start_time": "2022-07-22T16:08:10.001Z"
   },
   {
    "duration": 20789,
    "start_time": "2022-07-22T16:08:13.109Z"
   },
   {
    "duration": 11,
    "start_time": "2022-07-22T16:08:33.900Z"
   }
  ],
  "kernelspec": {
   "display_name": "Python 3 (ipykernel)",
   "language": "python",
   "name": "python3"
  },
  "language_info": {
   "codemirror_mode": {
    "name": "ipython",
    "version": 3
   },
   "file_extension": ".py",
   "mimetype": "text/x-python",
   "name": "python",
   "nbconvert_exporter": "python",
   "pygments_lexer": "ipython3",
   "version": "3.9.5"
  },
  "toc": {
   "base_numbering": 1,
   "nav_menu": {},
   "number_sections": true,
   "sideBar": true,
   "skip_h1_title": true,
   "title_cell": "Table of Contents",
   "title_sidebar": "Contents",
   "toc_cell": false,
   "toc_position": {},
   "toc_section_display": true,
   "toc_window_display": true
  },
  "toc-autonumbering": true
 },
 "nbformat": 4,
 "nbformat_minor": 5
}
