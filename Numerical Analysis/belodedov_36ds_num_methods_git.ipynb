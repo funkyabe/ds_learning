{
 "cells": [
  {
   "cell_type": "markdown",
   "metadata": {},
   "source": [
    "# Определение стоимости автомобилей"
   ]
  },
  {
   "cell_type": "markdown",
   "metadata": {},
   "source": [
    "### Постановка задачи\n",
    "\n",
    "Сервис по продаже автомобилей с пробегом «Не бит, не крашен» разрабатывает приложение для привлечения новых клиентов. В нём можно быстро узнать рыночную стоимость своего автомобиля. В вашем распоряжении исторические данные: технические характеристики, комплектации и цены автомобилей. Вам нужно построить модель для определения стоимости. \n",
    "\n",
    "Заказчику важны:\n",
    "\n",
    "- качество предсказания;\n",
    "- скорость предсказания;\n",
    "- время обучения.\n",
    "\n"
   ]
  },
  {
   "cell_type": "markdown",
   "metadata": {},
   "source": [
    "## Подготовка данных"
   ]
  },
  {
   "cell_type": "code",
   "execution_count": 1,
   "metadata": {},
   "outputs": [
    {
     "name": "stdout",
     "output_type": "stream",
     "text": [
      "Requirement already satisfied: lightgbm in d:\\abe\\anaconda3\\envs\\praktikum\\lib\\site-packages (3.3.2)\n",
      "Requirement already satisfied: scipy in d:\\abe\\anaconda3\\envs\\praktikum\\lib\\site-packages (from lightgbm) (1.8.0)\n",
      "Requirement already satisfied: numpy in d:\\abe\\anaconda3\\envs\\praktikum\\lib\\site-packages (from lightgbm) (1.20.1)\n",
      "Requirement already satisfied: wheel in d:\\abe\\anaconda3\\envs\\praktikum\\lib\\site-packages (from lightgbm) (0.37.1)\n",
      "Requirement already satisfied: scikit-learn!=0.22.0 in d:\\abe\\anaconda3\\envs\\praktikum\\lib\\site-packages (from lightgbm) (0.24.1)\n",
      "Requirement already satisfied: threadpoolctl>=2.0.0 in d:\\abe\\anaconda3\\envs\\praktikum\\lib\\site-packages (from scikit-learn!=0.22.0->lightgbm) (3.1.0)\n",
      "Requirement already satisfied: joblib>=0.11 in d:\\abe\\anaconda3\\envs\\praktikum\\lib\\site-packages (from scikit-learn!=0.22.0->lightgbm) (1.1.0)\n",
      "Requirement already satisfied: scikit-optimize in d:\\abe\\anaconda3\\envs\\praktikum\\lib\\site-packages (0.9.0)\n",
      "Requirement already satisfied: numpy>=1.13.3 in d:\\abe\\anaconda3\\envs\\praktikum\\lib\\site-packages (from scikit-optimize) (1.20.1)\n",
      "Requirement already satisfied: scipy>=0.19.1 in d:\\abe\\anaconda3\\envs\\praktikum\\lib\\site-packages (from scikit-optimize) (1.8.0)\n",
      "Requirement already satisfied: scikit-learn>=0.20.0 in d:\\abe\\anaconda3\\envs\\praktikum\\lib\\site-packages (from scikit-optimize) (0.24.1)\n",
      "Requirement already satisfied: pyaml>=16.9 in d:\\abe\\anaconda3\\envs\\praktikum\\lib\\site-packages (from scikit-optimize) (21.10.1)\n",
      "Requirement already satisfied: joblib>=0.11 in d:\\abe\\anaconda3\\envs\\praktikum\\lib\\site-packages (from scikit-optimize) (1.1.0)\n",
      "Requirement already satisfied: PyYAML in d:\\abe\\anaconda3\\envs\\praktikum\\lib\\site-packages (from pyaml>=16.9->scikit-optimize) (6.0)\n",
      "Requirement already satisfied: threadpoolctl>=2.0.0 in d:\\abe\\anaconda3\\envs\\praktikum\\lib\\site-packages (from scikit-learn>=0.20.0->scikit-optimize) (3.1.0)\n"
     ]
    }
   ],
   "source": [
    "!pip install lightgbm\n",
    "!pip install scikit-optimize"
   ]
  },
  {
   "cell_type": "code",
   "execution_count": 2,
   "metadata": {},
   "outputs": [],
   "source": [
    "import pandas as pd\n",
    "import numpy as np\n",
    "import seaborn as sns\n",
    "import matplotlib.pyplot as plt\n",
    "import regex as re\n",
    "\n",
    "from sklearn.model_selection import train_test_split\n",
    "from sklearn.preprocessing import StandardScaler\n",
    "from sklearn.preprocessing import OrdinalEncoder\n",
    "from sklearn.metrics import mean_squared_error\n",
    "\n",
    "from sklearn.model_selection import cross_val_score\n",
    "from sklearn.linear_model import LinearRegression\n",
    "from sklearn.ensemble import RandomForestRegressor\n",
    "from sklearn.ensemble import GradientBoostingRegressor\n",
    "\n",
    "from skopt import BayesSearchCV\n",
    "from skopt.space import Integer, Real\n",
    "\n",
    "from catboost import CatBoostRegressor\n",
    "from lightgbm import LGBMRegressor"
   ]
  },
  {
   "cell_type": "code",
   "execution_count": 3,
   "metadata": {},
   "outputs": [
    {
     "name": "stdout",
     "output_type": "stream",
     "text": [
      "<class 'pandas.core.frame.DataFrame'>\n",
      "RangeIndex: 354369 entries, 0 to 354368\n",
      "Data columns (total 16 columns):\n",
      " #   Column             Non-Null Count   Dtype \n",
      "---  ------             --------------   ----- \n",
      " 0   DateCrawled        354369 non-null  object\n",
      " 1   Price              354369 non-null  int64 \n",
      " 2   VehicleType        316879 non-null  object\n",
      " 3   RegistrationYear   354369 non-null  int64 \n",
      " 4   Gearbox            334536 non-null  object\n",
      " 5   Power              354369 non-null  int64 \n",
      " 6   Model              334664 non-null  object\n",
      " 7   Kilometer          354369 non-null  int64 \n",
      " 8   RegistrationMonth  354369 non-null  int64 \n",
      " 9   FuelType           321474 non-null  object\n",
      " 10  Brand              354369 non-null  object\n",
      " 11  NotRepaired        283215 non-null  object\n",
      " 12  DateCreated        354369 non-null  object\n",
      " 13  NumberOfPictures   354369 non-null  int64 \n",
      " 14  PostalCode         354369 non-null  int64 \n",
      " 15  LastSeen           354369 non-null  object\n",
      "dtypes: int64(7), object(9)\n",
      "memory usage: 43.3+ MB\n"
     ]
    },
    {
     "data": {
      "text/html": [
       "<div>\n",
       "<style scoped>\n",
       "    .dataframe tbody tr th:only-of-type {\n",
       "        vertical-align: middle;\n",
       "    }\n",
       "\n",
       "    .dataframe tbody tr th {\n",
       "        vertical-align: top;\n",
       "    }\n",
       "\n",
       "    .dataframe thead th {\n",
       "        text-align: right;\n",
       "    }\n",
       "</style>\n",
       "<table border=\"1\" class=\"dataframe\">\n",
       "  <thead>\n",
       "    <tr style=\"text-align: right;\">\n",
       "      <th></th>\n",
       "      <th>DateCrawled</th>\n",
       "      <th>Price</th>\n",
       "      <th>VehicleType</th>\n",
       "      <th>RegistrationYear</th>\n",
       "      <th>Gearbox</th>\n",
       "      <th>Power</th>\n",
       "      <th>Model</th>\n",
       "      <th>Kilometer</th>\n",
       "      <th>RegistrationMonth</th>\n",
       "      <th>FuelType</th>\n",
       "      <th>Brand</th>\n",
       "      <th>NotRepaired</th>\n",
       "      <th>DateCreated</th>\n",
       "      <th>NumberOfPictures</th>\n",
       "      <th>PostalCode</th>\n",
       "      <th>LastSeen</th>\n",
       "    </tr>\n",
       "  </thead>\n",
       "  <tbody>\n",
       "    <tr>\n",
       "      <th>0</th>\n",
       "      <td>2016-03-24 11:52:17</td>\n",
       "      <td>480</td>\n",
       "      <td>NaN</td>\n",
       "      <td>1993</td>\n",
       "      <td>manual</td>\n",
       "      <td>0</td>\n",
       "      <td>golf</td>\n",
       "      <td>150000</td>\n",
       "      <td>0</td>\n",
       "      <td>petrol</td>\n",
       "      <td>volkswagen</td>\n",
       "      <td>NaN</td>\n",
       "      <td>2016-03-24 00:00:00</td>\n",
       "      <td>0</td>\n",
       "      <td>70435</td>\n",
       "      <td>2016-04-07 03:16:57</td>\n",
       "    </tr>\n",
       "    <tr>\n",
       "      <th>1</th>\n",
       "      <td>2016-03-24 10:58:45</td>\n",
       "      <td>18300</td>\n",
       "      <td>coupe</td>\n",
       "      <td>2011</td>\n",
       "      <td>manual</td>\n",
       "      <td>190</td>\n",
       "      <td>NaN</td>\n",
       "      <td>125000</td>\n",
       "      <td>5</td>\n",
       "      <td>gasoline</td>\n",
       "      <td>audi</td>\n",
       "      <td>yes</td>\n",
       "      <td>2016-03-24 00:00:00</td>\n",
       "      <td>0</td>\n",
       "      <td>66954</td>\n",
       "      <td>2016-04-07 01:46:50</td>\n",
       "    </tr>\n",
       "    <tr>\n",
       "      <th>2</th>\n",
       "      <td>2016-03-14 12:52:21</td>\n",
       "      <td>9800</td>\n",
       "      <td>suv</td>\n",
       "      <td>2004</td>\n",
       "      <td>auto</td>\n",
       "      <td>163</td>\n",
       "      <td>grand</td>\n",
       "      <td>125000</td>\n",
       "      <td>8</td>\n",
       "      <td>gasoline</td>\n",
       "      <td>jeep</td>\n",
       "      <td>NaN</td>\n",
       "      <td>2016-03-14 00:00:00</td>\n",
       "      <td>0</td>\n",
       "      <td>90480</td>\n",
       "      <td>2016-04-05 12:47:46</td>\n",
       "    </tr>\n",
       "    <tr>\n",
       "      <th>3</th>\n",
       "      <td>2016-03-17 16:54:04</td>\n",
       "      <td>1500</td>\n",
       "      <td>small</td>\n",
       "      <td>2001</td>\n",
       "      <td>manual</td>\n",
       "      <td>75</td>\n",
       "      <td>golf</td>\n",
       "      <td>150000</td>\n",
       "      <td>6</td>\n",
       "      <td>petrol</td>\n",
       "      <td>volkswagen</td>\n",
       "      <td>no</td>\n",
       "      <td>2016-03-17 00:00:00</td>\n",
       "      <td>0</td>\n",
       "      <td>91074</td>\n",
       "      <td>2016-03-17 17:40:17</td>\n",
       "    </tr>\n",
       "    <tr>\n",
       "      <th>4</th>\n",
       "      <td>2016-03-31 17:25:20</td>\n",
       "      <td>3600</td>\n",
       "      <td>small</td>\n",
       "      <td>2008</td>\n",
       "      <td>manual</td>\n",
       "      <td>69</td>\n",
       "      <td>fabia</td>\n",
       "      <td>90000</td>\n",
       "      <td>7</td>\n",
       "      <td>gasoline</td>\n",
       "      <td>skoda</td>\n",
       "      <td>no</td>\n",
       "      <td>2016-03-31 00:00:00</td>\n",
       "      <td>0</td>\n",
       "      <td>60437</td>\n",
       "      <td>2016-04-06 10:17:21</td>\n",
       "    </tr>\n",
       "  </tbody>\n",
       "</table>\n",
       "</div>"
      ],
      "text/plain": [
       "           DateCrawled  Price VehicleType  RegistrationYear Gearbox  Power  \\\n",
       "0  2016-03-24 11:52:17    480         NaN              1993  manual      0   \n",
       "1  2016-03-24 10:58:45  18300       coupe              2011  manual    190   \n",
       "2  2016-03-14 12:52:21   9800         suv              2004    auto    163   \n",
       "3  2016-03-17 16:54:04   1500       small              2001  manual     75   \n",
       "4  2016-03-31 17:25:20   3600       small              2008  manual     69   \n",
       "\n",
       "   Model  Kilometer  RegistrationMonth  FuelType       Brand NotRepaired  \\\n",
       "0   golf     150000                  0    petrol  volkswagen         NaN   \n",
       "1    NaN     125000                  5  gasoline        audi         yes   \n",
       "2  grand     125000                  8  gasoline        jeep         NaN   \n",
       "3   golf     150000                  6    petrol  volkswagen          no   \n",
       "4  fabia      90000                  7  gasoline       skoda          no   \n",
       "\n",
       "           DateCreated  NumberOfPictures  PostalCode             LastSeen  \n",
       "0  2016-03-24 00:00:00                 0       70435  2016-04-07 03:16:57  \n",
       "1  2016-03-24 00:00:00                 0       66954  2016-04-07 01:46:50  \n",
       "2  2016-03-14 00:00:00                 0       90480  2016-04-05 12:47:46  \n",
       "3  2016-03-17 00:00:00                 0       91074  2016-03-17 17:40:17  \n",
       "4  2016-03-31 00:00:00                 0       60437  2016-04-06 10:17:21  "
      ]
     },
     "execution_count": 3,
     "metadata": {},
     "output_type": "execute_result"
    }
   ],
   "source": [
    "try:\n",
    "    df = pd.read_csv('/datasets/autos.csv')\n",
    "except:\n",
    "    df = pd.read_csv('autos.csv')\n",
    "    \n",
    "df.info()\n",
    "df.head()"
   ]
  },
  {
   "cell_type": "markdown",
   "metadata": {},
   "source": [
    "Имеется датасет, содержащий 16 столбцов и 354369 строк. При первичном осмотре данных можно увидеть следующие проблемы:\n",
    "1. Столбцы `VehicleType`, `Gearbox`, `Model`, `FuelType`, `NotRepaired` содержат пропуски.\n",
    "2. Столбцы `DateCrawled`, `DateCreated`, `LastSeen` имеют тип `object`, а не `datetime`.\n",
    "3. Численные данные имеют большую разрядность.\n",
    "4. Названия столбцов записаны в CamelCase, а не в snake_case\n",
    "\n",
    "### Изменение названий столбцов"
   ]
  },
  {
   "cell_type": "code",
   "execution_count": 4,
   "metadata": {},
   "outputs": [
    {
     "data": {
      "text/plain": [
       "'Word_Word_Word_Word'"
      ]
     },
     "execution_count": 4,
     "metadata": {},
     "output_type": "execute_result"
    }
   ],
   "source": [
    "re.sub(r\"(\\w)([[: upper:]])\", r\"\\1_\\2\", \"WordWordWordWord\")"
   ]
  },
  {
   "cell_type": "code",
   "execution_count": 5,
   "metadata": {},
   "outputs": [
    {
     "data": {
      "text/plain": [
       "{'DateCrawled': 'date_crawled',\n",
       " 'Price': 'price',\n",
       " 'VehicleType': 'vehicle_type',\n",
       " 'RegistrationYear': 'registration_year',\n",
       " 'Gearbox': 'gearbox',\n",
       " 'Power': 'power',\n",
       " 'Model': 'model',\n",
       " 'Kilometer': 'kilometer',\n",
       " 'RegistrationMonth': 'registration_month',\n",
       " 'FuelType': 'fuel_type',\n",
       " 'Brand': 'brand',\n",
       " 'NotRepaired': 'not_repaired',\n",
       " 'DateCreated': 'date_created',\n",
       " 'NumberOfPictures': 'number_of_pictures',\n",
       " 'PostalCode': 'postal_code',\n",
       " 'LastSeen': 'last_seen'}"
      ]
     },
     "execution_count": 5,
     "metadata": {},
     "output_type": "execute_result"
    }
   ],
   "source": [
    "new_cols = {}\n",
    "for i in range(len(df.columns)):\n",
    "    col = re.sub(r\"(\\w)([[: upper:]])\", r\"\\1_\\2\", df.columns[i])\n",
    "    col = col.lower()\n",
    "    new_cols[df.columns[i]] = col\n",
    "\n",
    "new_cols"
   ]
  },
  {
   "cell_type": "code",
   "execution_count": 6,
   "metadata": {},
   "outputs": [
    {
     "data": {
      "text/html": [
       "<div>\n",
       "<style scoped>\n",
       "    .dataframe tbody tr th:only-of-type {\n",
       "        vertical-align: middle;\n",
       "    }\n",
       "\n",
       "    .dataframe tbody tr th {\n",
       "        vertical-align: top;\n",
       "    }\n",
       "\n",
       "    .dataframe thead th {\n",
       "        text-align: right;\n",
       "    }\n",
       "</style>\n",
       "<table border=\"1\" class=\"dataframe\">\n",
       "  <thead>\n",
       "    <tr style=\"text-align: right;\">\n",
       "      <th></th>\n",
       "      <th>date_crawled</th>\n",
       "      <th>price</th>\n",
       "      <th>vehicle_type</th>\n",
       "      <th>registration_year</th>\n",
       "      <th>gearbox</th>\n",
       "      <th>power</th>\n",
       "      <th>model</th>\n",
       "      <th>kilometer</th>\n",
       "      <th>registration_month</th>\n",
       "      <th>fuel_type</th>\n",
       "      <th>brand</th>\n",
       "      <th>not_repaired</th>\n",
       "      <th>date_created</th>\n",
       "      <th>number_of_pictures</th>\n",
       "      <th>postal_code</th>\n",
       "      <th>last_seen</th>\n",
       "    </tr>\n",
       "  </thead>\n",
       "  <tbody>\n",
       "    <tr>\n",
       "      <th>0</th>\n",
       "      <td>2016-03-24 11:52:17</td>\n",
       "      <td>480</td>\n",
       "      <td>NaN</td>\n",
       "      <td>1993</td>\n",
       "      <td>manual</td>\n",
       "      <td>0</td>\n",
       "      <td>golf</td>\n",
       "      <td>150000</td>\n",
       "      <td>0</td>\n",
       "      <td>petrol</td>\n",
       "      <td>volkswagen</td>\n",
       "      <td>NaN</td>\n",
       "      <td>2016-03-24 00:00:00</td>\n",
       "      <td>0</td>\n",
       "      <td>70435</td>\n",
       "      <td>2016-04-07 03:16:57</td>\n",
       "    </tr>\n",
       "    <tr>\n",
       "      <th>1</th>\n",
       "      <td>2016-03-24 10:58:45</td>\n",
       "      <td>18300</td>\n",
       "      <td>coupe</td>\n",
       "      <td>2011</td>\n",
       "      <td>manual</td>\n",
       "      <td>190</td>\n",
       "      <td>NaN</td>\n",
       "      <td>125000</td>\n",
       "      <td>5</td>\n",
       "      <td>gasoline</td>\n",
       "      <td>audi</td>\n",
       "      <td>yes</td>\n",
       "      <td>2016-03-24 00:00:00</td>\n",
       "      <td>0</td>\n",
       "      <td>66954</td>\n",
       "      <td>2016-04-07 01:46:50</td>\n",
       "    </tr>\n",
       "    <tr>\n",
       "      <th>2</th>\n",
       "      <td>2016-03-14 12:52:21</td>\n",
       "      <td>9800</td>\n",
       "      <td>suv</td>\n",
       "      <td>2004</td>\n",
       "      <td>auto</td>\n",
       "      <td>163</td>\n",
       "      <td>grand</td>\n",
       "      <td>125000</td>\n",
       "      <td>8</td>\n",
       "      <td>gasoline</td>\n",
       "      <td>jeep</td>\n",
       "      <td>NaN</td>\n",
       "      <td>2016-03-14 00:00:00</td>\n",
       "      <td>0</td>\n",
       "      <td>90480</td>\n",
       "      <td>2016-04-05 12:47:46</td>\n",
       "    </tr>\n",
       "    <tr>\n",
       "      <th>3</th>\n",
       "      <td>2016-03-17 16:54:04</td>\n",
       "      <td>1500</td>\n",
       "      <td>small</td>\n",
       "      <td>2001</td>\n",
       "      <td>manual</td>\n",
       "      <td>75</td>\n",
       "      <td>golf</td>\n",
       "      <td>150000</td>\n",
       "      <td>6</td>\n",
       "      <td>petrol</td>\n",
       "      <td>volkswagen</td>\n",
       "      <td>no</td>\n",
       "      <td>2016-03-17 00:00:00</td>\n",
       "      <td>0</td>\n",
       "      <td>91074</td>\n",
       "      <td>2016-03-17 17:40:17</td>\n",
       "    </tr>\n",
       "    <tr>\n",
       "      <th>4</th>\n",
       "      <td>2016-03-31 17:25:20</td>\n",
       "      <td>3600</td>\n",
       "      <td>small</td>\n",
       "      <td>2008</td>\n",
       "      <td>manual</td>\n",
       "      <td>69</td>\n",
       "      <td>fabia</td>\n",
       "      <td>90000</td>\n",
       "      <td>7</td>\n",
       "      <td>gasoline</td>\n",
       "      <td>skoda</td>\n",
       "      <td>no</td>\n",
       "      <td>2016-03-31 00:00:00</td>\n",
       "      <td>0</td>\n",
       "      <td>60437</td>\n",
       "      <td>2016-04-06 10:17:21</td>\n",
       "    </tr>\n",
       "  </tbody>\n",
       "</table>\n",
       "</div>"
      ],
      "text/plain": [
       "          date_crawled  price vehicle_type  registration_year gearbox  power  \\\n",
       "0  2016-03-24 11:52:17    480          NaN               1993  manual      0   \n",
       "1  2016-03-24 10:58:45  18300        coupe               2011  manual    190   \n",
       "2  2016-03-14 12:52:21   9800          suv               2004    auto    163   \n",
       "3  2016-03-17 16:54:04   1500        small               2001  manual     75   \n",
       "4  2016-03-31 17:25:20   3600        small               2008  manual     69   \n",
       "\n",
       "   model  kilometer  registration_month fuel_type       brand not_repaired  \\\n",
       "0   golf     150000                   0    petrol  volkswagen          NaN   \n",
       "1    NaN     125000                   5  gasoline        audi          yes   \n",
       "2  grand     125000                   8  gasoline        jeep          NaN   \n",
       "3   golf     150000                   6    petrol  volkswagen           no   \n",
       "4  fabia      90000                   7  gasoline       skoda           no   \n",
       "\n",
       "          date_created  number_of_pictures  postal_code            last_seen  \n",
       "0  2016-03-24 00:00:00                   0        70435  2016-04-07 03:16:57  \n",
       "1  2016-03-24 00:00:00                   0        66954  2016-04-07 01:46:50  \n",
       "2  2016-03-14 00:00:00                   0        90480  2016-04-05 12:47:46  \n",
       "3  2016-03-17 00:00:00                   0        91074  2016-03-17 17:40:17  \n",
       "4  2016-03-31 00:00:00                   0        60437  2016-04-06 10:17:21  "
      ]
     },
     "execution_count": 6,
     "metadata": {},
     "output_type": "execute_result"
    }
   ],
   "source": [
    "df = df.rename(columns=new_cols)\n",
    "df.head()"
   ]
  },
  {
   "cell_type": "markdown",
   "metadata": {},
   "source": [
    "### Изменение типов данных"
   ]
  },
  {
   "cell_type": "code",
   "execution_count": 7,
   "metadata": {},
   "outputs": [
    {
     "name": "stdout",
     "output_type": "stream",
     "text": [
      "<class 'pandas.core.frame.DataFrame'>\n",
      "RangeIndex: 354369 entries, 0 to 354368\n",
      "Data columns (total 16 columns):\n",
      " #   Column              Non-Null Count   Dtype         \n",
      "---  ------              --------------   -----         \n",
      " 0   date_crawled        354369 non-null  datetime64[ns]\n",
      " 1   price               354369 non-null  int64         \n",
      " 2   vehicle_type        316879 non-null  object        \n",
      " 3   registration_year   354369 non-null  int64         \n",
      " 4   gearbox             334536 non-null  object        \n",
      " 5   power               354369 non-null  int64         \n",
      " 6   model               334664 non-null  object        \n",
      " 7   kilometer           354369 non-null  int64         \n",
      " 8   registration_month  354369 non-null  int64         \n",
      " 9   fuel_type           321474 non-null  object        \n",
      " 10  brand               354369 non-null  object        \n",
      " 11  not_repaired        283215 non-null  object        \n",
      " 12  date_created        354369 non-null  datetime64[ns]\n",
      " 13  number_of_pictures  354369 non-null  int64         \n",
      " 14  postal_code         354369 non-null  int64         \n",
      " 15  last_seen           354369 non-null  datetime64[ns]\n",
      "dtypes: datetime64[ns](3), int64(7), object(6)\n",
      "memory usage: 43.3+ MB\n"
     ]
    },
    {
     "data": {
      "text/html": [
       "<div>\n",
       "<style scoped>\n",
       "    .dataframe tbody tr th:only-of-type {\n",
       "        vertical-align: middle;\n",
       "    }\n",
       "\n",
       "    .dataframe tbody tr th {\n",
       "        vertical-align: top;\n",
       "    }\n",
       "\n",
       "    .dataframe thead th {\n",
       "        text-align: right;\n",
       "    }\n",
       "</style>\n",
       "<table border=\"1\" class=\"dataframe\">\n",
       "  <thead>\n",
       "    <tr style=\"text-align: right;\">\n",
       "      <th></th>\n",
       "      <th>date_crawled</th>\n",
       "      <th>price</th>\n",
       "      <th>vehicle_type</th>\n",
       "      <th>registration_year</th>\n",
       "      <th>gearbox</th>\n",
       "      <th>power</th>\n",
       "      <th>model</th>\n",
       "      <th>kilometer</th>\n",
       "      <th>registration_month</th>\n",
       "      <th>fuel_type</th>\n",
       "      <th>brand</th>\n",
       "      <th>not_repaired</th>\n",
       "      <th>date_created</th>\n",
       "      <th>number_of_pictures</th>\n",
       "      <th>postal_code</th>\n",
       "      <th>last_seen</th>\n",
       "    </tr>\n",
       "  </thead>\n",
       "  <tbody>\n",
       "    <tr>\n",
       "      <th>0</th>\n",
       "      <td>2016-03-24 11:52:17</td>\n",
       "      <td>480</td>\n",
       "      <td>NaN</td>\n",
       "      <td>1993</td>\n",
       "      <td>manual</td>\n",
       "      <td>0</td>\n",
       "      <td>golf</td>\n",
       "      <td>150000</td>\n",
       "      <td>0</td>\n",
       "      <td>petrol</td>\n",
       "      <td>volkswagen</td>\n",
       "      <td>NaN</td>\n",
       "      <td>2016-03-24</td>\n",
       "      <td>0</td>\n",
       "      <td>70435</td>\n",
       "      <td>2016-04-07 03:16:57</td>\n",
       "    </tr>\n",
       "    <tr>\n",
       "      <th>1</th>\n",
       "      <td>2016-03-24 10:58:45</td>\n",
       "      <td>18300</td>\n",
       "      <td>coupe</td>\n",
       "      <td>2011</td>\n",
       "      <td>manual</td>\n",
       "      <td>190</td>\n",
       "      <td>NaN</td>\n",
       "      <td>125000</td>\n",
       "      <td>5</td>\n",
       "      <td>gasoline</td>\n",
       "      <td>audi</td>\n",
       "      <td>yes</td>\n",
       "      <td>2016-03-24</td>\n",
       "      <td>0</td>\n",
       "      <td>66954</td>\n",
       "      <td>2016-04-07 01:46:50</td>\n",
       "    </tr>\n",
       "    <tr>\n",
       "      <th>2</th>\n",
       "      <td>2016-03-14 12:52:21</td>\n",
       "      <td>9800</td>\n",
       "      <td>suv</td>\n",
       "      <td>2004</td>\n",
       "      <td>auto</td>\n",
       "      <td>163</td>\n",
       "      <td>grand</td>\n",
       "      <td>125000</td>\n",
       "      <td>8</td>\n",
       "      <td>gasoline</td>\n",
       "      <td>jeep</td>\n",
       "      <td>NaN</td>\n",
       "      <td>2016-03-14</td>\n",
       "      <td>0</td>\n",
       "      <td>90480</td>\n",
       "      <td>2016-04-05 12:47:46</td>\n",
       "    </tr>\n",
       "    <tr>\n",
       "      <th>3</th>\n",
       "      <td>2016-03-17 16:54:04</td>\n",
       "      <td>1500</td>\n",
       "      <td>small</td>\n",
       "      <td>2001</td>\n",
       "      <td>manual</td>\n",
       "      <td>75</td>\n",
       "      <td>golf</td>\n",
       "      <td>150000</td>\n",
       "      <td>6</td>\n",
       "      <td>petrol</td>\n",
       "      <td>volkswagen</td>\n",
       "      <td>no</td>\n",
       "      <td>2016-03-17</td>\n",
       "      <td>0</td>\n",
       "      <td>91074</td>\n",
       "      <td>2016-03-17 17:40:17</td>\n",
       "    </tr>\n",
       "    <tr>\n",
       "      <th>4</th>\n",
       "      <td>2016-03-31 17:25:20</td>\n",
       "      <td>3600</td>\n",
       "      <td>small</td>\n",
       "      <td>2008</td>\n",
       "      <td>manual</td>\n",
       "      <td>69</td>\n",
       "      <td>fabia</td>\n",
       "      <td>90000</td>\n",
       "      <td>7</td>\n",
       "      <td>gasoline</td>\n",
       "      <td>skoda</td>\n",
       "      <td>no</td>\n",
       "      <td>2016-03-31</td>\n",
       "      <td>0</td>\n",
       "      <td>60437</td>\n",
       "      <td>2016-04-06 10:17:21</td>\n",
       "    </tr>\n",
       "  </tbody>\n",
       "</table>\n",
       "</div>"
      ],
      "text/plain": [
       "         date_crawled  price vehicle_type  registration_year gearbox  power  \\\n",
       "0 2016-03-24 11:52:17    480          NaN               1993  manual      0   \n",
       "1 2016-03-24 10:58:45  18300        coupe               2011  manual    190   \n",
       "2 2016-03-14 12:52:21   9800          suv               2004    auto    163   \n",
       "3 2016-03-17 16:54:04   1500        small               2001  manual     75   \n",
       "4 2016-03-31 17:25:20   3600        small               2008  manual     69   \n",
       "\n",
       "   model  kilometer  registration_month fuel_type       brand not_repaired  \\\n",
       "0   golf     150000                   0    petrol  volkswagen          NaN   \n",
       "1    NaN     125000                   5  gasoline        audi          yes   \n",
       "2  grand     125000                   8  gasoline        jeep          NaN   \n",
       "3   golf     150000                   6    petrol  volkswagen           no   \n",
       "4  fabia      90000                   7  gasoline       skoda           no   \n",
       "\n",
       "  date_created  number_of_pictures  postal_code           last_seen  \n",
       "0   2016-03-24                   0        70435 2016-04-07 03:16:57  \n",
       "1   2016-03-24                   0        66954 2016-04-07 01:46:50  \n",
       "2   2016-03-14                   0        90480 2016-04-05 12:47:46  \n",
       "3   2016-03-17                   0        91074 2016-03-17 17:40:17  \n",
       "4   2016-03-31                   0        60437 2016-04-06 10:17:21  "
      ]
     },
     "execution_count": 7,
     "metadata": {},
     "output_type": "execute_result"
    }
   ],
   "source": [
    "datetime_cols = ['date_crawled', 'date_created', 'last_seen']\n",
    "for col in datetime_cols:\n",
    "    df[col] = pd.to_datetime(df[col], format='%Y-%m-%d %H:%M:%S')\n",
    "    \n",
    "df.info()    \n",
    "df.head()"
   ]
  },
  {
   "cell_type": "markdown",
   "metadata": {},
   "source": [
    "Понизим разрядность численных признаков.\n"
   ]
  },
  {
   "cell_type": "code",
   "execution_count": 8,
   "metadata": {},
   "outputs": [
    {
     "name": "stdout",
     "output_type": "stream",
     "text": [
      "<class 'pandas.core.frame.DataFrame'>\n",
      "RangeIndex: 354369 entries, 0 to 354368\n",
      "Data columns (total 16 columns):\n",
      " #   Column              Non-Null Count   Dtype         \n",
      "---  ------              --------------   -----         \n",
      " 0   date_crawled        354369 non-null  datetime64[ns]\n",
      " 1   price               354369 non-null  int16         \n",
      " 2   vehicle_type        316879 non-null  object        \n",
      " 3   registration_year   354369 non-null  int16         \n",
      " 4   gearbox             334536 non-null  object        \n",
      " 5   power               354369 non-null  int16         \n",
      " 6   model               334664 non-null  object        \n",
      " 7   kilometer           354369 non-null  int32         \n",
      " 8   registration_month  354369 non-null  int8          \n",
      " 9   fuel_type           321474 non-null  object        \n",
      " 10  brand               354369 non-null  object        \n",
      " 11  not_repaired        283215 non-null  object        \n",
      " 12  date_created        354369 non-null  datetime64[ns]\n",
      " 13  number_of_pictures  354369 non-null  int8          \n",
      " 14  postal_code         354369 non-null  int64         \n",
      " 15  last_seen           354369 non-null  datetime64[ns]\n",
      "dtypes: datetime64[ns](3), int16(3), int32(1), int64(1), int8(2), object(6)\n",
      "memory usage: 31.1+ MB\n"
     ]
    },
    {
     "data": {
      "text/html": [
       "<div>\n",
       "<style scoped>\n",
       "    .dataframe tbody tr th:only-of-type {\n",
       "        vertical-align: middle;\n",
       "    }\n",
       "\n",
       "    .dataframe tbody tr th {\n",
       "        vertical-align: top;\n",
       "    }\n",
       "\n",
       "    .dataframe thead th {\n",
       "        text-align: right;\n",
       "    }\n",
       "</style>\n",
       "<table border=\"1\" class=\"dataframe\">\n",
       "  <thead>\n",
       "    <tr style=\"text-align: right;\">\n",
       "      <th></th>\n",
       "      <th>date_crawled</th>\n",
       "      <th>price</th>\n",
       "      <th>vehicle_type</th>\n",
       "      <th>registration_year</th>\n",
       "      <th>gearbox</th>\n",
       "      <th>power</th>\n",
       "      <th>model</th>\n",
       "      <th>kilometer</th>\n",
       "      <th>registration_month</th>\n",
       "      <th>fuel_type</th>\n",
       "      <th>brand</th>\n",
       "      <th>not_repaired</th>\n",
       "      <th>date_created</th>\n",
       "      <th>number_of_pictures</th>\n",
       "      <th>postal_code</th>\n",
       "      <th>last_seen</th>\n",
       "    </tr>\n",
       "  </thead>\n",
       "  <tbody>\n",
       "    <tr>\n",
       "      <th>0</th>\n",
       "      <td>2016-03-24 11:52:17</td>\n",
       "      <td>480</td>\n",
       "      <td>NaN</td>\n",
       "      <td>1993</td>\n",
       "      <td>manual</td>\n",
       "      <td>0</td>\n",
       "      <td>golf</td>\n",
       "      <td>150000</td>\n",
       "      <td>0</td>\n",
       "      <td>petrol</td>\n",
       "      <td>volkswagen</td>\n",
       "      <td>NaN</td>\n",
       "      <td>2016-03-24</td>\n",
       "      <td>0</td>\n",
       "      <td>70435</td>\n",
       "      <td>2016-04-07 03:16:57</td>\n",
       "    </tr>\n",
       "    <tr>\n",
       "      <th>1</th>\n",
       "      <td>2016-03-24 10:58:45</td>\n",
       "      <td>18300</td>\n",
       "      <td>coupe</td>\n",
       "      <td>2011</td>\n",
       "      <td>manual</td>\n",
       "      <td>190</td>\n",
       "      <td>NaN</td>\n",
       "      <td>125000</td>\n",
       "      <td>5</td>\n",
       "      <td>gasoline</td>\n",
       "      <td>audi</td>\n",
       "      <td>yes</td>\n",
       "      <td>2016-03-24</td>\n",
       "      <td>0</td>\n",
       "      <td>66954</td>\n",
       "      <td>2016-04-07 01:46:50</td>\n",
       "    </tr>\n",
       "    <tr>\n",
       "      <th>2</th>\n",
       "      <td>2016-03-14 12:52:21</td>\n",
       "      <td>9800</td>\n",
       "      <td>suv</td>\n",
       "      <td>2004</td>\n",
       "      <td>auto</td>\n",
       "      <td>163</td>\n",
       "      <td>grand</td>\n",
       "      <td>125000</td>\n",
       "      <td>8</td>\n",
       "      <td>gasoline</td>\n",
       "      <td>jeep</td>\n",
       "      <td>NaN</td>\n",
       "      <td>2016-03-14</td>\n",
       "      <td>0</td>\n",
       "      <td>90480</td>\n",
       "      <td>2016-04-05 12:47:46</td>\n",
       "    </tr>\n",
       "    <tr>\n",
       "      <th>3</th>\n",
       "      <td>2016-03-17 16:54:04</td>\n",
       "      <td>1500</td>\n",
       "      <td>small</td>\n",
       "      <td>2001</td>\n",
       "      <td>manual</td>\n",
       "      <td>75</td>\n",
       "      <td>golf</td>\n",
       "      <td>150000</td>\n",
       "      <td>6</td>\n",
       "      <td>petrol</td>\n",
       "      <td>volkswagen</td>\n",
       "      <td>no</td>\n",
       "      <td>2016-03-17</td>\n",
       "      <td>0</td>\n",
       "      <td>91074</td>\n",
       "      <td>2016-03-17 17:40:17</td>\n",
       "    </tr>\n",
       "    <tr>\n",
       "      <th>4</th>\n",
       "      <td>2016-03-31 17:25:20</td>\n",
       "      <td>3600</td>\n",
       "      <td>small</td>\n",
       "      <td>2008</td>\n",
       "      <td>manual</td>\n",
       "      <td>69</td>\n",
       "      <td>fabia</td>\n",
       "      <td>90000</td>\n",
       "      <td>7</td>\n",
       "      <td>gasoline</td>\n",
       "      <td>skoda</td>\n",
       "      <td>no</td>\n",
       "      <td>2016-03-31</td>\n",
       "      <td>0</td>\n",
       "      <td>60437</td>\n",
       "      <td>2016-04-06 10:17:21</td>\n",
       "    </tr>\n",
       "  </tbody>\n",
       "</table>\n",
       "</div>"
      ],
      "text/plain": [
       "         date_crawled  price vehicle_type  registration_year gearbox  power  \\\n",
       "0 2016-03-24 11:52:17    480          NaN               1993  manual      0   \n",
       "1 2016-03-24 10:58:45  18300        coupe               2011  manual    190   \n",
       "2 2016-03-14 12:52:21   9800          suv               2004    auto    163   \n",
       "3 2016-03-17 16:54:04   1500        small               2001  manual     75   \n",
       "4 2016-03-31 17:25:20   3600        small               2008  manual     69   \n",
       "\n",
       "   model  kilometer  registration_month fuel_type       brand not_repaired  \\\n",
       "0   golf     150000                   0    petrol  volkswagen          NaN   \n",
       "1    NaN     125000                   5  gasoline        audi          yes   \n",
       "2  grand     125000                   8  gasoline        jeep          NaN   \n",
       "3   golf     150000                   6    petrol  volkswagen           no   \n",
       "4  fabia      90000                   7  gasoline       skoda           no   \n",
       "\n",
       "  date_created  number_of_pictures  postal_code           last_seen  \n",
       "0   2016-03-24                   0        70435 2016-04-07 03:16:57  \n",
       "1   2016-03-24                   0        66954 2016-04-07 01:46:50  \n",
       "2   2016-03-14                   0        90480 2016-04-05 12:47:46  \n",
       "3   2016-03-17                   0        91074 2016-03-17 17:40:17  \n",
       "4   2016-03-31                   0        60437 2016-04-06 10:17:21  "
      ]
     },
     "execution_count": 8,
     "metadata": {},
     "output_type": "execute_result"
    }
   ],
   "source": [
    "int_cols = ['price', 'registration_year', 'power', 'kilometer', 'registration_month', 'number_of_pictures']\n",
    "for col in int_cols:\n",
    "    df[col] = pd.to_numeric(df[col], downcast='integer')\n",
    "df.info()\n",
    "df.head()"
   ]
  },
  {
   "cell_type": "markdown",
   "metadata": {
    "tags": []
   },
   "source": [
    "### Обработка пропусков и аномальных значений\n",
    "\n",
    "На предыдущих шагах в глаза бросался тот факт, что у многих объявлений нет фотографий. Посмотрим, какие значения содержатся в этом столбце."
   ]
  },
  {
   "cell_type": "code",
   "execution_count": 9,
   "metadata": {},
   "outputs": [
    {
     "data": {
      "text/plain": [
       "354369"
      ]
     },
     "execution_count": 9,
     "metadata": {},
     "output_type": "execute_result"
    }
   ],
   "source": [
    "original_df = df\n",
    "original_lenght = df.shape[0]\n",
    "original_lenght"
   ]
  },
  {
   "cell_type": "code",
   "execution_count": 10,
   "metadata": {},
   "outputs": [],
   "source": [
    "sns.set(rc={'figure.figsize':(10, 7.5),\n",
    "    'axes.labelsize':15,\n",
    "    'xtick.labelsize':12,\n",
    "    'ytick.labelsize':12,\n",
    "})"
   ]
  },
  {
   "cell_type": "code",
   "execution_count": 11,
   "metadata": {},
   "outputs": [
    {
     "data": {
      "text/plain": [
       "0    354369\n",
       "Name: number_of_pictures, dtype: int64"
      ]
     },
     "execution_count": 11,
     "metadata": {},
     "output_type": "execute_result"
    }
   ],
   "source": [
    "df['number_of_pictures'].value_counts()"
   ]
  },
  {
   "cell_type": "markdown",
   "metadata": {},
   "source": [
    "Все значения в данном столбце - нули, то есть, ни у одной машины нет фото. Скорее всего, это ошибка при выгрузке данных, но т.к. возможности ее исправить нет, этот столбец в дальнейшем нам не нужен. Удалим его."
   ]
  },
  {
   "cell_type": "code",
   "execution_count": 12,
   "metadata": {},
   "outputs": [],
   "source": [
    "df = df.drop(columns='number_of_pictures')"
   ]
  },
  {
   "cell_type": "code",
   "execution_count": 13,
   "metadata": {},
   "outputs": [
    {
     "data": {
      "text/plain": [
       "date_crawled              0\n",
       "price                     0\n",
       "vehicle_type          37490\n",
       "registration_year         0\n",
       "gearbox               19833\n",
       "power                     0\n",
       "model                 19705\n",
       "kilometer                 0\n",
       "registration_month        0\n",
       "fuel_type             32895\n",
       "brand                     0\n",
       "not_repaired          71154\n",
       "date_created              0\n",
       "postal_code               0\n",
       "last_seen                 0\n",
       "dtype: int64"
      ]
     },
     "execution_count": 13,
     "metadata": {},
     "output_type": "execute_result"
    }
   ],
   "source": [
    "df.isna().sum()"
   ]
  },
  {
   "cell_type": "code",
   "execution_count": 14,
   "metadata": {},
   "outputs": [
    {
     "data": {
      "text/plain": [
       "sedan          91457\n",
       "small          79831\n",
       "wagon          65166\n",
       "bus            28775\n",
       "convertible    20203\n",
       "coupe          16163\n",
       "suv            11996\n",
       "other           3288\n",
       "Name: vehicle_type, dtype: int64"
      ]
     },
     "execution_count": 14,
     "metadata": {},
     "output_type": "execute_result"
    }
   ],
   "source": [
    "df['vehicle_type'].value_counts()"
   ]
  },
  {
   "cell_type": "code",
   "execution_count": 15,
   "metadata": {},
   "outputs": [
    {
     "data": {
      "image/png": "[encoded data removed]",
      "text/plain": [
       "<Figure size 720x540 with 1 Axes>"
      ]
     },
     "metadata": {},
     "output_type": "display_data"
    }
   ],
   "source": [
    "sns.countplot(x='vehicle_type', data=df, palette='turbo');"
   ]
  },
  {
   "cell_type": "code",
   "execution_count": 16,
   "metadata": {},
   "outputs": [
    {
     "name": "stdout",
     "output_type": "stream",
     "text": [
      "Процент пропусков от всех данных - 10.58%\n"
     ]
    }
   ],
   "source": [
    "print(f'Процент пропусков от всех данных - {df[\"vehicle_type\"].isna().sum() / len(df) :.2%}')"
   ]
  },
  {
   "cell_type": "code",
   "execution_count": 17,
   "metadata": {},
   "outputs": [
    {
     "data": {
      "text/html": [
       "<div>\n",
       "<style scoped>\n",
       "    .dataframe tbody tr th:only-of-type {\n",
       "        vertical-align: middle;\n",
       "    }\n",
       "\n",
       "    .dataframe tbody tr th {\n",
       "        vertical-align: top;\n",
       "    }\n",
       "\n",
       "    .dataframe thead th {\n",
       "        text-align: right;\n",
       "    }\n",
       "</style>\n",
       "<table border=\"1\" class=\"dataframe\">\n",
       "  <thead>\n",
       "    <tr style=\"text-align: right;\">\n",
       "      <th></th>\n",
       "      <th>date_crawled</th>\n",
       "      <th>price</th>\n",
       "      <th>vehicle_type</th>\n",
       "      <th>registration_year</th>\n",
       "      <th>gearbox</th>\n",
       "      <th>power</th>\n",
       "      <th>model</th>\n",
       "      <th>kilometer</th>\n",
       "      <th>registration_month</th>\n",
       "      <th>fuel_type</th>\n",
       "      <th>brand</th>\n",
       "      <th>not_repaired</th>\n",
       "      <th>date_created</th>\n",
       "      <th>postal_code</th>\n",
       "      <th>last_seen</th>\n",
       "    </tr>\n",
       "  </thead>\n",
       "  <tbody>\n",
       "    <tr>\n",
       "      <th>0</th>\n",
       "      <td>2016-03-24 11:52:17</td>\n",
       "      <td>480</td>\n",
       "      <td>NaN</td>\n",
       "      <td>1993</td>\n",
       "      <td>manual</td>\n",
       "      <td>0</td>\n",
       "      <td>golf</td>\n",
       "      <td>150000</td>\n",
       "      <td>0</td>\n",
       "      <td>petrol</td>\n",
       "      <td>volkswagen</td>\n",
       "      <td>NaN</td>\n",
       "      <td>2016-03-24</td>\n",
       "      <td>70435</td>\n",
       "      <td>2016-04-07 03:16:57</td>\n",
       "    </tr>\n",
       "    <tr>\n",
       "      <th>16</th>\n",
       "      <td>2016-04-01 12:46:46</td>\n",
       "      <td>300</td>\n",
       "      <td>NaN</td>\n",
       "      <td>2016</td>\n",
       "      <td>NaN</td>\n",
       "      <td>60</td>\n",
       "      <td>polo</td>\n",
       "      <td>150000</td>\n",
       "      <td>0</td>\n",
       "      <td>petrol</td>\n",
       "      <td>volkswagen</td>\n",
       "      <td>NaN</td>\n",
       "      <td>2016-04-01</td>\n",
       "      <td>38871</td>\n",
       "      <td>2016-04-01 12:46:46</td>\n",
       "    </tr>\n",
       "    <tr>\n",
       "      <th>22</th>\n",
       "      <td>2016-03-23 14:52:51</td>\n",
       "      <td>2900</td>\n",
       "      <td>NaN</td>\n",
       "      <td>2018</td>\n",
       "      <td>manual</td>\n",
       "      <td>90</td>\n",
       "      <td>meriva</td>\n",
       "      <td>150000</td>\n",
       "      <td>5</td>\n",
       "      <td>petrol</td>\n",
       "      <td>opel</td>\n",
       "      <td>no</td>\n",
       "      <td>2016-03-23</td>\n",
       "      <td>49716</td>\n",
       "      <td>2016-03-31 01:16:33</td>\n",
       "    </tr>\n",
       "    <tr>\n",
       "      <th>26</th>\n",
       "      <td>2016-03-10 19:38:18</td>\n",
       "      <td>5555</td>\n",
       "      <td>NaN</td>\n",
       "      <td>2017</td>\n",
       "      <td>manual</td>\n",
       "      <td>125</td>\n",
       "      <td>c4</td>\n",
       "      <td>125000</td>\n",
       "      <td>4</td>\n",
       "      <td>NaN</td>\n",
       "      <td>citroen</td>\n",
       "      <td>no</td>\n",
       "      <td>2016-03-10</td>\n",
       "      <td>31139</td>\n",
       "      <td>2016-03-16 09:16:46</td>\n",
       "    </tr>\n",
       "    <tr>\n",
       "      <th>31</th>\n",
       "      <td>2016-03-29 16:57:02</td>\n",
       "      <td>899</td>\n",
       "      <td>NaN</td>\n",
       "      <td>2016</td>\n",
       "      <td>manual</td>\n",
       "      <td>60</td>\n",
       "      <td>clio</td>\n",
       "      <td>150000</td>\n",
       "      <td>6</td>\n",
       "      <td>petrol</td>\n",
       "      <td>renault</td>\n",
       "      <td>NaN</td>\n",
       "      <td>2016-03-29</td>\n",
       "      <td>37075</td>\n",
       "      <td>2016-03-29 17:43:07</td>\n",
       "    </tr>\n",
       "    <tr>\n",
       "      <th>...</th>\n",
       "      <td>...</td>\n",
       "      <td>...</td>\n",
       "      <td>...</td>\n",
       "      <td>...</td>\n",
       "      <td>...</td>\n",
       "      <td>...</td>\n",
       "      <td>...</td>\n",
       "      <td>...</td>\n",
       "      <td>...</td>\n",
       "      <td>...</td>\n",
       "      <td>...</td>\n",
       "      <td>...</td>\n",
       "      <td>...</td>\n",
       "      <td>...</td>\n",
       "      <td>...</td>\n",
       "    </tr>\n",
       "    <tr>\n",
       "      <th>354305</th>\n",
       "      <td>2016-04-03 13:46:24</td>\n",
       "      <td>3500</td>\n",
       "      <td>NaN</td>\n",
       "      <td>1995</td>\n",
       "      <td>NaN</td>\n",
       "      <td>0</td>\n",
       "      <td>polo</td>\n",
       "      <td>150000</td>\n",
       "      <td>0</td>\n",
       "      <td>NaN</td>\n",
       "      <td>volkswagen</td>\n",
       "      <td>NaN</td>\n",
       "      <td>2016-04-03</td>\n",
       "      <td>74579</td>\n",
       "      <td>2016-04-05 12:44:38</td>\n",
       "    </tr>\n",
       "    <tr>\n",
       "      <th>354336</th>\n",
       "      <td>2016-03-05 18:57:45</td>\n",
       "      <td>3299</td>\n",
       "      <td>NaN</td>\n",
       "      <td>2005</td>\n",
       "      <td>auto</td>\n",
       "      <td>0</td>\n",
       "      <td>outlander</td>\n",
       "      <td>150000</td>\n",
       "      <td>4</td>\n",
       "      <td>petrol</td>\n",
       "      <td>mitsubishi</td>\n",
       "      <td>NaN</td>\n",
       "      <td>2016-03-05</td>\n",
       "      <td>17034</td>\n",
       "      <td>2016-03-06 04:17:37</td>\n",
       "    </tr>\n",
       "    <tr>\n",
       "      <th>354346</th>\n",
       "      <td>2016-03-07 17:06:35</td>\n",
       "      <td>2600</td>\n",
       "      <td>NaN</td>\n",
       "      <td>2005</td>\n",
       "      <td>auto</td>\n",
       "      <td>0</td>\n",
       "      <td>c_klasse</td>\n",
       "      <td>150000</td>\n",
       "      <td>9</td>\n",
       "      <td>NaN</td>\n",
       "      <td>mercedes_benz</td>\n",
       "      <td>NaN</td>\n",
       "      <td>2016-03-07</td>\n",
       "      <td>61169</td>\n",
       "      <td>2016-03-08 21:28:38</td>\n",
       "    </tr>\n",
       "    <tr>\n",
       "      <th>354361</th>\n",
       "      <td>2016-03-09 13:37:43</td>\n",
       "      <td>5250</td>\n",
       "      <td>NaN</td>\n",
       "      <td>2016</td>\n",
       "      <td>auto</td>\n",
       "      <td>150</td>\n",
       "      <td>159</td>\n",
       "      <td>150000</td>\n",
       "      <td>12</td>\n",
       "      <td>NaN</td>\n",
       "      <td>alfa_romeo</td>\n",
       "      <td>no</td>\n",
       "      <td>2016-03-09</td>\n",
       "      <td>51371</td>\n",
       "      <td>2016-03-13 01:44:13</td>\n",
       "    </tr>\n",
       "    <tr>\n",
       "      <th>354364</th>\n",
       "      <td>2016-03-21 09:50:58</td>\n",
       "      <td>0</td>\n",
       "      <td>NaN</td>\n",
       "      <td>2005</td>\n",
       "      <td>manual</td>\n",
       "      <td>0</td>\n",
       "      <td>colt</td>\n",
       "      <td>150000</td>\n",
       "      <td>7</td>\n",
       "      <td>petrol</td>\n",
       "      <td>mitsubishi</td>\n",
       "      <td>yes</td>\n",
       "      <td>2016-03-21</td>\n",
       "      <td>2694</td>\n",
       "      <td>2016-03-21 10:42:49</td>\n",
       "    </tr>\n",
       "  </tbody>\n",
       "</table>\n",
       "<p>30662 rows × 15 columns</p>\n",
       "</div>"
      ],
      "text/plain": [
       "              date_crawled  price vehicle_type  registration_year gearbox  \\\n",
       "0      2016-03-24 11:52:17    480          NaN               1993  manual   \n",
       "16     2016-04-01 12:46:46    300          NaN               2016     NaN   \n",
       "22     2016-03-23 14:52:51   2900          NaN               2018  manual   \n",
       "26     2016-03-10 19:38:18   5555          NaN               2017  manual   \n",
       "31     2016-03-29 16:57:02    899          NaN               2016  manual   \n",
       "...                    ...    ...          ...                ...     ...   \n",
       "354305 2016-04-03 13:46:24   3500          NaN               1995     NaN   \n",
       "354336 2016-03-05 18:57:45   3299          NaN               2005    auto   \n",
       "354346 2016-03-07 17:06:35   2600          NaN               2005    auto   \n",
       "354361 2016-03-09 13:37:43   5250          NaN               2016    auto   \n",
       "354364 2016-03-21 09:50:58      0          NaN               2005  manual   \n",
       "\n",
       "        power      model  kilometer  registration_month fuel_type  \\\n",
       "0           0       golf     150000                   0    petrol   \n",
       "16         60       polo     150000                   0    petrol   \n",
       "22         90     meriva     150000                   5    petrol   \n",
       "26        125         c4     125000                   4       NaN   \n",
       "31         60       clio     150000                   6    petrol   \n",
       "...       ...        ...        ...                 ...       ...   \n",
       "354305      0       polo     150000                   0       NaN   \n",
       "354336      0  outlander     150000                   4    petrol   \n",
       "354346      0   c_klasse     150000                   9       NaN   \n",
       "354361    150        159     150000                  12       NaN   \n",
       "354364      0       colt     150000                   7    petrol   \n",
       "\n",
       "                brand not_repaired date_created  postal_code  \\\n",
       "0          volkswagen          NaN   2016-03-24        70435   \n",
       "16         volkswagen          NaN   2016-04-01        38871   \n",
       "22               opel           no   2016-03-23        49716   \n",
       "26            citroen           no   2016-03-10        31139   \n",
       "31            renault          NaN   2016-03-29        37075   \n",
       "...               ...          ...          ...          ...   \n",
       "354305     volkswagen          NaN   2016-04-03        74579   \n",
       "354336     mitsubishi          NaN   2016-03-05        17034   \n",
       "354346  mercedes_benz          NaN   2016-03-07        61169   \n",
       "354361     alfa_romeo           no   2016-03-09        51371   \n",
       "354364     mitsubishi          yes   2016-03-21         2694   \n",
       "\n",
       "                 last_seen  \n",
       "0      2016-04-07 03:16:57  \n",
       "16     2016-04-01 12:46:46  \n",
       "22     2016-03-31 01:16:33  \n",
       "26     2016-03-16 09:16:46  \n",
       "31     2016-03-29 17:43:07  \n",
       "...                    ...  \n",
       "354305 2016-04-05 12:44:38  \n",
       "354336 2016-03-06 04:17:37  \n",
       "354346 2016-03-08 21:28:38  \n",
       "354361 2016-03-13 01:44:13  \n",
       "354364 2016-03-21 10:42:49  \n",
       "\n",
       "[30662 rows x 15 columns]"
      ]
     },
     "execution_count": 17,
     "metadata": {},
     "output_type": "execute_result"
    }
   ],
   "source": [
    "df[(df['vehicle_type'].isna() == True) & (df['model'].isna() == False)]"
   ]
  },
  {
   "cell_type": "code",
   "execution_count": 18,
   "metadata": {},
   "outputs": [
    {
     "data": {
      "text/plain": [
       "sedan          252\n",
       "small          180\n",
       "convertible     78\n",
       "wagon           20\n",
       "coupe           12\n",
       "other            1\n",
       "bus              1\n",
       "Name: vehicle_type, dtype: int64"
      ]
     },
     "execution_count": 18,
     "metadata": {},
     "output_type": "execute_result"
    }
   ],
   "source": [
    "df[(df['brand']=='volkswagen') &\n",
    "   (df['registration_year']==1993) &\n",
    "   (df['model']=='golf')]['vehicle_type'].value_counts()"
   ]
  },
  {
   "cell_type": "markdown",
   "metadata": {},
   "source": [
    "Пропусков в типе кузова более 10% - это достаточно много, поэтому удалять их нельзя. \n",
    "\n",
    "Вообще, большую часть пропусков в данном столбце можно восстановить по фотографиям, либо по марке и модели автомобиля. Однако, т.к. фотографий у нас в наличии нет, а у одной и той же модели авто могут быть разные кузова, такой подход нецелесообразен. Поэтому лучше заполнить пропуски значением заглушкой, например `Not Stated`."
   ]
  },
  {
   "cell_type": "code",
   "execution_count": 19,
   "metadata": {},
   "outputs": [],
   "source": [
    "df['vehicle_type'] = df['vehicle_type'].fillna('not stated')"
   ]
  },
  {
   "cell_type": "code",
   "execution_count": 20,
   "metadata": {},
   "outputs": [
    {
     "data": {
      "image/png": "[encoded data removed]",
      "text/plain": [
       "<Figure size 720x540 with 1 Axes>"
      ]
     },
     "metadata": {},
     "output_type": "display_data"
    }
   ],
   "source": [
    "sns.countplot(x='vehicle_type', data=df, palette='turbo');"
   ]
  },
  {
   "cell_type": "code",
   "execution_count": 21,
   "metadata": {},
   "outputs": [
    {
     "data": {
      "text/html": [
       "<div>\n",
       "<style scoped>\n",
       "    .dataframe tbody tr th:only-of-type {\n",
       "        vertical-align: middle;\n",
       "    }\n",
       "\n",
       "    .dataframe tbody tr th {\n",
       "        vertical-align: top;\n",
       "    }\n",
       "\n",
       "    .dataframe thead th {\n",
       "        text-align: right;\n",
       "    }\n",
       "</style>\n",
       "<table border=\"1\" class=\"dataframe\">\n",
       "  <thead>\n",
       "    <tr style=\"text-align: right;\">\n",
       "      <th></th>\n",
       "      <th>date_crawled</th>\n",
       "      <th>price</th>\n",
       "      <th>vehicle_type</th>\n",
       "      <th>registration_year</th>\n",
       "      <th>gearbox</th>\n",
       "      <th>power</th>\n",
       "      <th>model</th>\n",
       "      <th>kilometer</th>\n",
       "      <th>registration_month</th>\n",
       "      <th>fuel_type</th>\n",
       "      <th>brand</th>\n",
       "      <th>not_repaired</th>\n",
       "      <th>date_created</th>\n",
       "      <th>postal_code</th>\n",
       "      <th>last_seen</th>\n",
       "    </tr>\n",
       "  </thead>\n",
       "  <tbody>\n",
       "    <tr>\n",
       "      <th>1</th>\n",
       "      <td>2016-03-24 10:58:45</td>\n",
       "      <td>18300</td>\n",
       "      <td>coupe</td>\n",
       "      <td>2011</td>\n",
       "      <td>manual</td>\n",
       "      <td>190</td>\n",
       "      <td>NaN</td>\n",
       "      <td>125000</td>\n",
       "      <td>5</td>\n",
       "      <td>gasoline</td>\n",
       "      <td>audi</td>\n",
       "      <td>yes</td>\n",
       "      <td>2016-03-24</td>\n",
       "      <td>66954</td>\n",
       "      <td>2016-04-07 01:46:50</td>\n",
       "    </tr>\n",
       "    <tr>\n",
       "      <th>59</th>\n",
       "      <td>2016-03-29 15:48:15</td>\n",
       "      <td>1</td>\n",
       "      <td>suv</td>\n",
       "      <td>1994</td>\n",
       "      <td>manual</td>\n",
       "      <td>286</td>\n",
       "      <td>NaN</td>\n",
       "      <td>150000</td>\n",
       "      <td>11</td>\n",
       "      <td>NaN</td>\n",
       "      <td>sonstige_autos</td>\n",
       "      <td>NaN</td>\n",
       "      <td>2016-03-29</td>\n",
       "      <td>53721</td>\n",
       "      <td>2016-04-06 01:44:38</td>\n",
       "    </tr>\n",
       "    <tr>\n",
       "      <th>81</th>\n",
       "      <td>2016-04-03 12:56:45</td>\n",
       "      <td>350</td>\n",
       "      <td>small</td>\n",
       "      <td>1997</td>\n",
       "      <td>manual</td>\n",
       "      <td>54</td>\n",
       "      <td>NaN</td>\n",
       "      <td>150000</td>\n",
       "      <td>3</td>\n",
       "      <td>NaN</td>\n",
       "      <td>fiat</td>\n",
       "      <td>yes</td>\n",
       "      <td>2016-04-03</td>\n",
       "      <td>45665</td>\n",
       "      <td>2016-04-05 11:47:13</td>\n",
       "    </tr>\n",
       "    <tr>\n",
       "      <th>115</th>\n",
       "      <td>2016-03-20 18:53:27</td>\n",
       "      <td>0</td>\n",
       "      <td>small</td>\n",
       "      <td>1999</td>\n",
       "      <td>NaN</td>\n",
       "      <td>0</td>\n",
       "      <td>NaN</td>\n",
       "      <td>5000</td>\n",
       "      <td>0</td>\n",
       "      <td>petrol</td>\n",
       "      <td>volkswagen</td>\n",
       "      <td>NaN</td>\n",
       "      <td>2016-03-20</td>\n",
       "      <td>37520</td>\n",
       "      <td>2016-04-07 02:45:22</td>\n",
       "    </tr>\n",
       "    <tr>\n",
       "      <th>135</th>\n",
       "      <td>2016-03-27 20:51:23</td>\n",
       "      <td>1450</td>\n",
       "      <td>sedan</td>\n",
       "      <td>1992</td>\n",
       "      <td>manual</td>\n",
       "      <td>136</td>\n",
       "      <td>NaN</td>\n",
       "      <td>150000</td>\n",
       "      <td>0</td>\n",
       "      <td>NaN</td>\n",
       "      <td>audi</td>\n",
       "      <td>no</td>\n",
       "      <td>2016-03-27</td>\n",
       "      <td>38709</td>\n",
       "      <td>2016-04-05 20:17:31</td>\n",
       "    </tr>\n",
       "    <tr>\n",
       "      <th>...</th>\n",
       "      <td>...</td>\n",
       "      <td>...</td>\n",
       "      <td>...</td>\n",
       "      <td>...</td>\n",
       "      <td>...</td>\n",
       "      <td>...</td>\n",
       "      <td>...</td>\n",
       "      <td>...</td>\n",
       "      <td>...</td>\n",
       "      <td>...</td>\n",
       "      <td>...</td>\n",
       "      <td>...</td>\n",
       "      <td>...</td>\n",
       "      <td>...</td>\n",
       "      <td>...</td>\n",
       "    </tr>\n",
       "    <tr>\n",
       "      <th>354245</th>\n",
       "      <td>2016-03-07 16:37:42</td>\n",
       "      <td>560</td>\n",
       "      <td>small</td>\n",
       "      <td>2001</td>\n",
       "      <td>auto</td>\n",
       "      <td>170</td>\n",
       "      <td>NaN</td>\n",
       "      <td>90000</td>\n",
       "      <td>0</td>\n",
       "      <td>petrol</td>\n",
       "      <td>fiat</td>\n",
       "      <td>yes</td>\n",
       "      <td>2016-03-07</td>\n",
       "      <td>55743</td>\n",
       "      <td>2016-03-12 21:45:25</td>\n",
       "    </tr>\n",
       "    <tr>\n",
       "      <th>354321</th>\n",
       "      <td>2016-03-15 13:52:34</td>\n",
       "      <td>9400</td>\n",
       "      <td>wagon</td>\n",
       "      <td>2007</td>\n",
       "      <td>manual</td>\n",
       "      <td>200</td>\n",
       "      <td>NaN</td>\n",
       "      <td>150000</td>\n",
       "      <td>4</td>\n",
       "      <td>gasoline</td>\n",
       "      <td>sonstige_autos</td>\n",
       "      <td>yes</td>\n",
       "      <td>2016-03-15</td>\n",
       "      <td>91186</td>\n",
       "      <td>2016-03-17 08:16:25</td>\n",
       "    </tr>\n",
       "    <tr>\n",
       "      <th>354338</th>\n",
       "      <td>2016-03-31 19:52:33</td>\n",
       "      <td>180</td>\n",
       "      <td>not stated</td>\n",
       "      <td>1995</td>\n",
       "      <td>NaN</td>\n",
       "      <td>0</td>\n",
       "      <td>NaN</td>\n",
       "      <td>125000</td>\n",
       "      <td>3</td>\n",
       "      <td>petrol</td>\n",
       "      <td>opel</td>\n",
       "      <td>NaN</td>\n",
       "      <td>2016-03-31</td>\n",
       "      <td>41470</td>\n",
       "      <td>2016-04-06 14:18:04</td>\n",
       "    </tr>\n",
       "    <tr>\n",
       "      <th>354351</th>\n",
       "      <td>2016-03-11 23:40:32</td>\n",
       "      <td>1900</td>\n",
       "      <td>not stated</td>\n",
       "      <td>2000</td>\n",
       "      <td>manual</td>\n",
       "      <td>110</td>\n",
       "      <td>NaN</td>\n",
       "      <td>150000</td>\n",
       "      <td>7</td>\n",
       "      <td>NaN</td>\n",
       "      <td>volkswagen</td>\n",
       "      <td>no</td>\n",
       "      <td>2016-03-11</td>\n",
       "      <td>87700</td>\n",
       "      <td>2016-03-12 14:16:51</td>\n",
       "    </tr>\n",
       "    <tr>\n",
       "      <th>354365</th>\n",
       "      <td>2016-03-14 17:48:27</td>\n",
       "      <td>2200</td>\n",
       "      <td>not stated</td>\n",
       "      <td>2005</td>\n",
       "      <td>NaN</td>\n",
       "      <td>0</td>\n",
       "      <td>NaN</td>\n",
       "      <td>20000</td>\n",
       "      <td>1</td>\n",
       "      <td>NaN</td>\n",
       "      <td>sonstige_autos</td>\n",
       "      <td>NaN</td>\n",
       "      <td>2016-03-14</td>\n",
       "      <td>39576</td>\n",
       "      <td>2016-04-06 00:46:52</td>\n",
       "    </tr>\n",
       "  </tbody>\n",
       "</table>\n",
       "<p>19705 rows × 15 columns</p>\n",
       "</div>"
      ],
      "text/plain": [
       "              date_crawled  price vehicle_type  registration_year gearbox  \\\n",
       "1      2016-03-24 10:58:45  18300        coupe               2011  manual   \n",
       "59     2016-03-29 15:48:15      1          suv               1994  manual   \n",
       "81     2016-04-03 12:56:45    350        small               1997  manual   \n",
       "115    2016-03-20 18:53:27      0        small               1999     NaN   \n",
       "135    2016-03-27 20:51:23   1450        sedan               1992  manual   \n",
       "...                    ...    ...          ...                ...     ...   \n",
       "354245 2016-03-07 16:37:42    560        small               2001    auto   \n",
       "354321 2016-03-15 13:52:34   9400        wagon               2007  manual   \n",
       "354338 2016-03-31 19:52:33    180   not stated               1995     NaN   \n",
       "354351 2016-03-11 23:40:32   1900   not stated               2000  manual   \n",
       "354365 2016-03-14 17:48:27   2200   not stated               2005     NaN   \n",
       "\n",
       "        power model  kilometer  registration_month fuel_type           brand  \\\n",
       "1         190   NaN     125000                   5  gasoline            audi   \n",
       "59        286   NaN     150000                  11       NaN  sonstige_autos   \n",
       "81         54   NaN     150000                   3       NaN            fiat   \n",
       "115         0   NaN       5000                   0    petrol      volkswagen   \n",
       "135       136   NaN     150000                   0       NaN            audi   \n",
       "...       ...   ...        ...                 ...       ...             ...   \n",
       "354245    170   NaN      90000                   0    petrol            fiat   \n",
       "354321    200   NaN     150000                   4  gasoline  sonstige_autos   \n",
       "354338      0   NaN     125000                   3    petrol            opel   \n",
       "354351    110   NaN     150000                   7       NaN      volkswagen   \n",
       "354365      0   NaN      20000                   1       NaN  sonstige_autos   \n",
       "\n",
       "       not_repaired date_created  postal_code           last_seen  \n",
       "1               yes   2016-03-24        66954 2016-04-07 01:46:50  \n",
       "59              NaN   2016-03-29        53721 2016-04-06 01:44:38  \n",
       "81              yes   2016-04-03        45665 2016-04-05 11:47:13  \n",
       "115             NaN   2016-03-20        37520 2016-04-07 02:45:22  \n",
       "135              no   2016-03-27        38709 2016-04-05 20:17:31  \n",
       "...             ...          ...          ...                 ...  \n",
       "354245          yes   2016-03-07        55743 2016-03-12 21:45:25  \n",
       "354321          yes   2016-03-15        91186 2016-03-17 08:16:25  \n",
       "354338          NaN   2016-03-31        41470 2016-04-06 14:18:04  \n",
       "354351           no   2016-03-11        87700 2016-03-12 14:16:51  \n",
       "354365          NaN   2016-03-14        39576 2016-04-06 00:46:52  \n",
       "\n",
       "[19705 rows x 15 columns]"
      ]
     },
     "execution_count": 21,
     "metadata": {},
     "output_type": "execute_result"
    }
   ],
   "source": [
    "df[df['model'].isna() == True]"
   ]
  },
  {
   "cell_type": "code",
   "execution_count": 22,
   "metadata": {},
   "outputs": [
    {
     "data": {
      "text/plain": [
       "'Процент объявлений без указания модели авто - 5.56%'"
      ]
     },
     "execution_count": 22,
     "metadata": {},
     "output_type": "execute_result"
    }
   ],
   "source": [
    "f\"Процент объявлений без указания модели авто - {df[df['model'].isna() == True].shape[0] / len(df) :.2%}\""
   ]
  },
  {
   "cell_type": "markdown",
   "metadata": {},
   "source": [
    "Пропусков в моделях авто меньше, чем в типах кузова - всего 5,4%. \n",
    "\n",
    "Восстановить пропущенные значения по другим данным в этом случае так же проблематично. А т.к. модель авто часто является одним из ключевых факторов при выборе автомобиля, неточные данные могут исказить качество модели в дальнейшем. Поэтому в данном случае пропуски лучше удалить."
   ]
  },
  {
   "cell_type": "code",
   "execution_count": 23,
   "metadata": {},
   "outputs": [
    {
     "name": "stdout",
     "output_type": "stream",
     "text": [
      "<class 'pandas.core.frame.DataFrame'>\n",
      "RangeIndex: 334664 entries, 0 to 334663\n",
      "Data columns (total 15 columns):\n",
      " #   Column              Non-Null Count   Dtype         \n",
      "---  ------              --------------   -----         \n",
      " 0   date_crawled        334664 non-null  datetime64[ns]\n",
      " 1   price               334664 non-null  int16         \n",
      " 2   vehicle_type        334664 non-null  object        \n",
      " 3   registration_year   334664 non-null  int16         \n",
      " 4   gearbox             318962 non-null  object        \n",
      " 5   power               334664 non-null  int16         \n",
      " 6   model               334664 non-null  object        \n",
      " 7   kilometer           334664 non-null  int32         \n",
      " 8   registration_month  334664 non-null  int8          \n",
      " 9   fuel_type           308932 non-null  object        \n",
      " 10  brand               334664 non-null  object        \n",
      " 11  not_repaired        272564 non-null  object        \n",
      " 12  date_created        334664 non-null  datetime64[ns]\n",
      " 13  postal_code         334664 non-null  int64         \n",
      " 14  last_seen           334664 non-null  datetime64[ns]\n",
      "dtypes: datetime64[ns](3), int16(3), int32(1), int64(1), int8(1), object(6)\n",
      "memory usage: 29.0+ MB\n"
     ]
    },
    {
     "data": {
      "text/plain": [
       "date_crawled              0\n",
       "price                     0\n",
       "vehicle_type              0\n",
       "registration_year         0\n",
       "gearbox               15702\n",
       "power                     0\n",
       "model                     0\n",
       "kilometer                 0\n",
       "registration_month        0\n",
       "fuel_type             25732\n",
       "brand                     0\n",
       "not_repaired          62100\n",
       "date_created              0\n",
       "postal_code               0\n",
       "last_seen                 0\n",
       "dtype: int64"
      ]
     },
     "execution_count": 23,
     "metadata": {},
     "output_type": "execute_result"
    }
   ],
   "source": [
    "df = df.dropna(subset=['model']).reset_index(drop=True)\n",
    "df.info()\n",
    "df.isna().sum()"
   ]
  },
  {
   "cell_type": "code",
   "execution_count": 24,
   "metadata": {},
   "outputs": [
    {
     "data": {
      "text/plain": [
       "manual    456\n",
       "auto       82\n",
       "Name: gearbox, dtype: int64"
      ]
     },
     "execution_count": 24,
     "metadata": {},
     "output_type": "execute_result"
    }
   ],
   "source": [
    "df[(df['brand']=='volkswagen') &\n",
    "   (df['registration_year']==1993) &\n",
    "   (df['model']=='golf')]['gearbox'].value_counts()"
   ]
  },
  {
   "cell_type": "code",
   "execution_count": 25,
   "metadata": {},
   "outputs": [
    {
     "data": {
      "text/plain": [
       "petrol      480\n",
       "gasoline     13\n",
       "lpg           5\n",
       "Name: fuel_type, dtype: int64"
      ]
     },
     "execution_count": 25,
     "metadata": {},
     "output_type": "execute_result"
    }
   ],
   "source": [
    "df[(df['brand']=='volkswagen') &\n",
    "   (df['registration_year']==1993) &\n",
    "   (df['model']=='golf')]['fuel_type'].value_counts()"
   ]
  },
  {
   "cell_type": "markdown",
   "metadata": {},
   "source": [
    "Теперь, основываясь на модели и годе выпуска авто, можно заполнить пропуски столбцах `gearbox` и `fuel_type` используя наиболее частое значение."
   ]
  },
  {
   "cell_type": "code",
   "execution_count": 26,
   "metadata": {},
   "outputs": [],
   "source": [
    "for col in ['gearbox', 'fuel_type', 'vehicle_type']:\n",
    "    df[col] = df[col].fillna(df.groupby(['brand','model'])[col].transform(lambda x: pd.Series.mode(x)[0]))"
   ]
  },
  {
   "cell_type": "code",
   "execution_count": 27,
   "metadata": {},
   "outputs": [
    {
     "data": {
      "text/plain": [
       "no     238855\n",
       "yes     33709\n",
       "Name: not_repaired, dtype: int64"
      ]
     },
     "execution_count": 27,
     "metadata": {},
     "output_type": "execute_result"
    }
   ],
   "source": [
    "df['not_repaired'].value_counts()"
   ]
  },
  {
   "cell_type": "code",
   "execution_count": 28,
   "metadata": {},
   "outputs": [
    {
     "data": {
      "text/plain": [
       "62100"
      ]
     },
     "execution_count": 28,
     "metadata": {},
     "output_type": "execute_result"
    }
   ],
   "source": [
    "df['not_repaired'].isna().sum()"
   ]
  },
  {
   "cell_type": "code",
   "execution_count": 29,
   "metadata": {},
   "outputs": [
    {
     "data": {
      "text/html": [
       "<div>\n",
       "<style scoped>\n",
       "    .dataframe tbody tr th:only-of-type {\n",
       "        vertical-align: middle;\n",
       "    }\n",
       "\n",
       "    .dataframe tbody tr th {\n",
       "        vertical-align: top;\n",
       "    }\n",
       "\n",
       "    .dataframe thead th {\n",
       "        text-align: right;\n",
       "    }\n",
       "</style>\n",
       "<table border=\"1\" class=\"dataframe\">\n",
       "  <thead>\n",
       "    <tr style=\"text-align: right;\">\n",
       "      <th></th>\n",
       "      <th>date_crawled</th>\n",
       "      <th>price</th>\n",
       "      <th>vehicle_type</th>\n",
       "      <th>registration_year</th>\n",
       "      <th>gearbox</th>\n",
       "      <th>power</th>\n",
       "      <th>model</th>\n",
       "      <th>kilometer</th>\n",
       "      <th>registration_month</th>\n",
       "      <th>fuel_type</th>\n",
       "      <th>brand</th>\n",
       "      <th>not_repaired</th>\n",
       "      <th>date_created</th>\n",
       "      <th>postal_code</th>\n",
       "      <th>last_seen</th>\n",
       "    </tr>\n",
       "  </thead>\n",
       "  <tbody>\n",
       "    <tr>\n",
       "      <th>0</th>\n",
       "      <td>2016-03-24 11:52:17</td>\n",
       "      <td>480</td>\n",
       "      <td>not stated</td>\n",
       "      <td>1993</td>\n",
       "      <td>manual</td>\n",
       "      <td>0</td>\n",
       "      <td>golf</td>\n",
       "      <td>150000</td>\n",
       "      <td>0</td>\n",
       "      <td>petrol</td>\n",
       "      <td>volkswagen</td>\n",
       "      <td>NaN</td>\n",
       "      <td>2016-03-24</td>\n",
       "      <td>70435</td>\n",
       "      <td>2016-04-07 03:16:57</td>\n",
       "    </tr>\n",
       "    <tr>\n",
       "      <th>1</th>\n",
       "      <td>2016-03-14 12:52:21</td>\n",
       "      <td>9800</td>\n",
       "      <td>suv</td>\n",
       "      <td>2004</td>\n",
       "      <td>auto</td>\n",
       "      <td>163</td>\n",
       "      <td>grand</td>\n",
       "      <td>125000</td>\n",
       "      <td>8</td>\n",
       "      <td>gasoline</td>\n",
       "      <td>jeep</td>\n",
       "      <td>NaN</td>\n",
       "      <td>2016-03-14</td>\n",
       "      <td>90480</td>\n",
       "      <td>2016-04-05 12:47:46</td>\n",
       "    </tr>\n",
       "    <tr>\n",
       "      <th>7</th>\n",
       "      <td>2016-04-04 23:42:13</td>\n",
       "      <td>14500</td>\n",
       "      <td>bus</td>\n",
       "      <td>2014</td>\n",
       "      <td>manual</td>\n",
       "      <td>125</td>\n",
       "      <td>c_max</td>\n",
       "      <td>30000</td>\n",
       "      <td>8</td>\n",
       "      <td>petrol</td>\n",
       "      <td>ford</td>\n",
       "      <td>NaN</td>\n",
       "      <td>2016-04-04</td>\n",
       "      <td>94505</td>\n",
       "      <td>2016-04-04 23:42:13</td>\n",
       "    </tr>\n",
       "    <tr>\n",
       "      <th>8</th>\n",
       "      <td>2016-03-17 10:53:50</td>\n",
       "      <td>999</td>\n",
       "      <td>small</td>\n",
       "      <td>1998</td>\n",
       "      <td>manual</td>\n",
       "      <td>101</td>\n",
       "      <td>golf</td>\n",
       "      <td>150000</td>\n",
       "      <td>0</td>\n",
       "      <td>petrol</td>\n",
       "      <td>volkswagen</td>\n",
       "      <td>NaN</td>\n",
       "      <td>2016-03-17</td>\n",
       "      <td>27472</td>\n",
       "      <td>2016-03-31 17:17:06</td>\n",
       "    </tr>\n",
       "    <tr>\n",
       "      <th>11</th>\n",
       "      <td>2016-03-15 22:49:09</td>\n",
       "      <td>999</td>\n",
       "      <td>wagon</td>\n",
       "      <td>1995</td>\n",
       "      <td>manual</td>\n",
       "      <td>115</td>\n",
       "      <td>passat</td>\n",
       "      <td>150000</td>\n",
       "      <td>11</td>\n",
       "      <td>petrol</td>\n",
       "      <td>volkswagen</td>\n",
       "      <td>NaN</td>\n",
       "      <td>2016-03-15</td>\n",
       "      <td>37269</td>\n",
       "      <td>2016-04-01 13:16:16</td>\n",
       "    </tr>\n",
       "    <tr>\n",
       "      <th>14</th>\n",
       "      <td>2016-03-11 21:39:15</td>\n",
       "      <td>450</td>\n",
       "      <td>small</td>\n",
       "      <td>1910</td>\n",
       "      <td>manual</td>\n",
       "      <td>0</td>\n",
       "      <td>ka</td>\n",
       "      <td>5000</td>\n",
       "      <td>0</td>\n",
       "      <td>petrol</td>\n",
       "      <td>ford</td>\n",
       "      <td>NaN</td>\n",
       "      <td>2016-03-11</td>\n",
       "      <td>24148</td>\n",
       "      <td>2016-03-19 08:46:47</td>\n",
       "    </tr>\n",
       "    <tr>\n",
       "      <th>15</th>\n",
       "      <td>2016-04-01 12:46:46</td>\n",
       "      <td>300</td>\n",
       "      <td>not stated</td>\n",
       "      <td>2016</td>\n",
       "      <td>manual</td>\n",
       "      <td>60</td>\n",
       "      <td>polo</td>\n",
       "      <td>150000</td>\n",
       "      <td>0</td>\n",
       "      <td>petrol</td>\n",
       "      <td>volkswagen</td>\n",
       "      <td>NaN</td>\n",
       "      <td>2016-04-01</td>\n",
       "      <td>38871</td>\n",
       "      <td>2016-04-01 12:46:46</td>\n",
       "    </tr>\n",
       "    <tr>\n",
       "      <th>30</th>\n",
       "      <td>2016-03-29 16:57:02</td>\n",
       "      <td>899</td>\n",
       "      <td>not stated</td>\n",
       "      <td>2016</td>\n",
       "      <td>manual</td>\n",
       "      <td>60</td>\n",
       "      <td>clio</td>\n",
       "      <td>150000</td>\n",
       "      <td>6</td>\n",
       "      <td>petrol</td>\n",
       "      <td>renault</td>\n",
       "      <td>NaN</td>\n",
       "      <td>2016-03-29</td>\n",
       "      <td>37075</td>\n",
       "      <td>2016-03-29 17:43:07</td>\n",
       "    </tr>\n",
       "    <tr>\n",
       "      <th>35</th>\n",
       "      <td>2016-03-11 11:50:37</td>\n",
       "      <td>1600</td>\n",
       "      <td>other</td>\n",
       "      <td>1991</td>\n",
       "      <td>manual</td>\n",
       "      <td>75</td>\n",
       "      <td>kadett</td>\n",
       "      <td>70000</td>\n",
       "      <td>0</td>\n",
       "      <td>petrol</td>\n",
       "      <td>opel</td>\n",
       "      <td>NaN</td>\n",
       "      <td>2016-03-11</td>\n",
       "      <td>2943</td>\n",
       "      <td>2016-04-07 03:46:09</td>\n",
       "    </tr>\n",
       "    <tr>\n",
       "      <th>39</th>\n",
       "      <td>2016-03-26 22:06:17</td>\n",
       "      <td>0</td>\n",
       "      <td>not stated</td>\n",
       "      <td>1990</td>\n",
       "      <td>manual</td>\n",
       "      <td>0</td>\n",
       "      <td>corsa</td>\n",
       "      <td>150000</td>\n",
       "      <td>1</td>\n",
       "      <td>petrol</td>\n",
       "      <td>opel</td>\n",
       "      <td>NaN</td>\n",
       "      <td>2016-03-26</td>\n",
       "      <td>56412</td>\n",
       "      <td>2016-03-27 17:43:34</td>\n",
       "    </tr>\n",
       "    <tr>\n",
       "      <th>40</th>\n",
       "      <td>2016-03-30 20:38:20</td>\n",
       "      <td>7500</td>\n",
       "      <td>sedan</td>\n",
       "      <td>2002</td>\n",
       "      <td>auto</td>\n",
       "      <td>306</td>\n",
       "      <td>e_klasse</td>\n",
       "      <td>150000</td>\n",
       "      <td>4</td>\n",
       "      <td>gasoline</td>\n",
       "      <td>mercedes_benz</td>\n",
       "      <td>NaN</td>\n",
       "      <td>2016-03-30</td>\n",
       "      <td>33649</td>\n",
       "      <td>2016-04-03 11:44:49</td>\n",
       "    </tr>\n",
       "    <tr>\n",
       "      <th>41</th>\n",
       "      <td>2016-03-24 00:52:09</td>\n",
       "      <td>12500</td>\n",
       "      <td>sedan</td>\n",
       "      <td>2006</td>\n",
       "      <td>auto</td>\n",
       "      <td>231</td>\n",
       "      <td>5er</td>\n",
       "      <td>150000</td>\n",
       "      <td>11</td>\n",
       "      <td>gasoline</td>\n",
       "      <td>bmw</td>\n",
       "      <td>NaN</td>\n",
       "      <td>2016-03-23</td>\n",
       "      <td>46119</td>\n",
       "      <td>2016-04-04 16:18:19</td>\n",
       "    </tr>\n",
       "    <tr>\n",
       "      <th>43</th>\n",
       "      <td>2016-03-17 12:44:43</td>\n",
       "      <td>3900</td>\n",
       "      <td>small</td>\n",
       "      <td>2008</td>\n",
       "      <td>auto</td>\n",
       "      <td>61</td>\n",
       "      <td>fortwo</td>\n",
       "      <td>80000</td>\n",
       "      <td>6</td>\n",
       "      <td>petrol</td>\n",
       "      <td>smart</td>\n",
       "      <td>NaN</td>\n",
       "      <td>2016-03-17</td>\n",
       "      <td>21073</td>\n",
       "      <td>2016-03-19 11:46:17</td>\n",
       "    </tr>\n",
       "    <tr>\n",
       "      <th>47</th>\n",
       "      <td>2016-03-25 14:40:12</td>\n",
       "      <td>7750</td>\n",
       "      <td>not stated</td>\n",
       "      <td>2017</td>\n",
       "      <td>manual</td>\n",
       "      <td>80</td>\n",
       "      <td>golf</td>\n",
       "      <td>100000</td>\n",
       "      <td>1</td>\n",
       "      <td>petrol</td>\n",
       "      <td>volkswagen</td>\n",
       "      <td>NaN</td>\n",
       "      <td>2016-03-25</td>\n",
       "      <td>48499</td>\n",
       "      <td>2016-03-31 21:47:44</td>\n",
       "    </tr>\n",
       "    <tr>\n",
       "      <th>49</th>\n",
       "      <td>2016-03-30 08:50:37</td>\n",
       "      <td>14800</td>\n",
       "      <td>convertible</td>\n",
       "      <td>2008</td>\n",
       "      <td>manual</td>\n",
       "      <td>170</td>\n",
       "      <td>1er</td>\n",
       "      <td>125000</td>\n",
       "      <td>4</td>\n",
       "      <td>petrol</td>\n",
       "      <td>bmw</td>\n",
       "      <td>NaN</td>\n",
       "      <td>2016-03-30</td>\n",
       "      <td>48691</td>\n",
       "      <td>2016-04-07 00:17:23</td>\n",
       "    </tr>\n",
       "    <tr>\n",
       "      <th>51</th>\n",
       "      <td>2016-04-04 10:57:36</td>\n",
       "      <td>1400</td>\n",
       "      <td>not stated</td>\n",
       "      <td>2016</td>\n",
       "      <td>manual</td>\n",
       "      <td>55</td>\n",
       "      <td>other</td>\n",
       "      <td>5000</td>\n",
       "      <td>1</td>\n",
       "      <td>petrol</td>\n",
       "      <td>hyundai</td>\n",
       "      <td>NaN</td>\n",
       "      <td>2016-04-04</td>\n",
       "      <td>34454</td>\n",
       "      <td>2016-04-06 12:45:43</td>\n",
       "    </tr>\n",
       "    <tr>\n",
       "      <th>52</th>\n",
       "      <td>2016-03-29 18:53:48</td>\n",
       "      <td>7999</td>\n",
       "      <td>sedan</td>\n",
       "      <td>2008</td>\n",
       "      <td>auto</td>\n",
       "      <td>143</td>\n",
       "      <td>3er</td>\n",
       "      <td>150000</td>\n",
       "      <td>12</td>\n",
       "      <td>gasoline</td>\n",
       "      <td>bmw</td>\n",
       "      <td>NaN</td>\n",
       "      <td>2016-03-29</td>\n",
       "      <td>71083</td>\n",
       "      <td>2016-04-06 04:45:54</td>\n",
       "    </tr>\n",
       "    <tr>\n",
       "      <th>58</th>\n",
       "      <td>2016-03-26 07:54:29</td>\n",
       "      <td>200</td>\n",
       "      <td>coupe</td>\n",
       "      <td>1995</td>\n",
       "      <td>manual</td>\n",
       "      <td>102</td>\n",
       "      <td>3er</td>\n",
       "      <td>150000</td>\n",
       "      <td>4</td>\n",
       "      <td>petrol</td>\n",
       "      <td>bmw</td>\n",
       "      <td>NaN</td>\n",
       "      <td>2016-03-26</td>\n",
       "      <td>23560</td>\n",
       "      <td>2016-04-01 20:46:51</td>\n",
       "    </tr>\n",
       "    <tr>\n",
       "      <th>66</th>\n",
       "      <td>2016-03-15 09:51:05</td>\n",
       "      <td>1280</td>\n",
       "      <td>sedan</td>\n",
       "      <td>1992</td>\n",
       "      <td>auto</td>\n",
       "      <td>109</td>\n",
       "      <td>other</td>\n",
       "      <td>150000</td>\n",
       "      <td>9</td>\n",
       "      <td>petrol</td>\n",
       "      <td>mercedes_benz</td>\n",
       "      <td>NaN</td>\n",
       "      <td>2016-03-15</td>\n",
       "      <td>86163</td>\n",
       "      <td>2016-04-05 19:18:21</td>\n",
       "    </tr>\n",
       "    <tr>\n",
       "      <th>67</th>\n",
       "      <td>2016-04-01 11:56:40</td>\n",
       "      <td>1200</td>\n",
       "      <td>coupe</td>\n",
       "      <td>2001</td>\n",
       "      <td>manual</td>\n",
       "      <td>0</td>\n",
       "      <td>astra</td>\n",
       "      <td>150000</td>\n",
       "      <td>0</td>\n",
       "      <td>petrol</td>\n",
       "      <td>opel</td>\n",
       "      <td>NaN</td>\n",
       "      <td>2016-04-01</td>\n",
       "      <td>47249</td>\n",
       "      <td>2016-04-07 08:46:07</td>\n",
       "    </tr>\n",
       "  </tbody>\n",
       "</table>\n",
       "</div>"
      ],
      "text/plain": [
       "          date_crawled  price vehicle_type  registration_year gearbox  power  \\\n",
       "0  2016-03-24 11:52:17    480   not stated               1993  manual      0   \n",
       "1  2016-03-14 12:52:21   9800          suv               2004    auto    163   \n",
       "7  2016-04-04 23:42:13  14500          bus               2014  manual    125   \n",
       "8  2016-03-17 10:53:50    999        small               1998  manual    101   \n",
       "11 2016-03-15 22:49:09    999        wagon               1995  manual    115   \n",
       "14 2016-03-11 21:39:15    450        small               1910  manual      0   \n",
       "15 2016-04-01 12:46:46    300   not stated               2016  manual     60   \n",
       "30 2016-03-29 16:57:02    899   not stated               2016  manual     60   \n",
       "35 2016-03-11 11:50:37   1600        other               1991  manual     75   \n",
       "39 2016-03-26 22:06:17      0   not stated               1990  manual      0   \n",
       "40 2016-03-30 20:38:20   7500        sedan               2002    auto    306   \n",
       "41 2016-03-24 00:52:09  12500        sedan               2006    auto    231   \n",
       "43 2016-03-17 12:44:43   3900        small               2008    auto     61   \n",
       "47 2016-03-25 14:40:12   7750   not stated               2017  manual     80   \n",
       "49 2016-03-30 08:50:37  14800  convertible               2008  manual    170   \n",
       "51 2016-04-04 10:57:36   1400   not stated               2016  manual     55   \n",
       "52 2016-03-29 18:53:48   7999        sedan               2008    auto    143   \n",
       "58 2016-03-26 07:54:29    200        coupe               1995  manual    102   \n",
       "66 2016-03-15 09:51:05   1280        sedan               1992    auto    109   \n",
       "67 2016-04-01 11:56:40   1200        coupe               2001  manual      0   \n",
       "\n",
       "       model  kilometer  registration_month fuel_type          brand  \\\n",
       "0       golf     150000                   0    petrol     volkswagen   \n",
       "1      grand     125000                   8  gasoline           jeep   \n",
       "7      c_max      30000                   8    petrol           ford   \n",
       "8       golf     150000                   0    petrol     volkswagen   \n",
       "11    passat     150000                  11    petrol     volkswagen   \n",
       "14        ka       5000                   0    petrol           ford   \n",
       "15      polo     150000                   0    petrol     volkswagen   \n",
       "30      clio     150000                   6    petrol        renault   \n",
       "35    kadett      70000                   0    petrol           opel   \n",
       "39     corsa     150000                   1    petrol           opel   \n",
       "40  e_klasse     150000                   4  gasoline  mercedes_benz   \n",
       "41       5er     150000                  11  gasoline            bmw   \n",
       "43    fortwo      80000                   6    petrol          smart   \n",
       "47      golf     100000                   1    petrol     volkswagen   \n",
       "49       1er     125000                   4    petrol            bmw   \n",
       "51     other       5000                   1    petrol        hyundai   \n",
       "52       3er     150000                  12  gasoline            bmw   \n",
       "58       3er     150000                   4    petrol            bmw   \n",
       "66     other     150000                   9    petrol  mercedes_benz   \n",
       "67     astra     150000                   0    petrol           opel   \n",
       "\n",
       "   not_repaired date_created  postal_code           last_seen  \n",
       "0           NaN   2016-03-24        70435 2016-04-07 03:16:57  \n",
       "1           NaN   2016-03-14        90480 2016-04-05 12:47:46  \n",
       "7           NaN   2016-04-04        94505 2016-04-04 23:42:13  \n",
       "8           NaN   2016-03-17        27472 2016-03-31 17:17:06  \n",
       "11          NaN   2016-03-15        37269 2016-04-01 13:16:16  \n",
       "14          NaN   2016-03-11        24148 2016-03-19 08:46:47  \n",
       "15          NaN   2016-04-01        38871 2016-04-01 12:46:46  \n",
       "30          NaN   2016-03-29        37075 2016-03-29 17:43:07  \n",
       "35          NaN   2016-03-11         2943 2016-04-07 03:46:09  \n",
       "39          NaN   2016-03-26        56412 2016-03-27 17:43:34  \n",
       "40          NaN   2016-03-30        33649 2016-04-03 11:44:49  \n",
       "41          NaN   2016-03-23        46119 2016-04-04 16:18:19  \n",
       "43          NaN   2016-03-17        21073 2016-03-19 11:46:17  \n",
       "47          NaN   2016-03-25        48499 2016-03-31 21:47:44  \n",
       "49          NaN   2016-03-30        48691 2016-04-07 00:17:23  \n",
       "51          NaN   2016-04-04        34454 2016-04-06 12:45:43  \n",
       "52          NaN   2016-03-29        71083 2016-04-06 04:45:54  \n",
       "58          NaN   2016-03-26        23560 2016-04-01 20:46:51  \n",
       "66          NaN   2016-03-15        86163 2016-04-05 19:18:21  \n",
       "67          NaN   2016-04-01        47249 2016-04-07 08:46:07  "
      ]
     },
     "execution_count": 29,
     "metadata": {},
     "output_type": "execute_result"
    }
   ],
   "source": [
    "df[(df['not_repaired'].isna()==True)].head(20)"
   ]
  },
  {
   "cell_type": "markdown",
   "metadata": {},
   "source": [
    "В случае с пропусками в столбце `not_repaired`, то логично предположить, что пропуск означает, что машина не была в ремонте, то есть на месте пропуска должно стоять `no`.\n",
    "Помимо этого, для удобства заменим значения на численные."
   ]
  },
  {
   "cell_type": "code",
   "execution_count": 30,
   "metadata": {},
   "outputs": [
    {
     "name": "stdout",
     "output_type": "stream",
     "text": [
      "0    300955\n",
      "1     33709\n",
      "Name: not_repaired, dtype: int64\n",
      "\n",
      "date_crawled          0\n",
      "price                 0\n",
      "vehicle_type          0\n",
      "registration_year     0\n",
      "gearbox               0\n",
      "power                 0\n",
      "model                 0\n",
      "kilometer             0\n",
      "registration_month    0\n",
      "fuel_type             0\n",
      "brand                 0\n",
      "not_repaired          0\n",
      "date_created          0\n",
      "postal_code           0\n",
      "last_seen             0\n",
      "dtype: int64\n"
     ]
    }
   ],
   "source": [
    "df['not_repaired'] = df['not_repaired'].fillna(0)\n",
    "df['not_repaired'] = df['not_repaired'].replace({'yes':1,'no':0})\n",
    "print(df['not_repaired'].value_counts(), df.isna().sum(), sep='\\n\\n')"
   ]
  },
  {
   "cell_type": "markdown",
   "metadata": {},
   "source": [
    "Дальше взглянем на год выпуска авто."
   ]
  },
  {
   "cell_type": "code",
   "execution_count": 31,
   "metadata": {},
   "outputs": [
    {
     "data": {
      "image/png": "[encoded data removed]",
      "text/plain": [
       "<Figure size 720x540 with 1 Axes>"
      ]
     },
     "metadata": {},
     "output_type": "display_data"
    }
   ],
   "source": [
    "sns.boxplot(data=df['registration_year']);"
   ]
  },
  {
   "cell_type": "code",
   "execution_count": 32,
   "metadata": {},
   "outputs": [
    {
     "data": {
      "text/plain": [
       "[2066,\n",
       " 2200,\n",
       " 2290,\n",
       " 2500,\n",
       " 2900,\n",
       " 3000,\n",
       " 3700,\n",
       " 4000,\n",
       " 4500,\n",
       " 5000,\n",
       " 5555,\n",
       " 5900,\n",
       " 5911,\n",
       " 6000,\n",
       " 6500,\n",
       " 7000,\n",
       " 7100,\n",
       " 7500,\n",
       " 7800,\n",
       " 8000,\n",
       " 8200,\n",
       " 8500,\n",
       " 9000,\n",
       " 9999]"
      ]
     },
     "execution_count": 32,
     "metadata": {},
     "output_type": "execute_result"
    }
   ],
   "source": [
    "sorted(df.query('registration_year > 2022')['registration_year'].unique())"
   ]
  },
  {
   "cell_type": "code",
   "execution_count": 33,
   "metadata": {},
   "outputs": [
    {
     "data": {
      "image/png": "[encoded data removed]",
      "text/plain": [
       "<Figure size 720x540 with 1 Axes>"
      ]
     },
     "metadata": {},
     "output_type": "display_data"
    }
   ],
   "source": [
    "sns.boxplot(data=df.query('registration_year >= 1970 and registration_year <= 2022')['registration_year']);"
   ]
  },
  {
   "cell_type": "code",
   "execution_count": 34,
   "metadata": {},
   "outputs": [
    {
     "data": {
      "text/plain": [
       "'Процент аномалий по году выпуска - 0.27%'"
      ]
     },
     "execution_count": 34,
     "metadata": {},
     "output_type": "execute_result"
    }
   ],
   "source": [
    "f'Процент аномалий по году выпуска - {df.query(\"registration_year < 1970 or registration_year > 2022\").shape[0] / df.shape[0] :.2%}'"
   ]
  },
  {
   "cell_type": "markdown",
   "metadata": {},
   "source": [
    "В годе выпуска авто есть очевидно ошибочные значения - больше текущего года, а так же меньше 1886 года, когда был в принципе изобретен первый автомобиль. Их можно без потерь удалить. \n",
    "\n",
    "Если судить по гистограмме, то авто, выпущенные до 1985 года, являются явными выбросами, однако машины более раннего производства все еще могут быть в ходу. Поэтому оставим в данных только машины, выпущенные после 1970 года."
   ]
  },
  {
   "cell_type": "code",
   "execution_count": 35,
   "metadata": {},
   "outputs": [],
   "source": [
    "df = df.query('registration_year >= 1970 and registration_year <= 2022').reset_index(drop=True)"
   ]
  },
  {
   "cell_type": "code",
   "execution_count": 36,
   "metadata": {},
   "outputs": [
    {
     "data": {
      "image/png": "[encoded data removed]",
      "text/plain": [
       "<Figure size 720x540 with 1 Axes>"
      ]
     },
     "metadata": {},
     "output_type": "display_data"
    }
   ],
   "source": [
    "sns.boxplot(data=df.query('power < 300')['power']);"
   ]
  },
  {
   "cell_type": "code",
   "execution_count": 37,
   "metadata": {},
   "outputs": [
    {
     "data": {
      "text/plain": [
       "'Процент машин с мощностью более 500 л.с. - 0.11%'"
      ]
     },
     "execution_count": 37,
     "metadata": {},
     "output_type": "execute_result"
    }
   ],
   "source": [
    "f'Процент машин с мощностью более 500 л.с. - {df.query(\"power > 500\").shape[0] / original_lenght :.2%}'"
   ]
  },
  {
   "cell_type": "code",
   "execution_count": 38,
   "metadata": {},
   "outputs": [
    {
     "data": {
      "image/png": "[encoded data removed]",
      "text/plain": [
       "<Figure size 720x540 with 1 Axes>"
      ]
     },
     "metadata": {},
     "output_type": "display_data"
    }
   ],
   "source": [
    "plt.hist(df.query('power <= 500')['power'], bins=100);"
   ]
  },
  {
   "cell_type": "code",
   "execution_count": 39,
   "metadata": {},
   "outputs": [
    {
     "data": {
      "text/plain": [
       "count    333359.000000\n",
       "mean        108.034683\n",
       "std          61.890554\n",
       "min           0.000000\n",
       "25%          70.000000\n",
       "50%         105.000000\n",
       "75%         143.000000\n",
       "max         500.000000\n",
       "Name: power, dtype: float64"
      ]
     },
     "execution_count": 39,
     "metadata": {},
     "output_type": "execute_result"
    }
   ],
   "source": [
    "df.query('power <= 500')['power'].describe()"
   ]
  },
  {
   "cell_type": "code",
   "execution_count": 40,
   "metadata": {},
   "outputs": [
    {
     "data": {
      "text/plain": [
       "count    333749.000000\n",
       "mean        111.473856\n",
       "std         185.005408\n",
       "min           0.000000\n",
       "25%          71.000000\n",
       "50%         105.000000\n",
       "75%         143.000000\n",
       "max       20000.000000\n",
       "Name: power, dtype: float64"
      ]
     },
     "execution_count": 40,
     "metadata": {},
     "output_type": "execute_result"
    }
   ],
   "source": [
    "df['power'].describe()"
   ]
  },
  {
   "cell_type": "code",
   "execution_count": 41,
   "metadata": {},
   "outputs": [
    {
     "data": {
      "image/png": "[encoded data removed]",
      "text/plain": [
       "<Figure size 720x540 with 1 Axes>"
      ]
     },
     "metadata": {},
     "output_type": "display_data"
    }
   ],
   "source": [
    "plt.hist(df['registration_month'], bins=len(df['registration_month'].unique()));"
   ]
  },
  {
   "cell_type": "code",
   "execution_count": 42,
   "metadata": {},
   "outputs": [
    {
     "data": {
      "text/plain": [
       "count    333749.000000\n",
       "mean     128719.007398\n",
       "std       37029.569300\n",
       "min        5000.000000\n",
       "25%      125000.000000\n",
       "50%      150000.000000\n",
       "75%      150000.000000\n",
       "max      150000.000000\n",
       "Name: kilometer, dtype: float64"
      ]
     },
     "execution_count": 42,
     "metadata": {},
     "output_type": "execute_result"
    }
   ],
   "source": [
    "df['kilometer'].describe()"
   ]
  },
  {
   "cell_type": "code",
   "execution_count": 43,
   "metadata": {},
   "outputs": [
    {
     "data": {
      "image/png": "[encoded data removed]",
      "text/plain": [
       "<Figure size 720x540 with 1 Axes>"
      ]
     },
     "metadata": {},
     "output_type": "display_data"
    }
   ],
   "source": [
    "sns.histplot(data=df['kilometer'], bins=len(df['kilometer'].unique()));"
   ]
  },
  {
   "cell_type": "markdown",
   "metadata": {},
   "source": [
    "В столбцах с информацией о мощности и месяце выпуска очень много значений, равных 0. Очивидно, что у нас не может быть ни нулевого месяца, ни машин с 0 л.с. Поэтому, данные нули мы так же заменим модой по модели и году выпуска.\n",
    "\n",
    "Кроме того, в мощности есть очень большие значения, что так же является аномалиями. Для дальнейшей работы, оставим только автомобили с мощностью не более 500 л.с.\n",
    "\n",
    "В столбце с пробегом большая часть данных имеет значение в 150000 км. Однозначно сказать, что это аномалия нельзя - возможно, это какое-то ограничение сайта с объявлениями. В любом случае, чем-то заменить это значение мы не можем. Нулевых значений в данном столбце нет."
   ]
  },
  {
   "cell_type": "code",
   "execution_count": 44,
   "metadata": {},
   "outputs": [
    {
     "data": {
      "text/plain": [
       "0          75\n",
       "1         150\n",
       "2         101\n",
       "3          80\n",
       "4         116\n",
       "         ... \n",
       "333744    101\n",
       "333745     95\n",
       "333746     54\n",
       "333747    102\n",
       "333748    101\n",
       "Name: power, Length: 333749, dtype: int16"
      ]
     },
     "execution_count": 44,
     "metadata": {},
     "output_type": "execute_result"
    }
   ],
   "source": [
    "df.groupby(['model','registration_year'])['power'].transform(lambda x: int(x.median()))"
   ]
  },
  {
   "cell_type": "code",
   "execution_count": 45,
   "metadata": {},
   "outputs": [],
   "source": [
    "for col in ['power', 'registration_month']:\n",
    "    df.loc[df[col]==0, col] = df.groupby(['model','registration_year'])[col].transform(lambda x: int(x.median()))\n",
    "    \n",
    "df = df.query('power <= 500 and power != 0 and registration_month != 0').reset_index(drop=True)"
   ]
  },
  {
   "cell_type": "code",
   "execution_count": 46,
   "metadata": {},
   "outputs": [
    {
     "data": {
      "image/png": "[encoded data removed]",
      "text/plain": [
       "<Figure size 720x540 with 1 Axes>"
      ]
     },
     "metadata": {},
     "output_type": "display_data"
    }
   ],
   "source": [
    "plt.hist(df['registration_month'], bins=len(df['registration_month'].unique()));"
   ]
  },
  {
   "cell_type": "code",
   "execution_count": 47,
   "metadata": {},
   "outputs": [
    {
     "data": {
      "image/png": "[encoded data removed]",
      "text/plain": [
       "<Figure size 720x540 with 1 Axes>"
      ]
     },
     "metadata": {},
     "output_type": "display_data"
    }
   ],
   "source": [
    "plt.hist(df['power'], bins=100);"
   ]
  },
  {
   "cell_type": "code",
   "execution_count": null,
   "metadata": {},
   "outputs": [],
   "source": []
  },
  {
   "cell_type": "markdown",
   "metadata": {},
   "source": [
    "Нулевые значения устранены.\n",
    "\n",
    "Теперь взглянем на стоимость."
   ]
  },
  {
   "cell_type": "code",
   "execution_count": 48,
   "metadata": {},
   "outputs": [
    {
     "data": {
      "image/png": "[encoded data removed]",
      "text/plain": [
       "<Figure size 720x540 with 1 Axes>"
      ]
     },
     "metadata": {},
     "output_type": "display_data"
    }
   ],
   "source": [
    "sns.histplot(data=df['price'], bins=100);"
   ]
  },
  {
   "cell_type": "code",
   "execution_count": 49,
   "metadata": {},
   "outputs": [
    {
     "data": {
      "image/png": "[encoded data removed]",
      "text/plain": [
       "<Figure size 720x540 with 1 Axes>"
      ]
     },
     "metadata": {},
     "output_type": "display_data"
    }
   ],
   "source": [
    "sns.boxplot(data=df['price']);"
   ]
  },
  {
   "cell_type": "code",
   "execution_count": 50,
   "metadata": {},
   "outputs": [
    {
     "data": {
      "text/plain": [
       "count    332164.000000\n",
       "mean       4505.597383\n",
       "std        4524.764025\n",
       "min           0.000000\n",
       "25%        1150.000000\n",
       "50%        2800.000000\n",
       "75%        6500.000000\n",
       "max       20000.000000\n",
       "Name: price, dtype: float64"
      ]
     },
     "execution_count": 50,
     "metadata": {},
     "output_type": "execute_result"
    }
   ],
   "source": [
    "df['price'].describe()"
   ]
  },
  {
   "cell_type": "code",
   "execution_count": 51,
   "metadata": {},
   "outputs": [
    {
     "data": {
      "text/plain": [
       "'Процент объявлений с со стоимостью равной 0 - 2.36%'"
      ]
     },
     "execution_count": 51,
     "metadata": {},
     "output_type": "execute_result"
    }
   ],
   "source": [
    "f'Процент объявлений с со стоимостью равной 0 - {df.query(\"price == 0\").shape[0] / original_lenght :.2%}' "
   ]
  },
  {
   "cell_type": "code",
   "execution_count": 52,
   "metadata": {},
   "outputs": [
    {
     "data": {
      "text/plain": [
       "'При обработке было удалено 8.62% данных'"
      ]
     },
     "execution_count": 52,
     "metadata": {},
     "output_type": "execute_result"
    }
   ],
   "source": [
    "df = df.query(\"price != 0\").reset_index(drop=True)\n",
    "\n",
    "f'При обработке было удалено {1 - df.shape[0] / original_lenght :.2%} данных'"
   ]
  },
  {
   "cell_type": "code",
   "execution_count": 53,
   "metadata": {},
   "outputs": [
    {
     "name": "stdout",
     "output_type": "stream",
     "text": [
      "<class 'pandas.core.frame.DataFrame'>\n",
      "RangeIndex: 323814 entries, 0 to 323813\n",
      "Data columns (total 15 columns):\n",
      " #   Column              Non-Null Count   Dtype         \n",
      "---  ------              --------------   -----         \n",
      " 0   date_crawled        323814 non-null  datetime64[ns]\n",
      " 1   price               323814 non-null  int16         \n",
      " 2   vehicle_type        323814 non-null  object        \n",
      " 3   registration_year   323814 non-null  int16         \n",
      " 4   gearbox             323814 non-null  object        \n",
      " 5   power               323814 non-null  int16         \n",
      " 6   model               323814 non-null  object        \n",
      " 7   kilometer           323814 non-null  int32         \n",
      " 8   registration_month  323814 non-null  int8          \n",
      " 9   fuel_type           323814 non-null  object        \n",
      " 10  brand               323814 non-null  object        \n",
      " 11  not_repaired        323814 non-null  int64         \n",
      " 12  date_created        323814 non-null  datetime64[ns]\n",
      " 13  postal_code         323814 non-null  int64         \n",
      " 14  last_seen           323814 non-null  datetime64[ns]\n",
      "dtypes: datetime64[ns](3), int16(3), int32(1), int64(2), int8(1), object(5)\n",
      "memory usage: 28.1+ MB\n"
     ]
    }
   ],
   "source": [
    "df.info()"
   ]
  },
  {
   "cell_type": "code",
   "execution_count": 54,
   "metadata": {},
   "outputs": [
    {
     "data": {
      "text/plain": [
       "date_crawled          0\n",
       "price                 0\n",
       "vehicle_type          0\n",
       "registration_year     0\n",
       "gearbox               0\n",
       "power                 0\n",
       "model                 0\n",
       "kilometer             0\n",
       "registration_month    0\n",
       "fuel_type             0\n",
       "brand                 0\n",
       "not_repaired          0\n",
       "date_created          0\n",
       "postal_code           0\n",
       "last_seen             0\n",
       "dtype: int64"
      ]
     },
     "execution_count": 54,
     "metadata": {},
     "output_type": "execute_result"
    }
   ],
   "source": [
    "df.isna().sum()"
   ]
  },
  {
   "cell_type": "markdown",
   "metadata": {},
   "source": [
    "На этом предобработка закончена.\n",
    "\n",
    "## Обучение моделей\n",
    "\n",
    "### Подготовка выборок\n",
    "\n",
    "Перед обучением моделей нужно закодировать данные, выделить таргет и фичи, а так же разбить данные на обучающую и тестовую выборки."
   ]
  },
  {
   "cell_type": "raw",
   "metadata": {},
   "source": [
    "cols_to_encode = ['vehicle_type','gearbox','model','fuel_type','brand']\n",
    "encoder = OrdinalEncoder()\n",
    "for col in cols_to_encode:\n",
    "    df[col] = pd.DataFrame(encoder.fit_transform(df), columns=df.columns)[col]\n",
    "df"
   ]
  },
  {
   "cell_type": "code",
   "execution_count": 55,
   "metadata": {},
   "outputs": [
    {
     "data": {
      "text/html": [
       "<div>\n",
       "<style scoped>\n",
       "    .dataframe tbody tr th:only-of-type {\n",
       "        vertical-align: middle;\n",
       "    }\n",
       "\n",
       "    .dataframe tbody tr th {\n",
       "        vertical-align: top;\n",
       "    }\n",
       "\n",
       "    .dataframe thead th {\n",
       "        text-align: right;\n",
       "    }\n",
       "</style>\n",
       "<table border=\"1\" class=\"dataframe\">\n",
       "  <thead>\n",
       "    <tr style=\"text-align: right;\">\n",
       "      <th></th>\n",
       "      <th>date_crawled</th>\n",
       "      <th>price</th>\n",
       "      <th>vehicle_type</th>\n",
       "      <th>registration_year</th>\n",
       "      <th>gearbox</th>\n",
       "      <th>power</th>\n",
       "      <th>model</th>\n",
       "      <th>kilometer</th>\n",
       "      <th>registration_month</th>\n",
       "      <th>fuel_type</th>\n",
       "      <th>brand</th>\n",
       "      <th>not_repaired</th>\n",
       "      <th>date_created</th>\n",
       "      <th>postal_code</th>\n",
       "      <th>last_seen</th>\n",
       "    </tr>\n",
       "  </thead>\n",
       "  <tbody>\n",
       "    <tr>\n",
       "      <th>0</th>\n",
       "      <td>2016-03-24 11:52:17</td>\n",
       "      <td>480</td>\n",
       "      <td>3.0</td>\n",
       "      <td>1993</td>\n",
       "      <td>1.0</td>\n",
       "      <td>75</td>\n",
       "      <td>116.0</td>\n",
       "      <td>150000</td>\n",
       "      <td>5</td>\n",
       "      <td>6.0</td>\n",
       "      <td>37.0</td>\n",
       "      <td>0</td>\n",
       "      <td>2016-03-24</td>\n",
       "      <td>70435</td>\n",
       "      <td>2016-04-07 03:16:57</td>\n",
       "    </tr>\n",
       "    <tr>\n",
       "      <th>1</th>\n",
       "      <td>2016-03-14 12:52:21</td>\n",
       "      <td>9800</td>\n",
       "      <td>7.0</td>\n",
       "      <td>2004</td>\n",
       "      <td>0.0</td>\n",
       "      <td>163</td>\n",
       "      <td>117.0</td>\n",
       "      <td>125000</td>\n",
       "      <td>8</td>\n",
       "      <td>2.0</td>\n",
       "      <td>14.0</td>\n",
       "      <td>0</td>\n",
       "      <td>2016-03-14</td>\n",
       "      <td>90480</td>\n",
       "      <td>2016-04-05 12:47:46</td>\n",
       "    </tr>\n",
       "    <tr>\n",
       "      <th>2</th>\n",
       "      <td>2016-03-17 16:54:04</td>\n",
       "      <td>1500</td>\n",
       "      <td>6.0</td>\n",
       "      <td>2001</td>\n",
       "      <td>1.0</td>\n",
       "      <td>75</td>\n",
       "      <td>116.0</td>\n",
       "      <td>150000</td>\n",
       "      <td>6</td>\n",
       "      <td>6.0</td>\n",
       "      <td>37.0</td>\n",
       "      <td>0</td>\n",
       "      <td>2016-03-17</td>\n",
       "      <td>91074</td>\n",
       "      <td>2016-03-17 17:40:17</td>\n",
       "    </tr>\n",
       "    <tr>\n",
       "      <th>3</th>\n",
       "      <td>2016-03-31 17:25:20</td>\n",
       "      <td>3600</td>\n",
       "      <td>6.0</td>\n",
       "      <td>2008</td>\n",
       "      <td>1.0</td>\n",
       "      <td>69</td>\n",
       "      <td>101.0</td>\n",
       "      <td>90000</td>\n",
       "      <td>7</td>\n",
       "      <td>2.0</td>\n",
       "      <td>31.0</td>\n",
       "      <td>0</td>\n",
       "      <td>2016-03-31</td>\n",
       "      <td>60437</td>\n",
       "      <td>2016-04-06 10:17:21</td>\n",
       "    </tr>\n",
       "    <tr>\n",
       "      <th>4</th>\n",
       "      <td>2016-04-04 17:36:23</td>\n",
       "      <td>650</td>\n",
       "      <td>5.0</td>\n",
       "      <td>1995</td>\n",
       "      <td>1.0</td>\n",
       "      <td>102</td>\n",
       "      <td>11.0</td>\n",
       "      <td>150000</td>\n",
       "      <td>10</td>\n",
       "      <td>6.0</td>\n",
       "      <td>2.0</td>\n",
       "      <td>1</td>\n",
       "      <td>2016-04-04</td>\n",
       "      <td>33775</td>\n",
       "      <td>2016-04-06 19:17:07</td>\n",
       "    </tr>\n",
       "    <tr>\n",
       "      <th>...</th>\n",
       "      <td>...</td>\n",
       "      <td>...</td>\n",
       "      <td>...</td>\n",
       "      <td>...</td>\n",
       "      <td>...</td>\n",
       "      <td>...</td>\n",
       "      <td>...</td>\n",
       "      <td>...</td>\n",
       "      <td>...</td>\n",
       "      <td>...</td>\n",
       "      <td>...</td>\n",
       "      <td>...</td>\n",
       "      <td>...</td>\n",
       "      <td>...</td>\n",
       "      <td>...</td>\n",
       "    </tr>\n",
       "    <tr>\n",
       "      <th>323809</th>\n",
       "      <td>2016-03-19 19:53:49</td>\n",
       "      <td>3200</td>\n",
       "      <td>5.0</td>\n",
       "      <td>2004</td>\n",
       "      <td>1.0</td>\n",
       "      <td>225</td>\n",
       "      <td>140.0</td>\n",
       "      <td>150000</td>\n",
       "      <td>5</td>\n",
       "      <td>6.0</td>\n",
       "      <td>30.0</td>\n",
       "      <td>1</td>\n",
       "      <td>2016-03-19</td>\n",
       "      <td>96465</td>\n",
       "      <td>2016-03-19 20:44:43</td>\n",
       "    </tr>\n",
       "    <tr>\n",
       "      <th>323810</th>\n",
       "      <td>2016-03-27 20:36:20</td>\n",
       "      <td>1150</td>\n",
       "      <td>0.0</td>\n",
       "      <td>2000</td>\n",
       "      <td>1.0</td>\n",
       "      <td>101</td>\n",
       "      <td>248.0</td>\n",
       "      <td>150000</td>\n",
       "      <td>3</td>\n",
       "      <td>6.0</td>\n",
       "      <td>24.0</td>\n",
       "      <td>0</td>\n",
       "      <td>2016-03-27</td>\n",
       "      <td>26624</td>\n",
       "      <td>2016-03-29 10:17:23</td>\n",
       "    </tr>\n",
       "    <tr>\n",
       "      <th>323811</th>\n",
       "      <td>2016-03-05 19:56:21</td>\n",
       "      <td>1199</td>\n",
       "      <td>1.0</td>\n",
       "      <td>2000</td>\n",
       "      <td>0.0</td>\n",
       "      <td>101</td>\n",
       "      <td>106.0</td>\n",
       "      <td>125000</td>\n",
       "      <td>3</td>\n",
       "      <td>6.0</td>\n",
       "      <td>32.0</td>\n",
       "      <td>0</td>\n",
       "      <td>2016-03-05</td>\n",
       "      <td>26135</td>\n",
       "      <td>2016-03-11 18:17:12</td>\n",
       "    </tr>\n",
       "    <tr>\n",
       "      <th>323812</th>\n",
       "      <td>2016-03-19 18:57:12</td>\n",
       "      <td>9200</td>\n",
       "      <td>0.0</td>\n",
       "      <td>1996</td>\n",
       "      <td>1.0</td>\n",
       "      <td>102</td>\n",
       "      <td>223.0</td>\n",
       "      <td>150000</td>\n",
       "      <td>3</td>\n",
       "      <td>2.0</td>\n",
       "      <td>37.0</td>\n",
       "      <td>0</td>\n",
       "      <td>2016-03-19</td>\n",
       "      <td>87439</td>\n",
       "      <td>2016-04-07 07:15:26</td>\n",
       "    </tr>\n",
       "    <tr>\n",
       "      <th>323813</th>\n",
       "      <td>2016-03-20 19:41:08</td>\n",
       "      <td>3400</td>\n",
       "      <td>8.0</td>\n",
       "      <td>2002</td>\n",
       "      <td>1.0</td>\n",
       "      <td>100</td>\n",
       "      <td>116.0</td>\n",
       "      <td>150000</td>\n",
       "      <td>6</td>\n",
       "      <td>2.0</td>\n",
       "      <td>37.0</td>\n",
       "      <td>0</td>\n",
       "      <td>2016-03-20</td>\n",
       "      <td>40764</td>\n",
       "      <td>2016-03-24 12:45:21</td>\n",
       "    </tr>\n",
       "  </tbody>\n",
       "</table>\n",
       "<p>323814 rows × 15 columns</p>\n",
       "</div>"
      ],
      "text/plain": [
       "              date_crawled  price  vehicle_type  registration_year  gearbox  \\\n",
       "0      2016-03-24 11:52:17    480           3.0               1993      1.0   \n",
       "1      2016-03-14 12:52:21   9800           7.0               2004      0.0   \n",
       "2      2016-03-17 16:54:04   1500           6.0               2001      1.0   \n",
       "3      2016-03-31 17:25:20   3600           6.0               2008      1.0   \n",
       "4      2016-04-04 17:36:23    650           5.0               1995      1.0   \n",
       "...                    ...    ...           ...                ...      ...   \n",
       "323809 2016-03-19 19:53:49   3200           5.0               2004      1.0   \n",
       "323810 2016-03-27 20:36:20   1150           0.0               2000      1.0   \n",
       "323811 2016-03-05 19:56:21   1199           1.0               2000      0.0   \n",
       "323812 2016-03-19 18:57:12   9200           0.0               1996      1.0   \n",
       "323813 2016-03-20 19:41:08   3400           8.0               2002      1.0   \n",
       "\n",
       "        power  model  kilometer  registration_month  fuel_type  brand  \\\n",
       "0          75  116.0     150000                   5        6.0   37.0   \n",
       "1         163  117.0     125000                   8        2.0   14.0   \n",
       "2          75  116.0     150000                   6        6.0   37.0   \n",
       "3          69  101.0      90000                   7        2.0   31.0   \n",
       "4         102   11.0     150000                  10        6.0    2.0   \n",
       "...       ...    ...        ...                 ...        ...    ...   \n",
       "323809    225  140.0     150000                   5        6.0   30.0   \n",
       "323810    101  248.0     150000                   3        6.0   24.0   \n",
       "323811    101  106.0     125000                   3        6.0   32.0   \n",
       "323812    102  223.0     150000                   3        2.0   37.0   \n",
       "323813    100  116.0     150000                   6        2.0   37.0   \n",
       "\n",
       "        not_repaired date_created  postal_code           last_seen  \n",
       "0                  0   2016-03-24        70435 2016-04-07 03:16:57  \n",
       "1                  0   2016-03-14        90480 2016-04-05 12:47:46  \n",
       "2                  0   2016-03-17        91074 2016-03-17 17:40:17  \n",
       "3                  0   2016-03-31        60437 2016-04-06 10:17:21  \n",
       "4                  1   2016-04-04        33775 2016-04-06 19:17:07  \n",
       "...              ...          ...          ...                 ...  \n",
       "323809             1   2016-03-19        96465 2016-03-19 20:44:43  \n",
       "323810             0   2016-03-27        26624 2016-03-29 10:17:23  \n",
       "323811             0   2016-03-05        26135 2016-03-11 18:17:12  \n",
       "323812             0   2016-03-19        87439 2016-04-07 07:15:26  \n",
       "323813             0   2016-03-20        40764 2016-03-24 12:45:21  \n",
       "\n",
       "[323814 rows x 15 columns]"
      ]
     },
     "execution_count": 55,
     "metadata": {},
     "output_type": "execute_result"
    }
   ],
   "source": [
    "cols_to_encode = ['vehicle_type','gearbox','model','fuel_type','brand']\n",
    "encoder = OrdinalEncoder()\n",
    "df[cols_to_encode] = pd.DataFrame(encoder.fit_transform(df[cols_to_encode]), columns=df[cols_to_encode].columns)\n",
    "df"
   ]
  },
  {
   "cell_type": "code",
   "execution_count": 56,
   "metadata": {},
   "outputs": [
    {
     "data": {
      "text/html": [
       "<div>\n",
       "<style scoped>\n",
       "    .dataframe tbody tr th:only-of-type {\n",
       "        vertical-align: middle;\n",
       "    }\n",
       "\n",
       "    .dataframe tbody tr th {\n",
       "        vertical-align: top;\n",
       "    }\n",
       "\n",
       "    .dataframe thead th {\n",
       "        text-align: right;\n",
       "    }\n",
       "</style>\n",
       "<table border=\"1\" class=\"dataframe\">\n",
       "  <thead>\n",
       "    <tr style=\"text-align: right;\">\n",
       "      <th></th>\n",
       "      <th>price</th>\n",
       "      <th>vehicle_type</th>\n",
       "      <th>registration_year</th>\n",
       "      <th>gearbox</th>\n",
       "      <th>power</th>\n",
       "      <th>model</th>\n",
       "      <th>kilometer</th>\n",
       "      <th>registration_month</th>\n",
       "      <th>fuel_type</th>\n",
       "      <th>brand</th>\n",
       "      <th>...</th>\n",
       "      <th>date_crawled_day</th>\n",
       "      <th>date_crawled_time</th>\n",
       "      <th>date_created_year</th>\n",
       "      <th>date_created_month</th>\n",
       "      <th>date_created_day</th>\n",
       "      <th>date_created_time</th>\n",
       "      <th>last_seen_year</th>\n",
       "      <th>last_seen_month</th>\n",
       "      <th>last_seen_day</th>\n",
       "      <th>last_seen_time</th>\n",
       "    </tr>\n",
       "  </thead>\n",
       "  <tbody>\n",
       "    <tr>\n",
       "      <th>0</th>\n",
       "      <td>480</td>\n",
       "      <td>3.0</td>\n",
       "      <td>1993</td>\n",
       "      <td>1.0</td>\n",
       "      <td>75</td>\n",
       "      <td>116.0</td>\n",
       "      <td>150000</td>\n",
       "      <td>5</td>\n",
       "      <td>6.0</td>\n",
       "      <td>37.0</td>\n",
       "      <td>...</td>\n",
       "      <td>24</td>\n",
       "      <td>42737</td>\n",
       "      <td>2016</td>\n",
       "      <td>3</td>\n",
       "      <td>24</td>\n",
       "      <td>0</td>\n",
       "      <td>2016</td>\n",
       "      <td>4</td>\n",
       "      <td>7</td>\n",
       "      <td>11817</td>\n",
       "    </tr>\n",
       "    <tr>\n",
       "      <th>1</th>\n",
       "      <td>9800</td>\n",
       "      <td>7.0</td>\n",
       "      <td>2004</td>\n",
       "      <td>0.0</td>\n",
       "      <td>163</td>\n",
       "      <td>117.0</td>\n",
       "      <td>125000</td>\n",
       "      <td>8</td>\n",
       "      <td>2.0</td>\n",
       "      <td>14.0</td>\n",
       "      <td>...</td>\n",
       "      <td>14</td>\n",
       "      <td>46341</td>\n",
       "      <td>2016</td>\n",
       "      <td>3</td>\n",
       "      <td>14</td>\n",
       "      <td>0</td>\n",
       "      <td>2016</td>\n",
       "      <td>4</td>\n",
       "      <td>5</td>\n",
       "      <td>46066</td>\n",
       "    </tr>\n",
       "    <tr>\n",
       "      <th>2</th>\n",
       "      <td>1500</td>\n",
       "      <td>6.0</td>\n",
       "      <td>2001</td>\n",
       "      <td>1.0</td>\n",
       "      <td>75</td>\n",
       "      <td>116.0</td>\n",
       "      <td>150000</td>\n",
       "      <td>6</td>\n",
       "      <td>6.0</td>\n",
       "      <td>37.0</td>\n",
       "      <td>...</td>\n",
       "      <td>17</td>\n",
       "      <td>60844</td>\n",
       "      <td>2016</td>\n",
       "      <td>3</td>\n",
       "      <td>17</td>\n",
       "      <td>0</td>\n",
       "      <td>2016</td>\n",
       "      <td>3</td>\n",
       "      <td>17</td>\n",
       "      <td>63617</td>\n",
       "    </tr>\n",
       "    <tr>\n",
       "      <th>3</th>\n",
       "      <td>3600</td>\n",
       "      <td>6.0</td>\n",
       "      <td>2008</td>\n",
       "      <td>1.0</td>\n",
       "      <td>69</td>\n",
       "      <td>101.0</td>\n",
       "      <td>90000</td>\n",
       "      <td>7</td>\n",
       "      <td>2.0</td>\n",
       "      <td>31.0</td>\n",
       "      <td>...</td>\n",
       "      <td>31</td>\n",
       "      <td>62720</td>\n",
       "      <td>2016</td>\n",
       "      <td>3</td>\n",
       "      <td>31</td>\n",
       "      <td>0</td>\n",
       "      <td>2016</td>\n",
       "      <td>4</td>\n",
       "      <td>6</td>\n",
       "      <td>37041</td>\n",
       "    </tr>\n",
       "    <tr>\n",
       "      <th>4</th>\n",
       "      <td>650</td>\n",
       "      <td>5.0</td>\n",
       "      <td>1995</td>\n",
       "      <td>1.0</td>\n",
       "      <td>102</td>\n",
       "      <td>11.0</td>\n",
       "      <td>150000</td>\n",
       "      <td>10</td>\n",
       "      <td>6.0</td>\n",
       "      <td>2.0</td>\n",
       "      <td>...</td>\n",
       "      <td>4</td>\n",
       "      <td>63383</td>\n",
       "      <td>2016</td>\n",
       "      <td>4</td>\n",
       "      <td>4</td>\n",
       "      <td>0</td>\n",
       "      <td>2016</td>\n",
       "      <td>4</td>\n",
       "      <td>6</td>\n",
       "      <td>69427</td>\n",
       "    </tr>\n",
       "    <tr>\n",
       "      <th>...</th>\n",
       "      <td>...</td>\n",
       "      <td>...</td>\n",
       "      <td>...</td>\n",
       "      <td>...</td>\n",
       "      <td>...</td>\n",
       "      <td>...</td>\n",
       "      <td>...</td>\n",
       "      <td>...</td>\n",
       "      <td>...</td>\n",
       "      <td>...</td>\n",
       "      <td>...</td>\n",
       "      <td>...</td>\n",
       "      <td>...</td>\n",
       "      <td>...</td>\n",
       "      <td>...</td>\n",
       "      <td>...</td>\n",
       "      <td>...</td>\n",
       "      <td>...</td>\n",
       "      <td>...</td>\n",
       "      <td>...</td>\n",
       "      <td>...</td>\n",
       "    </tr>\n",
       "    <tr>\n",
       "      <th>323809</th>\n",
       "      <td>3200</td>\n",
       "      <td>5.0</td>\n",
       "      <td>2004</td>\n",
       "      <td>1.0</td>\n",
       "      <td>225</td>\n",
       "      <td>140.0</td>\n",
       "      <td>150000</td>\n",
       "      <td>5</td>\n",
       "      <td>6.0</td>\n",
       "      <td>30.0</td>\n",
       "      <td>...</td>\n",
       "      <td>19</td>\n",
       "      <td>71629</td>\n",
       "      <td>2016</td>\n",
       "      <td>3</td>\n",
       "      <td>19</td>\n",
       "      <td>0</td>\n",
       "      <td>2016</td>\n",
       "      <td>3</td>\n",
       "      <td>19</td>\n",
       "      <td>74683</td>\n",
       "    </tr>\n",
       "    <tr>\n",
       "      <th>323810</th>\n",
       "      <td>1150</td>\n",
       "      <td>0.0</td>\n",
       "      <td>2000</td>\n",
       "      <td>1.0</td>\n",
       "      <td>101</td>\n",
       "      <td>248.0</td>\n",
       "      <td>150000</td>\n",
       "      <td>3</td>\n",
       "      <td>6.0</td>\n",
       "      <td>24.0</td>\n",
       "      <td>...</td>\n",
       "      <td>27</td>\n",
       "      <td>74180</td>\n",
       "      <td>2016</td>\n",
       "      <td>3</td>\n",
       "      <td>27</td>\n",
       "      <td>0</td>\n",
       "      <td>2016</td>\n",
       "      <td>3</td>\n",
       "      <td>29</td>\n",
       "      <td>37043</td>\n",
       "    </tr>\n",
       "    <tr>\n",
       "      <th>323811</th>\n",
       "      <td>1199</td>\n",
       "      <td>1.0</td>\n",
       "      <td>2000</td>\n",
       "      <td>0.0</td>\n",
       "      <td>101</td>\n",
       "      <td>106.0</td>\n",
       "      <td>125000</td>\n",
       "      <td>3</td>\n",
       "      <td>6.0</td>\n",
       "      <td>32.0</td>\n",
       "      <td>...</td>\n",
       "      <td>5</td>\n",
       "      <td>71781</td>\n",
       "      <td>2016</td>\n",
       "      <td>3</td>\n",
       "      <td>5</td>\n",
       "      <td>0</td>\n",
       "      <td>2016</td>\n",
       "      <td>3</td>\n",
       "      <td>11</td>\n",
       "      <td>65832</td>\n",
       "    </tr>\n",
       "    <tr>\n",
       "      <th>323812</th>\n",
       "      <td>9200</td>\n",
       "      <td>0.0</td>\n",
       "      <td>1996</td>\n",
       "      <td>1.0</td>\n",
       "      <td>102</td>\n",
       "      <td>223.0</td>\n",
       "      <td>150000</td>\n",
       "      <td>3</td>\n",
       "      <td>2.0</td>\n",
       "      <td>37.0</td>\n",
       "      <td>...</td>\n",
       "      <td>19</td>\n",
       "      <td>68232</td>\n",
       "      <td>2016</td>\n",
       "      <td>3</td>\n",
       "      <td>19</td>\n",
       "      <td>0</td>\n",
       "      <td>2016</td>\n",
       "      <td>4</td>\n",
       "      <td>7</td>\n",
       "      <td>26126</td>\n",
       "    </tr>\n",
       "    <tr>\n",
       "      <th>323813</th>\n",
       "      <td>3400</td>\n",
       "      <td>8.0</td>\n",
       "      <td>2002</td>\n",
       "      <td>1.0</td>\n",
       "      <td>100</td>\n",
       "      <td>116.0</td>\n",
       "      <td>150000</td>\n",
       "      <td>6</td>\n",
       "      <td>2.0</td>\n",
       "      <td>37.0</td>\n",
       "      <td>...</td>\n",
       "      <td>20</td>\n",
       "      <td>70868</td>\n",
       "      <td>2016</td>\n",
       "      <td>3</td>\n",
       "      <td>20</td>\n",
       "      <td>0</td>\n",
       "      <td>2016</td>\n",
       "      <td>3</td>\n",
       "      <td>24</td>\n",
       "      <td>45921</td>\n",
       "    </tr>\n",
       "  </tbody>\n",
       "</table>\n",
       "<p>323814 rows × 24 columns</p>\n",
       "</div>"
      ],
      "text/plain": [
       "        price  vehicle_type  registration_year  gearbox  power  model  \\\n",
       "0         480           3.0               1993      1.0     75  116.0   \n",
       "1        9800           7.0               2004      0.0    163  117.0   \n",
       "2        1500           6.0               2001      1.0     75  116.0   \n",
       "3        3600           6.0               2008      1.0     69  101.0   \n",
       "4         650           5.0               1995      1.0    102   11.0   \n",
       "...       ...           ...                ...      ...    ...    ...   \n",
       "323809   3200           5.0               2004      1.0    225  140.0   \n",
       "323810   1150           0.0               2000      1.0    101  248.0   \n",
       "323811   1199           1.0               2000      0.0    101  106.0   \n",
       "323812   9200           0.0               1996      1.0    102  223.0   \n",
       "323813   3400           8.0               2002      1.0    100  116.0   \n",
       "\n",
       "        kilometer  registration_month  fuel_type  brand  ...  \\\n",
       "0          150000                   5        6.0   37.0  ...   \n",
       "1          125000                   8        2.0   14.0  ...   \n",
       "2          150000                   6        6.0   37.0  ...   \n",
       "3           90000                   7        2.0   31.0  ...   \n",
       "4          150000                  10        6.0    2.0  ...   \n",
       "...           ...                 ...        ...    ...  ...   \n",
       "323809     150000                   5        6.0   30.0  ...   \n",
       "323810     150000                   3        6.0   24.0  ...   \n",
       "323811     125000                   3        6.0   32.0  ...   \n",
       "323812     150000                   3        2.0   37.0  ...   \n",
       "323813     150000                   6        2.0   37.0  ...   \n",
       "\n",
       "        date_crawled_day  date_crawled_time  date_created_year  \\\n",
       "0                     24              42737               2016   \n",
       "1                     14              46341               2016   \n",
       "2                     17              60844               2016   \n",
       "3                     31              62720               2016   \n",
       "4                      4              63383               2016   \n",
       "...                  ...                ...                ...   \n",
       "323809                19              71629               2016   \n",
       "323810                27              74180               2016   \n",
       "323811                 5              71781               2016   \n",
       "323812                19              68232               2016   \n",
       "323813                20              70868               2016   \n",
       "\n",
       "        date_created_month  date_created_day  date_created_time  \\\n",
       "0                        3                24                  0   \n",
       "1                        3                14                  0   \n",
       "2                        3                17                  0   \n",
       "3                        3                31                  0   \n",
       "4                        4                 4                  0   \n",
       "...                    ...               ...                ...   \n",
       "323809                   3                19                  0   \n",
       "323810                   3                27                  0   \n",
       "323811                   3                 5                  0   \n",
       "323812                   3                19                  0   \n",
       "323813                   3                20                  0   \n",
       "\n",
       "        last_seen_year  last_seen_month  last_seen_day  last_seen_time  \n",
       "0                 2016                4              7           11817  \n",
       "1                 2016                4              5           46066  \n",
       "2                 2016                3             17           63617  \n",
       "3                 2016                4              6           37041  \n",
       "4                 2016                4              6           69427  \n",
       "...                ...              ...            ...             ...  \n",
       "323809            2016                3             19           74683  \n",
       "323810            2016                3             29           37043  \n",
       "323811            2016                3             11           65832  \n",
       "323812            2016                4              7           26126  \n",
       "323813            2016                3             24           45921  \n",
       "\n",
       "[323814 rows x 24 columns]"
      ]
     },
     "execution_count": 56,
     "metadata": {},
     "output_type": "execute_result"
    }
   ],
   "source": [
    "for col in ['date_crawled', 'date_created', 'last_seen']:\n",
    "    df[f'{col}_year'] = df[col].dt.year\n",
    "    df[f'{col}_month'] = df[col].dt.month\n",
    "    df[f'{col}_day'] = df[col].dt.day\n",
    "    df[f'{col}_time'] = df[col].dt.second + 60*(df[col].dt.minute + 60*df[col].dt.hour)\n",
    "    df = df.drop(columns=[col])\n",
    "    \n",
    "df"
   ]
  },
  {
   "cell_type": "code",
   "execution_count": 57,
   "metadata": {},
   "outputs": [],
   "source": [
    "target = df['price']\n",
    "features = df.drop(columns=['price'])"
   ]
  },
  {
   "cell_type": "code",
   "execution_count": 58,
   "metadata": {},
   "outputs": [
    {
     "name": "stdout",
     "output_type": "stream",
     "text": [
      "(242860, 23)\n",
      "(242860,)\n",
      "(80954, 23)\n",
      "(80954,)\n"
     ]
    }
   ],
   "source": [
    "features_train, features_test, target_train, target_test = train_test_split(features, target, test_size=0.25, random_state=42)\n",
    "\n",
    "print(features_train.shape, target_train.shape, features_test.shape, target_test.shape, sep='\\n')"
   ]
  },
  {
   "cell_type": "markdown",
   "metadata": {},
   "source": [
    "### Обучение моделей\n",
    "\n",
    "Перед обучением создадим словарь, куда будем вносить данные о результатах обучения моделей."
   ]
  },
  {
   "cell_type": "code",
   "execution_count": 59,
   "metadata": {},
   "outputs": [],
   "source": [
    "modeling_results = {\n",
    "    'model':[],\n",
    "    'name':[],\n",
    "    'params':[],\n",
    "    'RMSE':[],\n",
    "    'time':[],\n",
    "    'seconds':[],\n",
    "}"
   ]
  },
  {
   "cell_type": "markdown",
   "metadata": {},
   "source": [
    "#### Линейная регрессия"
   ]
  },
  {
   "cell_type": "code",
   "execution_count": 60,
   "metadata": {},
   "outputs": [
    {
     "name": "stdout",
     "output_type": "stream",
     "text": [
      "RMSE модели LinearRegression - 2936.1802577200665\n",
      "6.85 s ± 0 ns per loop (mean ± std. dev. of 1 run, 1 loop each)\n"
     ]
    },
    {
     "data": {
      "text/plain": [
       "<TimeitResult : 6.85 s ± 0 ns per loop (mean ± std. dev. of 1 run, 1 loop each)>"
      ]
     },
     "execution_count": 60,
     "metadata": {},
     "output_type": "execute_result"
    }
   ],
   "source": [
    "%%timeit -n1 -r1 -o \n",
    "sum(range(1000000))\n",
    "\n",
    "model = LinearRegression()\n",
    "score = cross_val_score(model, features_train, target_train, cv=5, scoring='neg_root_mean_squared_error', n_jobs=4)\n",
    "print(f'RMSE модели {type(model).__name__} - {abs(score.mean())}')\n",
    "\n",
    "modeling_results['model'].append(model)\n",
    "modeling_results['name'].append(type(model).__name__)\n",
    "modeling_results['params'].append(model.get_params(deep=True))\n",
    "modeling_results['RMSE'].append(abs(score.mean()))"
   ]
  },
  {
   "cell_type": "code",
   "execution_count": 61,
   "metadata": {},
   "outputs": [],
   "source": [
    "execution_time = _\n",
    "\n",
    "modeling_results['time'].append(execution_time)\n",
    "modeling_results['seconds'].append(execution_time.timings[0])"
   ]
  },
  {
   "cell_type": "markdown",
   "metadata": {},
   "source": [
    "#### Случайный лес"
   ]
  },
  {
   "cell_type": "code",
   "execution_count": 62,
   "metadata": {},
   "outputs": [
    {
     "name": "stdout",
     "output_type": "stream",
     "text": [
      "Fitting 3 folds for each of 1 candidates, totalling 3 fits\n",
      "Fitting 3 folds for each of 1 candidates, totalling 3 fits\n",
      "Fitting 3 folds for each of 1 candidates, totalling 3 fits\n",
      "Fitting 3 folds for each of 1 candidates, totalling 3 fits\n",
      "Fitting 3 folds for each of 1 candidates, totalling 3 fits\n",
      "Fitting 3 folds for each of 1 candidates, totalling 3 fits\n",
      "Fitting 3 folds for each of 1 candidates, totalling 3 fits\n",
      "Fitting 3 folds for each of 1 candidates, totalling 3 fits\n",
      "Fitting 3 folds for each of 1 candidates, totalling 3 fits\n",
      "Fitting 3 folds for each of 1 candidates, totalling 3 fits\n",
      "RMSE модели RandomForestRegressor - 1842.3033554637816\n",
      "17min 12s ± 0 ns per loop (mean ± std. dev. of 1 run, 1 loop each)\n"
     ]
    },
    {
     "data": {
      "text/plain": [
       "<TimeitResult : 17min 12s ± 0 ns per loop (mean ± std. dev. of 1 run, 1 loop each)>"
      ]
     },
     "execution_count": 62,
     "metadata": {},
     "output_type": "execute_result"
    }
   ],
   "source": [
    "%%timeit -n1 -r1 -o \n",
    "sum(range(1000000))\n",
    "\n",
    "model = RandomForestRegressor(random_state=42)\n",
    "model_params = {\n",
    "        'n_estimators':Integer(10, 200),\n",
    "        'max_depth':Integer(1, 11),\n",
    "        'min_samples_split':Integer(2, 8),\n",
    "             }\n",
    "\n",
    "bs_rfr = BayesSearchCV(model, model_params, scoring='neg_root_mean_squared_error', cv=3, n_jobs=4, n_iter=10, verbose=10)\n",
    "bs_rfr.fit(features_train, target_train)\n",
    "\n",
    "print(f'RMSE модели {type(model).__name__} - {abs(bs_rfr.best_score_)}')\n",
    "\n",
    "modeling_results['model'].append(bs_rfr.best_estimator_)\n",
    "modeling_results['name'].append(type(model).__name__)\n",
    "modeling_results['params'].append(bs_rfr.get_params(deep=True))\n",
    "modeling_results['RMSE'].append(abs(bs_rfr.best_score_))"
   ]
  },
  {
   "cell_type": "code",
   "execution_count": 63,
   "metadata": {},
   "outputs": [],
   "source": [
    "execution_time = _\n",
    "\n",
    "modeling_results['time'].append(execution_time)\n",
    "modeling_results['seconds'].append(execution_time.timings[0])"
   ]
  },
  {
   "cell_type": "markdown",
   "metadata": {},
   "source": [
    "#### Gradient Boosting Regressor"
   ]
  },
  {
   "cell_type": "code",
   "execution_count": 64,
   "metadata": {},
   "outputs": [
    {
     "name": "stdout",
     "output_type": "stream",
     "text": [
      "Fitting 3 folds for each of 1 candidates, totalling 3 fits\n",
      "Fitting 3 folds for each of 1 candidates, totalling 3 fits\n",
      "Fitting 3 folds for each of 1 candidates, totalling 3 fits\n",
      "Fitting 3 folds for each of 1 candidates, totalling 3 fits\n",
      "Fitting 3 folds for each of 1 candidates, totalling 3 fits\n",
      "Fitting 3 folds for each of 1 candidates, totalling 3 fits\n",
      "Fitting 3 folds for each of 1 candidates, totalling 3 fits\n",
      "Fitting 3 folds for each of 1 candidates, totalling 3 fits\n",
      "Fitting 3 folds for each of 1 candidates, totalling 3 fits\n",
      "Fitting 3 folds for each of 1 candidates, totalling 3 fits\n",
      "RMSE модели GradientBoostingRegressor - 1577.502770648988\n",
      "15min 12s ± 0 ns per loop (mean ± std. dev. of 1 run, 1 loop each)\n"
     ]
    },
    {
     "data": {
      "text/plain": [
       "<TimeitResult : 15min 12s ± 0 ns per loop (mean ± std. dev. of 1 run, 1 loop each)>"
      ]
     },
     "execution_count": 64,
     "metadata": {},
     "output_type": "execute_result"
    }
   ],
   "source": [
    "%%timeit -n1 -r1 -o \n",
    "sum(range(1000000))\n",
    "\n",
    "model = GradientBoostingRegressor(random_state=42)\n",
    "model_params = {\n",
    "        'n_estimators':Integer(20, 200),\n",
    "        'max_depth':Integer(1, 11),\n",
    "        'min_samples_split':Integer(2, 8),\n",
    "             }\n",
    "\n",
    "bs_gbr = BayesSearchCV(model, model_params, scoring='neg_root_mean_squared_error', cv=3, n_jobs=4, n_iter=10, verbose=10)\n",
    "bs_gbr.fit(features_train, target_train)\n",
    "\n",
    "print(f'RMSE модели {type(model).__name__} - {abs(bs_gbr.best_score_)}')\n",
    "\n",
    "modeling_results['model'].append(bs_gbr.best_estimator_)\n",
    "modeling_results['name'].append(type(model).__name__)\n",
    "modeling_results['params'].append(bs_gbr.get_params(deep=True))\n",
    "modeling_results['RMSE'].append(abs(bs_gbr.best_score_))"
   ]
  },
  {
   "cell_type": "code",
   "execution_count": 65,
   "metadata": {},
   "outputs": [],
   "source": [
    "execution_time = _\n",
    "\n",
    "modeling_results['time'].append(execution_time)\n",
    "modeling_results['seconds'].append(execution_time.timings[0])"
   ]
  },
  {
   "cell_type": "markdown",
   "metadata": {},
   "source": [
    "#### CatBoost"
   ]
  },
  {
   "cell_type": "code",
   "execution_count": 66,
   "metadata": {},
   "outputs": [
    {
     "name": "stdout",
     "output_type": "stream",
     "text": [
      "Fitting 3 folds for each of 1 candidates, totalling 3 fits\n",
      "Fitting 3 folds for each of 1 candidates, totalling 3 fits\n",
      "Fitting 3 folds for each of 1 candidates, totalling 3 fits\n",
      "Fitting 3 folds for each of 1 candidates, totalling 3 fits\n",
      "Fitting 3 folds for each of 1 candidates, totalling 3 fits\n",
      "Fitting 3 folds for each of 1 candidates, totalling 3 fits\n",
      "Fitting 3 folds for each of 1 candidates, totalling 3 fits\n",
      "Fitting 3 folds for each of 1 candidates, totalling 3 fits\n",
      "Fitting 3 folds for each of 1 candidates, totalling 3 fits\n",
      "Fitting 3 folds for each of 1 candidates, totalling 3 fits\n",
      "0:\tlearn: 4427.3959955\ttotal: 202ms\tremaining: 36.2s\n",
      "10:\tlearn: 3629.9189057\ttotal: 531ms\tremaining: 8.15s\n",
      "20:\tlearn: 3078.3991555\ttotal: 852ms\tremaining: 6.45s\n",
      "30:\tlearn: 2699.7347698\ttotal: 1.18s\tremaining: 5.67s\n",
      "40:\tlearn: 2444.5176647\ttotal: 1.51s\tremaining: 5.13s\n",
      "50:\tlearn: 2268.2948423\ttotal: 1.83s\tremaining: 4.64s\n",
      "60:\tlearn: 2146.3437527\ttotal: 2.16s\tremaining: 4.21s\n",
      "70:\tlearn: 2058.0950961\ttotal: 2.49s\tremaining: 3.83s\n",
      "80:\tlearn: 1992.5442965\ttotal: 2.82s\tremaining: 3.45s\n",
      "90:\tlearn: 1942.4053945\ttotal: 3.15s\tremaining: 3.08s\n",
      "100:\tlearn: 1903.7676236\ttotal: 3.47s\tremaining: 2.71s\n",
      "110:\tlearn: 1871.9710340\ttotal: 3.79s\tremaining: 2.36s\n",
      "120:\tlearn: 1844.6919541\ttotal: 4.12s\tremaining: 2.01s\n",
      "130:\tlearn: 1821.8609614\ttotal: 4.45s\tremaining: 1.66s\n",
      "140:\tlearn: 1805.4184585\ttotal: 4.78s\tremaining: 1.32s\n",
      "150:\tlearn: 1790.1800919\ttotal: 5.11s\tremaining: 982ms\n",
      "160:\tlearn: 1777.3835645\ttotal: 5.43s\tremaining: 641ms\n",
      "170:\tlearn: 1764.9433243\ttotal: 5.76s\tremaining: 303ms\n",
      "179:\tlearn: 1753.9305812\ttotal: 6.05s\tremaining: 0us\n",
      "RMSE модели CatBoostRegressor - 1778.5957581322662\n",
      "40 s ± 0 ns per loop (mean ± std. dev. of 1 run, 1 loop each)\n"
     ]
    },
    {
     "data": {
      "text/plain": [
       "<TimeitResult : 40 s ± 0 ns per loop (mean ± std. dev. of 1 run, 1 loop each)>"
      ]
     },
     "execution_count": 66,
     "metadata": {},
     "output_type": "execute_result"
    }
   ],
   "source": [
    "%%timeit -n1 -r1 -o \n",
    "sum(range(1000000))\n",
    "\n",
    "model = CatBoostRegressor(random_seed=42)\n",
    "model_params = {\n",
    "        'iterations':Integer(10, 200),\n",
    "        'depth':Integer(1, 11),\n",
    "        'l2_leaf_reg':Integer(2, 8),\n",
    "             }\n",
    "\n",
    "bs_cbr = BayesSearchCV(model, model_params, scoring='neg_root_mean_squared_error', cv=3, n_jobs=4, n_iter=10, verbose=3)\n",
    "bs_cbr.fit(features_train, target_train, verbose=10)\n",
    "\n",
    "print(f'RMSE модели {type(model).__name__} - {abs(bs_cbr.best_score_)}')\n",
    "\n",
    "modeling_results['model'].append(bs_cbr.best_estimator_)\n",
    "modeling_results['name'].append(type(model).__name__)\n",
    "modeling_results['params'].append(bs_cbr.get_params(deep=True))\n",
    "modeling_results['RMSE'].append(abs(bs_cbr.best_score_))"
   ]
  },
  {
   "cell_type": "code",
   "execution_count": 67,
   "metadata": {},
   "outputs": [],
   "source": [
    "execution_time = _\n",
    "\n",
    "modeling_results['time'].append(execution_time)\n",
    "modeling_results['seconds'].append(execution_time.timings[0])"
   ]
  },
  {
   "cell_type": "markdown",
   "metadata": {},
   "source": [
    "#### LigthGBM"
   ]
  },
  {
   "cell_type": "code",
   "execution_count": 68,
   "metadata": {},
   "outputs": [
    {
     "name": "stdout",
     "output_type": "stream",
     "text": [
      "Fitting 3 folds for each of 1 candidates, totalling 3 fits\n",
      "Fitting 3 folds for each of 1 candidates, totalling 3 fits\n",
      "Fitting 3 folds for each of 1 candidates, totalling 3 fits\n",
      "Fitting 3 folds for each of 1 candidates, totalling 3 fits\n",
      "Fitting 3 folds for each of 1 candidates, totalling 3 fits\n",
      "Fitting 3 folds for each of 1 candidates, totalling 3 fits\n",
      "Fitting 3 folds for each of 1 candidates, totalling 3 fits\n",
      "Fitting 3 folds for each of 1 candidates, totalling 3 fits\n",
      "Fitting 3 folds for each of 1 candidates, totalling 3 fits\n",
      "Fitting 3 folds for each of 1 candidates, totalling 3 fits\n",
      "RMSE модели LGBMRegressor - 1742.516783146208\n",
      "25.9 s ± 0 ns per loop (mean ± std. dev. of 1 run, 1 loop each)\n"
     ]
    },
    {
     "data": {
      "text/plain": [
       "<TimeitResult : 25.9 s ± 0 ns per loop (mean ± std. dev. of 1 run, 1 loop each)>"
      ]
     },
     "execution_count": 68,
     "metadata": {},
     "output_type": "execute_result"
    }
   ],
   "source": [
    "%%timeit -n1 -r1 -o \n",
    "sum(range(1000000))\n",
    "\n",
    "model = LGBMRegressor(random_state=42)\n",
    "model_params = {\n",
    "        'learning_rate':Real(1e-2, 1e+6, prior='log-uniform'),\n",
    "        'n_estimators':Integer(10, 500),\n",
    "        'max_depth':Integer(1, 11),\n",
    "             }\n",
    "\n",
    "bs_lgbm = BayesSearchCV(model, model_params, scoring='neg_root_mean_squared_error', cv=3, n_jobs=4, n_iter=10, verbose=3)\n",
    "bs_lgbm.fit(features_train, target_train)\n",
    "\n",
    "print(f'RMSE модели {type(model).__name__} - {abs(bs_lgbm.best_score_)}')\n",
    "\n",
    "modeling_results['model'].append(bs_lgbm.best_estimator_)\n",
    "modeling_results['name'].append(type(model).__name__)\n",
    "modeling_results['params'].append(bs_lgbm.get_params(deep=True))\n",
    "modeling_results['RMSE'].append(abs(bs_lgbm.best_score_))"
   ]
  },
  {
   "cell_type": "code",
   "execution_count": 69,
   "metadata": {},
   "outputs": [],
   "source": [
    "execution_time = _\n",
    "\n",
    "modeling_results['time'].append(execution_time)\n",
    "modeling_results['seconds'].append(execution_time.timings[0])"
   ]
  },
  {
   "cell_type": "markdown",
   "metadata": {},
   "source": [
    "## Анализ моделей\n",
    "### Оценка моделей"
   ]
  },
  {
   "cell_type": "code",
   "execution_count": 70,
   "metadata": {},
   "outputs": [
    {
     "data": {
      "text/html": [
       "<div>\n",
       "<style scoped>\n",
       "    .dataframe tbody tr th:only-of-type {\n",
       "        vertical-align: middle;\n",
       "    }\n",
       "\n",
       "    .dataframe tbody tr th {\n",
       "        vertical-align: top;\n",
       "    }\n",
       "\n",
       "    .dataframe thead th {\n",
       "        text-align: right;\n",
       "    }\n",
       "</style>\n",
       "<table border=\"1\" class=\"dataframe\">\n",
       "  <thead>\n",
       "    <tr style=\"text-align: right;\">\n",
       "      <th></th>\n",
       "      <th>model</th>\n",
       "      <th>name</th>\n",
       "      <th>params</th>\n",
       "      <th>RMSE</th>\n",
       "      <th>time</th>\n",
       "      <th>seconds</th>\n",
       "    </tr>\n",
       "  </thead>\n",
       "  <tbody>\n",
       "    <tr>\n",
       "      <th>0</th>\n",
       "      <td>LinearRegression()</td>\n",
       "      <td>LinearRegression</td>\n",
       "      <td>{'copy_X': True, 'fit_intercept': True, 'n_job...</td>\n",
       "      <td>2936.180258</td>\n",
       "      <td>6.85 s ± 0 ns per loop (mean ± std. dev. of 1 ...</td>\n",
       "      <td>6.849184</td>\n",
       "    </tr>\n",
       "    <tr>\n",
       "      <th>1</th>\n",
       "      <td>(DecisionTreeRegressor(max_depth=11, max_featu...</td>\n",
       "      <td>RandomForestRegressor</td>\n",
       "      <td>{'cv': 3, 'error_score': 'raise', 'estimator__...</td>\n",
       "      <td>1842.303355</td>\n",
       "      <td>17min 12s ± 0 ns per loop (mean ± std. dev. of...</td>\n",
       "      <td>1032.198494</td>\n",
       "    </tr>\n",
       "    <tr>\n",
       "      <th>2</th>\n",
       "      <td>([DecisionTreeRegressor(criterion='friedman_ms...</td>\n",
       "      <td>GradientBoostingRegressor</td>\n",
       "      <td>{'cv': 3, 'error_score': 'raise', 'estimator__...</td>\n",
       "      <td>1577.502771</td>\n",
       "      <td>15min 12s ± 0 ns per loop (mean ± std. dev. of...</td>\n",
       "      <td>912.418395</td>\n",
       "    </tr>\n",
       "    <tr>\n",
       "      <th>3</th>\n",
       "      <td>&lt;catboost.core.CatBoostRegressor object at 0x0...</td>\n",
       "      <td>CatBoostRegressor</td>\n",
       "      <td>{'cv': 3, 'error_score': 'raise', 'estimator__...</td>\n",
       "      <td>1778.595758</td>\n",
       "      <td>40 s ± 0 ns per loop (mean ± std. dev. of 1 ru...</td>\n",
       "      <td>40.049194</td>\n",
       "    </tr>\n",
       "    <tr>\n",
       "      <th>4</th>\n",
       "      <td>LGBMRegressor(learning_rate=0.0294106526275636...</td>\n",
       "      <td>LGBMRegressor</td>\n",
       "      <td>{'cv': 3, 'error_score': 'raise', 'estimator__...</td>\n",
       "      <td>1742.516783</td>\n",
       "      <td>25.9 s ± 0 ns per loop (mean ± std. dev. of 1 ...</td>\n",
       "      <td>25.901737</td>\n",
       "    </tr>\n",
       "  </tbody>\n",
       "</table>\n",
       "</div>"
      ],
      "text/plain": [
       "                                               model  \\\n",
       "0                                 LinearRegression()   \n",
       "1  (DecisionTreeRegressor(max_depth=11, max_featu...   \n",
       "2  ([DecisionTreeRegressor(criterion='friedman_ms...   \n",
       "3  <catboost.core.CatBoostRegressor object at 0x0...   \n",
       "4  LGBMRegressor(learning_rate=0.0294106526275636...   \n",
       "\n",
       "                        name  \\\n",
       "0           LinearRegression   \n",
       "1      RandomForestRegressor   \n",
       "2  GradientBoostingRegressor   \n",
       "3          CatBoostRegressor   \n",
       "4              LGBMRegressor   \n",
       "\n",
       "                                              params         RMSE  \\\n",
       "0  {'copy_X': True, 'fit_intercept': True, 'n_job...  2936.180258   \n",
       "1  {'cv': 3, 'error_score': 'raise', 'estimator__...  1842.303355   \n",
       "2  {'cv': 3, 'error_score': 'raise', 'estimator__...  1577.502771   \n",
       "3  {'cv': 3, 'error_score': 'raise', 'estimator__...  1778.595758   \n",
       "4  {'cv': 3, 'error_score': 'raise', 'estimator__...  1742.516783   \n",
       "\n",
       "                                                time      seconds  \n",
       "0  6.85 s ± 0 ns per loop (mean ± std. dev. of 1 ...     6.849184  \n",
       "1  17min 12s ± 0 ns per loop (mean ± std. dev. of...  1032.198494  \n",
       "2  15min 12s ± 0 ns per loop (mean ± std. dev. of...   912.418395  \n",
       "3  40 s ± 0 ns per loop (mean ± std. dev. of 1 ru...    40.049194  \n",
       "4  25.9 s ± 0 ns per loop (mean ± std. dev. of 1 ...    25.901737  "
      ]
     },
     "execution_count": 70,
     "metadata": {},
     "output_type": "execute_result"
    }
   ],
   "source": [
    "results = pd.DataFrame(modeling_results, columns=modeling_results.keys())\n",
    "results"
   ]
  },
  {
   "cell_type": "code",
   "execution_count": 71,
   "metadata": {},
   "outputs": [
    {
     "name": "stdout",
     "output_type": "stream",
     "text": [
      "Лучшее RMSE - 2    GradientBoostingRegressor\n",
      "Name: name, dtype: object\n",
      "Худшее RMSE - 0    LinearRegression\n",
      "Name: name, dtype: object\n",
      "\n",
      "Лучшее время - 0    LinearRegression\n",
      "Name: name, dtype: object\n",
      "Худшее время - 1    RandomForestRegressor\n",
      "Name: name, dtype: object\n"
     ]
    }
   ],
   "source": [
    "print('Лучшее RMSE -', results[results['RMSE']==results['RMSE'].min()]['name'])\n",
    "print('Худшее RMSE -', results[results['RMSE']==results['RMSE'].max()]['name'])\n",
    "print()\n",
    "print('Лучшее время -', results[results['seconds']==results['seconds'].min()]['name'])\n",
    "print('Худшее время -', results[results['seconds']==results['seconds'].max()]['name'])"
   ]
  },
  {
   "cell_type": "code",
   "execution_count": 72,
   "metadata": {},
   "outputs": [
    {
     "name": "stdout",
     "output_type": "stream",
     "text": [
      "Лучшая модель - LGBMRegressor с показателем RMSE 1742.52 и временем обучения 25.9 секунд\n"
     ]
    }
   ],
   "source": [
    "top_rmse=results.sort_values(by=['RMSE'], ascending=True).reset_index(drop=True).loc[:1]\n",
    "best_model = top_rmse[top_rmse['seconds']==top_rmse['seconds'].min()].reset_index(drop=True)\n",
    "print(f'Лучшая модель - {best_model.loc[0,\"name\"]} с показателем RMSE {best_model.loc[0,\"RMSE\"] :.2f} и временем обучения {best_model.loc[0,\"seconds\"] :.1f} секунд')"
   ]
  },
  {
   "cell_type": "markdown",
   "metadata": {},
   "source": [
    "### Проверка лучшей модели"
   ]
  },
  {
   "cell_type": "code",
   "execution_count": 73,
   "metadata": {},
   "outputs": [
    {
     "name": "stdout",
     "output_type": "stream",
     "text": [
      "RMSE на тестовой выборке - 1743.6839951608767\n",
      "CPU times: total: 9.52 s\n",
      "Wall time: 1.77 s\n"
     ]
    }
   ],
   "source": [
    "%%time\n",
    "\n",
    "model = best_model.loc[0, 'model']\n",
    "model.fit(features_train, target_train)\n",
    "predict = model.predict(features_test)\n",
    "score = mean_squared_error(target_test, predict, squared=False)\n",
    "print('RMSE на тестовой выборке -', score)"
   ]
  },
  {
   "cell_type": "markdown",
   "metadata": {},
   "source": [
    "## Вывод\n",
    "\n",
    "В ходе проекта были проведена работа по обучению и выбору лучшей модели для определения цены автомобиля по его характеристикам. Основными критериями для выбора модели были ее высокие скорость и качество.\n",
    "\n",
    "1. Первым делом был проведен анализ имеющихся данных, который показал, что в исходном датасете имеются ошибки:\n",
    "    1. В нескольких столбцах отсутсвовали значения\n",
    "    2. Присутсвовали аномальные значения, такие как, например, год выпуска авто, который еще не наступил\n",
    "\n",
    "\n",
    "2. В ходе предобработки часть пропущенных значений были удалены, т.к. не было возможности их корректно восстановить, другие пропуски были заполены либо значением-заглушкой, либо модой по Марке и Модели автомобилей. Такой же подход был применен для устранения аномалий. Всего было удалено около 8% исходных данных.\n",
    "\n",
    "3. Далее было выполнено кодирование признаков, а так же выделение фич и таргета и их деление обучающие и тестовые выборки.\n",
    "\n",
    "4. Были обучены 5 моделей: линейная регрессия, случайный лес и 3 модели градиентного бустинга. Самая быстрая модель - линейная регрессия, однако она показала худший результат RMSE Лучший результат RMSE показала модель GradientBoostingRegressor из модуля scikit-learn, однако она имеет очень большое время обучения. Наиболее подходящей для задачи моделью оказалась модель **LightGBM** - показатель RMSE близок к GBR, а время обучения всего около 30 секунд."
   ]
  },
  {
   "cell_type": "code",
   "execution_count": null,
   "metadata": {},
   "outputs": [],
   "source": []
  }
 ],
 "metadata": {
  "ExecuteTimeLog": [
   {
    "duration": 5510,
    "start_time": "2022-07-04T09:25:08.479Z"
   },
   {
    "duration": 1769,
    "start_time": "2022-07-04T09:25:13.991Z"
   },
   {
    "duration": 2935,
    "start_time": "2022-07-04T09:25:15.761Z"
   },
   {
    "duration": 7,
    "start_time": "2022-07-04T09:25:18.699Z"
   },
   {
    "duration": 19,
    "start_time": "2022-07-04T09:25:18.707Z"
   },
   {
    "duration": 68,
    "start_time": "2022-07-04T09:25:18.728Z"
   },
   {
    "duration": 365,
    "start_time": "2022-07-04T09:25:18.798Z"
   },
   {
    "duration": 154,
    "start_time": "2022-07-04T09:25:19.164Z"
   },
   {
    "duration": 9,
    "start_time": "2022-07-04T09:25:19.319Z"
   },
   {
    "duration": 5,
    "start_time": "2022-07-04T09:25:19.331Z"
   },
   {
    "duration": 10,
    "start_time": "2022-07-04T09:25:19.337Z"
   },
   {
    "duration": 29,
    "start_time": "2022-07-04T09:25:19.348Z"
   },
   {
    "duration": 108,
    "start_time": "2022-07-04T09:25:19.379Z"
   },
   {
    "duration": 37,
    "start_time": "2022-07-04T09:25:19.489Z"
   },
   {
    "duration": 314,
    "start_time": "2022-07-04T09:25:19.528Z"
   },
   {
    "duration": 14,
    "start_time": "2022-07-04T09:25:19.844Z"
   },
   {
    "duration": 69,
    "start_time": "2022-07-04T09:25:19.860Z"
   },
   {
    "duration": 40,
    "start_time": "2022-07-04T09:25:19.931Z"
   },
   {
    "duration": 17,
    "start_time": "2022-07-04T09:25:19.972Z"
   },
   {
    "duration": 329,
    "start_time": "2022-07-04T09:25:19.991Z"
   },
   {
    "duration": 36,
    "start_time": "2022-07-04T09:25:20.321Z"
   },
   {
    "duration": 19,
    "start_time": "2022-07-04T09:25:20.359Z"
   },
   {
    "duration": 226,
    "start_time": "2022-07-04T09:25:20.380Z"
   },
   {
    "duration": 38,
    "start_time": "2022-07-04T09:25:20.607Z"
   },
   {
    "duration": 35,
    "start_time": "2022-07-04T09:25:20.647Z"
   },
   {
    "duration": 720,
    "start_time": "2022-07-04T09:25:20.684Z"
   },
   {
    "duration": 31,
    "start_time": "2022-07-04T09:25:21.406Z"
   },
   {
    "duration": 15,
    "start_time": "2022-07-04T09:25:21.442Z"
   },
   {
    "duration": 36,
    "start_time": "2022-07-04T09:25:21.459Z"
   },
   {
    "duration": 176,
    "start_time": "2022-07-04T09:25:21.497Z"
   },
   {
    "duration": 127,
    "start_time": "2022-07-04T09:25:21.675Z"
   },
   {
    "duration": 23,
    "start_time": "2022-07-04T09:25:21.804Z"
   },
   {
    "duration": 160,
    "start_time": "2022-07-04T09:25:21.829Z"
   },
   {
    "duration": 9,
    "start_time": "2022-07-04T09:25:21.991Z"
   },
   {
    "duration": 68,
    "start_time": "2022-07-04T09:25:22.001Z"
   },
   {
    "duration": 162,
    "start_time": "2022-07-04T09:25:22.070Z"
   },
   {
    "duration": 8,
    "start_time": "2022-07-04T09:25:22.233Z"
   },
   {
    "duration": 313,
    "start_time": "2022-07-04T09:25:22.243Z"
   },
   {
    "duration": 38,
    "start_time": "2022-07-04T09:25:22.557Z"
   },
   {
    "duration": 35,
    "start_time": "2022-07-04T09:25:22.596Z"
   },
   {
    "duration": 195,
    "start_time": "2022-07-04T09:25:22.632Z"
   },
   {
    "duration": 13,
    "start_time": "2022-07-04T09:25:22.829Z"
   },
   {
    "duration": 311,
    "start_time": "2022-07-04T09:25:22.844Z"
   },
   {
    "duration": 1616,
    "start_time": "2022-07-04T09:25:23.157Z"
   },
   {
    "duration": 3239,
    "start_time": "2022-07-04T09:25:24.775Z"
   },
   {
    "duration": 192,
    "start_time": "2022-07-04T09:25:28.015Z"
   },
   {
    "duration": 356,
    "start_time": "2022-07-04T09:25:28.208Z"
   },
   {
    "duration": 465,
    "start_time": "2022-07-04T09:25:28.566Z"
   },
   {
    "duration": 154,
    "start_time": "2022-07-04T09:25:29.033Z"
   },
   {
    "duration": 16,
    "start_time": "2022-07-04T09:25:29.189Z"
   },
   {
    "duration": 26,
    "start_time": "2022-07-04T09:25:29.207Z"
   },
   {
    "duration": 40,
    "start_time": "2022-07-04T09:25:29.234Z"
   },
   {
    "duration": 3991,
    "start_time": "2022-07-04T09:25:29.275Z"
   },
   {
    "duration": 672,
    "start_time": "2022-07-04T09:25:33.268Z"
   },
   {
    "duration": 23,
    "start_time": "2022-07-04T09:25:33.942Z"
   },
   {
    "duration": 108,
    "start_time": "2022-07-04T09:25:33.967Z"
   },
   {
    "duration": 2,
    "start_time": "2022-07-04T09:25:34.077Z"
   },
   {
    "duration": 5404,
    "start_time": "2022-07-04T09:25:34.081Z"
   },
   {
    "duration": 3,
    "start_time": "2022-07-04T09:25:39.487Z"
   },
   {
    "duration": 1161355,
    "start_time": "2022-07-04T09:25:39.492Z"
   },
   {
    "duration": 3,
    "start_time": "2022-07-04T09:45:00.849Z"
   }
  ],
  "kernelspec": {
   "display_name": "Python 3 (ipykernel)",
   "language": "python",
   "name": "python3"
  },
  "language_info": {
   "codemirror_mode": {
    "name": "ipython",
    "version": 3
   },
   "file_extension": ".py",
   "mimetype": "text/x-python",
   "name": "python",
   "nbconvert_exporter": "python",
   "pygments_lexer": "ipython3",
   "version": "3.9.12"
  },
  "toc": {
   "base_numbering": 1,
   "nav_menu": {},
   "number_sections": true,
   "sideBar": true,
   "skip_h1_title": true,
   "title_cell": "Table of Contents",
   "title_sidebar": "Contents",
   "toc_cell": false,
   "toc_position": {},
   "toc_section_display": true,
   "toc_window_display": false
  },
  "toc-autonumbering": true,
  "toc-showcode": false,
  "toc-showmarkdowntxt": false,
  "toc-showtags": false
 },
 "nbformat": 4,
 "nbformat_minor": 4
}
